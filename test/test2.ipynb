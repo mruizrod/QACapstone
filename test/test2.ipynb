{
 "cells": [
  {
   "cell_type": "code",
   "execution_count": null,
   "id": "initial_id",
   "metadata": {
    "collapsed": true
   },
   "outputs": [],
   "source": [
    "import sys\n",
    "import os\n",
    "base_dir = os.path.abspath(\"..\")\n",
    "sys.path.append(base_dir) \n",
    "sys.path.append(os.path.join(base_dir, \"src\"))  \n",
    "data_path = os.path.join(base_dir, \"data\")\n",
    "import numpy as np\n",
    "import pandas as pd\n",
    "from sklearn.metrics.pairwise import cosine_similarity\n",
    "\n",
    "from src.pipeline import Pipeline\n",
    "import matplotlib.pyplot as plt\n",
    "import seaborn as sns\n",
    "import time"
   ]
  },
  {
   "metadata": {},
   "cell_type": "markdown",
   "source": [
    "# Compare different parsers\n",
    "\n",
    "### General question"
   ],
   "id": "abb97b35227cd02e"
  },
  {
   "metadata": {},
   "cell_type": "code",
   "outputs": [],
   "execution_count": null,
   "source": [
    "models = [ \"nlp_langchain\",\"llama2\"]\n",
    "parsers = [\"unstructured\",\"llamaparse\", \"pdfplumber\", \"pypdfloader\"]"
   ],
   "id": "c97a4a8df697ac97"
  },
  {
   "metadata": {},
   "cell_type": "code",
   "outputs": [],
   "execution_count": null,
   "source": [
    "q = 'What is the key takeaway of Goldman’s mid-year outlook 2024'\n",
    "for model in models:\n",
    "    for parser in parsers:\n",
    "        pipeline = Pipeline(\n",
    "                    parser=parser, model=model,\n",
    "                    data_path=data_path, verbose=False,\n",
    "                ); pipeline.train()\n",
    "        response, score = pipeline.answer(q)\n",
    "        display(f'Method: {model}, Parser: {parser}, Response: {response}')"
   ],
   "id": "13a2b0302329e51a"
  },
  {
   "metadata": {},
   "cell_type": "markdown",
   "source": "### Specific question",
   "id": "15108a36a5a57cc4"
  },
  {
   "metadata": {},
   "cell_type": "code",
   "outputs": [],
   "execution_count": null,
   "source": [
    "q = 'What is the year-to-date change in Sovereign Bond Yields'\n",
    "# Fixed Income document page 21\n",
    "for model in models:\n",
    "    for parser in parsers:\n",
    "        pipeline = Pipeline(\n",
    "                    parser=parser, model=model,\n",
    "                    data_path=data_path, verbose=False,\n",
    "                ); pipeline.train()\n",
    "        response, score = pipeline.answer(q)\n",
    "        display(f'Method: {model}, Parser: {parser}, Response: {response}')"
   ],
   "id": "4fc6addccaffe601"
  },
  {
   "metadata": {},
   "cell_type": "markdown",
   "source": "# Prompt engineering",
   "id": "34cc506ee04b500f"
  },
  {
   "metadata": {},
   "cell_type": "code",
   "outputs": [],
   "execution_count": null,
   "source": "",
   "id": "7fa72473a16e4382"
  }
 ],
 "metadata": {
  "kernelspec": {
   "display_name": "Python 3",
   "language": "python",
   "name": "python3"
  },
  "language_info": {
   "codemirror_mode": {
    "name": "ipython",
    "version": 2
   },
   "file_extension": ".py",
   "mimetype": "text/x-python",
   "name": "python",
   "nbconvert_exporter": "python",
   "pygments_lexer": "ipython2",
   "version": "2.7.6"
  }
 },
 "nbformat": 4,
 "nbformat_minor": 5
}
