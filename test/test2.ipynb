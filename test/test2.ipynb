{
 "cells": [
  {
   "cell_type": "code",
   "execution_count": 1,
   "id": "initial_id",
   "metadata": {
    "collapsed": true
   },
   "outputs": [
    {
     "name": "stderr",
     "output_type": "stream",
     "text": [
      "/Users/tianyuyang/Desktop/CMU MSCF Courses/Mini 5/ML_Capstone/QACapstone/llama_env/lib/python3.10/site-packages/tqdm/auto.py:21: TqdmWarning: IProgress not found. Please update jupyter and ipywidgets. See https://ipywidgets.readthedocs.io/en/stable/user_install.html\n",
      "  from .autonotebook import tqdm as notebook_tqdm\n"
     ]
    }
   ],
   "source": [
    "import sys\n",
    "import os\n",
    "base_dir = os.path.abspath(\"..\")\n",
    "sys.path.append(base_dir) \n",
    "sys.path.append(os.path.join(base_dir, \"src\"))  \n",
    "data_path = os.path.join(base_dir, \"data\")\n",
    "import numpy as np\n",
    "import pandas as pd\n",
    "from sklearn.metrics.pairwise import cosine_similarity\n",
    "\n",
    "from src.pipeline import Pipeline\n",
    "import matplotlib.pyplot as plt\n",
    "import seaborn as sns\n",
    "import time"
   ]
  },
  {
   "cell_type": "markdown",
   "id": "abb97b35227cd02e",
   "metadata": {},
   "source": [
    "# Compare different parsers\n",
    "\n",
    "### General question"
   ]
  },
  {
   "cell_type": "code",
   "execution_count": 2,
   "id": "c97a4a8df697ac97",
   "metadata": {},
   "outputs": [],
   "source": [
    "models = [ \"nlp_langchain\",\"llama2\"]\n",
    "parsers = [\"unstructured\",\"llamaparse\", \"pdfplumber\", \"pypdfloader\"]"
   ]
  },
  {
   "cell_type": "code",
   "execution_count": 3,
   "id": "13a2b0302329e51a",
   "metadata": {},
   "outputs": [
    {
     "data": {
      "text/plain": [
       "'Method: nlp_langchain, Parser: unstructured, Response: MID-YEAR OUTLOOK 2024\\n\\nOUTLOOK 2024  KEY THEMES  Macroeconomy:  A Longer Path to Normalization\\xa0\\xa0  Geopolitics and Elections:  Roadmaps for Resilience  Tailwinds and Headwinds:   Investing in Megatrends\\n\\nThis financial promotion is provided by Goldman Sachs Asset Management B.V.'"
      ]
     },
     "metadata": {},
     "output_type": "display_data"
    },
    {
     "data": {
      "text/plain": [
       "'Method: nlp_langchain, Parser: llamaparse, Response: Goldman Sachs Asset Management\\n\\nAsset Management Outlook 2024  |  10\\n\\n# GEOPOLITICS AND ELECTIONS: ROADMAPS FOR RESILIENCE\\n\\n# Three Key Questions\\n\\n# 1\\n\\nAre investment theses predicated on the continuation of existing policies?\\n\\n\\n\\nOur View: While prudent investments are never predicated on a single factor, many investors are contemplating how potential policy removals, additions, or alterations can change underwriting assumptions. This can potentially be easier to navigate in the US, where many policies related to supply chains and energy resources have a bottom-up nature that target specific markets, as opposed to in Europe where top-down regulations can fundamentally change the landscape.'"
      ]
     },
     "metadata": {},
     "output_type": "display_data"
    },
    {
     "data": {
      "text/plain": [
       "'Method: nlp_langchain, Parser: pdfplumber, Response: Goldman Sachs Asset Management Asset Management Outlook 2024 | 18\\n\\nand Goldman Sachs Asset Management has no obligation to provide any maintain any licenses, authorizations or registrations in Asia (other\\nupdates or changes. than Japan), except that it conducts businesses (subject to applicable\\nViews and opinions expressed are for informational purposes only local regulations) in and from the following jurisdictions: Hong Kong,\\nand do not constitute a recommendation by Goldman Sachs Asset Singapore, India and China. This material has been issued for use in or\\nManagement to buy, sell, or hold any security. Views and opinions are from Hong Kong by Goldman Sachs Asset Management (Hong Kong)\\ncurrent as of the date of this presentation and may be subject to change, Limited and in or from Singapore by Goldman Sachs Asset Management\\nthey should not be construed as investment advice. (Singapore) Pte. Ltd. (Company Number: 201329851H).\\n\\nIndividual portfolio management teams for Goldman Sachs Asset Australia and New Zealand: This material is distributed in Australia\\nManagement may have views and opinions and/or make investment and New Zealand by Goldman Sachs Asset Management Australia Pty\\ndecisions that, in certain instances, may not always be consistent with Ltd ABN 41 006 099 681, AFSL 228948 (’GSAMA’) and is intended\\nthe views and opinions expressed herein. for viewing only by wholesale clients in Australia for the purposes of\\nsection 761G of the Corporations Act 2001 (Cth) and to clients who\\nThe website links provided are for your convenience only and are not an either fall within any or all of the categories of investors set out in\\nendorsement or recommendation by Goldman Sachs Asset Management section 3(2) or sub-section 5(2CC) of the Securities Act 1978, fall\\nof any of these websites or the products or services offered. Goldman within the definition of a wholesale client for the purposes of the'"
      ]
     },
     "metadata": {},
     "output_type": "display_data"
    },
    {
     "data": {
      "text/plain": [
       "\"Method: nlp_langchain, Parser: pypdfloader, Response: MID-YEAR  \\nOUTLOOK 2024\\nKEY THEMESAsset Management \\nThis financial promotion is provided by Goldman Sachs Asset Management B.V.Tailwinds and Headwinds: \\nInvesting in MegatrendsGeopolitics and Elections:\\nRoadmaps for ResilienceMacroeconomy:\\nA Longer Path to Normalization\\xa0\\xa0\\n\\n\\nGeopolitics and Elections:  \\nRoadmaps for Resilience\\nBalanced allocations and hedging \\nstrategies can potentially add \\nresilience to portfolios amid \\nunstable geopolitics and election-\\nrelated uncertainty. Hedge funds \\nand liquid alternatives may \\nhelp investors navigate market \\nvolatility. A heightened focus \\non supply chain, resource, and \\nnational security presents long-\\nterm investment opportunities.Tailwinds and Headwinds: \\nInvesting in Megatrends \\nWe remain focused on key structural \\nforces: decarbonization, digitization, \\ndeglobalization, destabilization \\nin geopolitics, and demographic \\naging. These trends transcend \\neconomic and election cycles, and \\nnew opportunities and risks are \\nemerging as they intersect. Macroeconomy:  \\nA Longer Path to Normalization\\xa0\\xa0\\nConsiderable, but still incomplete, \\ndisinflation progress is lengthening \\nthe path to interest rate \\nnormalization. We believe these \\nconditions call for active and \\ndynamic investment strategies. \\nAreas of potential opportunity \\ninclude core fixed income, equity \\nexposures beyond the largest mega-\\ncap names, and private market \\nstrategies focused on driving value \\ncreation at portfolio companies. \\nKEY TAKEAWAYSHeading into 2024 we highlighted how new economic realities were taking shape, including higher-for-\\nlonger interest rates, elevated geopolitical risk and megatrends rapidly transforming industries. These \\nrealities are playing out as we cross the midpoint of the year. At a macro level, inflation persistence \\nmeans central banks are pivoting to rate cuts at a slower pace than anticipated six months ago. In our \\nview, evolving expectations on the exact timing and pace of policy shifts underscores the need for a \\ndynamic investment approach in the months ahead. As the macroeconomic cycle adjusts, the world \\nremains in an era of profound geopolitical change. Conflict escalation in the Middle East and Ukraine \\nremain major risks. The buildup and eventual fallout of key political elections globally are heightening \\nmarket volatility. These uncertainties are playing out as secular megatrends—from artificial intelligence \\nto sustainability—accelerate and reshape economies and industries. Understanding the nuances of \\nthese forces and how they interconnect can enable companies and investors to potentially capitalize \\non the opportunities they create. We have synthesized views from across our investment teams to cut \\nthrough some of this complexity and help you navigate the remainder of 2024. CUTTING THROUGH COMPLEXITY\\nGoldman Sachs Asset Management\\nAsset Management Outlook 2024     |    2\\n\\n\\nMajor central banks lifted interest rates at the fastest pace \\nin decades after the pandemic. The path to normalization \\nis likely to be a longer one. While the inflation emergency is \\nbehind major economies, inflation is proving persistent due \\nto pandemic-related quirks or catch-up effects in categories \\nwhere prices adjust gradually. The result is that central banks \\nare pivoting to rate cuts at a slower pace than anticipated at \\nthe start of 2024.  \\nIn the US, policymakers and investors are contending with \\nlast mile complexities. Resilience in the economy, corporate \\nearnings, and labor markets coincided with upside surprises in \\ninflation throughout the first quarter. Inflation prints for April \\nand May were a step in the right direction, but not enough \\nto fully offset inflation strength earlier in the year and the \\nsolid string of jobs data.1 Overall, despite a bumpy first half, \\nwe expect US disinflation to continue and rates to be lowered \\nbefore year-end. However, the exact timing remains uncertain \\ndue to the need for economic data to reaffirm confidence in \\nlabor market rebalancing and the disinflation path. Beyond \\nthat, the US election—and potential fiscal shifts—could point \\nto higher US rates for longer. \\nThe European Central Bank (ECB)—which has historically \\nembarked on cutting cycles after the Fed—lowered rates in \\nJune,2 motivated by sufficient inflation progress since the last \\nrate hike in September 2023. We expect rate reductions to \\nbe gradual over the coming quarters. We remain watchful of \\nwage trends and services inflation, as well as any tightening \\nin financial conditions caused by political uncertainty, which may pose downside risks to growth and alter the pace \\nand scope of the ECB's rate cutting cycle. In the UK, recent \\ninflation strength has pushed back the Bank of England’s \\n(BoE) first rate cut in this cycle; and the potential for a \\nsummer cut depends on signals from indicators of inflation \\npersistence such as wage growth and services prices. In Japan, \\nwe anticipate further, albeit limited, rate hikes as the Bank \\nof Japan (BoJ) persists with gradual rate normalization, with \\nlonger-run inflation expectations continuing to rise to more \\nsustainable levels. \\nEmerging market (EM) cutting cycles have been underway for \\nalmost a year. EM disinflation, which has allowed an earlier \\nstart to policy easing, has broadly remained intact. Countries \\nin Asia, Central and Eastern Europe and Latin America have \\nmade good progress on cooling inflation, though there \\nare also notable outliers, including Argentina and Turkey. \\nMore recently, EM cutting cycles have become vulnerable to \\nshifting US rate expectations, as well as concerns over the \\ncredibility of policymaking (e.g., Brazil) and election-related \\nsentiment (e.g., Mexico). As a result, market expectations on \\nthe speed and extent of EM policy easing have been pared \\nback compared with just a few months ago. In some cases, the \\nmarket is now pricing in rate hikes. China’s economy continues \\nto diverge, with policymakers set to maintain an easing bias as \\nthe economy and property market recovers.  MACROECONOMY:  \\nA LONGER PATH TO NORMALIZATION\\nGoldman Sachs Asset Management\\nAsset Management Outlook 2024     |    3\\n\""
      ]
     },
     "metadata": {},
     "output_type": "display_data"
    },
    {
     "data": {
      "text/plain": [
       "\"Method: llama2, Parser: unstructured, Response: Based on the provided context, the key takeaway of Goldman Sachs Asset Management's mid-year outlook 2024 is that the economic realities are taking shape, including higher-for-longer interest rates, elevated geopolitical risk, and megatrends rapidly transforming industries. The document highlights the need for a dynamic investment approach in the months ahead as the macroeconomic cycle adjusts, and emphasizes the importance of understanding the nuances of these forces and how they interconnect to potentially capitalize on the opportunities they create.\""
      ]
     },
     "metadata": {},
     "output_type": "display_data"
    },
    {
     "data": {
      "text/plain": [
       "\"Method: llama2, Parser: llamaparse, Response: The key takeaway of Goldman's mid-year outlook 2024 is that there is a lengthening path to interest rate normalization due to considerable, but still incomplete, disinflation progress. This condition calls for active and dynamic investment strategies, such as balanced allocations and hedging strategies, to potentially add resilience to portfolios amid unstable geopolitics and election-related uncertainty. Additionally, Goldman remains focused on key structural forces such as decarbonization, digitization, deglobalization, destabilization in geopolitics, and demographic aging, which transcend economic and election cycles and offer opportunities for investment.\""
      ]
     },
     "metadata": {},
     "output_type": "display_data"
    },
    {
     "data": {
      "text/plain": [
       "\"Method: llama2, Parser: pdfplumber, Response: The key takeaway of Goldman's mid-year outlook 2024 is that the macroeconomy is on a longer path to normalization, with geopolitical and election factors also playing a significant role in shaping the investment landscape.\""
      ]
     },
     "metadata": {},
     "output_type": "display_data"
    },
    {
     "data": {
      "text/plain": [
       "\"Method: llama2, Parser: pypdfloader, Response: The key takeaway of Goldman's mid-year outlook 2024 is that the investment landscape is expected to be shaped by several tailwinds and headwinds. The report highlights the importance of investing in megatrends, such as technological innovation and demographic changes, while also considering the potential impact of geopolitical events and macroeconomic factors. Goldman emphasizes the need for resilience in investment strategies, particularly in light of the prolonged recovery from the COVID-19 pandemic and the ongoing challenges in the global economy. Overall, the mid-year outlook 2024 suggests that investors should be prepared to navigate a complex and dynamic investment landscape, with a focus on long-term growth and risk management.\""
      ]
     },
     "metadata": {},
     "output_type": "display_data"
    }
   ],
   "source": [
    "q = 'What is the key takeaway of Goldman’s mid-year outlook 2024'\n",
    "for model in models:\n",
    "    for parser in parsers:\n",
    "        pipeline = Pipeline(\n",
    "                    parser=parser, model=model,\n",
    "                    data_path=data_path, verbose=False,\n",
    "                ); pipeline.train()\n",
    "        response, score = pipeline.answer(q)\n",
    "        display(f'Method: {model}, Parser: {parser}, Response: {response}')"
   ]
  },
  {
   "cell_type": "markdown",
   "id": "15108a36a5a57cc4",
   "metadata": {},
   "source": [
    "### Specific question"
   ]
  },
  {
   "cell_type": "code",
   "execution_count": 4,
   "id": "4fc6addccaffe601",
   "metadata": {},
   "outputs": [
    {
     "data": {
      "text/plain": [
       "'Method: nlp_langchain, Parser: unstructured, Response: Sovereign Bond Yields (%)\\n\\nLatest (%) Year-to-date Change (bps) 1-Year Change (bps) Last 10-year Percentile US 2 Year 4.6 39 -32 91 US 10 Year 43 40 22 95 US 2-10 Slope -0.3 1 54 15 US Treasury 10-Year Inflation-Protected 2.0 29 22 95 Germany 2 Year 2.9 52 -33 92 Germany 10 Year 2.5 51 -8 95 Japanese 10 Year 11 47 66 100 UK 10 Year 4.2 56 -47 92 Chinese 10 Year 2.3 -29 eae) 1\\n\\nSource: Macrobond, Goldman Sachs Asset Management. As of 11 July 2024.'"
      ]
     },
     "metadata": {},
     "output_type": "display_data"
    },
    {
     "data": {
      "text/plain": [
       "\"Method: nlp_langchain, Parser: llamaparse, Response: \\n\\nIn the short term, we expect DM government bond yields to be shaped by the latest economic indicators, as central banks focus on current data rather than inflation or economic forecasts. The disinflation path will be closely watched, with any signs of economic or labor market downturn potentially leading to the start or acceleration of rate-cutting cycles, influencing short-term yields. However, without clear evidence of economic deceleration, a sustained drop in yields is unlikely. We also recognize the possibility of increased yield volatility due to lower liquidity during the summer holidays. The recent volatility in French sovereign bonds demonstrates how political factors can affect yields, either by changing fiscal outlook perceptions or by emphasizing existing fiscal challenges. In the US, the likelihood of persistent fiscal deficits across all election scenarios suggests a continuing trend of a high and possibly increasing term premium.\\n\\n# WHERE ARE THE OPPORTUNITIES?\\n\\n\\n\\nWe are strategically navigating divergent central bank policies with cross-market interest rate exposures. We favor Canadian rates, already benefiting from the Bank of Canada's rate cuts and potential for further easing, a reflection of Canada's strides in disinflation. The recent oil price drop has also favored Canadian rate performance, given the economy's reliance on this commodity. The UK is another promising candidate for overweight rate exposure, with headline inflation returning to 2% and a weakening labor market suggesting possible dovish policy shifts. The BoE has indicated readiness to ease this summer, should data support their forecasts. We see value in overweight exposure to Swedish rates, where slow growth and slowing inflation hint at further easing. In contrast, we're underweight Japanese rates due to the weak yen and strong wage growth pointing to.\""
      ]
     },
     "metadata": {},
     "output_type": "display_data"
    },
    {
     "data": {
      "text/plain": [
       "\"Method: nlp_langchain, Parser: pdfplumber, Response: short duration bonds are a timely and wise investment for those needing\\nliquidity. They offer a chance to secure attractive yields before the expected\\nexpansion of central bank rate cuts.\\nAgainst a backdrop of inverted yield curves and low credit spreads, short\\nSource: Goldman Sachs Asset Management, Bloomberg. Analysis is based on monthly data from\\nduration bonds present a lower risk and volatility alternative to long-term\\nMarch 1995 to April 10, 2024. Past performance does not guarantee future results which may\\nbonds, making them a suitable complement to core fixed income allocations. vary. Yield to Worst is the interest rate that makes the present value of a bond's cash flows equal\\nto the bond's price or initial investment, calculated by making worst-case scenario assumptions\\nThey also serve as a strategic complement to cash, especially as yields are\\n(excluding issuer default) on the bond by calculating the returns that would be received if\\n\\n(excluding issuer default) on the bond by calculating the returns that would be received if\\nprojected to decrease alongside central bank policy rates. Overall, short provisions, including prepayment, call, put, and sinking fund, are used by the issuer.\\nduration bonds are a valuable investment solution for those aiming to\\nmaintain liquidity and capital safety while also seeking additional income.\\nThe economic and market forecasts presented herein are for informational purposes as of the date of this document. There can be no assurance that the forecasts will be achieved. Please see additional\\ndisclosures at the end of this document.\\nFIXED INCOME OUTLOOK: SOUND FUNDAMENTALS, NARROW MARGINS Goldman Sachs Asset Management 17\\n\\nGREEN, SOCIAL AND SUSTAINABILITY BONDS\\nAn Expanding Opportunity Set\\nOUTLOOK WHERE ARE THE OPPORTUNITIES? (CONTINUED)\\nIn the first half of 2024, the green, social and sustainable (GSS) bond The green bond market is also aligning with the broader fixed income market,\\nmarket has grown significantly, with issuance totalling $496 billion— as seen in the growth of the industrial sectors weight from 2% to 12%. This\\nequivalent to 11% of the global investment-grade corporate bond market. shift broadens investment opportunities for those supporting global\\nGrowth is set to continue, with issuance potentially doubling to $1 trillion by sustainability goals. Proceeds from financials and utilities green bonds are\\nthe end of the year, despite a seasonal slowdown in the third quarter. The primarily directed towards two Green Bond Principles categories, aligning\\nmarket’s expansion is marked by increased diversity and depth, with the with three UN SDGs: SDG 7 (Affordable and Clean Energy), SDG 11\""
      ]
     },
     "metadata": {},
     "output_type": "display_data"
    },
    {
     "data": {
      "text/plain": [
       "\"Method: nlp_langchain, Parser: pypdfloader, Response: Source: Goldman Sachs Global Investment Research. As of June 14, 2024.Global Central Banks Have Mostly Ended Their Hiking Cycles and Some Have Started to Cut Rates\\n-0.5%0.0%0.5%1.0%1.5%\\nNorway\\nUK\\nAustralia\\nEuro Area\\nSweden\\nUS\\nHong Kong\\nJapan\\nCanada\\nNew Zealand\\nSwitzerland0–3 Months 3–6 Months 6–12 Months TotalPolicy Rate Changes in the Last\\n3/6/12 Months (%)Developed Markets\\n0–3 Months 3–6 Months 6–12 Months Total\\n-6%-3%0%3%\\nIndonesia\\nThailand\\nPhilippines\\nTaiwan\\nIndia\\nMalaysia\\nSouth Korea\\nMainland China\\nVietnam\\nPakistan\\nMexico\\nColombia\\nPeru\\nBrazil\\nChile\\nTurkey\\nEgypt\\nRussia\\nRomania\\nSouth Africa\\nIsrael\\nGhana\\nPoland\\nCzech Republic\\nHungary\\nUkrainePolicy Rate Changes in the Last\\n3/6/12 Months (%)\\n+41.5%\\n+9.0% \\n-8.5%\\n-11. 5%Total:\\nTurkey: \\nEgypt: \\nRussia: \\nUkraine:Emerging Markets\\nGoldman Sachs Asset Management\\nAsset Management Outlook 2024     |    4\\n\\n\\nInvestment ConsiderationsMACROECONOMY: A LONGER PATH TO NORMALIZATION\\nStay Focused on Fixed Income  \\nIn an environment of steady growth, slowing inflation, and \\nbroadly robust corporate fundamentals, we see opportunities \\nto build well-diversified fixed income portfolios with the \\npotential to capture attractive levels of income. However, we \\nbelieve the environment remains one in which active security \\nselection is critical. We remain vigilant of downside surprises \\nin economic activity and headwinds to business investment \\ndue to election-related uncertainties, and tactical in adjusting \\nour positioning in response to market driven opportunities. \\nUncertainty underscores the defensive role of government \\nbonds and perceived safe-haven currencies like the US dollar. \\nElsewhere, we see value in attractive income provided by \\nspread sectors like corporate and securitized credit. \\nIn government bond markets, we believe adopting a dynamic \\nstrategy in managing duration is essential given divergent \\ntimelines, paces, and directions of central bank policies. In the \\nUS, we are positioned for a steepening of the forward Treasury \\nyield curve. This exposure may safeguard against downward \\ngrowth risks and allow investors to capitalize on the start to \\nFed rate cuts or growing term premium driven by a steady \\nsupply of US Treasuries. Our position on European rates is \\nbroadly neutral. While the ECB has shown an easing bias and \\npolitical uncertainties could dampen growth, we are also alert \\nto strength in services inflation. We favor UK rates as the BoE \\nis on course to ease policy, absent significant upside data \\nsurprises. Conversely, in Japan, we are mindful that continued \\nstrength in wages and a hawkish leaning BoJ increases the \\nlikelihood of further tightening. In the EM sovereign credit \\nspace, investors have potential opportunities to capture \\nattractive carry and identify bonds with potential for total \\nreturn due to possible rating upgrades to investment grade. \\nWhile we have reduced our overall exposure to EM local bonds, \\nwe are focused on markets like Chile, Czechia, and Hungary, \\nwhich appear poised for continued monetary easing, and \\ncontinue to monitor country-specific factors given unfolding \\ndivergence in central bank policy paths. \\nDespite the overall credit landscape appearing stable, \\ndispersion is evident across sectors and regions. For instance, \\nA-rated issuers with higher debt levels have seen a more \\nsignificant drop in interest coverage ratios compared to \\nBBB-rated issuers with lower leverage. Across credit, we \\nfavor issuers in sectors with the potential to demonstrate \\nresilience throughout the economic cycle. Bonds issued by banks are appealing, in our view, due to their spread premium, \\nalthough recent performance has reduced their valuation \\nappeal. Sectors adapting to decarbonization and digitization, \\nsuch as telecoms with broadband and 5G services, and \\ntech firms focusing on cybersecurity and data protection, \\nalso offer potential opportunities. We continue to believe \\nthe EM corporate bond market offers an attractive mix of \\nyield, diversification for existing corporate or EM exposures, \\nand resilience to macroeconomic challenges. Our analysis \\nsuggests EM corporate fundamentals remain healthy, with \\nnet leverage at near-decade lows. Credit rating trends are \\npositive, and default activity is projected to decrease in 2024, \\nreversing the trend of the past three years. Additionally, the \\ntechnical environment is favorable due to the limited new \\nsupply. We maintain a positive view on securitized credit, \\nincluding commercial mortgage-backed securities (CMBS) \\nand collateralized loan obligations (CLOs). We think there is \\npotential for further spread tightening in the latter half of \\nthe year, supported by strong fundamentals, especially for \\nsecurities at the top of the capital structure. Importantly, \\nrecent economic data remain supportive of a 'soft-landing' \\nscenario, which is favorable for sustaining cash flows from \\nunderlying loans. \\nBroaden Your Equity Horizons\\nIn public equity markets, inflationary pressures and higher \\ninterest rates have enabled the strongest business models \\nto demonstrate their margin resilience over recent quarters. \\nFirst quarter earnings seasons in the US were generally \\nbetter-than-expected based on our analysis.3 Most of the \\nearnings growth of the S&P 500 continues to be driven \\nby the “Magnificent 7”, though performance dispersion \\nwithin the group has widened. The second half of 2024 may \\npresent investors with opportunities to broaden their equity \\nhorizons beyond the largest names. We see a new layer of \\nAI beneficiaries emerging that are simultaneously backed \\nby fundamentals and complementary to the Magnificent 7, \\nincluding companies enhancing AI by harnessing the power \\nof data. Scrutiny of AI strategies, returns on investments, and \\nprofitability is likely to heighten as corporate AI spending \\ngrows. This underscores the need for careful security \\nselection and active management. \\nAfter a multi-year period of underperformance relative to \\nlarge caps, we believe US small caps are poised for a rebound. \\nGoldman Sachs Asset Management\\nAsset Management Outlook 2024     |    5\\n\\n\\nInvestment ConsiderationsMACROECONOMY: A LONGER PATH TO NORMALIZATION\\nOur view is based on the attractive absolute and relative \\nvaluations, the improving US macroeconomic outlook and the \\nprospect of US interest rate cuts before year-end. US policy \\neasing cycles have historically provided a tailwind to the asset \\nclass.4 With a higher share of floating debt and higher debt \\nburdens, smaller companies may see a more instantaneous \\nand stronger top-line impact from expected rate reductions in \\nthe second half of 2024. Small caps also offer diversification \\naway from concentration risk within the S&P 500.  \\nOutside the US, we believe Europe’s improving growth and \\ninflation mix, combined with better corporate earnings \\ndynamics and modest valuations, bodes well for European \\nequities. Rate reductions in Europe have materialized ahead \\nof the US, and that, combined with moderating wage growth \\nand inflation, should improve margins for companies, in our \\nview, including European small caps that have been vulnerable \\nto higher interest rates. In Japan, we expect strong equity \\nmarket performance to continue being driven by structural \\nchanges; notably a shift to an inflationary environment \\nafter decades of deflation. Continued corporate reforms are \\nresulting in Japanese companies being more proactive and \\npublic on their plans for capital efficiency.5  \\nEvolving Private Market Opportunities\\nPrivate market opportunities continue to evolve, with \\nmultiple avenues for investors to potentially enhance risk-\\nadjusted returns and add diversification to traditional \\ninvestment exposures. In private equity, higher capital \\ncosts have changed the calculus for dealmakers. We believe \\noperational value creation levers are poised to become the \\nmain determinants of success in this new regime. Prudence in \\ndeploying capital—for both new investments and supporting \\nexisting companies—should also become an even more \\ncritical factor to investment outcomes. With limited partners \\n(LPs) seeking liquidity from existing holdings, in some cases \\nas a prerequisite to new commitments, general partners (GPs) \\nmay increasingly turn to continuation vehicles and structured \\nsolutions to provide liquidity while value accrues. Secondaries \\ncontinue to present opportunities, as both LPs and GPs \\nseek deal and fund structures that offer both liquidity and \\nopportunities to extend hold times.  \\nPrivate credit continues to expand, and remains valued by \\nborrowers as a flexible, timely solution to finance capital \\nneeds. While yields on senior secured loans are still attractive compared with recent years, competitive pressure to deploy \\ncapital has driven spreads tighter in 2024. To compensate, \\nsome lenders are looking to refinance existing packages at \\nmore attractive terms to extend duration (i.e., sacrificing \\ncurrent yield for a higher multiple of invested capital). The \\nstructure of private credit deals may evolve, too. For instance, \\ncompanies may seek to push down interest costs further by \\nincluding equity kickers to compensate for a lower spread. We \\nbelieve those with scale and flexibility to lend throughout the \\ncapital stack, as well as a deep book of existing borrowers, \\nare best positioned. Semi-liquid vehicles represent a new \\nsource of competition, with pressure to deploy capital \\ninflows relatively quickly potentially contributing to spread \\ntightening. Overall, while we do not anticipate widespread \\ndistress, persistent elevated rates will likely test some fully \\nlevered companies and certain business models over the \\ncoming quarters. Underwriting, structuring discipline, robust \\nsourcing pipelines and experience should become a greater \\ndeterminant of ultimate outcomes, in our view.  \\nInfrastructure dealmaking has decelerated broadly in recent \\nquarters, with higher rates proving a continued headwind, \\nbut there are pockets of strength. Energy transition projects \\ncontinue to attract capital. Digital assets also remain popular, \\nwith investors seeing compelling opportunities to develop \\nplatforms as demand increases and regulatory frameworks \\nevolve. In real estate, diverging views on the timing and \\nmagnitude of US rate cuts is keeping some investors on the \\nsidelines. Lingering risks in the US—including upcoming \\nelections, regulatory uncertainty, and rising insurance costs—\\ncomplicate the outlook. Many investors remain focused \\non the highest quality assets, while distressed sales have \\nseen a small uptick as valuations have continued to fall. We \\nexpect demographics, technology, and the drive towards \\nsustainability to shape global real estate demand in the years \\nahead, with economic and capital market dislocations creating \\nnew opportunities over time. \\nGoldman Sachs Asset Management\\nAsset Management Outlook 2024     |    6\\n\""
      ]
     },
     "metadata": {},
     "output_type": "display_data"
    },
    {
     "data": {
      "text/plain": [
       "\"Method: llama2, Parser: unstructured, Response: Based on the provided context information, there are several potential market implications of rising sovereign debt levels:\\n\\n1. Increased Cost of Capital: As sovereign debt levels rise, the cost of capital for governments and corporations can increase, leading to higher borrowing costs and potentially slower economic growth.\\n2. Reduced Fiscal Space: Higher sovereign debt levels can reduce a government's fiscal space, making it more difficult to implement fiscal policies that can stimulate economic growth during times of recession or slowdown.\\n3. Increased Risk of Debt Crises: Prolonged periods of high borrowing can lead to an increased risk of debt crises, such as a sovereign default or bankruptcy. This can have severe consequences for the economy and financial markets.\\n4. Impact on Bond Supply and Demand: Rising sovereign debt levels can impact the supply and demand for bonds, potentially leading to higher bond yields and reduced investor confidence in the government's ability to manage its finances.\\n5. Reduced Investment: Higher sovereign debt levels can reduce investment in other areas of the economy, such as businesses and infrastructure projects, as investors become more risk-averse and less willing to invest in projects with a higher risk of default.\\n6. Increased Inflation Risk: Excessive government borrowing can lead to an increase in the money supply, potentially causing inflation. This can have negative consequences for the economy and financial markets.\\n7. Reduced Credit Rating: If sovereign debt levels continue to rise without a clear plan to reduce them, it can lead to a reduction in the government's credit rating, making it more expensive for the government to borrow money in the future.\\n8. Impact on Currency Value: Higher sovereign debt levels can impact the value of a country's currency, potentially leading to a depreciation of the currency and increased inflation.\\n\\nIn conclusion, rising sovereign debt levels can have significant market implications, including increased costs of capital, reduced fiscal space, and an increased risk of debt crises. It is important for governments to manage their finances responsibly and reduce their reliance on borrowing to avoid these negative consequences.\""
      ]
     },
     "metadata": {},
     "output_type": "display_data"
    },
    {
     "data": {
      "text/plain": [
       "\"Method: llama2, Parser: llamaparse, Response: The year-to-date change in sovereign bond yields cannot be determined solely based on the provided context. The context provides information on the policy rate changes of various central banks, but it does not provide sufficient data to calculate the year-to-date change in sovereign bond yields. To determine the year-to-date change in sovereign bond yields, one would need to have access to historical yield data for each country's sovereign bonds, which is not provided in the context. Therefore, I cannot answer the query without additional information.\""
      ]
     },
     "metadata": {},
     "output_type": "display_data"
    },
    {
     "data": {
      "text/plain": [
       "'Method: llama2, Parser: pdfplumber, Response: The year-to-date change in sovereign bond yields can be calculated by analyzing the monthly data from March 1995 to April 2024. According to the context information provided, the yield curve has inverted and credit spreads have decreased, indicating a lower risk and volatility alternative to long-term bonds. This suggests that short duration bonds may have performed well in comparison to long-term bonds during this period.\\n\\nTo calculate the year-to-date change in sovereign bond yields, we can use the following formula:\\n\\nYear-to-Date Change = (Current Bond Yield - Initial Bond Yield) / Initial Bond Yield * 100\\n\\nWhere \"Initial Bond Yield\" is the yield of the bond at the beginning of the period, and \"Current Bond Yield\" is the yield of the bond at the end of the period.\\n\\nUsing the monthly data provided in the context information, we can calculate the year-to-date change in sovereign bond yields for each month from March 1995 to April 2024. The results are as follows:\\n\\n| Month | Initial Bond Yield | Current Bond Yield | Year-to-Date Change |\\n| --- | --- | --- | --- |\\n| Mar 95 | 7.5% | 6.2% | -15% |\\n| Apr 96 | 6.8% | 5.6% | -16% |\\n| May 97 | 6.3% | 4.7% | -15% |\\n| Jun 98 | 5.9% | 4.2% | -16% |\\n| Jul 99 | 5.5% | 3.8% | -17% |\\n| Aug 00 | 5.2% | 3.3% | -16% |\\n| Sep 01 | 4.9% | 2.8% | -17% |\\n| Oct 02 | 4.7% | 2.2% | -16% |\\n| Nov 03 | 4.5% | 1.7% | -17% |\\n| Dec 04 | 4.3% | 1.3% | -16% |\\n| Jan 05 | 4.2% | 0.8% | -16% |\\n| Feb 06 | 4.1% | -0.1% | -17% |\\n| Mar 07 | 3.9% | -0.4% | -17% |\\n| Apr 08 | 3.6% | -0.2% | -16% |\\n| May 09 | 3.4% | -0.1% | -17% |\\n| Jun 10 | 3.2% | -0.3% | -16% |\\n| Jul 11 | 3.0% | -0.5% | -17% |\\n| Aug 12 | 2.8% | -0.4% | -16% |\\n| Sep 13 | 2.6% | -0.3% | -17% |\\n| Oct 14 | 2.4% | -0.2% | -16% |\\n| Nov 15 | 2.2% | -0.1% | -17% |\\n| Dec 16 | 2.0% | -0.2% | -16% |\\n| Jan 17 | 1.8% | -0.3% | -17% |\\n| Feb 18 | 1.6% | -0.4% | -16% |\\n| Mar 19 | 1.4% | -0.5% | -17% |\\n| Apr 20 | 1.2% | -0.3% | -16% |\\n| May 21 | 1.0% | -0.2% | -17% |\\n\\nBased on the above data, we can see that the year-to-date change in sovereign bond yields has generally been negative over the past two decades, with an average decrease of around 17%. However, it\\'s important to note that this is a general trend and may not necessarily hold true for any particular bond or investment. It\\'s always best to consult with a financial advisor before making any investment decisions.'"
      ]
     },
     "metadata": {},
     "output_type": "display_data"
    },
    {
     "data": {
      "text/plain": [
       "'Method: llama2, Parser: pypdfloader, Response: Based on the provided context, the year-to-date change in sovereign bond yields cannot be directly referenced as it is not explicitly mentioned in the given passage. However, we can infer some information about sovereign bond yields from the context.\\n\\nThe passage mentions that central banks are focusing on current data rather than inflation or economic forecasts, which suggests that they may be paying closer attention to short-term economic indicators. Additionally, the passage notes that there is a possibility of increased yield volatility due to lower liquidity during the summer holidays.\\n\\nTaking these factors into account, it is possible that sovereign bond yields have experienced some fluctuations year-to-date, although the exact magnitude of these changes cannot be determined from the given passage. It is also worth noting that the passage does not provide any information about the overall direction or trend of sovereign bond yields, only mentioning the potential for fluctuations due to various factors.'"
      ]
     },
     "metadata": {},
     "output_type": "display_data"
    }
   ],
   "source": [
    "q = 'What is the year-to-date change in Sovereign Bond Yields'\n",
    "# Fixed Income document page 21\n",
    "for model in models:\n",
    "    for parser in parsers:\n",
    "        pipeline = Pipeline(\n",
    "                    parser=parser, model=model,\n",
    "                    data_path=data_path, verbose=False,\n",
    "                ); pipeline.train()\n",
    "        response, score = pipeline.answer(q)\n",
    "        display(f'Method: {model}, Parser: {parser}, Response: {response}')"
   ]
  },
  {
   "cell_type": "markdown",
   "id": "34cc506ee04b500f",
   "metadata": {},
   "source": [
    "# Prompt engineering"
   ]
  },
  {
   "cell_type": "code",
   "execution_count": null,
   "id": "7fa72473a16e4382",
   "metadata": {},
   "outputs": [],
   "source": []
  }
 ],
 "metadata": {
  "kernelspec": {
   "display_name": "llama_env",
   "language": "python",
   "name": "python3"
  },
  "language_info": {
   "codemirror_mode": {
    "name": "ipython",
    "version": 3
   },
   "file_extension": ".py",
   "mimetype": "text/x-python",
   "name": "python",
   "nbconvert_exporter": "python",
   "pygments_lexer": "ipython3",
   "version": "3.10.13"
  }
 },
 "nbformat": 4,
 "nbformat_minor": 5
}
