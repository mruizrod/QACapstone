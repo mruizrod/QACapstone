{
 "cells": [
  {
   "cell_type": "code",
   "metadata": {
    "ExecuteTime": {
     "end_time": "2024-10-01T14:47:20.784809Z",
     "start_time": "2024-10-01T14:47:20.604526Z"
    }
   },
   "source": [
    "import sys\n",
    "sys.path.append(\"../\")\n",
    "sys.path.append(\"../src\")\n",
    "from tqdm import tqdm, trange\n",
    "import numpy as np\n",
    "import pandas as pd\n",
    "from sklearn.metrics.pairwise import cosine_similarity\n",
    "import matplotlib.pyplot as plt\n",
    "import seaborn as sns"
   ],
   "outputs": [],
   "execution_count": 29
  },
  {
   "cell_type": "markdown",
   "metadata": {},
   "source": [
    "# Load Models"
   ]
  },
  {
   "cell_type": "code",
   "metadata": {
    "ExecuteTime": {
     "end_time": "2024-10-01T12:53:18.112332Z",
     "start_time": "2024-10-01T12:53:00.091790Z"
    }
   },
   "source": [
    "from src.llama2 import Llama2\n",
    "from src.nlp_base import NLP_base\n",
    "from src.nlp_langchain import NLP_langchain\n",
    "from src.openai import OpenAI"
   ],
   "outputs": [
    {
     "name": "stderr",
     "output_type": "stream",
     "text": [
      "C:\\Users\\maryj\\Documents\\Mini5CMU\\llamaparser-example\\.venv\\Lib\\site-packages\\tqdm\\auto.py:21: TqdmWarning: IProgress not found. Please update jupyter and ipywidgets. See https://ipywidgets.readthedocs.io/en/stable/user_install.html\n",
      "  from .autonotebook import tqdm as notebook_tqdm\n"
     ]
    }
   ],
   "execution_count": 3
  },
  {
   "metadata": {},
   "cell_type": "markdown",
   "source": "openai"
  },
  {
   "metadata": {
    "ExecuteTime": {
     "end_time": "2024-10-01T12:53:36.930465Z",
     "start_time": "2024-10-01T12:53:18.125672Z"
    }
   },
   "cell_type": "code",
   "source": [
    "%%time\n",
    "openai = OpenAI(\n",
    "    input_files=[\"../data/pdf/am-mid-year-outlook-2024.pdf\"],\n",
    "    verbose=False,\n",
    "); openai.train()"
   ],
   "outputs": [
    {
     "name": "stdout",
     "output_type": "stream",
     "text": [
      "CPU times: total: 3.64 s\n",
      "Wall time: 18.8 s\n"
     ]
    }
   ],
   "execution_count": 4
  },
  {
   "cell_type": "markdown",
   "metadata": {},
   "source": [
    "llama2"
   ]
  },
  {
   "cell_type": "code",
   "metadata": {
    "ExecuteTime": {
     "end_time": "2024-10-01T12:53:55.484206Z",
     "start_time": "2024-10-01T12:53:37.023090Z"
    }
   },
   "source": [
    "%%time\n",
    "llama2 = Llama2(\n",
    "    input_files=[\"../data/pdf/am-mid-year-outlook-2024.pdf\"],\n",
    "    verbose=False,\n",
    "); llama2.train()"
   ],
   "outputs": [
    {
     "name": "stdout",
     "output_type": "stream",
     "text": [
      "CPU times: total: 8.25 s\n",
      "Wall time: 18.5 s\n"
     ]
    }
   ],
   "execution_count": 5
  },
  {
   "cell_type": "markdown",
   "metadata": {},
   "source": [
    "nlp-base"
   ]
  },
  {
   "cell_type": "code",
   "metadata": {
    "ExecuteTime": {
     "end_time": "2024-10-01T12:54:09.140080Z",
     "start_time": "2024-10-01T12:53:55.561142Z"
    }
   },
   "source": [
    "%%time\n",
    "nlp_base = NLP_base(\n",
    "    input_files=[\"../data/pdf/am-mid-year-outlook-2024.pdf\"],\n",
    "    verbose=False,\n",
    "); nlp_base.train()"
   ],
   "outputs": [
    {
     "name": "stdout",
     "output_type": "stream",
     "text": [
      "CPU times: total: 6.3 s\n",
      "Wall time: 13.6 s\n"
     ]
    }
   ],
   "execution_count": 6
  },
  {
   "metadata": {},
   "cell_type": "markdown",
   "source": "nlp-langchain"
  },
  {
   "metadata": {
    "ExecuteTime": {
     "end_time": "2024-10-01T12:54:23.801457Z",
     "start_time": "2024-10-01T12:54:09.169959Z"
    }
   },
   "cell_type": "code",
   "source": [
    "%%time\n",
    "nlp_langchain = NLP_langchain(\n",
    "    input_files=[\"../data/pdf/am-mid-year-outlook-2024.pdf\"],\n",
    "    verbose=False,\n",
    "); nlp_langchain.train()"
   ],
   "outputs": [
    {
     "name": "stdout",
     "output_type": "stream",
     "text": [
      "CPU times: total: 12.8 s\n",
      "Wall time: 14.6 s\n"
     ]
    }
   ],
   "execution_count": 7
  },
  {
   "cell_type": "markdown",
   "metadata": {},
   "source": [
    "# load Manual Labeled Data"
   ]
  },
  {
   "cell_type": "code",
   "metadata": {
    "ExecuteTime": {
     "end_time": "2024-10-01T12:54:23.847252Z",
     "start_time": "2024-10-01T12:54:23.802972Z"
    }
   },
   "source": [
    "questions = pd.read_csv(\"../data/testQ.csv\")"
   ],
   "outputs": [],
   "execution_count": 8
  },
  {
   "metadata": {
    "ExecuteTime": {
     "end_time": "2024-10-01T13:10:08.950848Z",
     "start_time": "2024-10-01T13:00:22.979645Z"
    }
   },
   "cell_type": "code",
   "source": [
    "sim_q_r, sim_a_r = [], []\n",
    "iterator = questions[[\"Question\", \"Answer\"]].to_records(index=False)\n",
    "for q, a in tqdm(iterator):\n",
    "    scores_q, scores_a = [], []\n",
    "    for _ in range(10):\n",
    "        response, score = openai.answer(q)\n",
    "        scores_q.append(score)\n",
    "        scores_a.append(cosine_similarity(\n",
    "            [openai.embed_model.get_text_embedding(a)], \n",
    "            [openai.embed_model.get_text_embedding(str(response))],\n",
    "        )[0][0])\n",
    "    sim_q_r.append(np.mean(scores_q))\n",
    "    sim_a_r.append(np.mean(scores_a))"
   ],
   "outputs": [
    {
     "name": "stderr",
     "output_type": "stream",
     "text": [
      "100%|██████████| 15/15 [09:45<00:00, 39.06s/it]\n"
     ]
    }
   ],
   "execution_count": 11
  },
  {
   "metadata": {
    "ExecuteTime": {
     "end_time": "2024-10-01T13:15:25.036018Z",
     "start_time": "2024-10-01T13:15:25.026846Z"
    }
   },
   "cell_type": "code",
   "source": [
    "res_openai = questions[[\"Question\"]].copy()\n",
    "res_openai[\"model\"] = \"openai\"\n",
    "res_openai[\"similarity_response_question\"] = sim_q_r\n",
    "res_openai[\"similarity_response_answer\"] = sim_a_r"
   ],
   "outputs": [],
   "execution_count": 12
  },
  {
   "cell_type": "markdown",
   "metadata": {},
   "source": [
    "llama2"
   ]
  },
  {
   "cell_type": "code",
   "metadata": {
    "jupyter": {
     "is_executing": true
    },
    "ExecuteTime": {
     "end_time": "2024-10-01T14:34:45.787951300Z",
     "start_time": "2024-10-01T13:15:28.482559Z"
    }
   },
   "source": [
    "sim_q_r, sim_a_r = [], []\n",
    "iterator = questions[[\"Question\", \"Answer\"]].to_records(index=False)\n",
    "for q, a in tqdm(iterator):\n",
    "    scores_q, scores_a = [], []\n",
    "    for _ in range(10):\n",
    "        response, score = llama2.answer(q)\n",
    "        scores_q.append(score)\n",
    "        scores_a.append(cosine_similarity(\n",
    "            [llama2.embed_model._embed(a)], \n",
    "            [llama2.embed_model._embed(str(response))],\n",
    "        )[0][0])\n",
    "    sim_q_r.append(np.mean(scores_q))\n",
    "    sim_a_r.append(np.mean(scores_a))"
   ],
   "outputs": [
    {
     "name": "stderr",
     "output_type": "stream",
     "text": [
      " 13%|█▎        | 2/15 [20:18<2:15:57, 627.54s/it]"
     ]
    }
   ],
   "execution_count": null
  },
  {
   "cell_type": "code",
   "execution_count": 36,
   "metadata": {},
   "outputs": [],
   "source": [
    "res_llama2 = questions[[\"Question\"]].copy()\n",
    "res_llama2[\"model\"] = \"llama2\"\n",
    "res_llama2[\"similarity_response_question\"] = sim_q_r\n",
    "res_llama2[\"similarity_response_answer\"] = sim_a_r"
   ]
  },
  {
   "cell_type": "markdown",
   "metadata": {},
   "source": [
    "nlp"
   ]
  },
  {
   "cell_type": "code",
   "metadata": {
    "ExecuteTime": {
     "end_time": "2024-10-01T14:35:53.724231Z",
     "start_time": "2024-10-01T14:35:03.416017Z"
    }
   },
   "source": [
    "sim_q_r, sim_a_r = [], []\n",
    "iterator = questions[[\"Question\", \"Answer\"]].to_records(index=False)\n",
    "for q, a in tqdm(iterator):\n",
    "    scores_q, scores_a = [], []\n",
    "    for _ in range(10):\n",
    "        response, score = nlp_base.answer(q)\n",
    "        scores_q.append(score)\n",
    "        scores_a.append(cosine_similarity(\n",
    "            [nlp_base.embed_model._embed(a)], \n",
    "            [nlp_base.embed_model._embed(str(response))],\n",
    "        )[0][0])\n",
    "    sim_q_r.append(np.mean(scores_q))\n",
    "    sim_a_r.append(np.mean(scores_a))"
   ],
   "outputs": [
    {
     "name": "stderr",
     "output_type": "stream",
     "text": [
      "100%|██████████| 15/15 [00:50<00:00,  3.34s/it]\n"
     ]
    }
   ],
   "execution_count": 14
  },
  {
   "cell_type": "code",
   "metadata": {
    "ExecuteTime": {
     "end_time": "2024-10-01T14:35:55.130966Z",
     "start_time": "2024-10-01T14:35:55.107954Z"
    }
   },
   "source": [
    "res_nlp_base = questions[[\"Question\"]].copy()\n",
    "res_nlp_base[\"model\"] = \"nlp_base\"\n",
    "res_nlp_base[\"similarity_response_question\"] = sim_q_r\n",
    "res_nlp_base[\"similarity_response_answer\"] = sim_a_r"
   ],
   "outputs": [],
   "execution_count": 15
  },
  {
   "metadata": {},
   "cell_type": "markdown",
   "source": "nlp langchain"
  },
  {
   "metadata": {
    "ExecuteTime": {
     "end_time": "2024-10-01T14:36:16.568523Z",
     "start_time": "2024-10-01T14:35:58.126089Z"
    }
   },
   "cell_type": "code",
   "source": [
    "\n",
    "sim_q_r, sim_a_r = [], []\n",
    "iterator = questions[[\"Question\", \"Answer\"]].to_records(index=False)\n",
    "for q, a in tqdm(iterator):\n",
    "    scores_q, scores_a = [], []\n",
    "    for _ in range(10):\n",
    "        response, score = nlp_langchain.answer(q)\n",
    "        scores_q.append(score)\n",
    "        scores_a.append(cosine_similarity(\n",
    "            [nlp_langchain.embed_model._embed(a)], \n",
    "            [nlp_langchain.embed_model._embed(str(response))],\n",
    "        )[0][0])\n",
    "    sim_q_r.append(np.mean(scores_q))\n",
    "    sim_a_r.append(np.mean(scores_a))"
   ],
   "outputs": [
    {
     "name": "stderr",
     "output_type": "stream",
     "text": [
      "100%|██████████| 15/15 [00:18<00:00,  1.23s/it]\n"
     ]
    }
   ],
   "execution_count": 16
  },
  {
   "metadata": {
    "ExecuteTime": {
     "end_time": "2024-10-01T14:36:17.655117Z",
     "start_time": "2024-10-01T14:36:17.645985Z"
    }
   },
   "cell_type": "code",
   "source": [
    "res_nlp_langchain = questions[[\"Question\"]].copy()\n",
    "res_nlp_langchain[\"model\"] = \"nlp_langchain\"\n",
    "res_nlp_langchain[\"similarity_response_question\"] = sim_q_r\n",
    "res_nlp_langchain[\"similarity_response_answer\"] = sim_a_r"
   ],
   "outputs": [],
   "execution_count": 17
  },
  {
   "cell_type": "markdown",
   "metadata": {},
   "source": [
    "merge and save results"
   ]
  },
  {
   "metadata": {
    "ExecuteTime": {
     "end_time": "2024-10-01T14:37:52.486109Z",
     "start_time": "2024-10-01T14:37:52.396153Z"
    }
   },
   "cell_type": "code",
   "source": [
    "# fix because I couldn't run llama2\n",
    "res_llama2 =  pd.read_csv(\"./test_results.csv\")\n",
    "res_llama2 = res_llama2[res_llama2[\"model\"] == \"llama2\"]"
   ],
   "outputs": [],
   "execution_count": 20
  },
  {
   "cell_type": "code",
   "metadata": {
    "ExecuteTime": {
     "end_time": "2024-10-01T14:38:25.940589Z",
     "start_time": "2024-10-01T14:38:25.827752Z"
    }
   },
   "source": [
    "res = pd.concat([res_openai,res_llama2, res_nlp_base,res_nlp_langchain]).reset_index()\n",
    "res.sort_values([\"index\", \"model\"], inplace=True, ignore_index=True)\n",
    "res.drop(\"index\", axis=1, inplace=True)\n",
    "res.to_csv(\"./test_results.csv\", index=False)"
   ],
   "outputs": [],
   "execution_count": 22
  },
  {
   "cell_type": "markdown",
   "metadata": {},
   "source": [
    "Interpretation of Columns\n",
    "- `similarity_response_answer`: cosine similarity between response and manually labeled answer\n",
    "- `similarity_response_question`: cosine similarity between response and input question"
   ]
  },
  {
   "cell_type": "code",
   "metadata": {
    "ExecuteTime": {
     "end_time": "2024-10-01T14:38:28.382423Z",
     "start_time": "2024-10-01T14:38:28.364465Z"
    }
   },
   "source": [
    "res"
   ],
   "outputs": [
    {
     "data": {
      "text/plain": [
       "                                             Question          model  \\\n",
       "0   How much has Norway's policy rate changed over...         llama2   \n",
       "1   How much has Norway's policy rate changed over...       nlp_base   \n",
       "2   How much has Norway's policy rate changed over...  nlp_langchain   \n",
       "3   How much has Norway's policy rate changed over...         openai   \n",
       "4   Is the shift to higher interest rates posing c...       nlp_base   \n",
       "5   Is the shift to higher interest rates posing c...  nlp_langchain   \n",
       "6   Is the shift to higher interest rates posing c...         openai   \n",
       "7   Is the shift to higher interest rates posing c...         llama2   \n",
       "8                  Can small caps finally outperform?       nlp_base   \n",
       "9                  Can small caps finally outperform?  nlp_langchain   \n",
       "10                 Can small caps finally outperform?         openai   \n",
       "11               What is “normal” for private equity?       nlp_base   \n",
       "12               What is “normal” for private equity?  nlp_langchain   \n",
       "13               What is “normal” for private equity?         openai   \n",
       "14                 Can small caps finally outperform?         llama2   \n",
       "15  What is the key takeaway of Goldman's mid-year...       nlp_base   \n",
       "16  What is the key takeaway of Goldman's mid-year...  nlp_langchain   \n",
       "17  What is the key takeaway of Goldman's mid-year...         openai   \n",
       "18  Are investment theses predicated on the contin...       nlp_base   \n",
       "19  Are investment theses predicated on the contin...  nlp_langchain   \n",
       "20  Are investment theses predicated on the contin...         openai   \n",
       "21               What is “normal” for private equity?         llama2   \n",
       "22  What might the US election mean for the Inflat...       nlp_base   \n",
       "23  What might the US election mean for the Inflat...  nlp_langchain   \n",
       "24  What might the US election mean for the Inflat...         openai   \n",
       "25  How should investors think about healthcare in...       nlp_base   \n",
       "26  How should investors think about healthcare in...  nlp_langchain   \n",
       "27  How should investors think about healthcare in...         openai   \n",
       "28  What is the key takeaway of Goldman's mid-year...         llama2   \n",
       "29  What are the potential market implications of ...       nlp_base   \n",
       "30  What are the potential market implications of ...  nlp_langchain   \n",
       "31  What are the potential market implications of ...         openai   \n",
       "32  How will AI shape real estate and infrastructure?       nlp_base   \n",
       "33  How will AI shape real estate and infrastructure?  nlp_langchain   \n",
       "34  How will AI shape real estate and infrastructure?         openai   \n",
       "35  Are investment theses predicated on the contin...         llama2   \n",
       "36  What opportunities are emerging at the interse...       nlp_base   \n",
       "37  What opportunities are emerging at the interse...  nlp_langchain   \n",
       "38  What opportunities are emerging at the interse...         openai   \n",
       "39  What events were attributed to spikes in the G...       nlp_base   \n",
       "40  What events were attributed to spikes in the G...  nlp_langchain   \n",
       "41  What events were attributed to spikes in the G...         openai   \n",
       "42  What might the US election mean for the Inflat...         llama2   \n",
       "43  What are current levels of US debt held by the...       nlp_base   \n",
       "44  What are current levels of US debt held by the...  nlp_langchain   \n",
       "45  What are current levels of US debt held by the...         openai   \n",
       "46  What was the lowest level of US debt held by t...       nlp_base   \n",
       "47  What was the lowest level of US debt held by t...  nlp_langchain   \n",
       "48  What was the lowest level of US debt held by t...         openai   \n",
       "49  How should investors think about healthcare in...         llama2   \n",
       "50  What happened in the first six months of 2024 ...       nlp_base   \n",
       "51  What happened in the first six months of 2024 ...  nlp_langchain   \n",
       "52  What happened in the first six months of 2024 ...         openai   \n",
       "53  What are the potential market implications of ...         llama2   \n",
       "54  How will AI shape real estate and infrastructure?         llama2   \n",
       "55  What opportunities are emerging at the interse...         llama2   \n",
       "56  What events were attributed to spikes in the G...         llama2   \n",
       "57  What are current levels of US debt held by the...         llama2   \n",
       "58  What was the lowest level of US debt held by t...         llama2   \n",
       "59  What happened in the first six months of 2024 ...         llama2   \n",
       "\n",
       "    similarity_response_question  similarity_response_answer  \n",
       "0                       0.860554                    0.607631  \n",
       "1                       0.682312                    0.595814  \n",
       "2                       0.667153                    0.587528  \n",
       "3                       0.907887                    0.744942  \n",
       "4                       0.754041                    0.860071  \n",
       "5                       0.862293                    0.923983  \n",
       "6                       0.942232                    0.884401  \n",
       "7                       0.880874                    0.899823  \n",
       "8                       0.668756                    0.796996  \n",
       "9                       0.987049                    0.932814  \n",
       "10                      0.869487                    0.980249  \n",
       "11                      0.755375                    0.792823  \n",
       "12                      0.977426                    0.954124  \n",
       "13                      0.897049                    0.979982  \n",
       "14                      0.796116                    0.853054  \n",
       "15                      0.761847                    0.771109  \n",
       "16                      0.851964                    0.761870  \n",
       "17                      0.932946                    0.858456  \n",
       "18                      0.728866                    0.784294  \n",
       "19                      0.771549                    0.846241  \n",
       "20                      0.853754                    0.927740  \n",
       "21                      0.847603                    0.876351  \n",
       "22                      0.727494                    0.883164  \n",
       "23                      0.985066                    0.948127  \n",
       "24                      0.875159                    0.999217  \n",
       "25                      0.784810                    0.837326  \n",
       "26                      0.986092                    0.928562  \n",
       "27                      0.897368                    0.972616  \n",
       "28                      0.830780                    0.712899  \n",
       "29                      0.786234                    0.790760  \n",
       "30                      0.849552                    0.842768  \n",
       "31                      0.905058                    0.974119  \n",
       "32                      0.793148                    0.838533  \n",
       "33                      0.992096                    0.954506  \n",
       "34                      0.903905                    1.000000  \n",
       "35                      0.848791                    0.814979  \n",
       "36                      0.716624                    0.864104  \n",
       "37                      0.988087                    0.924944  \n",
       "38                      0.931189                    0.970597  \n",
       "39                      0.765989                    0.677817  \n",
       "40                      0.793705                    0.643701  \n",
       "41                      0.816564                    0.930802  \n",
       "42                      0.817683                    0.882307  \n",
       "43                      0.836312                    0.727578  \n",
       "44                      0.851186                    0.715065  \n",
       "45                      0.933328                    0.939774  \n",
       "46                      0.745069                    0.750762  \n",
       "47                      0.775806                    0.760258  \n",
       "48                      0.931156                    0.907134  \n",
       "49                      0.827672                    0.924353  \n",
       "50                      0.682883                    0.812946  \n",
       "51                      0.715810                    0.752062  \n",
       "52                      0.886377                    0.939928  \n",
       "53                      0.915193                    0.884455  \n",
       "54                      0.857155                    0.932574  \n",
       "55                      0.838666                    0.850416  \n",
       "56                      0.908404                    0.797973  \n",
       "57                      0.885308                    0.751348  \n",
       "58                      0.839464                    0.769584  \n",
       "59                      0.808109                    0.874615  "
      ],
      "text/html": [
       "<div>\n",
       "<style scoped>\n",
       "    .dataframe tbody tr th:only-of-type {\n",
       "        vertical-align: middle;\n",
       "    }\n",
       "\n",
       "    .dataframe tbody tr th {\n",
       "        vertical-align: top;\n",
       "    }\n",
       "\n",
       "    .dataframe thead th {\n",
       "        text-align: right;\n",
       "    }\n",
       "</style>\n",
       "<table border=\"1\" class=\"dataframe\">\n",
       "  <thead>\n",
       "    <tr style=\"text-align: right;\">\n",
       "      <th></th>\n",
       "      <th>Question</th>\n",
       "      <th>model</th>\n",
       "      <th>similarity_response_question</th>\n",
       "      <th>similarity_response_answer</th>\n",
       "    </tr>\n",
       "  </thead>\n",
       "  <tbody>\n",
       "    <tr>\n",
       "      <th>0</th>\n",
       "      <td>How much has Norway's policy rate changed over...</td>\n",
       "      <td>llama2</td>\n",
       "      <td>0.860554</td>\n",
       "      <td>0.607631</td>\n",
       "    </tr>\n",
       "    <tr>\n",
       "      <th>1</th>\n",
       "      <td>How much has Norway's policy rate changed over...</td>\n",
       "      <td>nlp_base</td>\n",
       "      <td>0.682312</td>\n",
       "      <td>0.595814</td>\n",
       "    </tr>\n",
       "    <tr>\n",
       "      <th>2</th>\n",
       "      <td>How much has Norway's policy rate changed over...</td>\n",
       "      <td>nlp_langchain</td>\n",
       "      <td>0.667153</td>\n",
       "      <td>0.587528</td>\n",
       "    </tr>\n",
       "    <tr>\n",
       "      <th>3</th>\n",
       "      <td>How much has Norway's policy rate changed over...</td>\n",
       "      <td>openai</td>\n",
       "      <td>0.907887</td>\n",
       "      <td>0.744942</td>\n",
       "    </tr>\n",
       "    <tr>\n",
       "      <th>4</th>\n",
       "      <td>Is the shift to higher interest rates posing c...</td>\n",
       "      <td>nlp_base</td>\n",
       "      <td>0.754041</td>\n",
       "      <td>0.860071</td>\n",
       "    </tr>\n",
       "    <tr>\n",
       "      <th>5</th>\n",
       "      <td>Is the shift to higher interest rates posing c...</td>\n",
       "      <td>nlp_langchain</td>\n",
       "      <td>0.862293</td>\n",
       "      <td>0.923983</td>\n",
       "    </tr>\n",
       "    <tr>\n",
       "      <th>6</th>\n",
       "      <td>Is the shift to higher interest rates posing c...</td>\n",
       "      <td>openai</td>\n",
       "      <td>0.942232</td>\n",
       "      <td>0.884401</td>\n",
       "    </tr>\n",
       "    <tr>\n",
       "      <th>7</th>\n",
       "      <td>Is the shift to higher interest rates posing c...</td>\n",
       "      <td>llama2</td>\n",
       "      <td>0.880874</td>\n",
       "      <td>0.899823</td>\n",
       "    </tr>\n",
       "    <tr>\n",
       "      <th>8</th>\n",
       "      <td>Can small caps finally outperform?</td>\n",
       "      <td>nlp_base</td>\n",
       "      <td>0.668756</td>\n",
       "      <td>0.796996</td>\n",
       "    </tr>\n",
       "    <tr>\n",
       "      <th>9</th>\n",
       "      <td>Can small caps finally outperform?</td>\n",
       "      <td>nlp_langchain</td>\n",
       "      <td>0.987049</td>\n",
       "      <td>0.932814</td>\n",
       "    </tr>\n",
       "    <tr>\n",
       "      <th>10</th>\n",
       "      <td>Can small caps finally outperform?</td>\n",
       "      <td>openai</td>\n",
       "      <td>0.869487</td>\n",
       "      <td>0.980249</td>\n",
       "    </tr>\n",
       "    <tr>\n",
       "      <th>11</th>\n",
       "      <td>What is “normal” for private equity?</td>\n",
       "      <td>nlp_base</td>\n",
       "      <td>0.755375</td>\n",
       "      <td>0.792823</td>\n",
       "    </tr>\n",
       "    <tr>\n",
       "      <th>12</th>\n",
       "      <td>What is “normal” for private equity?</td>\n",
       "      <td>nlp_langchain</td>\n",
       "      <td>0.977426</td>\n",
       "      <td>0.954124</td>\n",
       "    </tr>\n",
       "    <tr>\n",
       "      <th>13</th>\n",
       "      <td>What is “normal” for private equity?</td>\n",
       "      <td>openai</td>\n",
       "      <td>0.897049</td>\n",
       "      <td>0.979982</td>\n",
       "    </tr>\n",
       "    <tr>\n",
       "      <th>14</th>\n",
       "      <td>Can small caps finally outperform?</td>\n",
       "      <td>llama2</td>\n",
       "      <td>0.796116</td>\n",
       "      <td>0.853054</td>\n",
       "    </tr>\n",
       "    <tr>\n",
       "      <th>15</th>\n",
       "      <td>What is the key takeaway of Goldman's mid-year...</td>\n",
       "      <td>nlp_base</td>\n",
       "      <td>0.761847</td>\n",
       "      <td>0.771109</td>\n",
       "    </tr>\n",
       "    <tr>\n",
       "      <th>16</th>\n",
       "      <td>What is the key takeaway of Goldman's mid-year...</td>\n",
       "      <td>nlp_langchain</td>\n",
       "      <td>0.851964</td>\n",
       "      <td>0.761870</td>\n",
       "    </tr>\n",
       "    <tr>\n",
       "      <th>17</th>\n",
       "      <td>What is the key takeaway of Goldman's mid-year...</td>\n",
       "      <td>openai</td>\n",
       "      <td>0.932946</td>\n",
       "      <td>0.858456</td>\n",
       "    </tr>\n",
       "    <tr>\n",
       "      <th>18</th>\n",
       "      <td>Are investment theses predicated on the contin...</td>\n",
       "      <td>nlp_base</td>\n",
       "      <td>0.728866</td>\n",
       "      <td>0.784294</td>\n",
       "    </tr>\n",
       "    <tr>\n",
       "      <th>19</th>\n",
       "      <td>Are investment theses predicated on the contin...</td>\n",
       "      <td>nlp_langchain</td>\n",
       "      <td>0.771549</td>\n",
       "      <td>0.846241</td>\n",
       "    </tr>\n",
       "    <tr>\n",
       "      <th>20</th>\n",
       "      <td>Are investment theses predicated on the contin...</td>\n",
       "      <td>openai</td>\n",
       "      <td>0.853754</td>\n",
       "      <td>0.927740</td>\n",
       "    </tr>\n",
       "    <tr>\n",
       "      <th>21</th>\n",
       "      <td>What is “normal” for private equity?</td>\n",
       "      <td>llama2</td>\n",
       "      <td>0.847603</td>\n",
       "      <td>0.876351</td>\n",
       "    </tr>\n",
       "    <tr>\n",
       "      <th>22</th>\n",
       "      <td>What might the US election mean for the Inflat...</td>\n",
       "      <td>nlp_base</td>\n",
       "      <td>0.727494</td>\n",
       "      <td>0.883164</td>\n",
       "    </tr>\n",
       "    <tr>\n",
       "      <th>23</th>\n",
       "      <td>What might the US election mean for the Inflat...</td>\n",
       "      <td>nlp_langchain</td>\n",
       "      <td>0.985066</td>\n",
       "      <td>0.948127</td>\n",
       "    </tr>\n",
       "    <tr>\n",
       "      <th>24</th>\n",
       "      <td>What might the US election mean for the Inflat...</td>\n",
       "      <td>openai</td>\n",
       "      <td>0.875159</td>\n",
       "      <td>0.999217</td>\n",
       "    </tr>\n",
       "    <tr>\n",
       "      <th>25</th>\n",
       "      <td>How should investors think about healthcare in...</td>\n",
       "      <td>nlp_base</td>\n",
       "      <td>0.784810</td>\n",
       "      <td>0.837326</td>\n",
       "    </tr>\n",
       "    <tr>\n",
       "      <th>26</th>\n",
       "      <td>How should investors think about healthcare in...</td>\n",
       "      <td>nlp_langchain</td>\n",
       "      <td>0.986092</td>\n",
       "      <td>0.928562</td>\n",
       "    </tr>\n",
       "    <tr>\n",
       "      <th>27</th>\n",
       "      <td>How should investors think about healthcare in...</td>\n",
       "      <td>openai</td>\n",
       "      <td>0.897368</td>\n",
       "      <td>0.972616</td>\n",
       "    </tr>\n",
       "    <tr>\n",
       "      <th>28</th>\n",
       "      <td>What is the key takeaway of Goldman's mid-year...</td>\n",
       "      <td>llama2</td>\n",
       "      <td>0.830780</td>\n",
       "      <td>0.712899</td>\n",
       "    </tr>\n",
       "    <tr>\n",
       "      <th>29</th>\n",
       "      <td>What are the potential market implications of ...</td>\n",
       "      <td>nlp_base</td>\n",
       "      <td>0.786234</td>\n",
       "      <td>0.790760</td>\n",
       "    </tr>\n",
       "    <tr>\n",
       "      <th>30</th>\n",
       "      <td>What are the potential market implications of ...</td>\n",
       "      <td>nlp_langchain</td>\n",
       "      <td>0.849552</td>\n",
       "      <td>0.842768</td>\n",
       "    </tr>\n",
       "    <tr>\n",
       "      <th>31</th>\n",
       "      <td>What are the potential market implications of ...</td>\n",
       "      <td>openai</td>\n",
       "      <td>0.905058</td>\n",
       "      <td>0.974119</td>\n",
       "    </tr>\n",
       "    <tr>\n",
       "      <th>32</th>\n",
       "      <td>How will AI shape real estate and infrastructure?</td>\n",
       "      <td>nlp_base</td>\n",
       "      <td>0.793148</td>\n",
       "      <td>0.838533</td>\n",
       "    </tr>\n",
       "    <tr>\n",
       "      <th>33</th>\n",
       "      <td>How will AI shape real estate and infrastructure?</td>\n",
       "      <td>nlp_langchain</td>\n",
       "      <td>0.992096</td>\n",
       "      <td>0.954506</td>\n",
       "    </tr>\n",
       "    <tr>\n",
       "      <th>34</th>\n",
       "      <td>How will AI shape real estate and infrastructure?</td>\n",
       "      <td>openai</td>\n",
       "      <td>0.903905</td>\n",
       "      <td>1.000000</td>\n",
       "    </tr>\n",
       "    <tr>\n",
       "      <th>35</th>\n",
       "      <td>Are investment theses predicated on the contin...</td>\n",
       "      <td>llama2</td>\n",
       "      <td>0.848791</td>\n",
       "      <td>0.814979</td>\n",
       "    </tr>\n",
       "    <tr>\n",
       "      <th>36</th>\n",
       "      <td>What opportunities are emerging at the interse...</td>\n",
       "      <td>nlp_base</td>\n",
       "      <td>0.716624</td>\n",
       "      <td>0.864104</td>\n",
       "    </tr>\n",
       "    <tr>\n",
       "      <th>37</th>\n",
       "      <td>What opportunities are emerging at the interse...</td>\n",
       "      <td>nlp_langchain</td>\n",
       "      <td>0.988087</td>\n",
       "      <td>0.924944</td>\n",
       "    </tr>\n",
       "    <tr>\n",
       "      <th>38</th>\n",
       "      <td>What opportunities are emerging at the interse...</td>\n",
       "      <td>openai</td>\n",
       "      <td>0.931189</td>\n",
       "      <td>0.970597</td>\n",
       "    </tr>\n",
       "    <tr>\n",
       "      <th>39</th>\n",
       "      <td>What events were attributed to spikes in the G...</td>\n",
       "      <td>nlp_base</td>\n",
       "      <td>0.765989</td>\n",
       "      <td>0.677817</td>\n",
       "    </tr>\n",
       "    <tr>\n",
       "      <th>40</th>\n",
       "      <td>What events were attributed to spikes in the G...</td>\n",
       "      <td>nlp_langchain</td>\n",
       "      <td>0.793705</td>\n",
       "      <td>0.643701</td>\n",
       "    </tr>\n",
       "    <tr>\n",
       "      <th>41</th>\n",
       "      <td>What events were attributed to spikes in the G...</td>\n",
       "      <td>openai</td>\n",
       "      <td>0.816564</td>\n",
       "      <td>0.930802</td>\n",
       "    </tr>\n",
       "    <tr>\n",
       "      <th>42</th>\n",
       "      <td>What might the US election mean for the Inflat...</td>\n",
       "      <td>llama2</td>\n",
       "      <td>0.817683</td>\n",
       "      <td>0.882307</td>\n",
       "    </tr>\n",
       "    <tr>\n",
       "      <th>43</th>\n",
       "      <td>What are current levels of US debt held by the...</td>\n",
       "      <td>nlp_base</td>\n",
       "      <td>0.836312</td>\n",
       "      <td>0.727578</td>\n",
       "    </tr>\n",
       "    <tr>\n",
       "      <th>44</th>\n",
       "      <td>What are current levels of US debt held by the...</td>\n",
       "      <td>nlp_langchain</td>\n",
       "      <td>0.851186</td>\n",
       "      <td>0.715065</td>\n",
       "    </tr>\n",
       "    <tr>\n",
       "      <th>45</th>\n",
       "      <td>What are current levels of US debt held by the...</td>\n",
       "      <td>openai</td>\n",
       "      <td>0.933328</td>\n",
       "      <td>0.939774</td>\n",
       "    </tr>\n",
       "    <tr>\n",
       "      <th>46</th>\n",
       "      <td>What was the lowest level of US debt held by t...</td>\n",
       "      <td>nlp_base</td>\n",
       "      <td>0.745069</td>\n",
       "      <td>0.750762</td>\n",
       "    </tr>\n",
       "    <tr>\n",
       "      <th>47</th>\n",
       "      <td>What was the lowest level of US debt held by t...</td>\n",
       "      <td>nlp_langchain</td>\n",
       "      <td>0.775806</td>\n",
       "      <td>0.760258</td>\n",
       "    </tr>\n",
       "    <tr>\n",
       "      <th>48</th>\n",
       "      <td>What was the lowest level of US debt held by t...</td>\n",
       "      <td>openai</td>\n",
       "      <td>0.931156</td>\n",
       "      <td>0.907134</td>\n",
       "    </tr>\n",
       "    <tr>\n",
       "      <th>49</th>\n",
       "      <td>How should investors think about healthcare in...</td>\n",
       "      <td>llama2</td>\n",
       "      <td>0.827672</td>\n",
       "      <td>0.924353</td>\n",
       "    </tr>\n",
       "    <tr>\n",
       "      <th>50</th>\n",
       "      <td>What happened in the first six months of 2024 ...</td>\n",
       "      <td>nlp_base</td>\n",
       "      <td>0.682883</td>\n",
       "      <td>0.812946</td>\n",
       "    </tr>\n",
       "    <tr>\n",
       "      <th>51</th>\n",
       "      <td>What happened in the first six months of 2024 ...</td>\n",
       "      <td>nlp_langchain</td>\n",
       "      <td>0.715810</td>\n",
       "      <td>0.752062</td>\n",
       "    </tr>\n",
       "    <tr>\n",
       "      <th>52</th>\n",
       "      <td>What happened in the first six months of 2024 ...</td>\n",
       "      <td>openai</td>\n",
       "      <td>0.886377</td>\n",
       "      <td>0.939928</td>\n",
       "    </tr>\n",
       "    <tr>\n",
       "      <th>53</th>\n",
       "      <td>What are the potential market implications of ...</td>\n",
       "      <td>llama2</td>\n",
       "      <td>0.915193</td>\n",
       "      <td>0.884455</td>\n",
       "    </tr>\n",
       "    <tr>\n",
       "      <th>54</th>\n",
       "      <td>How will AI shape real estate and infrastructure?</td>\n",
       "      <td>llama2</td>\n",
       "      <td>0.857155</td>\n",
       "      <td>0.932574</td>\n",
       "    </tr>\n",
       "    <tr>\n",
       "      <th>55</th>\n",
       "      <td>What opportunities are emerging at the interse...</td>\n",
       "      <td>llama2</td>\n",
       "      <td>0.838666</td>\n",
       "      <td>0.850416</td>\n",
       "    </tr>\n",
       "    <tr>\n",
       "      <th>56</th>\n",
       "      <td>What events were attributed to spikes in the G...</td>\n",
       "      <td>llama2</td>\n",
       "      <td>0.908404</td>\n",
       "      <td>0.797973</td>\n",
       "    </tr>\n",
       "    <tr>\n",
       "      <th>57</th>\n",
       "      <td>What are current levels of US debt held by the...</td>\n",
       "      <td>llama2</td>\n",
       "      <td>0.885308</td>\n",
       "      <td>0.751348</td>\n",
       "    </tr>\n",
       "    <tr>\n",
       "      <th>58</th>\n",
       "      <td>What was the lowest level of US debt held by t...</td>\n",
       "      <td>llama2</td>\n",
       "      <td>0.839464</td>\n",
       "      <td>0.769584</td>\n",
       "    </tr>\n",
       "    <tr>\n",
       "      <th>59</th>\n",
       "      <td>What happened in the first six months of 2024 ...</td>\n",
       "      <td>llama2</td>\n",
       "      <td>0.808109</td>\n",
       "      <td>0.874615</td>\n",
       "    </tr>\n",
       "  </tbody>\n",
       "</table>\n",
       "</div>"
      ]
     },
     "execution_count": 23,
     "metadata": {},
     "output_type": "execute_result"
    }
   ],
   "execution_count": 23
  },
  {
   "cell_type": "code",
   "metadata": {
    "ExecuteTime": {
     "end_time": "2024-10-01T14:51:14.213278Z",
     "start_time": "2024-10-01T14:51:13.973330Z"
    }
   },
   "source": [
    "plt.figure(figsize=(10, 6))\n",
    "sns.histplot(data=res, x='similarity_response_answer', hue='model', element='step', palette='Set2', bins=20, alpha = 0.5)\n",
    "\n",
    "plt.title('Histogram of Similarity Response Answer by Group')\n",
    "plt.xlabel('Similarity Response Answer')\n",
    "plt.ylabel('Count')\n",
    "plt.show()"
   ],
   "outputs": [
    {
     "data": {
      "text/plain": [
       "<Figure size 1000x600 with 1 Axes>"
      ],
      "image/png": "[encoded data removed]"
     },
     "metadata": {},
     "output_type": "display_data"
    }
   ],
   "execution_count": 34
  },
  {
   "metadata": {},
   "cell_type": "markdown",
   "source": "# Responses"
  },
  {
   "metadata": {},
   "cell_type": "markdown",
   "source": "Questions"
  },
  {
   "metadata": {
    "ExecuteTime": {
     "end_time": "2024-10-01T15:18:28.163637Z",
     "start_time": "2024-10-01T15:18:28.094016Z"
    }
   },
   "cell_type": "code",
   "source": [
    "q,a = questions.loc[1,['Question','Answer']]\n",
    "display(q,a)"
   ],
   "outputs": [
    {
     "data": {
      "text/plain": [
       "'Is the shift to higher interest rates posing challenges to bond issuers?'"
      ]
     },
     "metadata": {},
     "output_type": "display_data"
    },
    {
     "data": {
      "text/plain": [
       "'As we near the one-year mark since the Fed funds rate peaked, our analysis suggests the core financial health of the median US investmentgrade company remains robust. Interest coverage ratios, despite a downward trend, are still near or just below historical averages. Sustained economic and earnings growth may enable resilient companies to adjust to a higher rate environment. Higher rates may also encourage a more conservative approach to capital management among corporates, which could bolster credit metrics. While the shift to higher interest rates appears generally manageable, it does pose challenges for some. We believe navigating the new landscape of higher rates and structural shifts demand an active, fundamental approach to bond selection.'"
      ]
     },
     "metadata": {},
     "output_type": "display_data"
    }
   ],
   "execution_count": 57
  },
  {
   "metadata": {
    "ExecuteTime": {
     "end_time": "2024-10-01T15:18:35.913741Z",
     "start_time": "2024-10-01T15:18:33.116272Z"
    }
   },
   "cell_type": "code",
   "source": [
    "%%time\n",
    "response, score = openai.answer(q)\n",
    "print(response)"
   ],
   "outputs": [
    {
     "name": "stdout",
     "output_type": "stream",
     "text": [
      "The shift to higher interest rates appears generally manageable, but it does pose challenges for some bond issuers.\n"
     ]
    }
   ],
   "execution_count": 58
  },
  {
   "metadata": {
    "ExecuteTime": {
     "end_time": "2024-10-01T15:22:43.755249Z",
     "start_time": "2024-10-01T15:18:57.535163Z"
    }
   },
   "cell_type": "code",
   "source": [
    "%%time\n",
    "response, score = llama2.answer(q)\n",
    "print(response)"
   ],
   "outputs": [
    {
     "name": "stdout",
     "output_type": "stream",
     "text": [
      "Based on the provided context, the shift to higher interest rates is likely to pose challenges to some bond issuers, but not necessarily all. The Goldman Sachs Asset Management report highlights that while the core financial health of the median US investment-grade company remains robust, interest coverage ratios are downward trending and may be affected by higher interest rates. However, the report also suggests that sustained economic and earnings growth may enable resilient companies to adjust to a higher rate environment.\n",
      "\n",
      "Therefore, the answer to the query is: Yes, the shift to higher interest rates poses challenges to some bond issuers, but not all, as some companies may be able to adapt to the new interest rate environment.\n"
     ]
    }
   ],
   "execution_count": 59
  },
  {
   "metadata": {
    "ExecuteTime": {
     "end_time": "2024-10-01T15:23:04.561267Z",
     "start_time": "2024-10-01T15:23:04.500754Z"
    }
   },
   "cell_type": "code",
   "source": [
    "%%time\n",
    "response, score = nlp_base.answer(q)\n",
    "print(response)"
   ],
   "outputs": [
    {
     "name": "stdout",
     "output_type": "stream",
     "text": [
      "# MACROECONOMY: A LONGER PATH TO NORMALIZATION\n",
      "\n",
      "# Three Key Questions\n",
      "\n",
      "# 1. Is the shift to higher interest rates posing challenges to bond issuers?\n",
      "\n",
      "Our View: As we near the one-year mark since the Fed funds rate peaked, our analysis suggests the core financial health of the median US investment-grade company remains robust. Interest coverage ratios, despite a downward trend, are still near or just below historical averages. Sustained economic and earnings growth may enable resilient companies to adjust to a higher rate environment. Higher rates may also encourage a more conservative approach to capital management among corporates, which could bolster credit metrics. While the shift to higher interest rates appears generally manageable, it does pose challenges for some. We believe navigating the new landscape of higher rates and structural shifts demand an active, fundamental approach to bond selection.\n",
      "\n",
      "# 2. Can small caps finally outperform?\n",
      "\n",
      "Our View: We think small caps are a coiled spring amid an improving economic backdrop, with lower rates on the horizon across developed markets. US small caps have historically generated strong returns following the dissipation of extreme mega-cap concentration, as well as in US election years. In our view, the best way to access the asset class is to be differentiated with high active share to capture outsized opportunities for returns, and be selective, using a disciplined, fundamental approach to avoid unprofitable companies.\n",
      "\n",
      "# 3. What is “normal” for private equity?\n",
      "\n",
      "Our View: Some private equity investors are questioning what a “normal” environment will look like going forward. While the breakneck pace of activity in 2021/22 was likely an anomaly, fueled by historically low rates and easy access to capital, a prolonged return to pre-pandemic trendlines might not be the most likely path forward either. Evergreen structures, combined with the rise of continuation vehicles, are enabling longer hold times for assets. These developments suggest that the size, scope, and nature of deals is likely to continue evolving, defying attempts to define “normal.”\n",
      "\n",
      "Goldman Sachs Asset Management\n",
      "\n",
      "Asset Management Outlook 2024 | 7\n",
      "CPU times: total: 46.9 ms\n",
      "Wall time: 25 ms\n"
     ]
    }
   ],
   "execution_count": 60
  },
  {
   "metadata": {
    "ExecuteTime": {
     "end_time": "2024-10-01T15:23:10.698456Z",
     "start_time": "2024-10-01T15:23:10.645008Z"
    }
   },
   "cell_type": "code",
   "source": [
    "%%time\n",
    "response, score = nlp_langchain.answer(q)\n",
    "print(response)"
   ],
   "outputs": [
    {
     "name": "stdout",
     "output_type": "stream",
     "text": [
      "# MACROECONOMY: A LONGER PATH TO NORMALIZATION\n",
      "\n",
      "# Three Key Questions\n",
      "\n",
      "# 1. Is the shift to higher interest rates posing challenges to bond issuers?\n",
      "\n",
      "\n",
      "\n",
      "Our View: As we near the one-year mark since the Fed funds rate peaked, our analysis suggests the core financial health of the median US investment-grade company remains robust. Interest coverage ratios, despite a downward trend, are still near or just below historical averages. Sustained economic and earnings growth may enable resilient companies to adjust to a higher rate environment. Higher rates may also encourage a more conservative approach to capital management among corporates, which could bolster credit metrics. While the shift to higher interest rates appears generally manageable, it does pose challenges for some. We believe navigating the new landscape of higher rates and structural shifts demand an active, fundamental approach to bond selection.\n",
      "\n",
      "# 2. Can small caps finally outperform?\n",
      "CPU times: total: 46.9 ms\n",
      "Wall time: 39.1 ms\n"
     ]
    }
   ],
   "execution_count": 61
  },
  {
   "metadata": {},
   "cell_type": "markdown",
   "source": "Question 2"
  },
  {
   "metadata": {
    "ExecuteTime": {
     "end_time": "2024-10-01T15:23:43.043588Z",
     "start_time": "2024-10-01T15:23:43.029180Z"
    }
   },
   "cell_type": "code",
   "source": [
    "q,a = questions.loc[4,['Question','Answer']]\n",
    "display(q,a)"
   ],
   "outputs": [
    {
     "data": {
      "text/plain": [
       "\"What is the key takeaway of Goldman's mid-year outlook 2024?\""
      ]
     },
     "metadata": {},
     "output_type": "display_data"
    },
    {
     "data": {
      "text/plain": [
       "'1. Macroeconomy: A Longer Path to Normalization; 2. Geopolitics and Elections: Roadmaps for Resilience; 3. Tailwinds and Headwinds: Investing in Megatrends'"
      ]
     },
     "metadata": {},
     "output_type": "display_data"
    }
   ],
   "execution_count": 62
  },
  {
   "metadata": {
    "ExecuteTime": {
     "end_time": "2024-10-01T15:24:01.047061Z",
     "start_time": "2024-10-01T15:23:58.781595Z"
    }
   },
   "cell_type": "code",
   "source": [
    "%%time\n",
    "response, score = openai.answer(q)\n",
    "print(response)"
   ],
   "outputs": [
    {
     "name": "stdout",
     "output_type": "stream",
     "text": [
      "The key takeaway of Goldman's mid-year outlook 2024 is the importance of active and dynamic investment strategies in response to evolving macroeconomic conditions, geopolitical risks, and the acceleration of secular megatrends shaping economies and industries.\n",
      "CPU times: total: 31.2 ms\n",
      "Wall time: 2.24 s\n"
     ]
    }
   ],
   "execution_count": 63
  },
  {
   "metadata": {
    "ExecuteTime": {
     "end_time": "2024-10-01T15:26:30.555072Z",
     "start_time": "2024-10-01T15:25:11.162101Z"
    }
   },
   "cell_type": "code",
   "source": [
    "%%time\n",
    "response, score = llama2.answer(q)\n",
    "print(response)"
   ],
   "outputs": [
    {
     "name": "stdout",
     "output_type": "stream",
     "text": [
      "The key takeaway of Goldman Sachs' Mid-Year Outlook 2024 is that the path to normalization in the macroeconomy is likely to be longer than previously anticipated.\n",
      "CPU times: total: 203 ms\n",
      "Wall time: 1min 19s\n"
     ]
    }
   ],
   "execution_count": 64
  },
  {
   "metadata": {
    "ExecuteTime": {
     "end_time": "2024-10-01T15:27:04.985899Z",
     "start_time": "2024-10-01T15:27:04.950710Z"
    }
   },
   "cell_type": "code",
   "source": [
    "%%time\n",
    "response, score = nlp_base.answer(q)\n",
    "print(response)"
   ],
   "outputs": [
    {
     "name": "stdout",
     "output_type": "stream",
     "text": [
      "# Asset Management\n",
      "\n",
      "# MID-YEAR OUTLOOK 2024\n",
      "\n",
      "# KEY THEMES\n",
      "\n",
      "# Macroeconomy:\n",
      "\n",
      "A Longer Path to Normalization\n",
      "\n",
      "# Geopolitics and Elections:\n",
      "\n",
      "Roadmaps for Resilience\n",
      "\n",
      "# Tailwinds and Headwinds:\n",
      "\n",
      "Investing in Megatrends\n",
      "\n",
      "This financial promotion is provided by Goldman Sachs Asset Management B.V.\n",
      "CPU times: total: 46.9 ms\n",
      "Wall time: 24.6 ms\n"
     ]
    }
   ],
   "execution_count": 65
  },
  {
   "metadata": {
    "ExecuteTime": {
     "end_time": "2024-10-01T15:27:09.026424Z",
     "start_time": "2024-10-01T15:27:08.984388Z"
    }
   },
   "cell_type": "code",
   "source": [
    "%%time\n",
    "response, score = nlp_langchain.answer(q)\n",
    "print(response)"
   ],
   "outputs": [
    {
     "name": "stdout",
     "output_type": "stream",
     "text": [
      "Goldman Sachs Asset Management\n",
      "\n",
      "Asset Management Outlook 2024 | 11\n",
      "\n",
      "# TAILWINDS AND HEADWINDS:\n",
      "\n",
      "# INVESTING IN MEGATRENDS\n",
      "\n",
      "\n",
      "\n",
      "Beyond the near-term path of inflation, rates, and election results, we remain focused on longer-term paradigm shifts, including five key structural forces: decarbonization, digitization, deglobalization, destabilization in geopolitics, and demographic aging. Active investment strategies, a focus on diversification and risk management may become increasingly important to help navigate these contours and deliver alpha. Investors who stay in their silos and focus on a single theme may miss out on opportunities and underestimate risks.\n",
      "CPU times: total: 78.1 ms\n",
      "Wall time: 28.5 ms\n"
     ]
    }
   ],
   "execution_count": 66
  },
  {
   "metadata": {},
   "cell_type": "code",
   "outputs": [],
   "execution_count": null,
   "source": ""
  }
 ],
 "metadata": {
  "kernelspec": {
   "display_name": "capstone",
   "language": "python",
   "name": "python3"
  },
  "language_info": {
   "codemirror_mode": {
    "name": "ipython",
    "version": 3
   },
   "file_extension": ".py",
   "mimetype": "text/x-python",
   "name": "python",
   "nbconvert_exporter": "python",
   "pygments_lexer": "ipython3",
   "version": "3.11.9"
  }
 },
 "nbformat": 4,
 "nbformat_minor": 2
}
