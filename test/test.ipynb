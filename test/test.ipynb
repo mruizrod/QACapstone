{
 "cells": [
  {
   "cell_type": "code",
   "execution_count": 21,
   "metadata": {
    "ExecuteTime": {
     "end_time": "2024-10-01T14:47:20.784809Z",
     "start_time": "2024-10-01T14:47:20.604526Z"
    }
   },
   "outputs": [],
   "source": [
    "import sys\n",
    "sys.path.append(\"../\")\n",
    "sys.path.append(\"../src\")\n",
    "from tqdm import tqdm, trange\n",
    "import numpy as np\n",
    "import pandas as pd\n",
    "import matplotlib.pyplot as plt\n",
    "import seaborn as sns\n",
    "from sklearn.metrics.pairwise import cosine_similarity"
   ]
  },
  {
   "cell_type": "markdown",
   "metadata": {},
   "source": [
    "# Load Models"
   ]
  },
  {
   "cell_type": "code",
   "execution_count": 2,
   "metadata": {
    "ExecuteTime": {
     "end_time": "2024-10-01T12:53:18.112332Z",
     "start_time": "2024-10-01T12:53:00.091790Z"
    }
   },
   "outputs": [],
   "source": [
    "from src.llama2 import Llama2\n",
    "from src.nlp_base import NLP_base\n",
    "from src.nlp_langchain import NLP_langchain\n",
    "from src.openai import OpenAI"
   ]
  },
  {
   "cell_type": "markdown",
   "metadata": {},
   "source": [
    "openai"
   ]
  },
  {
   "cell_type": "code",
   "execution_count": 3,
   "metadata": {
    "ExecuteTime": {
     "end_time": "2024-10-01T12:53:36.930465Z",
     "start_time": "2024-10-01T12:53:18.125672Z"
    }
   },
   "outputs": [],
   "source": [
    "openai = OpenAI(\n",
    "    input_files=[\"../data/pdf/am-mid-year-outlook-2024.pdf\"],\n",
    "    verbose=False, \n",
    "); openai.train()"
   ]
  },
  {
   "cell_type": "markdown",
   "metadata": {},
   "source": [
    "llama2"
   ]
  },
  {
   "cell_type": "code",
   "execution_count": 4,
   "metadata": {
    "ExecuteTime": {
     "end_time": "2024-10-01T12:53:55.484206Z",
     "start_time": "2024-10-01T12:53:37.023090Z"
    }
   },
   "outputs": [],
   "source": [
    "llama2 = Llama2(\n",
    "    input_files=[\"../data/pdf/am-mid-year-outlook-2024.pdf\"],\n",
    "    verbose=False,\n",
    "); llama2.train()"
   ]
  },
  {
   "cell_type": "markdown",
   "metadata": {},
   "source": [
    "nlp-base"
   ]
  },
  {
   "cell_type": "code",
   "execution_count": 5,
   "metadata": {
    "ExecuteTime": {
     "end_time": "2024-10-01T12:54:09.140080Z",
     "start_time": "2024-10-01T12:53:55.561142Z"
    }
   },
   "outputs": [],
   "source": [
    "nlp_base = NLP_base(\n",
    "    input_files=[\"../data/pdf/am-mid-year-outlook-2024.pdf\"],\n",
    "    verbose=False,\n",
    "); nlp_base.train()"
   ]
  },
  {
   "cell_type": "markdown",
   "metadata": {},
   "source": [
    "nlp-langchain"
   ]
  },
  {
   "cell_type": "code",
   "execution_count": 6,
   "metadata": {
    "ExecuteTime": {
     "end_time": "2024-10-01T12:54:23.801457Z",
     "start_time": "2024-10-01T12:54:09.169959Z"
    }
   },
   "outputs": [],
   "source": [
    "nlp_langchain = NLP_langchain(\n",
    "    input_files=[\"../data/pdf/am-mid-year-outlook-2024.pdf\"],\n",
    "    verbose=False,\n",
    "); nlp_langchain.train()"
   ]
  },
  {
   "cell_type": "markdown",
   "metadata": {},
   "source": [
    "# load Manual Labeled Data"
   ]
  },
  {
   "cell_type": "code",
   "execution_count": 7,
   "metadata": {
    "ExecuteTime": {
     "end_time": "2024-10-01T12:54:23.847252Z",
     "start_time": "2024-10-01T12:54:23.802972Z"
    }
   },
   "outputs": [],
   "source": [
    "questions = pd.read_csv(\"../data/testQ.csv\")"
   ]
  },
  {
   "cell_type": "code",
   "execution_count": null,
   "metadata": {},
   "outputs": [],
   "source": [
    "def test_model(model):\n",
    "    sim_q_r, sim_a_r = [], []\n",
    "    iterator = questions[[\"Question\", \"Answer\"]].to_records(index=False)\n",
    "    for q, a in tqdm(iterator):\n",
    "        scores_q, scores_a = [], []\n",
    "        for _ in range(10):\n",
    "            response, score = model.answer(q)\n",
    "            scores_q.append(score)\n",
    "            scores_a.append(cosine_similarity(\n",
    "                [model.embed_model._embed(a)], \n",
    "                [model.embed_model._embed(str(response))],\n",
    "            )[0][0])\n",
    "        sim_q_r.append(np.mean(scores_q))\n",
    "        sim_a_r.append(np.mean(scores_a))\n",
    "    res = questions[[\"Question\"]].copy()\n",
    "    res[\"similarity_response_question\"] = sim_q_r\n",
    "    res[\"similarity_response_answer\"] = sim_a_r\n",
    "    return res"
   ]
  },
  {
   "cell_type": "code",
   "execution_count": 9,
   "metadata": {
    "ExecuteTime": {
     "end_time": "2024-10-01T13:15:25.036018Z",
     "start_time": "2024-10-01T13:15:25.026846Z"
    }
   },
   "outputs": [],
   "source": [
    "# res_openai = test_model(openai)\n",
    "# res_openai[\"model\"] = \"openai\"\n",
    "#* to save API usage\n",
    "res_openai = pd.read_csv(\"./test_results.csv\")[lambda x: x.model == \"openai\"]\n",
    "\n",
    "res_llama2 = test_model(llama2)\n",
    "res_llama2[\"model\"] = \"llama2\"\n",
    "\n",
    "res_nlp_base = test_model(nlp_base)\n",
    "res_nlp_base[\"model\"] = \"nlp_base\"\n",
    "\n",
    "res_nlp_langchain = test_model(nlp_langchain)\n",
    "res_nlp_langchain[\"model\"] = \"nlp_langchain\""
   ]
  },
  {
   "cell_type": "code",
   "execution_count": 10,
   "metadata": {
    "ExecuteTime": {
     "end_time": "2024-10-01T14:34:45.787951300Z",
     "start_time": "2024-10-01T13:15:28.482559Z"
    },
    "jupyter": {
     "is_executing": true
    }
   },
   "outputs": [
    {
     "name": "stderr",
     "output_type": "stream",
     "text": [
      "100%|██████████| 15/15 [22:06<00:00, 88.43s/it] \n"
     ]
    }
   ],
   "source": [
    "sim_q_r, sim_a_r = [], []\n",
    "iterator = questions[[\"Question\", \"Answer\"]].to_records(index=False)\n",
    "for q, a in tqdm(iterator):\n",
    "    scores_q, scores_a = [], []\n",
    "    for _ in range(10):\n",
    "        response, score = llama2.answer(q)\n",
    "        scores_q.append(score)\n",
    "        scores_a.append(cosine_similarity(\n",
    "            [llama2.embed_model._embed(a)], \n",
    "            [llama2.embed_model._embed(str(response))],\n",
    "        )[0][0])\n",
    "    sim_q_r.append(np.mean(scores_q))\n",
    "    sim_a_r.append(np.mean(scores_a))"
   ]
  },
  {
   "cell_type": "code",
   "execution_count": 11,
   "metadata": {},
   "outputs": [],
   "source": [
    "res_llama2 = questions[[\"Question\"]].copy()\n",
    "res_llama2[\"model\"] = \"llama2\"\n",
    "res_llama2[\"similarity_response_question\"] = sim_q_r\n",
    "res_llama2[\"similarity_response_answer\"] = sim_a_r"
   ]
  },
  {
   "cell_type": "code",
   "execution_count": 12,
   "metadata": {
    "ExecuteTime": {
     "end_time": "2024-10-01T14:35:53.724231Z",
     "start_time": "2024-10-01T14:35:03.416017Z"
    }
   },
   "outputs": [
    {
     "name": "stderr",
     "output_type": "stream",
     "text": [
      "100%|██████████| 15/15 [00:10<00:00,  1.37it/s]\n"
     ]
    }
   ],
   "source": [
    "sim_q_r, sim_a_r = [], []\n",
    "iterator = questions[[\"Question\", \"Answer\"]].to_records(index=False)\n",
    "for q, a in tqdm(iterator):\n",
    "    scores_q, scores_a = [], []\n",
    "    for _ in range(10):\n",
    "        response, score = nlp_base.answer(q)\n",
    "        scores_q.append(score)\n",
    "        scores_a.append(cosine_similarity(\n",
    "            [nlp_base.embed_model._embed(a)], \n",
    "            [nlp_base.embed_model._embed(str(response))],\n",
    "        )[0][0])\n",
    "    sim_q_r.append(np.mean(scores_q))\n",
    "    sim_a_r.append(np.mean(scores_a))"
   ]
  },
  {
   "cell_type": "code",
   "execution_count": 13,
   "metadata": {
    "ExecuteTime": {
     "end_time": "2024-10-01T14:35:55.130966Z",
     "start_time": "2024-10-01T14:35:55.107954Z"
    }
   },
   "outputs": [],
   "source": [
    "res_nlp_base = questions[[\"Question\"]].copy()\n",
    "res_nlp_base[\"model\"] = \"nlp_base\"\n",
    "res_nlp_base[\"similarity_response_question\"] = sim_q_r\n",
    "res_nlp_base[\"similarity_response_answer\"] = sim_a_r"
   ]
  },
  {
   "cell_type": "code",
   "execution_count": 14,
   "metadata": {
    "ExecuteTime": {
     "end_time": "2024-10-01T14:36:16.568523Z",
     "start_time": "2024-10-01T14:35:58.126089Z"
    }
   },
   "outputs": [
    {
     "name": "stderr",
     "output_type": "stream",
     "text": [
      "100%|██████████| 15/15 [00:18<00:00,  1.21s/it]\n"
     ]
    }
   ],
   "source": [
    "sim_q_r, sim_a_r = [], []\n",
    "iterator = questions[[\"Question\", \"Answer\"]].to_records(index=False)\n",
    "for q, a in tqdm(iterator):\n",
    "    scores_q, scores_a = [], []\n",
    "    for _ in range(10):\n",
    "        response, score = nlp_langchain.answer(q)\n",
    "        scores_q.append(score)\n",
    "        scores_a.append(cosine_similarity(\n",
    "            [nlp_langchain.embed_model._embed(a)], \n",
    "            [nlp_langchain.embed_model._embed(str(response))],\n",
    "        )[0][0])\n",
    "    sim_q_r.append(np.mean(scores_q))\n",
    "    sim_a_r.append(np.mean(scores_a))"
   ]
  },
  {
   "cell_type": "code",
   "execution_count": 15,
   "metadata": {
    "ExecuteTime": {
     "end_time": "2024-10-01T14:36:17.655117Z",
     "start_time": "2024-10-01T14:36:17.645985Z"
    }
   },
   "outputs": [],
   "source": [
    "res_nlp_langchain = questions[[\"Question\"]].copy()\n",
    "res_nlp_langchain[\"model\"] = \"nlp_langchain\"\n",
    "res_nlp_langchain[\"similarity_response_question\"] = sim_q_r\n",
    "res_nlp_langchain[\"similarity_response_answer\"] = sim_a_r"
   ]
  },
  {
   "cell_type": "markdown",
   "metadata": {},
   "source": [
    "merge and save results"
   ]
  },
  {
   "cell_type": "code",
   "execution_count": 33,
   "metadata": {
    "ExecuteTime": {
     "end_time": "2024-10-01T14:38:25.940589Z",
     "start_time": "2024-10-01T14:38:25.827752Z"
    }
   },
   "outputs": [],
   "source": [
    "res = pd.concat([res_openai, res_llama2, res_nlp_base, res_nlp_langchain])\n",
    "res.sort_values([\"Question\", \"model\"], inplace=True, ignore_index=True)\n",
    "res.to_csv(\"./test_results.csv\", index=False)"
   ]
  },
  {
   "cell_type": "markdown",
   "metadata": {},
   "source": [
    "Interpretation of Columns\n",
    "- `similarity_response_answer`: cosine similarity between response and manually labeled answer\n",
    "- `similarity_response_question`: cosine similarity between response and input question"
   ]
  },
  {
   "cell_type": "code",
   "execution_count": 34,
   "metadata": {
    "ExecuteTime": {
     "end_time": "2024-10-01T14:38:28.382423Z",
     "start_time": "2024-10-01T14:38:28.364465Z"
    }
   },
   "outputs": [
    {
     "data": {
      "text/html": [
       "<div>\n",
       "<style scoped>\n",
       "    .dataframe tbody tr th:only-of-type {\n",
       "        vertical-align: middle;\n",
       "    }\n",
       "\n",
       "    .dataframe tbody tr th {\n",
       "        vertical-align: top;\n",
       "    }\n",
       "\n",
       "    .dataframe thead th {\n",
       "        text-align: right;\n",
       "    }\n",
       "</style>\n",
       "<table border=\"1\" class=\"dataframe\">\n",
       "  <thead>\n",
       "    <tr style=\"text-align: right;\">\n",
       "      <th></th>\n",
       "      <th>Question</th>\n",
       "      <th>model</th>\n",
       "      <th>similarity_response_question</th>\n",
       "      <th>similarity_response_answer</th>\n",
       "    </tr>\n",
       "  </thead>\n",
       "  <tbody>\n",
       "    <tr>\n",
       "      <th>0</th>\n",
       "      <td>Are investment theses predicated on the contin...</td>\n",
       "      <td>llama2</td>\n",
       "      <td>0.851949</td>\n",
       "      <td>0.845337</td>\n",
       "    </tr>\n",
       "    <tr>\n",
       "      <th>1</th>\n",
       "      <td>Are investment theses predicated on the contin...</td>\n",
       "      <td>nlp_base</td>\n",
       "      <td>0.728865</td>\n",
       "      <td>0.784294</td>\n",
       "    </tr>\n",
       "    <tr>\n",
       "      <th>2</th>\n",
       "      <td>Are investment theses predicated on the contin...</td>\n",
       "      <td>nlp_langchain</td>\n",
       "      <td>0.771549</td>\n",
       "      <td>0.846241</td>\n",
       "    </tr>\n",
       "    <tr>\n",
       "      <th>3</th>\n",
       "      <td>Are investment theses predicated on the contin...</td>\n",
       "      <td>openai</td>\n",
       "      <td>0.887849</td>\n",
       "      <td>0.931011</td>\n",
       "    </tr>\n",
       "    <tr>\n",
       "      <th>4</th>\n",
       "      <td>Can small caps finally outperform?</td>\n",
       "      <td>llama2</td>\n",
       "      <td>0.792853</td>\n",
       "      <td>0.859005</td>\n",
       "    </tr>\n",
       "    <tr>\n",
       "      <th>5</th>\n",
       "      <td>Can small caps finally outperform?</td>\n",
       "      <td>nlp_base</td>\n",
       "      <td>0.668756</td>\n",
       "      <td>0.796996</td>\n",
       "    </tr>\n",
       "    <tr>\n",
       "      <th>6</th>\n",
       "      <td>Can small caps finally outperform?</td>\n",
       "      <td>nlp_langchain</td>\n",
       "      <td>0.987049</td>\n",
       "      <td>0.932814</td>\n",
       "    </tr>\n",
       "    <tr>\n",
       "      <th>7</th>\n",
       "      <td>Can small caps finally outperform?</td>\n",
       "      <td>openai</td>\n",
       "      <td>0.870086</td>\n",
       "      <td>0.982273</td>\n",
       "    </tr>\n",
       "    <tr>\n",
       "      <th>8</th>\n",
       "      <td>How much has Norway's policy rate changed over...</td>\n",
       "      <td>llama2</td>\n",
       "      <td>0.851271</td>\n",
       "      <td>0.602817</td>\n",
       "    </tr>\n",
       "    <tr>\n",
       "      <th>9</th>\n",
       "      <td>How much has Norway's policy rate changed over...</td>\n",
       "      <td>nlp_base</td>\n",
       "      <td>0.682312</td>\n",
       "      <td>0.595814</td>\n",
       "    </tr>\n",
       "    <tr>\n",
       "      <th>10</th>\n",
       "      <td>How much has Norway's policy rate changed over...</td>\n",
       "      <td>nlp_langchain</td>\n",
       "      <td>0.667153</td>\n",
       "      <td>0.587528</td>\n",
       "    </tr>\n",
       "    <tr>\n",
       "      <th>11</th>\n",
       "      <td>How much has Norway's policy rate changed over...</td>\n",
       "      <td>openai</td>\n",
       "      <td>0.910961</td>\n",
       "      <td>0.744889</td>\n",
       "    </tr>\n",
       "    <tr>\n",
       "      <th>12</th>\n",
       "      <td>How should investors think about healthcare in...</td>\n",
       "      <td>llama2</td>\n",
       "      <td>0.827290</td>\n",
       "      <td>0.940358</td>\n",
       "    </tr>\n",
       "    <tr>\n",
       "      <th>13</th>\n",
       "      <td>How should investors think about healthcare in...</td>\n",
       "      <td>nlp_base</td>\n",
       "      <td>0.784810</td>\n",
       "      <td>0.837326</td>\n",
       "    </tr>\n",
       "    <tr>\n",
       "      <th>14</th>\n",
       "      <td>How should investors think about healthcare in...</td>\n",
       "      <td>nlp_langchain</td>\n",
       "      <td>0.986092</td>\n",
       "      <td>0.928562</td>\n",
       "    </tr>\n",
       "    <tr>\n",
       "      <th>15</th>\n",
       "      <td>How should investors think about healthcare in...</td>\n",
       "      <td>openai</td>\n",
       "      <td>0.892518</td>\n",
       "      <td>0.968349</td>\n",
       "    </tr>\n",
       "    <tr>\n",
       "      <th>16</th>\n",
       "      <td>How will AI shape real estate and infrastructure?</td>\n",
       "      <td>llama2</td>\n",
       "      <td>0.845419</td>\n",
       "      <td>0.923321</td>\n",
       "    </tr>\n",
       "    <tr>\n",
       "      <th>17</th>\n",
       "      <td>How will AI shape real estate and infrastructure?</td>\n",
       "      <td>nlp_base</td>\n",
       "      <td>0.793148</td>\n",
       "      <td>0.838533</td>\n",
       "    </tr>\n",
       "    <tr>\n",
       "      <th>18</th>\n",
       "      <td>How will AI shape real estate and infrastructure?</td>\n",
       "      <td>nlp_langchain</td>\n",
       "      <td>0.992096</td>\n",
       "      <td>0.954506</td>\n",
       "    </tr>\n",
       "    <tr>\n",
       "      <th>19</th>\n",
       "      <td>How will AI shape real estate and infrastructure?</td>\n",
       "      <td>openai</td>\n",
       "      <td>0.903909</td>\n",
       "      <td>1.000000</td>\n",
       "    </tr>\n",
       "    <tr>\n",
       "      <th>20</th>\n",
       "      <td>Is the shift to higher interest rates posing c...</td>\n",
       "      <td>llama2</td>\n",
       "      <td>0.884830</td>\n",
       "      <td>0.895594</td>\n",
       "    </tr>\n",
       "    <tr>\n",
       "      <th>21</th>\n",
       "      <td>Is the shift to higher interest rates posing c...</td>\n",
       "      <td>nlp_base</td>\n",
       "      <td>0.754041</td>\n",
       "      <td>0.860071</td>\n",
       "    </tr>\n",
       "    <tr>\n",
       "      <th>22</th>\n",
       "      <td>Is the shift to higher interest rates posing c...</td>\n",
       "      <td>nlp_langchain</td>\n",
       "      <td>0.862293</td>\n",
       "      <td>0.923983</td>\n",
       "    </tr>\n",
       "    <tr>\n",
       "      <th>23</th>\n",
       "      <td>Is the shift to higher interest rates posing c...</td>\n",
       "      <td>openai</td>\n",
       "      <td>0.942232</td>\n",
       "      <td>0.884394</td>\n",
       "    </tr>\n",
       "    <tr>\n",
       "      <th>24</th>\n",
       "      <td>What are current levels of US debt held by the...</td>\n",
       "      <td>llama2</td>\n",
       "      <td>0.884231</td>\n",
       "      <td>0.749678</td>\n",
       "    </tr>\n",
       "    <tr>\n",
       "      <th>25</th>\n",
       "      <td>What are current levels of US debt held by the...</td>\n",
       "      <td>nlp_base</td>\n",
       "      <td>0.836312</td>\n",
       "      <td>0.727579</td>\n",
       "    </tr>\n",
       "    <tr>\n",
       "      <th>26</th>\n",
       "      <td>What are current levels of US debt held by the...</td>\n",
       "      <td>nlp_langchain</td>\n",
       "      <td>0.851186</td>\n",
       "      <td>0.715065</td>\n",
       "    </tr>\n",
       "    <tr>\n",
       "      <th>27</th>\n",
       "      <td>What are current levels of US debt held by the...</td>\n",
       "      <td>openai</td>\n",
       "      <td>0.931672</td>\n",
       "      <td>0.939056</td>\n",
       "    </tr>\n",
       "    <tr>\n",
       "      <th>28</th>\n",
       "      <td>What are the potential market implications of ...</td>\n",
       "      <td>llama2</td>\n",
       "      <td>0.919623</td>\n",
       "      <td>0.883785</td>\n",
       "    </tr>\n",
       "    <tr>\n",
       "      <th>29</th>\n",
       "      <td>What are the potential market implications of ...</td>\n",
       "      <td>nlp_base</td>\n",
       "      <td>0.786234</td>\n",
       "      <td>0.790760</td>\n",
       "    </tr>\n",
       "    <tr>\n",
       "      <th>30</th>\n",
       "      <td>What are the potential market implications of ...</td>\n",
       "      <td>nlp_langchain</td>\n",
       "      <td>0.849552</td>\n",
       "      <td>0.842768</td>\n",
       "    </tr>\n",
       "    <tr>\n",
       "      <th>31</th>\n",
       "      <td>What are the potential market implications of ...</td>\n",
       "      <td>openai</td>\n",
       "      <td>0.905058</td>\n",
       "      <td>0.974119</td>\n",
       "    </tr>\n",
       "    <tr>\n",
       "      <th>32</th>\n",
       "      <td>What events were attributed to spikes in the G...</td>\n",
       "      <td>llama2</td>\n",
       "      <td>0.915518</td>\n",
       "      <td>0.786207</td>\n",
       "    </tr>\n",
       "    <tr>\n",
       "      <th>33</th>\n",
       "      <td>What events were attributed to spikes in the G...</td>\n",
       "      <td>nlp_base</td>\n",
       "      <td>0.765989</td>\n",
       "      <td>0.677817</td>\n",
       "    </tr>\n",
       "    <tr>\n",
       "      <th>34</th>\n",
       "      <td>What events were attributed to spikes in the G...</td>\n",
       "      <td>nlp_langchain</td>\n",
       "      <td>0.793705</td>\n",
       "      <td>0.643701</td>\n",
       "    </tr>\n",
       "    <tr>\n",
       "      <th>35</th>\n",
       "      <td>What events were attributed to spikes in the G...</td>\n",
       "      <td>openai</td>\n",
       "      <td>0.862332</td>\n",
       "      <td>0.914763</td>\n",
       "    </tr>\n",
       "    <tr>\n",
       "      <th>36</th>\n",
       "      <td>What happened in the first six months of 2024 ...</td>\n",
       "      <td>llama2</td>\n",
       "      <td>0.809249</td>\n",
       "      <td>0.869563</td>\n",
       "    </tr>\n",
       "    <tr>\n",
       "      <th>37</th>\n",
       "      <td>What happened in the first six months of 2024 ...</td>\n",
       "      <td>nlp_base</td>\n",
       "      <td>0.682883</td>\n",
       "      <td>0.812946</td>\n",
       "    </tr>\n",
       "    <tr>\n",
       "      <th>38</th>\n",
       "      <td>What happened in the first six months of 2024 ...</td>\n",
       "      <td>nlp_langchain</td>\n",
       "      <td>0.715810</td>\n",
       "      <td>0.752062</td>\n",
       "    </tr>\n",
       "    <tr>\n",
       "      <th>39</th>\n",
       "      <td>What happened in the first six months of 2024 ...</td>\n",
       "      <td>openai</td>\n",
       "      <td>0.899247</td>\n",
       "      <td>0.937949</td>\n",
       "    </tr>\n",
       "    <tr>\n",
       "      <th>40</th>\n",
       "      <td>What is the key takeaway of Goldman's mid-year...</td>\n",
       "      <td>llama2</td>\n",
       "      <td>0.837640</td>\n",
       "      <td>0.740974</td>\n",
       "    </tr>\n",
       "    <tr>\n",
       "      <th>41</th>\n",
       "      <td>What is the key takeaway of Goldman's mid-year...</td>\n",
       "      <td>nlp_base</td>\n",
       "      <td>0.761847</td>\n",
       "      <td>0.771109</td>\n",
       "    </tr>\n",
       "    <tr>\n",
       "      <th>42</th>\n",
       "      <td>What is the key takeaway of Goldman's mid-year...</td>\n",
       "      <td>nlp_langchain</td>\n",
       "      <td>0.851964</td>\n",
       "      <td>0.761870</td>\n",
       "    </tr>\n",
       "    <tr>\n",
       "      <th>43</th>\n",
       "      <td>What is the key takeaway of Goldman's mid-year...</td>\n",
       "      <td>openai</td>\n",
       "      <td>0.932711</td>\n",
       "      <td>0.858198</td>\n",
       "    </tr>\n",
       "    <tr>\n",
       "      <th>44</th>\n",
       "      <td>What is “normal” for private equity?</td>\n",
       "      <td>llama2</td>\n",
       "      <td>0.834590</td>\n",
       "      <td>0.870542</td>\n",
       "    </tr>\n",
       "    <tr>\n",
       "      <th>45</th>\n",
       "      <td>What is “normal” for private equity?</td>\n",
       "      <td>nlp_base</td>\n",
       "      <td>0.755375</td>\n",
       "      <td>0.792823</td>\n",
       "    </tr>\n",
       "    <tr>\n",
       "      <th>46</th>\n",
       "      <td>What is “normal” for private equity?</td>\n",
       "      <td>nlp_langchain</td>\n",
       "      <td>0.977426</td>\n",
       "      <td>0.954124</td>\n",
       "    </tr>\n",
       "    <tr>\n",
       "      <th>47</th>\n",
       "      <td>What is “normal” for private equity?</td>\n",
       "      <td>openai</td>\n",
       "      <td>0.897753</td>\n",
       "      <td>0.977954</td>\n",
       "    </tr>\n",
       "    <tr>\n",
       "      <th>48</th>\n",
       "      <td>What might the US election mean for the Inflat...</td>\n",
       "      <td>llama2</td>\n",
       "      <td>0.823011</td>\n",
       "      <td>0.891860</td>\n",
       "    </tr>\n",
       "    <tr>\n",
       "      <th>49</th>\n",
       "      <td>What might the US election mean for the Inflat...</td>\n",
       "      <td>nlp_base</td>\n",
       "      <td>0.727494</td>\n",
       "      <td>0.883164</td>\n",
       "    </tr>\n",
       "    <tr>\n",
       "      <th>50</th>\n",
       "      <td>What might the US election mean for the Inflat...</td>\n",
       "      <td>nlp_langchain</td>\n",
       "      <td>0.985066</td>\n",
       "      <td>0.948127</td>\n",
       "    </tr>\n",
       "    <tr>\n",
       "      <th>51</th>\n",
       "      <td>What might the US election mean for the Inflat...</td>\n",
       "      <td>openai</td>\n",
       "      <td>0.878182</td>\n",
       "      <td>0.991914</td>\n",
       "    </tr>\n",
       "    <tr>\n",
       "      <th>52</th>\n",
       "      <td>What opportunities are emerging at the interse...</td>\n",
       "      <td>llama2</td>\n",
       "      <td>0.840462</td>\n",
       "      <td>0.853921</td>\n",
       "    </tr>\n",
       "    <tr>\n",
       "      <th>53</th>\n",
       "      <td>What opportunities are emerging at the interse...</td>\n",
       "      <td>nlp_base</td>\n",
       "      <td>0.716624</td>\n",
       "      <td>0.864103</td>\n",
       "    </tr>\n",
       "    <tr>\n",
       "      <th>54</th>\n",
       "      <td>What opportunities are emerging at the interse...</td>\n",
       "      <td>nlp_langchain</td>\n",
       "      <td>0.988087</td>\n",
       "      <td>0.924944</td>\n",
       "    </tr>\n",
       "    <tr>\n",
       "      <th>55</th>\n",
       "      <td>What opportunities are emerging at the interse...</td>\n",
       "      <td>openai</td>\n",
       "      <td>0.931067</td>\n",
       "      <td>0.970826</td>\n",
       "    </tr>\n",
       "    <tr>\n",
       "      <th>56</th>\n",
       "      <td>What was the lowest level of US debt held by t...</td>\n",
       "      <td>llama2</td>\n",
       "      <td>0.834925</td>\n",
       "      <td>0.773957</td>\n",
       "    </tr>\n",
       "    <tr>\n",
       "      <th>57</th>\n",
       "      <td>What was the lowest level of US debt held by t...</td>\n",
       "      <td>nlp_base</td>\n",
       "      <td>0.745069</td>\n",
       "      <td>0.750762</td>\n",
       "    </tr>\n",
       "    <tr>\n",
       "      <th>58</th>\n",
       "      <td>What was the lowest level of US debt held by t...</td>\n",
       "      <td>nlp_langchain</td>\n",
       "      <td>0.775806</td>\n",
       "      <td>0.760258</td>\n",
       "    </tr>\n",
       "    <tr>\n",
       "      <th>59</th>\n",
       "      <td>What was the lowest level of US debt held by t...</td>\n",
       "      <td>openai</td>\n",
       "      <td>0.931606</td>\n",
       "      <td>0.905732</td>\n",
       "    </tr>\n",
       "  </tbody>\n",
       "</table>\n",
       "</div>"
      ],
      "text/plain": [
       "                                             Question          model  \\\n",
       "0   Are investment theses predicated on the contin...         llama2   \n",
       "1   Are investment theses predicated on the contin...       nlp_base   \n",
       "2   Are investment theses predicated on the contin...  nlp_langchain   \n",
       "3   Are investment theses predicated on the contin...         openai   \n",
       "4                  Can small caps finally outperform?         llama2   \n",
       "5                  Can small caps finally outperform?       nlp_base   \n",
       "6                  Can small caps finally outperform?  nlp_langchain   \n",
       "7                  Can small caps finally outperform?         openai   \n",
       "8   How much has Norway's policy rate changed over...         llama2   \n",
       "9   How much has Norway's policy rate changed over...       nlp_base   \n",
       "10  How much has Norway's policy rate changed over...  nlp_langchain   \n",
       "11  How much has Norway's policy rate changed over...         openai   \n",
       "12  How should investors think about healthcare in...         llama2   \n",
       "13  How should investors think about healthcare in...       nlp_base   \n",
       "14  How should investors think about healthcare in...  nlp_langchain   \n",
       "15  How should investors think about healthcare in...         openai   \n",
       "16  How will AI shape real estate and infrastructure?         llama2   \n",
       "17  How will AI shape real estate and infrastructure?       nlp_base   \n",
       "18  How will AI shape real estate and infrastructure?  nlp_langchain   \n",
       "19  How will AI shape real estate and infrastructure?         openai   \n",
       "20  Is the shift to higher interest rates posing c...         llama2   \n",
       "21  Is the shift to higher interest rates posing c...       nlp_base   \n",
       "22  Is the shift to higher interest rates posing c...  nlp_langchain   \n",
       "23  Is the shift to higher interest rates posing c...         openai   \n",
       "24  What are current levels of US debt held by the...         llama2   \n",
       "25  What are current levels of US debt held by the...       nlp_base   \n",
       "26  What are current levels of US debt held by the...  nlp_langchain   \n",
       "27  What are current levels of US debt held by the...         openai   \n",
       "28  What are the potential market implications of ...         llama2   \n",
       "29  What are the potential market implications of ...       nlp_base   \n",
       "30  What are the potential market implications of ...  nlp_langchain   \n",
       "31  What are the potential market implications of ...         openai   \n",
       "32  What events were attributed to spikes in the G...         llama2   \n",
       "33  What events were attributed to spikes in the G...       nlp_base   \n",
       "34  What events were attributed to spikes in the G...  nlp_langchain   \n",
       "35  What events were attributed to spikes in the G...         openai   \n",
       "36  What happened in the first six months of 2024 ...         llama2   \n",
       "37  What happened in the first six months of 2024 ...       nlp_base   \n",
       "38  What happened in the first six months of 2024 ...  nlp_langchain   \n",
       "39  What happened in the first six months of 2024 ...         openai   \n",
       "40  What is the key takeaway of Goldman's mid-year...         llama2   \n",
       "41  What is the key takeaway of Goldman's mid-year...       nlp_base   \n",
       "42  What is the key takeaway of Goldman's mid-year...  nlp_langchain   \n",
       "43  What is the key takeaway of Goldman's mid-year...         openai   \n",
       "44               What is “normal” for private equity?         llama2   \n",
       "45               What is “normal” for private equity?       nlp_base   \n",
       "46               What is “normal” for private equity?  nlp_langchain   \n",
       "47               What is “normal” for private equity?         openai   \n",
       "48  What might the US election mean for the Inflat...         llama2   \n",
       "49  What might the US election mean for the Inflat...       nlp_base   \n",
       "50  What might the US election mean for the Inflat...  nlp_langchain   \n",
       "51  What might the US election mean for the Inflat...         openai   \n",
       "52  What opportunities are emerging at the interse...         llama2   \n",
       "53  What opportunities are emerging at the interse...       nlp_base   \n",
       "54  What opportunities are emerging at the interse...  nlp_langchain   \n",
       "55  What opportunities are emerging at the interse...         openai   \n",
       "56  What was the lowest level of US debt held by t...         llama2   \n",
       "57  What was the lowest level of US debt held by t...       nlp_base   \n",
       "58  What was the lowest level of US debt held by t...  nlp_langchain   \n",
       "59  What was the lowest level of US debt held by t...         openai   \n",
       "\n",
       "    similarity_response_question  similarity_response_answer  \n",
       "0                       0.851949                    0.845337  \n",
       "1                       0.728865                    0.784294  \n",
       "2                       0.771549                    0.846241  \n",
       "3                       0.887849                    0.931011  \n",
       "4                       0.792853                    0.859005  \n",
       "5                       0.668756                    0.796996  \n",
       "6                       0.987049                    0.932814  \n",
       "7                       0.870086                    0.982273  \n",
       "8                       0.851271                    0.602817  \n",
       "9                       0.682312                    0.595814  \n",
       "10                      0.667153                    0.587528  \n",
       "11                      0.910961                    0.744889  \n",
       "12                      0.827290                    0.940358  \n",
       "13                      0.784810                    0.837326  \n",
       "14                      0.986092                    0.928562  \n",
       "15                      0.892518                    0.968349  \n",
       "16                      0.845419                    0.923321  \n",
       "17                      0.793148                    0.838533  \n",
       "18                      0.992096                    0.954506  \n",
       "19                      0.903909                    1.000000  \n",
       "20                      0.884830                    0.895594  \n",
       "21                      0.754041                    0.860071  \n",
       "22                      0.862293                    0.923983  \n",
       "23                      0.942232                    0.884394  \n",
       "24                      0.884231                    0.749678  \n",
       "25                      0.836312                    0.727579  \n",
       "26                      0.851186                    0.715065  \n",
       "27                      0.931672                    0.939056  \n",
       "28                      0.919623                    0.883785  \n",
       "29                      0.786234                    0.790760  \n",
       "30                      0.849552                    0.842768  \n",
       "31                      0.905058                    0.974119  \n",
       "32                      0.915518                    0.786207  \n",
       "33                      0.765989                    0.677817  \n",
       "34                      0.793705                    0.643701  \n",
       "35                      0.862332                    0.914763  \n",
       "36                      0.809249                    0.869563  \n",
       "37                      0.682883                    0.812946  \n",
       "38                      0.715810                    0.752062  \n",
       "39                      0.899247                    0.937949  \n",
       "40                      0.837640                    0.740974  \n",
       "41                      0.761847                    0.771109  \n",
       "42                      0.851964                    0.761870  \n",
       "43                      0.932711                    0.858198  \n",
       "44                      0.834590                    0.870542  \n",
       "45                      0.755375                    0.792823  \n",
       "46                      0.977426                    0.954124  \n",
       "47                      0.897753                    0.977954  \n",
       "48                      0.823011                    0.891860  \n",
       "49                      0.727494                    0.883164  \n",
       "50                      0.985066                    0.948127  \n",
       "51                      0.878182                    0.991914  \n",
       "52                      0.840462                    0.853921  \n",
       "53                      0.716624                    0.864103  \n",
       "54                      0.988087                    0.924944  \n",
       "55                      0.931067                    0.970826  \n",
       "56                      0.834925                    0.773957  \n",
       "57                      0.745069                    0.750762  \n",
       "58                      0.775806                    0.760258  \n",
       "59                      0.931606                    0.905732  "
      ]
     },
     "execution_count": 34,
     "metadata": {},
     "output_type": "execute_result"
    }
   ],
   "source": [
    "res"
   ]
  },
  {
   "cell_type": "code",
   "execution_count": 49,
   "metadata": {},
   "outputs": [
    {
     "data": {
      "text/html": [
       "<div>\n",
       "<style scoped>\n",
       "    .dataframe tbody tr th:only-of-type {\n",
       "        vertical-align: middle;\n",
       "    }\n",
       "\n",
       "    .dataframe tbody tr th {\n",
       "        vertical-align: top;\n",
       "    }\n",
       "\n",
       "    .dataframe thead th {\n",
       "        text-align: right;\n",
       "    }\n",
       "</style>\n",
       "<table border=\"1\" class=\"dataframe\">\n",
       "  <thead>\n",
       "    <tr style=\"text-align: right;\">\n",
       "      <th></th>\n",
       "      <th>similarity_response_question</th>\n",
       "      <th>similarity_response_answer</th>\n",
       "    </tr>\n",
       "    <tr>\n",
       "      <th>model</th>\n",
       "      <th></th>\n",
       "      <th></th>\n",
       "    </tr>\n",
       "  </thead>\n",
       "  <tbody>\n",
       "    <tr>\n",
       "      <th>llama2</th>\n",
       "      <td>0.850191</td>\n",
       "      <td>0.832461</td>\n",
       "    </tr>\n",
       "    <tr>\n",
       "      <th>nlp_base</th>\n",
       "      <td>0.745984</td>\n",
       "      <td>0.785606</td>\n",
       "    </tr>\n",
       "    <tr>\n",
       "      <th>nlp_langchain</th>\n",
       "      <td>0.870322</td>\n",
       "      <td>0.831770</td>\n",
       "    </tr>\n",
       "    <tr>\n",
       "      <th>openai</th>\n",
       "      <td>0.905146</td>\n",
       "      <td>0.932095</td>\n",
       "    </tr>\n",
       "  </tbody>\n",
       "</table>\n",
       "</div>"
      ],
      "text/plain": [
       "               similarity_response_question  similarity_response_answer\n",
       "model                                                                  \n",
       "llama2                             0.850191                    0.832461\n",
       "nlp_base                           0.745984                    0.785606\n",
       "nlp_langchain                      0.870322                    0.831770\n",
       "openai                             0.905146                    0.932095"
      ]
     },
     "execution_count": 49,
     "metadata": {},
     "output_type": "execute_result"
    }
   ],
   "source": [
    "res.iloc[:, 1:].groupby(\"model\").mean()"
   ]
  },
  {
   "cell_type": "code",
   "execution_count": 51,
   "metadata": {
    "ExecuteTime": {
     "end_time": "2024-10-01T14:51:14.213278Z",
     "start_time": "2024-10-01T14:51:13.973330Z"
    }
   },
   "outputs": [
    {
     "data": {
      "image/png": "[encoded data removed]",
      "text/plain": [
       "<Figure size 1000x600 with 1 Axes>"
      ]
     },
     "metadata": {},
     "output_type": "display_data"
    }
   ],
   "source": [
    "plt.figure(figsize=(10, 6))\n",
    "sns.histplot(data=res, x='similarity_response_answer', hue='model', element='step', bins=15, alpha=0.7)\n",
    "plt.title('Histogram of Similarity Response Answer by Group')\n",
    "plt.xlabel('Similarity Response Answer'); plt.ylabel('Count'); plt.show()"
   ]
  },
  {
   "cell_type": "markdown",
   "metadata": {},
   "source": [
    "# Responses"
   ]
  },
  {
   "cell_type": "markdown",
   "metadata": {},
   "source": [
    "Questions"
   ]
  },
  {
   "cell_type": "code",
   "execution_count": 36,
   "metadata": {
    "ExecuteTime": {
     "end_time": "2024-10-01T15:18:28.163637Z",
     "start_time": "2024-10-01T15:18:28.094016Z"
    }
   },
   "outputs": [
    {
     "data": {
      "text/plain": [
       "'Is the shift to higher interest rates posing challenges to bond issuers?'"
      ]
     },
     "metadata": {},
     "output_type": "display_data"
    },
    {
     "data": {
      "text/plain": [
       "'As we near the one-year mark since the Fed funds rate peaked, our analysis suggests the core financial health of the median US investmentgrade company remains robust. Interest coverage ratios, despite a downward trend, are still near or just below historical averages. Sustained economic and earnings growth may enable resilient companies to adjust to a higher rate environment. Higher rates may also encourage a more conservative approach to capital management among corporates, which could bolster credit metrics. While the shift to higher interest rates appears generally manageable, it does pose challenges for some. We believe navigating the new landscape of higher rates and structural shifts demand an active, fundamental approach to bond selection.'"
      ]
     },
     "metadata": {},
     "output_type": "display_data"
    }
   ],
   "source": [
    "q,a = questions.loc[1,['Question','Answer']]\n",
    "display(q,a)"
   ]
  },
  {
   "cell_type": "code",
   "execution_count": 37,
   "metadata": {
    "ExecuteTime": {
     "end_time": "2024-10-01T15:18:35.913741Z",
     "start_time": "2024-10-01T15:18:33.116272Z"
    }
   },
   "outputs": [
    {
     "name": "stdout",
     "output_type": "stream",
     "text": [
      "The shift to higher interest rates appears generally manageable, but it does pose challenges for some bond issuers.\n",
      "CPU times: user 386 ms, sys: 17.4 ms, total: 404 ms\n",
      "Wall time: 1.61 s\n"
     ]
    }
   ],
   "source": [
    "%%time\n",
    "response, score = openai.answer(q)\n",
    "print(response)"
   ]
  },
  {
   "cell_type": "code",
   "execution_count": 38,
   "metadata": {
    "ExecuteTime": {
     "end_time": "2024-10-01T15:22:43.755249Z",
     "start_time": "2024-10-01T15:18:57.535163Z"
    }
   },
   "outputs": [
    {
     "name": "stdout",
     "output_type": "stream",
     "text": [
      "Based on the analysis provided in the given context, it appears that the shift to higher interest rates is not necessarily posing significant challenges to bond issuers. According to Goldman Sachs Asset Management, the core financial health of the median US investment-grade company remains robust, despite a downward trend in interest coverage ratios. The report suggests that sustained economic and earnings growth may enable resilient companies to adjust to a higher rate environment. Additionally, the report notes that higher rates may encourage corporates to adopt more conservative capital management strategies, which could bolster credit metrics. While the shift to higher interest rates may pose challenges for some issuers, the analysis suggests that the impact is likely to be manageable overall.\n",
      "CPU times: user 165 ms, sys: 962 ms, total: 1.13 s\n",
      "Wall time: 16.1 s\n"
     ]
    }
   ],
   "source": [
    "%%time\n",
    "response, score = llama2.answer(q)\n",
    "print(response)"
   ]
  },
  {
   "cell_type": "code",
   "execution_count": 39,
   "metadata": {
    "ExecuteTime": {
     "end_time": "2024-10-01T15:23:04.561267Z",
     "start_time": "2024-10-01T15:23:04.500754Z"
    }
   },
   "outputs": [
    {
     "name": "stdout",
     "output_type": "stream",
     "text": [
      "# MACROECONOMY: A LONGER PATH TO NORMALIZATION\n",
      "\n",
      "# Three Key Questions\n",
      "\n",
      "# 1. Is the shift to higher interest rates posing challenges to bond issuers?\n",
      "\n",
      "Our View: As we near the one-year mark since the Fed funds rate peaked, our analysis suggests the core financial health of the median US investment-grade company remains robust. Interest coverage ratios, despite a downward trend, are still near or just below historical averages. Sustained economic and earnings growth may enable resilient companies to adjust to a higher rate environment. Higher rates may also encourage a more conservative approach to capital management among corporates, which could bolster credit metrics. While the shift to higher interest rates appears generally manageable, it does pose challenges for some. We believe navigating the new landscape of higher rates and structural shifts demand an active, fundamental approach to bond selection.\n",
      "\n",
      "# 2. Can small caps finally outperform?\n",
      "\n",
      "Our View: We think small caps are a coiled spring amid an improving economic backdrop, with lower rates on the horizon across developed markets. US small caps have historically generated strong returns following the dissipation of extreme mega-cap concentration, as well as in US election years. In our view, the best way to access the asset class is to be differentiated with high active share to capture outsized opportunities for returns, and be selective, using a disciplined, fundamental approach to avoid unprofitable companies.\n",
      "\n",
      "# 3. What is “normal” for private equity?\n",
      "\n",
      "Our View: Some private equity investors are questioning what a “normal” environment will look like going forward. While the breakneck pace of activity in 2021/22 was likely an anomaly, fueled by historically low rates and easy access to capital, a prolonged return to pre-pandemic trendlines might not be the most likely path forward either. Evergreen structures, combined with the rise of continuation vehicles, are enabling longer hold times for assets. These developments suggest that the size, scope, and nature of deals is likely to continue evolving, defying attempts to define “normal.”\n",
      "\n",
      "Goldman Sachs Asset Management\n",
      "\n",
      "Asset Management Outlook 2024 | 7\n",
      "CPU times: user 19.4 ms, sys: 11.9 ms, total: 31.3 ms\n",
      "Wall time: 46.4 ms\n"
     ]
    }
   ],
   "source": [
    "%%time\n",
    "response, score = nlp_base.answer(q)\n",
    "print(response)"
   ]
  },
  {
   "cell_type": "code",
   "execution_count": 40,
   "metadata": {
    "ExecuteTime": {
     "end_time": "2024-10-01T15:23:10.698456Z",
     "start_time": "2024-10-01T15:23:10.645008Z"
    }
   },
   "outputs": [
    {
     "name": "stdout",
     "output_type": "stream",
     "text": [
      "# MACROECONOMY: A LONGER PATH TO NORMALIZATION\n",
      "\n",
      "# Three Key Questions\n",
      "\n",
      "# 1. Is the shift to higher interest rates posing challenges to bond issuers?\n",
      "\n",
      "\n",
      "\n",
      "Our View: As we near the one-year mark since the Fed funds rate peaked, our analysis suggests the core financial health of the median US investment-grade company remains robust. Interest coverage ratios, despite a downward trend, are still near or just below historical averages. Sustained economic and earnings growth may enable resilient companies to adjust to a higher rate environment. Higher rates may also encourage a more conservative approach to capital management among corporates, which could bolster credit metrics. While the shift to higher interest rates appears generally manageable, it does pose challenges for some. We believe navigating the new landscape of higher rates and structural shifts demand an active, fundamental approach to bond selection.\n",
      "\n",
      "# 2. Can small caps finally outperform?\n",
      "CPU times: user 27.3 ms, sys: 11.5 ms, total: 38.8 ms\n",
      "Wall time: 61.4 ms\n"
     ]
    }
   ],
   "source": [
    "%%time\n",
    "response, score = nlp_langchain.answer(q)\n",
    "print(response)"
   ]
  },
  {
   "cell_type": "markdown",
   "metadata": {},
   "source": [
    "Question 2"
   ]
  },
  {
   "cell_type": "code",
   "execution_count": 41,
   "metadata": {
    "ExecuteTime": {
     "end_time": "2024-10-01T15:23:43.043588Z",
     "start_time": "2024-10-01T15:23:43.029180Z"
    }
   },
   "outputs": [
    {
     "data": {
      "text/plain": [
       "\"What is the key takeaway of Goldman's mid-year outlook 2024?\""
      ]
     },
     "metadata": {},
     "output_type": "display_data"
    },
    {
     "data": {
      "text/plain": [
       "'1. Macroeconomy: A Longer Path to Normalization; 2. Geopolitics and Elections: Roadmaps for Resilience; 3. Tailwinds and Headwinds: Investing in Megatrends'"
      ]
     },
     "metadata": {},
     "output_type": "display_data"
    }
   ],
   "source": [
    "q, a = questions.loc[4, ['Question', 'Answer']]\n",
    "display(q, a)"
   ]
  },
  {
   "cell_type": "code",
   "execution_count": 42,
   "metadata": {
    "ExecuteTime": {
     "end_time": "2024-10-01T15:24:01.047061Z",
     "start_time": "2024-10-01T15:23:58.781595Z"
    }
   },
   "outputs": [
    {
     "name": "stdout",
     "output_type": "stream",
     "text": [
      "The key takeaway of Goldman's mid-year outlook 2024 is the importance of active and dynamic investment strategies in response to evolving macroeconomic conditions, geopolitical uncertainties, and the acceleration of secular megatrends shaping economies and industries.\n",
      "CPU times: user 1.23 s, sys: 219 ms, total: 1.45 s\n",
      "Wall time: 1.94 s\n"
     ]
    }
   ],
   "source": [
    "%%time\n",
    "response, score = openai.answer(q)\n",
    "print(response)"
   ]
  },
  {
   "cell_type": "code",
   "execution_count": 43,
   "metadata": {
    "ExecuteTime": {
     "end_time": "2024-10-01T15:26:30.555072Z",
     "start_time": "2024-10-01T15:25:11.162101Z"
    }
   },
   "outputs": [
    {
     "name": "stdout",
     "output_type": "stream",
     "text": [
      "The key takeaway of Goldman Sachs Asset Management's mid-year outlook 2024 is investing in megatrends.\n",
      "CPU times: user 70.9 ms, sys: 132 ms, total: 203 ms\n",
      "Wall time: 3.39 s\n"
     ]
    }
   ],
   "source": [
    "%%time\n",
    "response, score = llama2.answer(q)\n",
    "print(response)"
   ]
  },
  {
   "cell_type": "code",
   "execution_count": 44,
   "metadata": {
    "ExecuteTime": {
     "end_time": "2024-10-01T15:27:04.985899Z",
     "start_time": "2024-10-01T15:27:04.950710Z"
    }
   },
   "outputs": [
    {
     "name": "stdout",
     "output_type": "stream",
     "text": [
      "# Asset Management\n",
      "\n",
      "# MID-YEAR OUTLOOK 2024\n",
      "\n",
      "# KEY THEMES\n",
      "\n",
      "# Macroeconomy:\n",
      "\n",
      "A Longer Path to Normalization\n",
      "\n",
      "# Geopolitics and Elections:\n",
      "\n",
      "Roadmaps for Resilience\n",
      "\n",
      "# Tailwinds and Headwinds:\n",
      "\n",
      "Investing in Megatrends\n",
      "\n",
      "This financial promotion is provided by Goldman Sachs Asset Management B.V.\n",
      "CPU times: user 19.7 ms, sys: 9.32 ms, total: 29 ms\n",
      "Wall time: 24.6 ms\n"
     ]
    }
   ],
   "source": [
    "%%time\n",
    "response, score = nlp_base.answer(q)\n",
    "print(response)"
   ]
  },
  {
   "cell_type": "code",
   "execution_count": 45,
   "metadata": {
    "ExecuteTime": {
     "end_time": "2024-10-01T15:27:09.026424Z",
     "start_time": "2024-10-01T15:27:08.984388Z"
    }
   },
   "outputs": [
    {
     "name": "stdout",
     "output_type": "stream",
     "text": [
      "Goldman Sachs Asset Management\n",
      "\n",
      "Asset Management Outlook 2024 | 11\n",
      "\n",
      "# TAILWINDS AND HEADWINDS:\n",
      "\n",
      "# INVESTING IN MEGATRENDS\n",
      "\n",
      "\n",
      "\n",
      "Beyond the near-term path of inflation, rates, and election results, we remain focused on longer-term paradigm shifts, including five key structural forces: decarbonization, digitization, deglobalization, destabilization in geopolitics, and demographic aging. Active investment strategies, a focus on diversification and risk management may become increasingly important to help navigate these contours and deliver alpha. Investors who stay in their silos and focus on a single theme may miss out on opportunities and underestimate risks.\n",
      "CPU times: user 20.8 ms, sys: 6.99 ms, total: 27.8 ms\n",
      "Wall time: 27.1 ms\n"
     ]
    }
   ],
   "source": [
    "%%time\n",
    "response, score = nlp_langchain.answer(q)\n",
    "print(response)"
   ]
  },
  {
   "cell_type": "code",
   "execution_count": null,
   "metadata": {},
   "outputs": [],
   "source": []
  }
 ],
 "metadata": {
  "kernelspec": {
   "display_name": "capstone",
   "language": "python",
   "name": "python3"
  },
  "language_info": {
   "codemirror_mode": {
    "name": "ipython",
    "version": 3
   },
   "file_extension": ".py",
   "mimetype": "text/x-python",
   "name": "python",
   "nbconvert_exporter": "python",
   "pygments_lexer": "ipython3",
   "version": "3.11.9"
  }
 },
 "nbformat": 4,
 "nbformat_minor": 2
}
