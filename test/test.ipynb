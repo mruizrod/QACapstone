{
 "cells": [
  {
   "cell_type": "code",
   "execution_count": 1,
   "metadata": {
    "ExecuteTime": {
     "end_time": "2024-10-01T14:47:20.784809Z",
     "start_time": "2024-10-01T14:47:20.604526Z"
    }
   },
   "outputs": [],
   "source": [
    "import sys\n",
    "sys.path.append(\"../\")\n",
    "sys.path.append(\"../src\")\n",
    "import numpy as np\n",
    "import pandas as pd\n",
    "import matplotlib.pyplot as plt\n",
    "import seaborn as sns"
   ]
  },
  {
   "cell_type": "markdown",
   "metadata": {},
   "source": [
    "testing are done in `test.py`"
   ]
  },
  {
   "cell_type": "code",
   "execution_count": 2,
   "metadata": {},
   "outputs": [],
   "source": [
    "result = pd.read_csv(\"./test_results.csv\")"
   ]
  },
  {
   "cell_type": "markdown",
   "metadata": {},
   "source": [
    "Interpretation of Columns\n",
    "- `similarity_response_answer`: cosine similarity between response and manually labeled answer\n",
    "- `similarity_response_question`: cosine similarity between response and input question"
   ]
  },
  {
   "cell_type": "code",
   "execution_count": 3,
   "metadata": {
    "ExecuteTime": {
     "end_time": "2024-10-01T14:38:28.382423Z",
     "start_time": "2024-10-01T14:38:28.364465Z"
    }
   },
   "outputs": [
    {
     "data": {
      "text/html": [
       "<div>\n",
       "<style scoped>\n",
       "    .dataframe tbody tr th:only-of-type {\n",
       "        vertical-align: middle;\n",
       "    }\n",
       "\n",
       "    .dataframe tbody tr th {\n",
       "        vertical-align: top;\n",
       "    }\n",
       "\n",
       "    .dataframe thead th {\n",
       "        text-align: right;\n",
       "    }\n",
       "</style>\n",
       "<table border=\"1\" class=\"dataframe\">\n",
       "  <thead>\n",
       "    <tr style=\"text-align: right;\">\n",
       "      <th></th>\n",
       "      <th>Question</th>\n",
       "      <th>model</th>\n",
       "      <th>parser</th>\n",
       "      <th>similarity_response_question</th>\n",
       "      <th>similarity_response_answer</th>\n",
       "    </tr>\n",
       "  </thead>\n",
       "  <tbody>\n",
       "    <tr>\n",
       "      <th>0</th>\n",
       "      <td>Are investment theses predicated on the contin...</td>\n",
       "      <td>llama2</td>\n",
       "      <td>llamaparse</td>\n",
       "      <td>0.784185</td>\n",
       "      <td>0.958332</td>\n",
       "    </tr>\n",
       "    <tr>\n",
       "      <th>1</th>\n",
       "      <td>Are investment theses predicated on the contin...</td>\n",
       "      <td>llama2</td>\n",
       "      <td>pdfplumber</td>\n",
       "      <td>0.877712</td>\n",
       "      <td>0.809557</td>\n",
       "    </tr>\n",
       "    <tr>\n",
       "      <th>2</th>\n",
       "      <td>Are investment theses predicated on the contin...</td>\n",
       "      <td>llama2</td>\n",
       "      <td>pypdfloader</td>\n",
       "      <td>0.874767</td>\n",
       "      <td>0.814908</td>\n",
       "    </tr>\n",
       "    <tr>\n",
       "      <th>3</th>\n",
       "      <td>Are investment theses predicated on the contin...</td>\n",
       "      <td>nlp_base</td>\n",
       "      <td>llamaparse</td>\n",
       "      <td>0.728865</td>\n",
       "      <td>0.784294</td>\n",
       "    </tr>\n",
       "    <tr>\n",
       "      <th>4</th>\n",
       "      <td>Are investment theses predicated on the contin...</td>\n",
       "      <td>nlp_base</td>\n",
       "      <td>pdfplumber</td>\n",
       "      <td>0.742610</td>\n",
       "      <td>0.772052</td>\n",
       "    </tr>\n",
       "  </tbody>\n",
       "</table>\n",
       "</div>"
      ],
      "text/plain": [
       "                                            Question     model       parser  \\\n",
       "0  Are investment theses predicated on the contin...    llama2   llamaparse   \n",
       "1  Are investment theses predicated on the contin...    llama2   pdfplumber   \n",
       "2  Are investment theses predicated on the contin...    llama2  pypdfloader   \n",
       "3  Are investment theses predicated on the contin...  nlp_base   llamaparse   \n",
       "4  Are investment theses predicated on the contin...  nlp_base   pdfplumber   \n",
       "\n",
       "   similarity_response_question  similarity_response_answer  \n",
       "0                      0.784185                    0.958332  \n",
       "1                      0.877712                    0.809557  \n",
       "2                      0.874767                    0.814908  \n",
       "3                      0.728865                    0.784294  \n",
       "4                      0.742610                    0.772052  "
      ]
     },
     "execution_count": 3,
     "metadata": {},
     "output_type": "execute_result"
    }
   ],
   "source": [
    "result.head()"
   ]
  },
  {
   "cell_type": "code",
   "execution_count": 4,
   "metadata": {},
   "outputs": [
    {
     "data": {
      "text/html": [
       "<div>\n",
       "<style scoped>\n",
       "    .dataframe tbody tr th:only-of-type {\n",
       "        vertical-align: middle;\n",
       "    }\n",
       "\n",
       "    .dataframe tbody tr th {\n",
       "        vertical-align: top;\n",
       "    }\n",
       "\n",
       "    .dataframe thead th {\n",
       "        text-align: right;\n",
       "    }\n",
       "</style>\n",
       "<table border=\"1\" class=\"dataframe\">\n",
       "  <thead>\n",
       "    <tr style=\"text-align: right;\">\n",
       "      <th></th>\n",
       "      <th></th>\n",
       "      <th>similarity_response_question</th>\n",
       "      <th>similarity_response_answer</th>\n",
       "    </tr>\n",
       "    <tr>\n",
       "      <th>model</th>\n",
       "      <th>parser</th>\n",
       "      <th></th>\n",
       "      <th></th>\n",
       "    </tr>\n",
       "  </thead>\n",
       "  <tbody>\n",
       "    <tr>\n",
       "      <th rowspan=\"3\" valign=\"top\">llama2</th>\n",
       "      <th>llamaparse</th>\n",
       "      <td>0.845017</td>\n",
       "      <td>0.832851</td>\n",
       "    </tr>\n",
       "    <tr>\n",
       "      <th>pdfplumber</th>\n",
       "      <td>0.852351</td>\n",
       "      <td>0.816719</td>\n",
       "    </tr>\n",
       "    <tr>\n",
       "      <th>pypdfloader</th>\n",
       "      <td>0.857827</td>\n",
       "      <td>0.824227</td>\n",
       "    </tr>\n",
       "    <tr>\n",
       "      <th rowspan=\"3\" valign=\"top\">nlp_base</th>\n",
       "      <th>llamaparse</th>\n",
       "      <td>0.745874</td>\n",
       "      <td>0.791079</td>\n",
       "    </tr>\n",
       "    <tr>\n",
       "      <th>pdfplumber</th>\n",
       "      <td>0.759380</td>\n",
       "      <td>0.806773</td>\n",
       "    </tr>\n",
       "    <tr>\n",
       "      <th>pypdfloader</th>\n",
       "      <td>0.741713</td>\n",
       "      <td>0.792598</td>\n",
       "    </tr>\n",
       "    <tr>\n",
       "      <th rowspan=\"3\" valign=\"top\">nlp_langchain</th>\n",
       "      <th>llamaparse</th>\n",
       "      <td>0.848223</td>\n",
       "      <td>0.837659</td>\n",
       "    </tr>\n",
       "    <tr>\n",
       "      <th>pdfplumber</th>\n",
       "      <td>0.759380</td>\n",
       "      <td>0.776838</td>\n",
       "    </tr>\n",
       "    <tr>\n",
       "      <th>pypdfloader</th>\n",
       "      <td>0.741713</td>\n",
       "      <td>0.788849</td>\n",
       "    </tr>\n",
       "  </tbody>\n",
       "</table>\n",
       "</div>"
      ],
      "text/plain": [
       "                           similarity_response_question  \\\n",
       "model         parser                                      \n",
       "llama2        llamaparse                       0.845017   \n",
       "              pdfplumber                       0.852351   \n",
       "              pypdfloader                      0.857827   \n",
       "nlp_base      llamaparse                       0.745874   \n",
       "              pdfplumber                       0.759380   \n",
       "              pypdfloader                      0.741713   \n",
       "nlp_langchain llamaparse                       0.848223   \n",
       "              pdfplumber                       0.759380   \n",
       "              pypdfloader                      0.741713   \n",
       "\n",
       "                           similarity_response_answer  \n",
       "model         parser                                   \n",
       "llama2        llamaparse                     0.832851  \n",
       "              pdfplumber                     0.816719  \n",
       "              pypdfloader                    0.824227  \n",
       "nlp_base      llamaparse                     0.791079  \n",
       "              pdfplumber                     0.806773  \n",
       "              pypdfloader                    0.792598  \n",
       "nlp_langchain llamaparse                     0.837659  \n",
       "              pdfplumber                     0.776838  \n",
       "              pypdfloader                    0.788849  "
      ]
     },
     "execution_count": 4,
     "metadata": {},
     "output_type": "execute_result"
    }
   ],
   "source": [
    "result.iloc[:, 1:].groupby([\"model\", \"parser\"]).mean()"
   ]
  }
 ],
 "metadata": {
  "kernelspec": {
   "display_name": "capstone",
   "language": "python",
   "name": "python3"
  },
  "language_info": {
   "codemirror_mode": {
    "name": "ipython",
    "version": 3
   },
   "file_extension": ".py",
   "mimetype": "text/x-python",
   "name": "python",
   "nbconvert_exporter": "python",
   "pygments_lexer": "ipython3",
   "version": "3.11.9"
  }
 },
 "nbformat": 4,
 "nbformat_minor": 2
}
