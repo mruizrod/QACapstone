{
 "cells": [
  {
   "cell_type": "code",
   "execution_count": 8,
   "metadata": {
    "ExecuteTime": {
     "end_time": "2024-10-01T14:47:20.784809Z",
     "start_time": "2024-10-01T14:47:20.604526Z"
    }
   },
   "outputs": [],
   "source": [
    "import sys\n",
    "sys.path.append(\"../\")\n",
    "sys.path.append(\"../src\")\n",
    "import numpy as np\n",
    "import pandas as pd\n",
    "import matplotlib.pyplot as plt\n",
    "import seaborn as sns"
   ]
  },
  {
   "cell_type": "markdown",
   "metadata": {},
   "source": [
    "testing are done in `test.py`"
   ]
  },
  {
   "cell_type": "code",
   "execution_count": 9,
   "metadata": {},
   "outputs": [],
   "source": [
    "result = pd.read_csv(\"./test_results.csv\")"
   ]
  },
  {
   "metadata": {},
   "cell_type": "markdown",
   "source": ""
  },
  {
   "cell_type": "markdown",
   "metadata": {},
   "source": [
    "Interpretation of Columns\n",
    "- `similarity_response_answer`: cosine similarity between response and manually labeled answer\n",
    "- `similarity_response_question`: cosine similarity between response and input question"
   ]
  },
  {
   "cell_type": "code",
   "execution_count": 10,
   "metadata": {
    "ExecuteTime": {
     "end_time": "2024-10-01T14:38:28.382423Z",
     "start_time": "2024-10-01T14:38:28.364465Z"
    }
   },
   "outputs": [
    {
     "data": {
      "text/html": [
       "<div>\n",
       "<style scoped>\n",
       "    .dataframe tbody tr th:only-of-type {\n",
       "        vertical-align: middle;\n",
       "    }\n",
       "\n",
       "    .dataframe tbody tr th {\n",
       "        vertical-align: top;\n",
       "    }\n",
       "\n",
       "    .dataframe thead th {\n",
       "        text-align: right;\n",
       "    }\n",
       "</style>\n",
       "<table border=\"1\" class=\"dataframe\">\n",
       "  <thead>\n",
       "    <tr style=\"text-align: right;\">\n",
       "      <th></th>\n",
       "      <th>Question</th>\n",
       "      <th>model</th>\n",
       "      <th>parser</th>\n",
       "      <th>similarity_response_question</th>\n",
       "      <th>similarity_response_answer</th>\n",
       "    </tr>\n",
       "  </thead>\n",
       "  <tbody>\n",
       "    <tr>\n",
       "      <th>0</th>\n",
       "      <td>Are investment theses predicated on the contin...</td>\n",
       "      <td>llama2</td>\n",
       "      <td>llamaparse</td>\n",
       "      <td>0.774616</td>\n",
       "      <td>0.968329</td>\n",
       "    </tr>\n",
       "    <tr>\n",
       "      <th>1</th>\n",
       "      <td>Are investment theses predicated on the contin...</td>\n",
       "      <td>llama2</td>\n",
       "      <td>pdfplumber</td>\n",
       "      <td>0.863810</td>\n",
       "      <td>0.799212</td>\n",
       "    </tr>\n",
       "    <tr>\n",
       "      <th>2</th>\n",
       "      <td>Are investment theses predicated on the contin...</td>\n",
       "      <td>llama2</td>\n",
       "      <td>pypdfloader</td>\n",
       "      <td>0.859502</td>\n",
       "      <td>0.819184</td>\n",
       "    </tr>\n",
       "    <tr>\n",
       "      <th>3</th>\n",
       "      <td>Are investment theses predicated on the contin...</td>\n",
       "      <td>llama2</td>\n",
       "      <td>unstructured</td>\n",
       "      <td>0.854410</td>\n",
       "      <td>0.818009</td>\n",
       "    </tr>\n",
       "    <tr>\n",
       "      <th>4</th>\n",
       "      <td>Are investment theses predicated on the contin...</td>\n",
       "      <td>nlp_base</td>\n",
       "      <td>llamaparse</td>\n",
       "      <td>0.728865</td>\n",
       "      <td>0.784294</td>\n",
       "    </tr>\n",
       "  </tbody>\n",
       "</table>\n",
       "</div>"
      ],
      "text/plain": [
       "                                            Question     model        parser  \\\n",
       "0  Are investment theses predicated on the contin...    llama2    llamaparse   \n",
       "1  Are investment theses predicated on the contin...    llama2    pdfplumber   \n",
       "2  Are investment theses predicated on the contin...    llama2   pypdfloader   \n",
       "3  Are investment theses predicated on the contin...    llama2  unstructured   \n",
       "4  Are investment theses predicated on the contin...  nlp_base    llamaparse   \n",
       "\n",
       "   similarity_response_question  similarity_response_answer  \n",
       "0                      0.774616                    0.968329  \n",
       "1                      0.863810                    0.799212  \n",
       "2                      0.859502                    0.819184  \n",
       "3                      0.854410                    0.818009  \n",
       "4                      0.728865                    0.784294  "
      ]
     },
     "execution_count": 10,
     "metadata": {},
     "output_type": "execute_result"
    }
   ],
   "source": [
    "result.head()"
   ]
  },
  {
   "cell_type": "code",
   "execution_count": 11,
   "metadata": {},
   "outputs": [
    {
     "data": {
      "text/html": [
       "<div>\n",
       "<style scoped>\n",
       "    .dataframe tbody tr th:only-of-type {\n",
       "        vertical-align: middle;\n",
       "    }\n",
       "\n",
       "    .dataframe tbody tr th {\n",
       "        vertical-align: top;\n",
       "    }\n",
       "\n",
       "    .dataframe thead th {\n",
       "        text-align: right;\n",
       "    }\n",
       "</style>\n",
       "<table border=\"1\" class=\"dataframe\">\n",
       "  <thead>\n",
       "    <tr style=\"text-align: right;\">\n",
       "      <th></th>\n",
       "      <th></th>\n",
       "      <th>similarity_response_question</th>\n",
       "      <th>similarity_response_answer</th>\n",
       "    </tr>\n",
       "    <tr>\n",
       "      <th>model</th>\n",
       "      <th>parser</th>\n",
       "      <th></th>\n",
       "      <th></th>\n",
       "    </tr>\n",
       "  </thead>\n",
       "  <tbody>\n",
       "    <tr>\n",
       "      <th rowspan=\"4\" valign=\"top\">llama2</th>\n",
       "      <th>llamaparse</th>\n",
       "      <td>0.844584</td>\n",
       "      <td>0.830534</td>\n",
       "    </tr>\n",
       "    <tr>\n",
       "      <th>pdfplumber</th>\n",
       "      <td>0.850553</td>\n",
       "      <td>0.815374</td>\n",
       "    </tr>\n",
       "    <tr>\n",
       "      <th>pypdfloader</th>\n",
       "      <td>0.856681</td>\n",
       "      <td>0.819354</td>\n",
       "    </tr>\n",
       "    <tr>\n",
       "      <th>unstructured</th>\n",
       "      <td>0.848088</td>\n",
       "      <td>0.797751</td>\n",
       "    </tr>\n",
       "    <tr>\n",
       "      <th rowspan=\"4\" valign=\"top\">nlp_base</th>\n",
       "      <th>llamaparse</th>\n",
       "      <td>0.745874</td>\n",
       "      <td>0.791079</td>\n",
       "    </tr>\n",
       "    <tr>\n",
       "      <th>pdfplumber</th>\n",
       "      <td>0.759380</td>\n",
       "      <td>0.806773</td>\n",
       "    </tr>\n",
       "    <tr>\n",
       "      <th>pypdfloader</th>\n",
       "      <td>0.741713</td>\n",
       "      <td>0.792598</td>\n",
       "    </tr>\n",
       "    <tr>\n",
       "      <th>unstructured</th>\n",
       "      <td>0.906865</td>\n",
       "      <td>0.740309</td>\n",
       "    </tr>\n",
       "    <tr>\n",
       "      <th rowspan=\"4\" valign=\"top\">nlp_langchain</th>\n",
       "      <th>llamaparse</th>\n",
       "      <td>0.848223</td>\n",
       "      <td>0.837659</td>\n",
       "    </tr>\n",
       "    <tr>\n",
       "      <th>pdfplumber</th>\n",
       "      <td>0.759380</td>\n",
       "      <td>0.776838</td>\n",
       "    </tr>\n",
       "    <tr>\n",
       "      <th>pypdfloader</th>\n",
       "      <td>0.741713</td>\n",
       "      <td>0.788849</td>\n",
       "    </tr>\n",
       "    <tr>\n",
       "      <th>unstructured</th>\n",
       "      <td>0.906865</td>\n",
       "      <td>0.839705</td>\n",
       "    </tr>\n",
       "  </tbody>\n",
       "</table>\n",
       "</div>"
      ],
      "text/plain": [
       "                            similarity_response_question  \\\n",
       "model         parser                                       \n",
       "llama2        llamaparse                        0.844584   \n",
       "              pdfplumber                        0.850553   \n",
       "              pypdfloader                       0.856681   \n",
       "              unstructured                      0.848088   \n",
       "nlp_base      llamaparse                        0.745874   \n",
       "              pdfplumber                        0.759380   \n",
       "              pypdfloader                       0.741713   \n",
       "              unstructured                      0.906865   \n",
       "nlp_langchain llamaparse                        0.848223   \n",
       "              pdfplumber                        0.759380   \n",
       "              pypdfloader                       0.741713   \n",
       "              unstructured                      0.906865   \n",
       "\n",
       "                            similarity_response_answer  \n",
       "model         parser                                    \n",
       "llama2        llamaparse                      0.830534  \n",
       "              pdfplumber                      0.815374  \n",
       "              pypdfloader                     0.819354  \n",
       "              unstructured                    0.797751  \n",
       "nlp_base      llamaparse                      0.791079  \n",
       "              pdfplumber                      0.806773  \n",
       "              pypdfloader                     0.792598  \n",
       "              unstructured                    0.740309  \n",
       "nlp_langchain llamaparse                      0.837659  \n",
       "              pdfplumber                      0.776838  \n",
       "              pypdfloader                     0.788849  \n",
       "              unstructured                    0.839705  "
      ]
     },
     "execution_count": 11,
     "metadata": {},
     "output_type": "execute_result"
    }
   ],
   "source": [
    "result.iloc[:, 1:].groupby([\"model\", \"parser\"]).mean()"
   ]
  },
  {
   "cell_type": "markdown",
   "metadata": {},
   "source": [
    "similarity: repsonese vs question"
   ]
  },
  {
   "cell_type": "code",
   "execution_count": 12,
   "metadata": {},
   "outputs": [
    {
     "data": {
      "text/html": [
       "<div>\n",
       "<style scoped>\n",
       "    .dataframe tbody tr th:only-of-type {\n",
       "        vertical-align: middle;\n",
       "    }\n",
       "\n",
       "    .dataframe tbody tr th {\n",
       "        vertical-align: top;\n",
       "    }\n",
       "\n",
       "    .dataframe thead th {\n",
       "        text-align: right;\n",
       "    }\n",
       "</style>\n",
       "<table border=\"1\" class=\"dataframe\">\n",
       "  <thead>\n",
       "    <tr style=\"text-align: right;\">\n",
       "      <th>parser</th>\n",
       "      <th>llamaparse</th>\n",
       "      <th>pdfplumber</th>\n",
       "      <th>pypdfloader</th>\n",
       "      <th>unstructured</th>\n",
       "    </tr>\n",
       "    <tr>\n",
       "      <th>model</th>\n",
       "      <th></th>\n",
       "      <th></th>\n",
       "      <th></th>\n",
       "      <th></th>\n",
       "    </tr>\n",
       "  </thead>\n",
       "  <tbody>\n",
       "    <tr>\n",
       "      <th>llama2</th>\n",
       "      <td>0.844584</td>\n",
       "      <td>0.850553</td>\n",
       "      <td>0.856681</td>\n",
       "      <td>0.848088</td>\n",
       "    </tr>\n",
       "    <tr>\n",
       "      <th>nlp_base</th>\n",
       "      <td>0.745874</td>\n",
       "      <td>0.759380</td>\n",
       "      <td>0.741713</td>\n",
       "      <td>0.906865</td>\n",
       "    </tr>\n",
       "    <tr>\n",
       "      <th>nlp_langchain</th>\n",
       "      <td>0.848223</td>\n",
       "      <td>0.759380</td>\n",
       "      <td>0.741713</td>\n",
       "      <td>0.906865</td>\n",
       "    </tr>\n",
       "  </tbody>\n",
       "</table>\n",
       "</div>"
      ],
      "text/plain": [
       "parser         llamaparse  pdfplumber  pypdfloader  unstructured\n",
       "model                                                           \n",
       "llama2           0.844584    0.850553     0.856681      0.848088\n",
       "nlp_base         0.745874    0.759380     0.741713      0.906865\n",
       "nlp_langchain    0.848223    0.759380     0.741713      0.906865"
      ]
     },
     "execution_count": 12,
     "metadata": {},
     "output_type": "execute_result"
    }
   ],
   "source": [
    "pd.pivot_table(result, index=\"model\", columns=\"parser\", values=\"similarity_response_question\")"
   ]
  },
  {
   "cell_type": "markdown",
   "metadata": {},
   "source": [
    "similarity: responese vs labeled answer"
   ]
  },
  {
   "cell_type": "code",
   "execution_count": 13,
   "metadata": {},
   "outputs": [
    {
     "data": {
      "text/html": [
       "<div>\n",
       "<style scoped>\n",
       "    .dataframe tbody tr th:only-of-type {\n",
       "        vertical-align: middle;\n",
       "    }\n",
       "\n",
       "    .dataframe tbody tr th {\n",
       "        vertical-align: top;\n",
       "    }\n",
       "\n",
       "    .dataframe thead th {\n",
       "        text-align: right;\n",
       "    }\n",
       "</style>\n",
       "<table border=\"1\" class=\"dataframe\">\n",
       "  <thead>\n",
       "    <tr style=\"text-align: right;\">\n",
       "      <th>parser</th>\n",
       "      <th>llamaparse</th>\n",
       "      <th>pdfplumber</th>\n",
       "      <th>pypdfloader</th>\n",
       "      <th>unstructured</th>\n",
       "    </tr>\n",
       "    <tr>\n",
       "      <th>model</th>\n",
       "      <th></th>\n",
       "      <th></th>\n",
       "      <th></th>\n",
       "      <th></th>\n",
       "    </tr>\n",
       "  </thead>\n",
       "  <tbody>\n",
       "    <tr>\n",
       "      <th>llama2</th>\n",
       "      <td>0.830534</td>\n",
       "      <td>0.815374</td>\n",
       "      <td>0.819354</td>\n",
       "      <td>0.797751</td>\n",
       "    </tr>\n",
       "    <tr>\n",
       "      <th>nlp_base</th>\n",
       "      <td>0.791079</td>\n",
       "      <td>0.806773</td>\n",
       "      <td>0.792598</td>\n",
       "      <td>0.740309</td>\n",
       "    </tr>\n",
       "    <tr>\n",
       "      <th>nlp_langchain</th>\n",
       "      <td>0.837659</td>\n",
       "      <td>0.776838</td>\n",
       "      <td>0.788849</td>\n",
       "      <td>0.839705</td>\n",
       "    </tr>\n",
       "  </tbody>\n",
       "</table>\n",
       "</div>"
      ],
      "text/plain": [
       "parser         llamaparse  pdfplumber  pypdfloader  unstructured\n",
       "model                                                           \n",
       "llama2           0.830534    0.815374     0.819354      0.797751\n",
       "nlp_base         0.791079    0.806773     0.792598      0.740309\n",
       "nlp_langchain    0.837659    0.776838     0.788849      0.839705"
      ]
     },
     "execution_count": 13,
     "metadata": {},
     "output_type": "execute_result"
    }
   ],
   "source": [
    "pd.pivot_table(result, index=\"model\", columns=\"parser\", values=\"similarity_response_answer\")"
   ]
  },
  {
   "cell_type": "code",
   "execution_count": null,
   "metadata": {},
   "outputs": [],
   "source": []
  }
 ],
 "metadata": {
  "kernelspec": {
   "display_name": "capstone",
   "language": "python",
   "name": "python3"
  },
  "language_info": {
   "codemirror_mode": {
    "name": "ipython",
    "version": 3
   },
   "file_extension": ".py",
   "mimetype": "text/x-python",
   "name": "python",
   "nbconvert_exporter": "python",
   "pygments_lexer": "ipython3",
   "version": "3.11.9"
  }
 },
 "nbformat": 4,
 "nbformat_minor": 2
}
