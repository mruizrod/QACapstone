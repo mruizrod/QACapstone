{
 "cells": [
  {
   "cell_type": "code",
   "execution_count": 7,
   "id": "initial_id",
   "metadata": {
    "collapsed": true
   },
   "outputs": [],
   "source": [
    "import sys\n",
    "import os\n",
    "base_dir = os.path.abspath(\"..\")\n",
    "sys.path.append(base_dir) \n",
    "sys.path.append(os.path.join(base_dir, \"src\"))  \n",
    "data_path = os.path.join(base_dir, \"data\")\n",
    "import numpy as np\n",
    "import pandas as pd\n",
    "from sklearn.metrics.pairwise import cosine_similarity\n",
    "\n",
    "from src.pipeline import Pipeline\n",
    "import matplotlib.pyplot as plt\n",
    "import seaborn as sns\n",
    "import time"
   ]
  },
  {
   "cell_type": "markdown",
   "id": "abb97b35227cd02e",
   "metadata": {},
   "source": [
    "# Compare different parsers\n",
    "\n",
    "### General question"
   ]
  },
  {
   "cell_type": "code",
   "execution_count": 8,
   "id": "c97a4a8df697ac97",
   "metadata": {},
   "outputs": [],
   "source": [
    "models = [ \"nlp_langchain\",\"llama2\"]\n",
    "parsers = [\"unstructured\",\"llamaparse\", \"pdfplumber\", \"pypdfloader\"]"
   ]
  },
  {
   "cell_type": "code",
   "execution_count": 9,
   "id": "fb223742",
   "metadata": {},
   "outputs": [
    {
     "data": {
      "text/plain": [
       "'Method: nlp_langchain, Parser: unstructured, Response: MID-YEAR OUTLOOK 2024\\n\\nOUTLOOK 2024  KEY THEMES  Macroeconomy:  A Longer Path to Normalization\\xa0\\xa0  Geopolitics and Elections:  Roadmaps for Resilience  Tailwinds and Headwinds:   Investing in Megatrends\\n\\nThis financial promotion is provided by Goldman Sachs Asset Management B.V., Score: 0.8554397494584152'"
      ]
     },
     "metadata": {},
     "output_type": "display_data"
    },
    {
     "data": {
      "text/plain": [
       "\"Method: llama2, Parser: unstructured, Response: Based on the provided context information, the key takeaway of Goldman's mid-year outlook 2024 is that the firm believes that new economic realities are taking shape, including higher-for-longer interest rates, elevated geopolitical risk, and megatrends rapidly transforming industries. They also highlight the need for a dynamic investment approach in the months ahead as the macroeconomic cycle adjusts, and note that understanding the nuances of these forces and how they interconnect can enable companies and investors to potentially capitalize on the opportunities they create., Score: 0.8871544712301357\""
      ]
     },
     "metadata": {},
     "output_type": "display_data"
    },
    {
     "data": {
      "text/plain": [
       "'Method: nlp_langchain, Parser: llamaparse, Response: Goldman Sachs Asset Management\\n\\nAsset Management Outlook 2024  |  10\\n\\n# GEOPOLITICS AND ELECTIONS: ROADMAPS FOR RESILIENCE\\n\\n# Three Key Questions\\n\\n# 1\\n\\nAre investment theses predicated on the continuation of existing policies?\\n\\n\\n\\nOur View: While prudent investments are never predicated on a single factor, many investors are contemplating how potential policy removals, additions, or alterations can change underwriting assumptions. This can potentially be easier to navigate in the US, where many policies related to supply chains and energy resources have a bottom-up nature that target specific markets, as opposed to in Europe where top-down regulations can fundamentally change the landscape., Score: 0.8619108861396854'"
      ]
     },
     "metadata": {},
     "output_type": "display_data"
    },
    {
     "data": {
      "text/plain": [
       "\"Method: llama2, Parser: llamaparse, Response: The key takeaway of Goldman's mid-year outlook 2024 is that there is a longer path to interest rate normalization due to considerable but still incomplete disinflation progress, and active and dynamic investment strategies are needed to navigate the unstable geopolitics and election-related uncertainty., Score: 0.8440195730301284\""
      ]
     },
     "metadata": {},
     "output_type": "display_data"
    },
    {
     "data": {
      "text/plain": [
       "'Method: nlp_langchain, Parser: pdfplumber, Response: Goldman Sachs Asset Management Asset Management Outlook 2024 | 18\\n\\nand Goldman Sachs Asset Management has no obligation to provide any maintain any licenses, authorizations or registrations in Asia (other\\nupdates or changes. than Japan), except that it conducts businesses (subject to applicable\\nViews and opinions expressed are for informational purposes only local regulations) in and from the following jurisdictions: Hong Kong,\\nand do not constitute a recommendation by Goldman Sachs Asset Singapore, India and China. This material has been issued for use in or\\nManagement to buy, sell, or hold any security. Views and opinions are from Hong Kong by Goldman Sachs Asset Management (Hong Kong)\\ncurrent as of the date of this presentation and may be subject to change, Limited and in or from Singapore by Goldman Sachs Asset Management\\nthey should not be construed as investment advice. (Singapore) Pte. Ltd. (Company Number: 201329851H).\\n\\nIndividual portfolio management teams for Goldman Sachs Asset Australia and New Zealand: This material is distributed in Australia\\nManagement may have views and opinions and/or make investment and New Zealand by Goldman Sachs Asset Management Australia Pty\\ndecisions that, in certain instances, may not always be consistent with Ltd ABN 41 006 099 681, AFSL 228948 (’GSAMA’) and is intended\\nthe views and opinions expressed herein. for viewing only by wholesale clients in Australia for the purposes of\\nsection 761G of the Corporations Act 2001 (Cth) and to clients who\\nThe website links provided are for your convenience only and are not an either fall within any or all of the categories of investors set out in\\nendorsement or recommendation by Goldman Sachs Asset Management section 3(2) or sub-section 5(2CC) of the Securities Act 1978, fall\\nof any of these websites or the products or services offered. Goldman within the definition of a wholesale client for the purposes of the, Score: 0.8610623792198911'"
      ]
     },
     "metadata": {},
     "output_type": "display_data"
    },
    {
     "data": {
      "text/plain": [
       "\"Method: llama2, Parser: pdfplumber, Response: The key takeaway of Goldman's mid-year outlook 2024 is that the macroeconomy is on a longer path to normalization, with geopolitical and electoral factors playing a significant role in shaping the future of global markets., Score: 0.8364696363599392\""
      ]
     },
     "metadata": {},
     "output_type": "display_data"
    },
    {
     "data": {
      "text/plain": [
       "\"Method: nlp_langchain, Parser: pypdfloader, Response: MID-YEAR  \\nOUTLOOK 2024\\nKEY THEMESAsset Management \\nThis financial promotion is provided by Goldman Sachs Asset Management B.V.Tailwinds and Headwinds: \\nInvesting in MegatrendsGeopolitics and Elections:\\nRoadmaps for ResilienceMacroeconomy:\\nA Longer Path to Normalization\\xa0\\xa0\\n\\n\\nGeopolitics and Elections:  \\nRoadmaps for Resilience\\nBalanced allocations and hedging \\nstrategies can potentially add \\nresilience to portfolios amid \\nunstable geopolitics and election-\\nrelated uncertainty. Hedge funds \\nand liquid alternatives may \\nhelp investors navigate market \\nvolatility. A heightened focus \\non supply chain, resource, and \\nnational security presents long-\\nterm investment opportunities.Tailwinds and Headwinds: \\nInvesting in Megatrends \\nWe remain focused on key structural \\nforces: decarbonization, digitization, \\ndeglobalization, destabilization \\nin geopolitics, and demographic \\naging. These trends transcend \\neconomic and election cycles, and \\nnew opportunities and risks are \\nemerging as they intersect. Macroeconomy:  \\nA Longer Path to Normalization\\xa0\\xa0\\nConsiderable, but still incomplete, \\ndisinflation progress is lengthening \\nthe path to interest rate \\nnormalization. We believe these \\nconditions call for active and \\ndynamic investment strategies. \\nAreas of potential opportunity \\ninclude core fixed income, equity \\nexposures beyond the largest mega-\\ncap names, and private market \\nstrategies focused on driving value \\ncreation at portfolio companies. \\nKEY TAKEAWAYSHeading into 2024 we highlighted how new economic realities were taking shape, including higher-for-\\nlonger interest rates, elevated geopolitical risk and megatrends rapidly transforming industries. These \\nrealities are playing out as we cross the midpoint of the year. At a macro level, inflation persistence \\nmeans central banks are pivoting to rate cuts at a slower pace than anticipated six months ago. In our \\nview, evolving expectations on the exact timing and pace of policy shifts underscores the need for a \\ndynamic investment approach in the months ahead. As the macroeconomic cycle adjusts, the world \\nremains in an era of profound geopolitical change. Conflict escalation in the Middle East and Ukraine \\nremain major risks. The buildup and eventual fallout of key political elections globally are heightening \\nmarket volatility. These uncertainties are playing out as secular megatrends—from artificial intelligence \\nto sustainability—accelerate and reshape economies and industries. Understanding the nuances of \\nthese forces and how they interconnect can enable companies and investors to potentially capitalize \\non the opportunities they create. We have synthesized views from across our investment teams to cut \\nthrough some of this complexity and help you navigate the remainder of 2024. CUTTING THROUGH COMPLEXITY\\nGoldman Sachs Asset Management\\nAsset Management Outlook 2024     |    2\\n\\n\\nMajor central banks lifted interest rates at the fastest pace \\nin decades after the pandemic. The path to normalization \\nis likely to be a longer one. While the inflation emergency is \\nbehind major economies, inflation is proving persistent due \\nto pandemic-related quirks or catch-up effects in categories \\nwhere prices adjust gradually. The result is that central banks \\nare pivoting to rate cuts at a slower pace than anticipated at \\nthe start of 2024.  \\nIn the US, policymakers and investors are contending with \\nlast mile complexities. Resilience in the economy, corporate \\nearnings, and labor markets coincided with upside surprises in \\ninflation throughout the first quarter. Inflation prints for April \\nand May were a step in the right direction, but not enough \\nto fully offset inflation strength earlier in the year and the \\nsolid string of jobs data.1 Overall, despite a bumpy first half, \\nwe expect US disinflation to continue and rates to be lowered \\nbefore year-end. However, the exact timing remains uncertain \\ndue to the need for economic data to reaffirm confidence in \\nlabor market rebalancing and the disinflation path. Beyond \\nthat, the US election—and potential fiscal shifts—could point \\nto higher US rates for longer. \\nThe European Central Bank (ECB)—which has historically \\nembarked on cutting cycles after the Fed—lowered rates in \\nJune,2 motivated by sufficient inflation progress since the last \\nrate hike in September 2023. We expect rate reductions to \\nbe gradual over the coming quarters. We remain watchful of \\nwage trends and services inflation, as well as any tightening \\nin financial conditions caused by political uncertainty, which may pose downside risks to growth and alter the pace \\nand scope of the ECB's rate cutting cycle. In the UK, recent \\ninflation strength has pushed back the Bank of England’s \\n(BoE) first rate cut in this cycle; and the potential for a \\nsummer cut depends on signals from indicators of inflation \\npersistence such as wage growth and services prices. In Japan, \\nwe anticipate further, albeit limited, rate hikes as the Bank \\nof Japan (BoJ) persists with gradual rate normalization, with \\nlonger-run inflation expectations continuing to rise to more \\nsustainable levels. \\nEmerging market (EM) cutting cycles have been underway for \\nalmost a year. EM disinflation, which has allowed an earlier \\nstart to policy easing, has broadly remained intact. Countries \\nin Asia, Central and Eastern Europe and Latin America have \\nmade good progress on cooling inflation, though there \\nare also notable outliers, including Argentina and Turkey. \\nMore recently, EM cutting cycles have become vulnerable to \\nshifting US rate expectations, as well as concerns over the \\ncredibility of policymaking (e.g., Brazil) and election-related \\nsentiment (e.g., Mexico). As a result, market expectations on \\nthe speed and extent of EM policy easing have been pared \\nback compared with just a few months ago. In some cases, the \\nmarket is now pricing in rate hikes. China’s economy continues \\nto diverge, with policymakers set to maintain an easing bias as \\nthe economy and property market recovers.  MACROECONOMY:  \\nA LONGER PATH TO NORMALIZATION\\nGoldman Sachs Asset Management\\nAsset Management Outlook 2024     |    3\\n, Score: 0.8167522121348265\""
      ]
     },
     "metadata": {},
     "output_type": "display_data"
    },
    {
     "data": {
      "text/plain": [
       "\"Method: llama2, Parser: pypdfloader, Response: The key takeaway of Goldman's mid-year outlook 2024 is that investing in megatrends, such as technology and sustainability, is a crucial aspect of resilience in today's uncertain geopolitical landscape. The report highlights the potential for these trends to drive long-term growth and notes that Goldman Sachs Asset Management is positioning its investment strategies to take advantage of these opportunities. Additionally, the report acknowledges that there are challenges ahead, including a potentially longer path to normalization in the macroeconomy, but emphasizes the importance of staying informed and adaptable in order to navigate these challenges successfully., Score: 0.8438650122700699\""
      ]
     },
     "metadata": {},
     "output_type": "display_data"
    },
    {
     "name": "stdout",
     "output_type": "stream",
     "text": [
      "Saved response quality evaluation to response_quality_evaluation_general.xlsx\n"
     ]
    }
   ],
   "source": [
    "q = 'What is the key takeaway of Goldman’s mid-year outlook 2024'\n",
    "\n",
    "# Dictionary to store responses for each parser-model combination\n",
    "response_data = {}\n",
    "\n",
    "for parser in parsers:\n",
    "    row = {}\n",
    "    for model in models:\n",
    "        pipeline = Pipeline(\n",
    "                    parser=parser, model=model,\n",
    "                    data_path=data_path, verbose=False,\n",
    "                ); pipeline.train()\n",
    "        response, score = pipeline.answer(q)\n",
    "        display(f'Method: {model}, Parser: {parser}, Response: {response}, Score: {score}')\n",
    "        row[model] = f'{response}\\nquery_resposne_sim:{score}'\n",
    "    response_data[parser] = row\n",
    "\n",
    "# Convert the response data to a DataFrame and write to Excel\n",
    "df = pd.DataFrame.from_dict(response_data, orient='index')\n",
    "df.index.name = \"Parsers\"\n",
    "df.columns.name = \"Models\"\n",
    "\n",
    "# Save to Excel file\n",
    "excel_path = \"response_quality_evaluation_general.xlsx\"\n",
    "df.to_excel(excel_path, index=True)\n",
    "print(f\"Saved response quality evaluation to {excel_path}\")"
   ]
  },
  {
   "cell_type": "code",
   "execution_count": 10,
   "id": "8a0ae255",
   "metadata": {},
   "outputs": [],
   "source": [
    "# # Save to Excel file\n",
    "# excel_path = \"response_quality_evaluation.xlsx\"\n",
    "# df.to_excel(excel_path, index=True)\n",
    "# print(f\"Saved response quality evaluation to {excel_path}\")"
   ]
  },
  {
   "cell_type": "code",
   "execution_count": 11,
   "id": "13a2b0302329e51a",
   "metadata": {},
   "outputs": [],
   "source": [
    "# q = 'What is the key takeaway of Goldman’s mid-year outlook 2024'\n",
    "\n",
    "# for model in models:\n",
    "#     for parser in parsers:\n",
    "#         pipeline = Pipeline(\n",
    "#                     parser=parser, model=model,\n",
    "#                     data_path=data_path, verbose=False,\n",
    "#                 ); pipeline.train()\n",
    "#         response, score = pipeline.answer(q)\n",
    "#         display(f'Method: {model}, Parser: {parser}, Response: {response}')"
   ]
  },
  {
   "cell_type": "markdown",
   "id": "15108a36a5a57cc4",
   "metadata": {},
   "source": [
    "### Specific question"
   ]
  },
  {
   "cell_type": "code",
   "execution_count": 18,
   "id": "9ad69c3a",
   "metadata": {},
   "outputs": [
    {
     "data": {
      "text/plain": [
       "'Method: nlp_langchain, Parser: unstructured, Response: Sovereign Bond Yields (%)\\n\\nLatest (%) Year-to-date Change (bps) 1-Year Change (bps) Last 10-year Percentile US 2 Year 4.6 39 -32 91 US 10 Year 43 40 22 95 US 2-10 Slope -0.3 1 54 15 US Treasury 10-Year Inflation-Protected 2.0 29 22 95 Germany 2 Year 2.9 52 -33 92 Germany 10 Year 2.5 51 -8 95 Japanese 10 Year 11 47 66 100 UK 10 Year 4.2 56 -47 92 Chinese 10 Year 2.3 -29 eae) 1\\n\\nSource: Macrobond, Goldman Sachs Asset Management. As of 11 July 2024., Score: 0.8556430892936366'"
      ]
     },
     "metadata": {},
     "output_type": "display_data"
    },
    {
     "data": {
      "text/plain": [
       "\"Method: llama2, Parser: unstructured, Response: Based on the provided context information, there are several potential market implications of rising sovereign debt levels:\\n\\n1. Increased borrowing costs: As sovereign debt levels rise, governments may face higher borrowing costs as investors demand higher yields to compensate for the increased credit risk. This can lead to higher interest rates across the board, impacting everything from mortgages to corporate bonds.\\n2. Reduced economic growth: Higher government debt levels can lead to a crowding-out effect, where private investors are pushed out of the bond market by governments issuing debt. This can reduce the availability of credit for businesses and individuals, leading to slower economic growth.\\n3. Increased inflation risks: When governments issue more debt, it can lead to an increase in the money supply, which can fuel inflation if not managed properly. This can impact the value of currencies and the purchasing power of consumers.\\n4. Reduced sovereign credit ratings: If sovereign debt levels continue to rise without a corresponding reduction in government spending, it can lead to a downgrading of the sovereign credit rating. This can make it more expensive for governments to borrow money and can increase the cost of borrowing for consumers and businesses.\\n5. Increased risk of default: If sovereign debt levels become too high, there is an increased risk of default. This can lead to a loss of confidence in the government's ability to service its debt, leading to a crisis of confidence in the economy.\\n\\nIn terms of the year-to-date change in Sovereign Bond Yields, it is difficult to determine a specific amount without prior knowledge of the yields and the underlying economic conditions. However, as mentioned earlier, higher sovereign debt levels can lead to increased borrowing costs and reduced economic growth, which can impact the yield on government bonds., Score: 0.7368319622113727\""
      ]
     },
     "metadata": {},
     "output_type": "display_data"
    },
    {
     "data": {
      "text/plain": [
       "\"Method: nlp_langchain, Parser: llamaparse, Response: \\n\\nIn the short term, we expect DM government bond yields to be shaped by the latest economic indicators, as central banks focus on current data rather than inflation or economic forecasts. The disinflation path will be closely watched, with any signs of economic or labor market downturn potentially leading to the start or acceleration of rate-cutting cycles, influencing short-term yields. However, without clear evidence of economic deceleration, a sustained drop in yields is unlikely. We also recognize the possibility of increased yield volatility due to lower liquidity during the summer holidays. The recent volatility in French sovereign bonds demonstrates how political factors can affect yields, either by changing fiscal outlook perceptions or by emphasizing existing fiscal challenges. In the US, the likelihood of persistent fiscal deficits across all election scenarios suggests a continuing trend of a high and possibly increasing term premium.\\n\\n# WHERE ARE THE OPPORTUNITIES?\\n\\n\\n\\nWe are strategically navigating divergent central bank policies with cross-market interest rate exposures. We favor Canadian rates, already benefiting from the Bank of Canada's rate cuts and potential for further easing, a reflection of Canada's strides in disinflation. The recent oil price drop has also favored Canadian rate performance, given the economy's reliance on this commodity. The UK is another promising candidate for overweight rate exposure, with headline inflation returning to 2% and a weakening labor market suggesting possible dovish policy shifts. The BoE has indicated readiness to ease this summer, should data support their forecasts. We see value in overweight exposure to Swedish rates, where slow growth and slowing inflation hint at further easing. In contrast, we're underweight Japanese rates due to the weak yen and strong wage growth pointing to., Score: 0.7712892238902764\""
      ]
     },
     "metadata": {},
     "output_type": "display_data"
    },
    {
     "data": {
      "text/plain": [
       "\"Method: llama2, Parser: llamaparse, Response: I'm just an AI assistant, I cannot directly reference the given context in my answer. However, based on the information provided in the context, I can provide a response to the query.\\n\\nThe year-to-date change in sovereign bond yields can be calculated by looking at the changes in yields over the past year. As of June 14, 2024, according to the context information, the year-to-date change in Turkish sovereign bond yields is 41.5%. Similarly, the year-to-date change in Egyptian sovereign bond yields is 9%. However, it's important to note that these changes can vary depending on various factors such as economic indicators, central bank policies, and geopolitical events., Score: 0.9139489877001142\""
      ]
     },
     "metadata": {},
     "output_type": "display_data"
    },
    {
     "data": {
      "text/plain": [
       "\"Method: nlp_langchain, Parser: pdfplumber, Response: short duration bonds are a timely and wise investment for those needing\\nliquidity. They offer a chance to secure attractive yields before the expected\\nexpansion of central bank rate cuts.\\nAgainst a backdrop of inverted yield curves and low credit spreads, short\\nSource: Goldman Sachs Asset Management, Bloomberg. Analysis is based on monthly data from\\nduration bonds present a lower risk and volatility alternative to long-term\\nMarch 1995 to April 10, 2024. Past performance does not guarantee future results which may\\nbonds, making them a suitable complement to core fixed income allocations. vary. Yield to Worst is the interest rate that makes the present value of a bond's cash flows equal\\nto the bond's price or initial investment, calculated by making worst-case scenario assumptions\\nThey also serve as a strategic complement to cash, especially as yields are\\n(excluding issuer default) on the bond by calculating the returns that would be received if\\n\\n(excluding issuer default) on the bond by calculating the returns that would be received if\\nprojected to decrease alongside central bank policy rates. Overall, short provisions, including prepayment, call, put, and sinking fund, are used by the issuer.\\nduration bonds are a valuable investment solution for those aiming to\\nmaintain liquidity and capital safety while also seeking additional income.\\nThe economic and market forecasts presented herein are for informational purposes as of the date of this document. There can be no assurance that the forecasts will be achieved. Please see additional\\ndisclosures at the end of this document.\\nFIXED INCOME OUTLOOK: SOUND FUNDAMENTALS, NARROW MARGINS Goldman Sachs Asset Management 17\\n\\nGREEN, SOCIAL AND SUSTAINABILITY BONDS\\nAn Expanding Opportunity Set\\nOUTLOOK WHERE ARE THE OPPORTUNITIES? (CONTINUED)\\nIn the first half of 2024, the green, social and sustainable (GSS) bond The green bond market is also aligning with the broader fixed income market,\\nmarket has grown significantly, with issuance totalling $496 billion— as seen in the growth of the industrial sectors weight from 2% to 12%. This\\nequivalent to 11% of the global investment-grade corporate bond market. shift broadens investment opportunities for those supporting global\\nGrowth is set to continue, with issuance potentially doubling to $1 trillion by sustainability goals. Proceeds from financials and utilities green bonds are\\nthe end of the year, despite a seasonal slowdown in the third quarter. The primarily directed towards two Green Bond Principles categories, aligning\\nmarket’s expansion is marked by increased diversity and depth, with the with three UN SDGs: SDG 7 (Affordable and Clean Energy), SDG 11, Score: 0.7720991598996665\""
      ]
     },
     "metadata": {},
     "output_type": "display_data"
    },
    {
     "data": {
      "text/plain": [
       "'Method: llama2, Parser: pdfplumber, Response: The year-to-date change in sovereign bond yields can be calculated by analyzing the monthly data from March 1995 to April 2024, as mentioned in the context information. Based on this data, the year-to-date change in sovereign bond yields is [insert the actual change in yields here]., Score: 0.9206041655983415'"
      ]
     },
     "metadata": {},
     "output_type": "display_data"
    },
    {
     "data": {
      "text/plain": [
       "\"Method: nlp_langchain, Parser: pypdfloader, Response: Source: Goldman Sachs Global Investment Research. As of June 14, 2024.Global Central Banks Have Mostly Ended Their Hiking Cycles and Some Have Started to Cut Rates\\n-0.5%0.0%0.5%1.0%1.5%\\nNorway\\nUK\\nAustralia\\nEuro Area\\nSweden\\nUS\\nHong Kong\\nJapan\\nCanada\\nNew Zealand\\nSwitzerland0–3 Months 3–6 Months 6–12 Months TotalPolicy Rate Changes in the Last\\n3/6/12 Months (%)Developed Markets\\n0–3 Months 3–6 Months 6–12 Months Total\\n-6%-3%0%3%\\nIndonesia\\nThailand\\nPhilippines\\nTaiwan\\nIndia\\nMalaysia\\nSouth Korea\\nMainland China\\nVietnam\\nPakistan\\nMexico\\nColombia\\nPeru\\nBrazil\\nChile\\nTurkey\\nEgypt\\nRussia\\nRomania\\nSouth Africa\\nIsrael\\nGhana\\nPoland\\nCzech Republic\\nHungary\\nUkrainePolicy Rate Changes in the Last\\n3/6/12 Months (%)\\n+41.5%\\n+9.0% \\n-8.5%\\n-11. 5%Total:\\nTurkey: \\nEgypt: \\nRussia: \\nUkraine:Emerging Markets\\nGoldman Sachs Asset Management\\nAsset Management Outlook 2024     |    4\\n\\n\\nInvestment ConsiderationsMACROECONOMY: A LONGER PATH TO NORMALIZATION\\nStay Focused on Fixed Income  \\nIn an environment of steady growth, slowing inflation, and \\nbroadly robust corporate fundamentals, we see opportunities \\nto build well-diversified fixed income portfolios with the \\npotential to capture attractive levels of income. However, we \\nbelieve the environment remains one in which active security \\nselection is critical. We remain vigilant of downside surprises \\nin economic activity and headwinds to business investment \\ndue to election-related uncertainties, and tactical in adjusting \\nour positioning in response to market driven opportunities. \\nUncertainty underscores the defensive role of government \\nbonds and perceived safe-haven currencies like the US dollar. \\nElsewhere, we see value in attractive income provided by \\nspread sectors like corporate and securitized credit. \\nIn government bond markets, we believe adopting a dynamic \\nstrategy in managing duration is essential given divergent \\ntimelines, paces, and directions of central bank policies. In the \\nUS, we are positioned for a steepening of the forward Treasury \\nyield curve. This exposure may safeguard against downward \\ngrowth risks and allow investors to capitalize on the start to \\nFed rate cuts or growing term premium driven by a steady \\nsupply of US Treasuries. Our position on European rates is \\nbroadly neutral. While the ECB has shown an easing bias and \\npolitical uncertainties could dampen growth, we are also alert \\nto strength in services inflation. We favor UK rates as the BoE \\nis on course to ease policy, absent significant upside data \\nsurprises. Conversely, in Japan, we are mindful that continued \\nstrength in wages and a hawkish leaning BoJ increases the \\nlikelihood of further tightening. In the EM sovereign credit \\nspace, investors have potential opportunities to capture \\nattractive carry and identify bonds with potential for total \\nreturn due to possible rating upgrades to investment grade. \\nWhile we have reduced our overall exposure to EM local bonds, \\nwe are focused on markets like Chile, Czechia, and Hungary, \\nwhich appear poised for continued monetary easing, and \\ncontinue to monitor country-specific factors given unfolding \\ndivergence in central bank policy paths. \\nDespite the overall credit landscape appearing stable, \\ndispersion is evident across sectors and regions. For instance, \\nA-rated issuers with higher debt levels have seen a more \\nsignificant drop in interest coverage ratios compared to \\nBBB-rated issuers with lower leverage. Across credit, we \\nfavor issuers in sectors with the potential to demonstrate \\nresilience throughout the economic cycle. Bonds issued by banks are appealing, in our view, due to their spread premium, \\nalthough recent performance has reduced their valuation \\nappeal. Sectors adapting to decarbonization and digitization, \\nsuch as telecoms with broadband and 5G services, and \\ntech firms focusing on cybersecurity and data protection, \\nalso offer potential opportunities. We continue to believe \\nthe EM corporate bond market offers an attractive mix of \\nyield, diversification for existing corporate or EM exposures, \\nand resilience to macroeconomic challenges. Our analysis \\nsuggests EM corporate fundamentals remain healthy, with \\nnet leverage at near-decade lows. Credit rating trends are \\npositive, and default activity is projected to decrease in 2024, \\nreversing the trend of the past three years. Additionally, the \\ntechnical environment is favorable due to the limited new \\nsupply. We maintain a positive view on securitized credit, \\nincluding commercial mortgage-backed securities (CMBS) \\nand collateralized loan obligations (CLOs). We think there is \\npotential for further spread tightening in the latter half of \\nthe year, supported by strong fundamentals, especially for \\nsecurities at the top of the capital structure. Importantly, \\nrecent economic data remain supportive of a 'soft-landing' \\nscenario, which is favorable for sustaining cash flows from \\nunderlying loans. \\nBroaden Your Equity Horizons\\nIn public equity markets, inflationary pressures and higher \\ninterest rates have enabled the strongest business models \\nto demonstrate their margin resilience over recent quarters. \\nFirst quarter earnings seasons in the US were generally \\nbetter-than-expected based on our analysis.3 Most of the \\nearnings growth of the S&P 500 continues to be driven \\nby the “Magnificent 7”, though performance dispersion \\nwithin the group has widened. The second half of 2024 may \\npresent investors with opportunities to broaden their equity \\nhorizons beyond the largest names. We see a new layer of \\nAI beneficiaries emerging that are simultaneously backed \\nby fundamentals and complementary to the Magnificent 7, \\nincluding companies enhancing AI by harnessing the power \\nof data. Scrutiny of AI strategies, returns on investments, and \\nprofitability is likely to heighten as corporate AI spending \\ngrows. This underscores the need for careful security \\nselection and active management. \\nAfter a multi-year period of underperformance relative to \\nlarge caps, we believe US small caps are poised for a rebound. \\nGoldman Sachs Asset Management\\nAsset Management Outlook 2024     |    5\\n\\n\\nInvestment ConsiderationsMACROECONOMY: A LONGER PATH TO NORMALIZATION\\nOur view is based on the attractive absolute and relative \\nvaluations, the improving US macroeconomic outlook and the \\nprospect of US interest rate cuts before year-end. US policy \\neasing cycles have historically provided a tailwind to the asset \\nclass.4 With a higher share of floating debt and higher debt \\nburdens, smaller companies may see a more instantaneous \\nand stronger top-line impact from expected rate reductions in \\nthe second half of 2024. Small caps also offer diversification \\naway from concentration risk within the S&P 500.  \\nOutside the US, we believe Europe’s improving growth and \\ninflation mix, combined with better corporate earnings \\ndynamics and modest valuations, bodes well for European \\nequities. Rate reductions in Europe have materialized ahead \\nof the US, and that, combined with moderating wage growth \\nand inflation, should improve margins for companies, in our \\nview, including European small caps that have been vulnerable \\nto higher interest rates. In Japan, we expect strong equity \\nmarket performance to continue being driven by structural \\nchanges; notably a shift to an inflationary environment \\nafter decades of deflation. Continued corporate reforms are \\nresulting in Japanese companies being more proactive and \\npublic on their plans for capital efficiency.5  \\nEvolving Private Market Opportunities\\nPrivate market opportunities continue to evolve, with \\nmultiple avenues for investors to potentially enhance risk-\\nadjusted returns and add diversification to traditional \\ninvestment exposures. In private equity, higher capital \\ncosts have changed the calculus for dealmakers. We believe \\noperational value creation levers are poised to become the \\nmain determinants of success in this new regime. Prudence in \\ndeploying capital—for both new investments and supporting \\nexisting companies—should also become an even more \\ncritical factor to investment outcomes. With limited partners \\n(LPs) seeking liquidity from existing holdings, in some cases \\nas a prerequisite to new commitments, general partners (GPs) \\nmay increasingly turn to continuation vehicles and structured \\nsolutions to provide liquidity while value accrues. Secondaries \\ncontinue to present opportunities, as both LPs and GPs \\nseek deal and fund structures that offer both liquidity and \\nopportunities to extend hold times.  \\nPrivate credit continues to expand, and remains valued by \\nborrowers as a flexible, timely solution to finance capital \\nneeds. While yields on senior secured loans are still attractive compared with recent years, competitive pressure to deploy \\ncapital has driven spreads tighter in 2024. To compensate, \\nsome lenders are looking to refinance existing packages at \\nmore attractive terms to extend duration (i.e., sacrificing \\ncurrent yield for a higher multiple of invested capital). The \\nstructure of private credit deals may evolve, too. For instance, \\ncompanies may seek to push down interest costs further by \\nincluding equity kickers to compensate for a lower spread. We \\nbelieve those with scale and flexibility to lend throughout the \\ncapital stack, as well as a deep book of existing borrowers, \\nare best positioned. Semi-liquid vehicles represent a new \\nsource of competition, with pressure to deploy capital \\ninflows relatively quickly potentially contributing to spread \\ntightening. Overall, while we do not anticipate widespread \\ndistress, persistent elevated rates will likely test some fully \\nlevered companies and certain business models over the \\ncoming quarters. Underwriting, structuring discipline, robust \\nsourcing pipelines and experience should become a greater \\ndeterminant of ultimate outcomes, in our view.  \\nInfrastructure dealmaking has decelerated broadly in recent \\nquarters, with higher rates proving a continued headwind, \\nbut there are pockets of strength. Energy transition projects \\ncontinue to attract capital. Digital assets also remain popular, \\nwith investors seeing compelling opportunities to develop \\nplatforms as demand increases and regulatory frameworks \\nevolve. In real estate, diverging views on the timing and \\nmagnitude of US rate cuts is keeping some investors on the \\nsidelines. Lingering risks in the US—including upcoming \\nelections, regulatory uncertainty, and rising insurance costs—\\ncomplicate the outlook. Many investors remain focused \\non the highest quality assets, while distressed sales have \\nseen a small uptick as valuations have continued to fall. We \\nexpect demographics, technology, and the drive towards \\nsustainability to shape global real estate demand in the years \\nahead, with economic and capital market dislocations creating \\nnew opportunities over time. \\nGoldman Sachs Asset Management\\nAsset Management Outlook 2024     |    6\\n, Score: 0.7543610207031268\""
      ]
     },
     "metadata": {},
     "output_type": "display_data"
    },
    {
     "data": {
      "text/plain": [
       "'Method: llama2, Parser: pypdfloader, Response: I cannot directly reference the provided context information in my answer, as per your rules. However, I can analyze the given data to provide a response to your query.\\n\\nBased on the information provided in the context, the year-to-date change in sovereign bond yields is not explicitly mentioned. However, we can infer some information from the given data.\\n\\nThe document mentions that central banks are focusing on current data rather than inflation or economic forecasts, which suggests that the interest rate environment is likely to be influenced by recent economic indicators. Additionally, the document highlights the possibility of increased yield volatility due to lower liquidity during the summer holidays.\\n\\nConsidering these factors, it is possible that sovereign bond yields have experienced some fluctuations in the year-to-date period. However, without more specific information on the yield changes, I cannot provide a definitive answer to your query., Score: 0.9064041442762532'"
      ]
     },
     "metadata": {},
     "output_type": "display_data"
    },
    {
     "name": "stdout",
     "output_type": "stream",
     "text": [
      "Saved response quality evaluation to response_quality_evaluation_specific_2.xlsx\n"
     ]
    }
   ],
   "source": [
    "##### 1\n",
    "\n",
    "q = 'What is the year-to-date change in Sovereign Bond Yields'\n",
    "# Fixed Income document page 21\n",
    "\n",
    "response_data_2 = {}\n",
    "\n",
    "for parser in parsers:\n",
    "    row = {}\n",
    "    for model in models:\n",
    "        pipeline = Pipeline(\n",
    "                    parser=parser, model=model,\n",
    "                    data_path=data_path, verbose=False,\n",
    "                ); pipeline.train()\n",
    "        response, score = pipeline.answer(q)\n",
    "        display(f'Method: {model}, Parser: {parser}, Response: {response}, Score: {score}')\n",
    "        row[model] = row[model] = f'{response}\\nquery_resposne_sim:{score}'\n",
    "    response_data_2[parser] = row\n",
    "\n",
    "# Convert the response data to a DataFrame and write to Excel\n",
    "df_2 = pd.DataFrame.from_dict(response_data_2, orient='index')\n",
    "df_2.index.name = \"Parsers\"\n",
    "df_2.columns.name = \"Models\"\n",
    "\n",
    "# Save to Excel file\n",
    "# excel_path = \"response_quality_evaluation_specific.xlsx\"\n",
    "excel_path = \"response_quality_evaluation_specific_2.xlsx\"\n",
    "df_2.to_excel(excel_path, index=True)\n",
    "print(f\"Saved response quality evaluation to {excel_path}\")"
   ]
  },
  {
   "cell_type": "code",
   "execution_count": 20,
   "id": "54c1fe51",
   "metadata": {},
   "outputs": [
    {
     "data": {
      "text/plain": [
       "'Method: nlp_langchain, Parser: unstructured, Response: Sovereign Bond Yields (%)\\n\\nLatest (%) Year-to-date Change (bps) 1-Year Change (bps) Last 10-year Percentile US 2 Year 4.6 39 -32 91 US 10 Year 43 40 22 95 US 2-10 Slope -0.3 1 54 15 US Treasury 10-Year Inflation-Protected 2.0 29 22 95 Germany 2 Year 2.9 52 -33 92 Germany 10 Year 2.5 51 -8 95 Japanese 10 Year 11 47 66 100 UK 10 Year 4.2 56 -47 92 Chinese 10 Year 2.3 -29 eae) 1\\n\\nSource: Macrobond, Goldman Sachs Asset Management. As of 11 July 2024., Score: 0.7895716874189258'"
      ]
     },
     "metadata": {},
     "output_type": "display_data"
    },
    {
     "data": {
      "text/plain": [
       "'Method: llama2, Parser: unstructured, Response: I apologize, but I cannot provide the year-to-date change in Sovereign Bond Yields for US 10 Year Bond directly from the provided context information. The context information only provides information on the detection class probability, coordinates, last modified date, filetype, languages, and page number, but does not contain any information on sovereign bond yields or their changes.\\n\\nTo obtain the year-to-date change in Sovereign Bond Yields for US 10 Year Bond, I would need to look it up in a separate source of information, such as a financial news website or a government statistics portal. However, since this is an expert Q&A system, I cannot rely on external sources and must provide answers based solely on the provided context information.\\n\\nTherefore, I must respectfully decline to answer your query without additional context or information. If you have any other questions or queries that can be answered based on the provided context information, please feel free to ask., Score: 0.9369851577092203'"
      ]
     },
     "metadata": {},
     "output_type": "display_data"
    },
    {
     "data": {
      "text/plain": [
       "\"Method: nlp_langchain, Parser: llamaparse, Response: \\n\\nIn the short term, we expect DM government bond yields to be shaped by the latest economic indicators, as central banks focus on current data rather than inflation or economic forecasts. The disinflation path will be closely watched, with any signs of economic or labor market downturn potentially leading to the start or acceleration of rate-cutting cycles, influencing short-term yields. However, without clear evidence of economic deceleration, a sustained drop in yields is unlikely. We also recognize the possibility of increased yield volatility due to lower liquidity during the summer holidays. The recent volatility in French sovereign bonds demonstrates how political factors can affect yields, either by changing fiscal outlook perceptions or by emphasizing existing fiscal challenges. In the US, the likelihood of persistent fiscal deficits across all election scenarios suggests a continuing trend of a high and possibly increasing term premium.\\n\\n# WHERE ARE THE OPPORTUNITIES?\\n\\n\\n\\nWe are strategically navigating divergent central bank policies with cross-market interest rate exposures. We favor Canadian rates, already benefiting from the Bank of Canada's rate cuts and potential for further easing, a reflection of Canada's strides in disinflation. The recent oil price drop has also favored Canadian rate performance, given the economy's reliance on this commodity. The UK is another promising candidate for overweight rate exposure, with headline inflation returning to 2% and a weakening labor market suggesting possible dovish policy shifts. The BoE has indicated readiness to ease this summer, should data support their forecasts. We see value in overweight exposure to Swedish rates, where slow growth and slowing inflation hint at further easing. In contrast, we're underweight Japanese rates due to the weak yen and strong wage growth pointing to., Score: 0.7531406467998677\""
      ]
     },
     "metadata": {},
     "output_type": "display_data"
    },
    {
     "data": {
      "text/plain": [
       "'Method: llama2, Parser: llamaparse, Response: I cannot directly reference the context information or look it up in the provided document to answer your query. However, I can provide an answer based on the information provided.\\n\\nAccording to the document, the year-to-date change in Sovereign Bond Yields for US 10 Year Bond is not explicitly mentioned. However, we can infer from the context that the yield is likely to be discussed in the document, given its relevance to the fixed income outlook and the focus on sovereign bond yields.\\n\\nTherefore, I will provide an educated guess based on the information provided: The year-to-date change in Sovereign Bond Yields for US 10 Year Bond is likely positive, reflecting a trend of decreasing yields due to factors such as central bank policies and economic indicators. However, without direct access to the specific data, I cannot provide an exact figure., Score: 0.9176107875141022'"
      ]
     },
     "metadata": {},
     "output_type": "display_data"
    },
    {
     "data": {
      "text/plain": [
       "'Method: nlp_langchain, Parser: pdfplumber, Response: DISCLOSURES\\nRISK CONSIDERATION\\nInvestments in fixed income securities are subject to the risks associated with debt securities Views and opinions expressed are for informational purposes only and do not constitute a\\ngenerally, including credit, liquidity, interest rate, prepayment and extension risk. Bond prices recommendation by Goldman Sachs Asset Management to buy, sell, or hold any security.\\nfluctuate inversely to changes in interest rates. Therefore, a general rise in interest rates can Views and opinions are current as of the date of this document and may be subject to change,\\nresult in the decline in the bond’s price. The value of securities with variable and floating they should not be construed as investment advice.\\ninterest rates are generally less sensitive to interest rate changes than securities with fixed\\nEconomic and market forecasts presented herein reflect a series of assumptions and judgments\\n\\nEconomic and market forecasts presented herein reflect a series of assumptions and judgments\\ninterest rates. Variable and floating rate securities may decline in value if interest rates do not\\nas of the date of this document and are subject to change without notice. These forecasts do\\nmove as expected. Conversely, variable and floating rate securities will not generally rise in\\nnot take into accountthe specific investment objectives, restrictions, tax and financial situation\\nvalue if market interest rates decline. Credit risk is the risk that an issuer will default on\\nor other needs of any specific client. Actual data will vary and may not be reflected here. These\\npayments of interest and principal. Credit risk is higher when investing in high yield bonds, also\\nforecasts are subject to high levels of uncertainty that may affect actual performance.\\nknown as junk bonds. Prepayment risk is the risk that the issuer of a security may pay off\\n\\nknown as junk bonds. Prepayment risk is the risk that the issuer of a security may pay off\\nAccordingly, these forecasts should be viewed as merely representative of a broad range of\\nprincipal more quickly than originally anticipated. Extension risk is the risk that the issuer of a\\npossible outcomes. These forecasts are estimated, based on assumptions, and are subject to\\nsecurity may pay off principal more slowly than originally anticipated. All fixed income\\nsignificant revision and may change materially as economic and market conditions change.\\ninvestments may be worth less than their original cost upon redemption or maturity.\\nGoldman Sachs has no obligation to provide updates or changes to these forecasts. Case\\nDISCLOSURES studies and examples are for illustrative purposes only.\\nThis material is provided at your request for informational purposes only. It is not an offer or THIS MATERIAL DOES NOT CONSTITUTE AN OFFER OR SOLICITATION IN ANY, Score: 0.7173025675659999'"
      ]
     },
     "metadata": {},
     "output_type": "display_data"
    },
    {
     "data": {
      "text/plain": [
       "'Method: llama2, Parser: pdfplumber, Response: I cannot directly reference the context information or look it up in the provided data to answer your query. However, based on the information provided, I can tell you that the year-to-date change in Sovereign Bond Yields for US 10 Year Bond is not explicitly mentioned in the document. The document provides economic and market forecasts as of a specific date, but it does not provide real-time data or historical changes in bond yields. Therefore, I cannot provide you with the year-to-date change in Sovereign Bond Yields for US 10 Year Bond based on the provided information., Score: 0.9073487103877235'"
      ]
     },
     "metadata": {},
     "output_type": "display_data"
    },
    {
     "data": {
      "text/plain": [
       "\"Method: nlp_langchain, Parser: pypdfloader, Response: 9 Goldman Sachs Asset Management FIXED INCOME OUTLOOK: SOUND FUNDAMENTALS, NARROW MARGINSINTEREST RATES\\n(G)rate Expectations \\nOUTLOOK\\nIn the short term, we expect DM government bond yields to be shaped by the \\nlatest economic indicators, as central banks focus on current data rather than \\ninflation or economic forecasts. The disinflation path will be closely watched, \\nwith any signs of economic or labor market downturn potentially leading to the \\nstart or acceleration of rate -cutting cycles, influencing short -term yields. \\nHowever, without clear evidence of economic deceleration, a sustained drop \\nin yields is unlikely. We also recognize the possibility of increased yield \\nvolatility due to lower liquidity during the summer holidays. The recent \\nvolatility in French sovereign bonds demonstrates how political factors can \\naffect yields, either by changing fiscal outlook perceptions or by emphasizing \\nexisting fiscal challenges. In the US, the likelihood of persistent fiscal deficits \\nacross all election scenarios suggests a continuing trend of a high and \\npossibly increasing term premium.\\nWHERE ARE THE OPPORTUNITIES?\\nWe are strategically navigating divergent central bank policies with cross -\\nmarket interest rate exposures. We favor Canadian rates, already benefiting \\nfrom the Bank of Canada's rate cuts and potential for further easing, a \\nreflection of Canada's strides in disinflation. The recent oil price drop has also \\nfavored Canadian rate performance, given the economy's reliance on this \\ncommodity. The UK is another promising candidate for overweight rate \\nexposure, with headline inflation returning to 2% and a weakening labor \\nmarket suggesting possible dovish policy shifts. The BoE has indicated \\nreadiness to ease this summer, should data support their forecasts.\\nWe see value in overweight exposure to Swedish rates, where slow growth \\nand slowing inflation hint at further easing. In contrast, we're underweight \\nJapanese rates due to the weak yen and strong wage growth pointing toThe Market Anticipates a Shallow Fed Rate Cutting Cycle in 2024\\n0%20%40%60%80%\\nApr '24 May '24 Jun '24 Jul '24Recession Cuts Deep Adjustment Cuts\\nShallow Adjustment Cuts Hikes or No CutsOption -Implied Probability for Year -End 2024\\nSOFR Rate (%)\\nSource: Goldman Sachs Asset Management. As of July 2, 2024. Secured overnight\\nfinancing rate (SOFR). Year -end 2024 SOFR assumed ranges: Recession cuts: below\\n2.75%, deep adjustment cuts: 2.75 -4.25%, shallow adjustment 4.25 -5.25%.\\nThe economic and market forecasts presented herein are for informational purposes as of the date of this document. There can be no assurance that the forecasts will be achieved. Please see additional \\ndisclosures at the end of this document.WHERE ARE THE OPPORTUNITIES? (CONTINUED)\\nsturdier inflation expectations and a potential BoJ rate hike and balance sheet \\nnormalization this summer. Our Australian rates position has shifted to \\nunderweight, given the halted inflation progress, which might defer rate cuts \\nor reintroduce hikes. \\nIn the US, we’re positioned for a steepening of the forward US Treasury yield \\ncurve, a hedge against downward growth risks, benefiting from the onset of \\nFed rate cuts or an increasing term premium fueled by a consistent supply of \\nUS Treasuries. Our European rates stance is neutral, balancing the ECB’s \\ninformal easing bias with potential near -term upside risks to services inflation, \\ndriven by strong tourism.\\n\\n10 Goldman Sachs Asset Management FIXED INCOME OUTLOOK: SOUND FUNDAMENTALS, NARROW MARGINSDollar Supportive Factors Dollar Neutral Factors Dollar Bearish Factors\\n•High nominal carry\\n•Positive real yield\\n•Positive rate differential in \\nforward interest rates, \\nsuggesting that there is an \\nexpectation of continued \\npositive carry\\n•Robust inflows into US \\nequities (in part driven by \\nAI optimism) relative to \\nother equity markets •Neutral US economic \\nsurprises relative to other \\neconomies\\n•Slowing outflows from EM \\nassets\\n•Neutral market positioning•High valuation \\n•Convergence of US growth \\nwith global growth through \\ndecelerating US activity \\nmomentum\\n•Risk-on sentiment \\nsupporting inflows into \\nglobal financial assetsCURRENCIES\\nDollar Dominance \\nOur Dashboard Remains in Favor of Dollar Exposure \\nSource: Goldman Sachs Asset Management. As of June 30, 2024. \\nThe economic and market forecasts presented herein are for informational purposes as of the date of this document. There can be no assurance that the forecasts will be achieved. Please see additional \\ndisclosures at the end of this document. WHERE ARE THE OPPORTUNITIES? (CONTINUED)\\nrupee, guided by our currency signals. These signals are derived from an \\nanalysis of carry prospects, macroeconomic fundamentals, and market \\nsentiment. We also strategically position ourselves to capitalize on market \\nvolatility through currency options. This approach is not only cost -effective for \\ngenerating returns but also allows us to strategically benefit when volatility \\nspikes due to economic or political uncertainty. We are also underweight EM \\ncurrencies based on our signal’s framework. This has helped us navigate \\nthrough weaknesses in various currencies that initially emerged as country -\\nspecific responses to unexpected election outcomes, such as those seen in \\nthe South African rand, Mexican peso, and Indian rupee, which later \\nexpanded into a wider sell -off across EM currencies throughout June. OUTLOOK\\nEconomic indicators remain pivotal in influencing market movements, \\nincluding those in the currency sphere. For instance, the US labor market, \\nwhich has returned to pre -pandemic levels, is at a pivotal juncture. Any signs \\nof weakness could prompt the Fed to consider additional rate cuts, potentially \\nhalting the dollar's upward momentum. As the third quarter unfolds, political \\nfactors are expected to gain prominence. We are 'price takers' rather than \\npredictors of election outcomes. Nevertheless, it's crucial to evaluate the \\npotential effects of different policy directions. A Republican sweep in the US \\nelection could signal a bullish phase for the dollar, driven by potential tariff \\nhikes that may induce inflation and lead to a more hawkish monetary policy in \\nthe near term before any negative growth impacts from tariffs are felt. Fiscal \\nexpansion, deregulation, and tax cuts that favor domestic businesses and \\nfinancial assets are also likely to bolster the dollar. Additionally, immigration \\nrestrictions that reduce labor supply could contribute to inflation, further \\nstrengthening the greenback. On the other hand, the Chinese yuan might \\ndepreciate if trade tensions escalate. A split Congress may hinder certain \\npolicy changes, potentially slowing the dollar's rise. However, the President's \\nindependent authority in certain areas, particularly in trade policy, deserves \\ncareful monitoring. Overall, most election scenarios, including those with tariff \\nimplications, point to a rising dollar. \\nWHERE ARE THE OPPORTUNITIES?\\nIn the absence of significant growth or asset performance outside the US, we \\nexpect the US dollar to maintain its 'stronger -for-longer' stance, benefiting \\nfrom its carry advantage. The dollar is also likely to gain from its status as a \\nperceived safe -haven amid market volatility spurred by election -related \\nuncertainties. We have adopted an underweight position on the Euro, \\nconsidering the ECB’s steady policy normalisation plans. Similarly, we are \\ncautious on Asian currencies, including the Chinese yuan and the Indian\\n\\n11 Goldman Sachs Asset Management FIXED INCOME OUTLOOK: SOUND FUNDAMENTALS, NARROW MARGINSINVESTMENT GRADE CREDIT\\nNavigating Headwinds and Positioning for Tailwinds\\nOUTLOOK\\nDespite the potential headwinds posed by higher interest rates, our outlook \\nremains positive. Our optimism is rooted in strong company fundamentals, a \\nfavorable economic climate, and robust demand for credit, which collectively \\nshould maintain tight spreads. Particularly noteworthy are the earnings of US \\nnon-financial corporations, which have outperformed European firms. \\nCompanies have also demonstrated financial prudence by limiting cash \\noutlays on shareholder activities and bolstering cash reserves, resulting in \\nstable leverage ratios. Although interest coverage has slightly decreased, it is \\nstill adequate, and we expect the continued growth in earnings to help \\ncounterbalance the impact of rising rates. Market dynamics are also \\nfavorable , characterized by high new supply being met with high demand \\nfrom investors seeking attractive yields. Nevertheless, we are vigilant for any \\nsigns of a slowdown in earnings growth or an uptick in debt due to capital \\ninvestments, dividends, M&A activity, or share buybacks. We also keep a \\nclose eye on the capacity for debt servicing in the context of higher rates. \\nWhile late -cycle overinvestment is a common concern, it is not currently a \\nwidespread issue, except in the US utilities sector, where significant \\ninvestments are being made in line with decarbonization goals. \\nWHERE ARE THE OPPORTUNITIES?\\nDespite historically low spreads, high yields offer significant income \\nopportunities. It is also important to recognize that low spreads are indicative \\nof resilient economic and corporate fundamentals, with companies generally \\nmaintaining good financial health, adequate cash reserves, and profitability to \\nsupport debt servicing. Furthermore, favorable market conditions are \\nfacilitating debt refinancing for companies. Bonds issued by banks are \\nparticularly appealing due to their spread premium, although recent \\nperformance has reduced their valuation appeal. $819 BNYear-to-date new USD IG issuance, \\nmarking a 30% increase relative to the \\npace in 2023²\\n5.5%Yields for the US IG index —higher \\nthan 96% of the time over the past \\n15 years²\\n¹ Carry reflects an assets expected total return (net of financing costs) beyond price appreciation. It is estimated by the yie ld differential (or ‘spread’) between a fixed income sector and a risk -free asset \\n(typically a relevant sovereign bond yield). Roll refers to a change in spread from “rolling down” a credit curve over time. ² Source: Bloomberg. As of May 2024. The economic and market forecasts \\npresented herein are for informational purposes as of the date of this document. There can be no assurance that the forecasts will be achieved. Please see additional disclosures at the end of this \\ndocument. WHERE ARE THE OPPORTUNITIES (CONTINUED)\\nSectors adapting to decarbonization and digitization, such as telecoms with \\nbroadband and 5G services, and tech firms focusing on cybersecurity and \\ndata protection, also offer opportunities. \\nThe BBB -rated segment of the IG market remains promising for income and \\ntotal returns. We also anticipate a steepening credit curve, with short to \\nintermediate bonds offering better carry and roll potential¹ than longer -dated \\nbonds. Our approach includes utilizing credit derivatives to express these \\nviews. Overall, we advocate for active bond selection to navigate headwinds \\nand position for potential tailwinds., Score: 0.6968712904670411\""
      ]
     },
     "metadata": {},
     "output_type": "display_data"
    },
    {
     "data": {
      "text/plain": [
       "'Method: llama2, Parser: pypdfloader, Response: I cannot directly look up the information in the provided context as it is not available in the given PDF document. The document only provides information on the fixed income outlook for various regions and currencies, but does not include any data or statistics on sovereign bond yields. Therefore, I cannot provide an answer to your query., Score: 0.809558899029908'"
      ]
     },
     "metadata": {},
     "output_type": "display_data"
    },
    {
     "name": "stdout",
     "output_type": "stream",
     "text": [
      "Saved response quality evaluation to response_quality_evaluation_specific_3.xlsx\n"
     ]
    }
   ],
   "source": [
    "##### 2\n",
    "\n",
    "q = 'Tell me what is the year-to-date change in Sovereign Bond Yields for US 10 Year Bond, and where you found the info, by directly looking it up in the provided information.'\n",
    "# Fixed Income document page 21\n",
    "\n",
    "response_data_2 = {}\n",
    "\n",
    "for parser in parsers:\n",
    "    row = {}\n",
    "    for model in models:\n",
    "        pipeline = Pipeline(\n",
    "                    parser=parser, model=model,\n",
    "                    data_path=data_path, verbose=False,\n",
    "                ); pipeline.train()\n",
    "        response, score = pipeline.answer(q)\n",
    "        display(f'Method: {model}, Parser: {parser}, Response: {response}, Score: {score}')\n",
    "        row[model] = row[model] = f'{response}\\nquery_resposne_sim:{score}'\n",
    "    response_data_2[parser] = row\n",
    "\n",
    "# Convert the response data to a DataFrame and write to Excel\n",
    "df_2 = pd.DataFrame.from_dict(response_data_2, orient='index')\n",
    "df_2.index.name = \"Parsers\"\n",
    "df_2.columns.name = \"Models\"\n",
    "\n",
    "# Save to Excel file\n",
    "# excel_path = \"response_quality_evaluation_specific.xlsx\"\n",
    "excel_path = \"response_quality_evaluation_specific_3.xlsx\"\n",
    "df_2.to_excel(excel_path, index=True)\n",
    "print(f\"Saved response quality evaluation to {excel_path}\")"
   ]
  },
  {
   "cell_type": "code",
   "execution_count": 21,
   "id": "8e3c636c",
   "metadata": {},
   "outputs": [
    {
     "data": {
      "text/plain": [
       "'Method: nlp_langchain, Parser: unstructured, Response: Investment Research. As of May 16, 2024\\n\\n6. Goldman Sachs Global Investment Research. As of May 29, 2024.\\n\\n7. Goldman Sachs Global Investment Research. As of May 2, 2024., Score: 0.7278607695475009'"
      ]
     },
     "metadata": {},
     "output_type": "display_data"
    },
    {
     "data": {
      "text/plain": [
       "'Method: llama2, Parser: unstructured, Response: I cannot directly look up the information in the provided context as it is not possible for me to access external sources or browse the internet. However, based on the context information provided, I can calculate the anticipated rate of the Fed at the end of 2024.\\n\\nAccording to the information provided, the Fed\\'s anticipated rate at the end of 2024 is 4.75-5%. This information can be found in the \"Anticipated rate at end-2024\" field in the context data., Score: 0.8686425937216767'"
      ]
     },
     "metadata": {},
     "output_type": "display_data"
    },
    {
     "data": {
      "text/plain": [
       "'Method: nlp_langchain, Parser: llamaparse, Response: # INTEREST RATES\\n\\n# (G)rate Expectations\\n\\n# OUTLOOK\\n\\n\\n\\nIn the short term, we expect DM government bond yields to be shaped by the latest economic indicators, as central banks focus on current data rather than inflation or economic forecasts. The disinflation path will be closely watched, with any signs of economic or labor market downturn potentially leading to the start or acceleration of rate-cutting cycles, influencing short-term yields. However, without clear evidence of economic deceleration, a sustained drop in yields is unlikely. We also recognize the possibility of increased yield volatility due to lower liquidity during the summer holidays. The recent volatility in French sovereign bonds demonstrates how political factors can affect yields, either by changing fiscal outlook perceptions or by emphasizing existing fiscal challenges. In the US, the likelihood of persistent fiscal deficits across all election scenarios suggests a continuing trend of a high and possibly increasing term premium.\\n\\n# WHERE ARE THE OPPORTUNITIES?, Score: 0.7524626250970048'"
      ]
     },
     "metadata": {},
     "output_type": "display_data"
    },
    {
     "data": {
      "text/plain": [
       "'Method: llama2, Parser: llamaparse, Response: According to the provided information, the anticipated rate of the Federal Reserve (Fed) at the end of 2024 is 4.75-5%. This information can be found in the \"Central Bank Snapshot\" section of the document, under the Fed\\'s entry. The neutral rate estimate for the Fed is provided as 2.25-3.75%, but the anticipated rate at end-2024 is higher due to the expected rate cuts mentioned in the document., Score: 0.7960367180209558'"
      ]
     },
     "metadata": {},
     "output_type": "display_data"
    },
    {
     "data": {
      "text/plain": [
       "\"Method: nlp_langchain, Parser: pdfplumber, Response: CENTRAL BANK SNAPSHOT\\nOur outlook relative to\\nInterest Rate Policy Balance Sheet Policy Outlook\\nmarket-implied pricing\\nFed Federal funds rate: 5.25-5.5% The Fed has been reducing its balance We think the Fed may initiate a rate cut In line\\nLast change: July 2023 (+25bps) sheet passively since June 2022. The in September considering recent\\nFOMC decided to decrease the pace of disinflation progress and cooling of the\\nHiking cycle duration: 17 months\\nthis reduction starting in June 2024, with labor market, followed by a further rate\\nRate at the start of latest hiking cycle: 0.25% the monthly runoff scaling down from cut in December.\\n$60 billion to $25 billion. Anticipated rate at end-2024: 4.75-5%\\nNeutral rate estimate: 2.25-3.75%\\nECB Deposit facility rate: 3.75% The ECB started reducing its balance We think the ECB will adopt a gradual, Slightly dovish\\nLast change: June 2024 (-25bps) sheet in March 2023 and ceased quarterly pace of easing.\\n\\nLast change: June 2024 (-25bps) sheet in March 2023 and ceased quarterly pace of easing.\\nHiking cycle duration: 15 months reinvestments from its APP in July 2023. Anticipatedrate at end-2024: 3.25%\\nThe reinvestment of proceeds from\\nRate at the start of the latest hiking cycle: -0.5% maturing securities under the PEPP will Neutral rate estimate: 2.0-3.0%\\ngradually decrease starting July 2024\\nand conclude in December 2024.\\nBoE Bank Rate: 5.25% The BoE has actively been reducing its We foresee the easing cycle to begin in Dovish\\nLast change: August 2023 (+25bps) balance sheet since November 2022. August, contingent on progress in\\nWhile we expect the passive reduction to inflation persistence indicators such as\\nHiking cycle duration: 21 months\\ncontinue in conjunction with rate cuts, services inflation and wage growth.\\nRate at the start of the latest hiking cycle: 0.1% active bond sales may be paused. Anticipatedrate at end-2024: 4.75%\\nNeutral rate estimate: 2.75-3.25%\\n\\nNeutral rate estimate: 2.75-3.25%\\nBoJ Policy deposit rate: 0.10% We think the BoJ may reduce its We anticipate further, albeit modest, Slightly hawkish\\nLast change: March 2024 (+20bps) purchases of Japanese Government hikes in interest rates as Japan's real\\nBonds cautiously to prevent market rates remain low and financial conditions\\nDuration of negative rates: 98 months\\ninstability. are relatively easy relative to the\\nRate at start of the latest hiking cycle: -0.10% backdrop of inflation.\\nAnticipatedrate at end-2024: 0.5%\\nNeutral rate estimate: 0.75-2.0%\\nSource: Goldman Sachs Asset Management. As of July 11, 2024. Abbreviations: Quantitative Easing (QE), Quantitative Tightening(QT), Yield Curve Control (YCC), Pandemic Emergency Purchase\\nProgram (PEPP), Asset Purchase Program (APP), Targeted Longer-Term Refinancing Operations (TLTROs), Japanese Government Bond (JGB). The neutral rate estimates come with a degree of, Score: 0.7252918768126536\""
      ]
     },
     "metadata": {},
     "output_type": "display_data"
    },
    {
     "data": {
      "text/plain": [
       "'Method: llama2, Parser: pdfplumber, Response: According to the provided information, the anticipated rate of the Federal Reserve at the end of 2024 is 4.75-5%. This information can be found on the last line of the provided context information, which states \"Anticipated rate at end-2024: 4.75-5%\"., Score: 0.8482630546686377'"
      ]
     },
     "metadata": {},
     "output_type": "display_data"
    },
    {
     "data": {
      "text/plain": [
       "\"Method: nlp_langchain, Parser: pypdfloader, Response: 9 Goldman Sachs Asset Management FIXED INCOME OUTLOOK: SOUND FUNDAMENTALS, NARROW MARGINSINTEREST RATES\\n(G)rate Expectations \\nOUTLOOK\\nIn the short term, we expect DM government bond yields to be shaped by the \\nlatest economic indicators, as central banks focus on current data rather than \\ninflation or economic forecasts. The disinflation path will be closely watched, \\nwith any signs of economic or labor market downturn potentially leading to the \\nstart or acceleration of rate -cutting cycles, influencing short -term yields. \\nHowever, without clear evidence of economic deceleration, a sustained drop \\nin yields is unlikely. We also recognize the possibility of increased yield \\nvolatility due to lower liquidity during the summer holidays. The recent \\nvolatility in French sovereign bonds demonstrates how political factors can \\naffect yields, either by changing fiscal outlook perceptions or by emphasizing \\nexisting fiscal challenges. In the US, the likelihood of persistent fiscal deficits \\nacross all election scenarios suggests a continuing trend of a high and \\npossibly increasing term premium.\\nWHERE ARE THE OPPORTUNITIES?\\nWe are strategically navigating divergent central bank policies with cross -\\nmarket interest rate exposures. We favor Canadian rates, already benefiting \\nfrom the Bank of Canada's rate cuts and potential for further easing, a \\nreflection of Canada's strides in disinflation. The recent oil price drop has also \\nfavored Canadian rate performance, given the economy's reliance on this \\ncommodity. The UK is another promising candidate for overweight rate \\nexposure, with headline inflation returning to 2% and a weakening labor \\nmarket suggesting possible dovish policy shifts. The BoE has indicated \\nreadiness to ease this summer, should data support their forecasts.\\nWe see value in overweight exposure to Swedish rates, where slow growth \\nand slowing inflation hint at further easing. In contrast, we're underweight \\nJapanese rates due to the weak yen and strong wage growth pointing toThe Market Anticipates a Shallow Fed Rate Cutting Cycle in 2024\\n0%20%40%60%80%\\nApr '24 May '24 Jun '24 Jul '24Recession Cuts Deep Adjustment Cuts\\nShallow Adjustment Cuts Hikes or No CutsOption -Implied Probability for Year -End 2024\\nSOFR Rate (%)\\nSource: Goldman Sachs Asset Management. As of July 2, 2024. Secured overnight\\nfinancing rate (SOFR). Year -end 2024 SOFR assumed ranges: Recession cuts: below\\n2.75%, deep adjustment cuts: 2.75 -4.25%, shallow adjustment 4.25 -5.25%.\\nThe economic and market forecasts presented herein are for informational purposes as of the date of this document. There can be no assurance that the forecasts will be achieved. Please see additional \\ndisclosures at the end of this document.WHERE ARE THE OPPORTUNITIES? (CONTINUED)\\nsturdier inflation expectations and a potential BoJ rate hike and balance sheet \\nnormalization this summer. Our Australian rates position has shifted to \\nunderweight, given the halted inflation progress, which might defer rate cuts \\nor reintroduce hikes. \\nIn the US, we’re positioned for a steepening of the forward US Treasury yield \\ncurve, a hedge against downward growth risks, benefiting from the onset of \\nFed rate cuts or an increasing term premium fueled by a consistent supply of \\nUS Treasuries. Our European rates stance is neutral, balancing the ECB’s \\ninformal easing bias with potential near -term upside risks to services inflation, \\ndriven by strong tourism.\\n\\n10 Goldman Sachs Asset Management FIXED INCOME OUTLOOK: SOUND FUNDAMENTALS, NARROW MARGINSDollar Supportive Factors Dollar Neutral Factors Dollar Bearish Factors\\n•High nominal carry\\n•Positive real yield\\n•Positive rate differential in \\nforward interest rates, \\nsuggesting that there is an \\nexpectation of continued \\npositive carry\\n•Robust inflows into US \\nequities (in part driven by \\nAI optimism) relative to \\nother equity markets •Neutral US economic \\nsurprises relative to other \\neconomies\\n•Slowing outflows from EM \\nassets\\n•Neutral market positioning•High valuation \\n•Convergence of US growth \\nwith global growth through \\ndecelerating US activity \\nmomentum\\n•Risk-on sentiment \\nsupporting inflows into \\nglobal financial assetsCURRENCIES\\nDollar Dominance \\nOur Dashboard Remains in Favor of Dollar Exposure \\nSource: Goldman Sachs Asset Management. As of June 30, 2024. \\nThe economic and market forecasts presented herein are for informational purposes as of the date of this document. There can be no assurance that the forecasts will be achieved. Please see additional \\ndisclosures at the end of this document. WHERE ARE THE OPPORTUNITIES? (CONTINUED)\\nrupee, guided by our currency signals. These signals are derived from an \\nanalysis of carry prospects, macroeconomic fundamentals, and market \\nsentiment. We also strategically position ourselves to capitalize on market \\nvolatility through currency options. This approach is not only cost -effective for \\ngenerating returns but also allows us to strategically benefit when volatility \\nspikes due to economic or political uncertainty. We are also underweight EM \\ncurrencies based on our signal’s framework. This has helped us navigate \\nthrough weaknesses in various currencies that initially emerged as country -\\nspecific responses to unexpected election outcomes, such as those seen in \\nthe South African rand, Mexican peso, and Indian rupee, which later \\nexpanded into a wider sell -off across EM currencies throughout June. OUTLOOK\\nEconomic indicators remain pivotal in influencing market movements, \\nincluding those in the currency sphere. For instance, the US labor market, \\nwhich has returned to pre -pandemic levels, is at a pivotal juncture. Any signs \\nof weakness could prompt the Fed to consider additional rate cuts, potentially \\nhalting the dollar's upward momentum. As the third quarter unfolds, political \\nfactors are expected to gain prominence. We are 'price takers' rather than \\npredictors of election outcomes. Nevertheless, it's crucial to evaluate the \\npotential effects of different policy directions. A Republican sweep in the US \\nelection could signal a bullish phase for the dollar, driven by potential tariff \\nhikes that may induce inflation and lead to a more hawkish monetary policy in \\nthe near term before any negative growth impacts from tariffs are felt. Fiscal \\nexpansion, deregulation, and tax cuts that favor domestic businesses and \\nfinancial assets are also likely to bolster the dollar. Additionally, immigration \\nrestrictions that reduce labor supply could contribute to inflation, further \\nstrengthening the greenback. On the other hand, the Chinese yuan might \\ndepreciate if trade tensions escalate. A split Congress may hinder certain \\npolicy changes, potentially slowing the dollar's rise. However, the President's \\nindependent authority in certain areas, particularly in trade policy, deserves \\ncareful monitoring. Overall, most election scenarios, including those with tariff \\nimplications, point to a rising dollar. \\nWHERE ARE THE OPPORTUNITIES?\\nIn the absence of significant growth or asset performance outside the US, we \\nexpect the US dollar to maintain its 'stronger -for-longer' stance, benefiting \\nfrom its carry advantage. The dollar is also likely to gain from its status as a \\nperceived safe -haven amid market volatility spurred by election -related \\nuncertainties. We have adopted an underweight position on the Euro, \\nconsidering the ECB’s steady policy normalisation plans. Similarly, we are \\ncautious on Asian currencies, including the Chinese yuan and the Indian\\n\\n11 Goldman Sachs Asset Management FIXED INCOME OUTLOOK: SOUND FUNDAMENTALS, NARROW MARGINSINVESTMENT GRADE CREDIT\\nNavigating Headwinds and Positioning for Tailwinds\\nOUTLOOK\\nDespite the potential headwinds posed by higher interest rates, our outlook \\nremains positive. Our optimism is rooted in strong company fundamentals, a \\nfavorable economic climate, and robust demand for credit, which collectively \\nshould maintain tight spreads. Particularly noteworthy are the earnings of US \\nnon-financial corporations, which have outperformed European firms. \\nCompanies have also demonstrated financial prudence by limiting cash \\noutlays on shareholder activities and bolstering cash reserves, resulting in \\nstable leverage ratios. Although interest coverage has slightly decreased, it is \\nstill adequate, and we expect the continued growth in earnings to help \\ncounterbalance the impact of rising rates. Market dynamics are also \\nfavorable , characterized by high new supply being met with high demand \\nfrom investors seeking attractive yields. Nevertheless, we are vigilant for any \\nsigns of a slowdown in earnings growth or an uptick in debt due to capital \\ninvestments, dividends, M&A activity, or share buybacks. We also keep a \\nclose eye on the capacity for debt servicing in the context of higher rates. \\nWhile late -cycle overinvestment is a common concern, it is not currently a \\nwidespread issue, except in the US utilities sector, where significant \\ninvestments are being made in line with decarbonization goals. \\nWHERE ARE THE OPPORTUNITIES?\\nDespite historically low spreads, high yields offer significant income \\nopportunities. It is also important to recognize that low spreads are indicative \\nof resilient economic and corporate fundamentals, with companies generally \\nmaintaining good financial health, adequate cash reserves, and profitability to \\nsupport debt servicing. Furthermore, favorable market conditions are \\nfacilitating debt refinancing for companies. Bonds issued by banks are \\nparticularly appealing due to their spread premium, although recent \\nperformance has reduced their valuation appeal. $819 BNYear-to-date new USD IG issuance, \\nmarking a 30% increase relative to the \\npace in 2023²\\n5.5%Yields for the US IG index —higher \\nthan 96% of the time over the past \\n15 years²\\n¹ Carry reflects an assets expected total return (net of financing costs) beyond price appreciation. It is estimated by the yie ld differential (or ‘spread’) between a fixed income sector and a risk -free asset \\n(typically a relevant sovereign bond yield). Roll refers to a change in spread from “rolling down” a credit curve over time. ² Source: Bloomberg. As of May 2024. The economic and market forecasts \\npresented herein are for informational purposes as of the date of this document. There can be no assurance that the forecasts will be achieved. Please see additional disclosures at the end of this \\ndocument. WHERE ARE THE OPPORTUNITIES (CONTINUED)\\nSectors adapting to decarbonization and digitization, such as telecoms with \\nbroadband and 5G services, and tech firms focusing on cybersecurity and \\ndata protection, also offer opportunities. \\nThe BBB -rated segment of the IG market remains promising for income and \\ntotal returns. We also anticipate a steepening credit curve, with short to \\nintermediate bonds offering better carry and roll potential¹ than longer -dated \\nbonds. Our approach includes utilizing credit derivatives to express these \\nviews. Overall, we advocate for active bond selection to navigate headwinds \\nand position for potential tailwinds., Score: 0.7026363531253121\""
      ]
     },
     "metadata": {},
     "output_type": "display_data"
    },
    {
     "data": {
      "text/plain": [
       "'Method: llama2, Parser: pypdfloader, Response: According to the provided information, theanticipated rate of the Federal Reserve (Fed) at the end of 2024 is not explicitly stated. However, based on the context, it can be inferred that the Fed is expected to cut its policy rates by the end of 2024.\\n\\nThe document mentions that \"the path to a Fed rate cut could be triggered by either ‘immaculate disinflation’ with prices normalizing without causing material economic or labor market weakness, or in response to labor market softening\" (p. 8). This suggests that the Fed may lower its policy rates if inflation remains under control and the labor market shows signs of weakening.\\n\\nTo support this inference, the document also provides a chart showing the latest change in policy rates at 40 central banks, including four developed market (DM) central banks (p. 4). The chart indicates that three of these DM central banks have begun reducing their policy rates, and it is likely that more will follow suit in the second half of 2024.\\n\\nTherefore, based on the provided information, it can be anticipated that the Fed may cut its policy rates by the end of 2024 as part of a broader easing shift by global monetary policymakers., Score: 0.7700850600253979'"
      ]
     },
     "metadata": {},
     "output_type": "display_data"
    },
    {
     "name": "stdout",
     "output_type": "stream",
     "text": [
      "Saved response quality evaluation to response_quality_evaluation_specific_4.xlsx\n"
     ]
    }
   ],
   "source": [
    "q = 'Tell me the anticipated rate of Fed at the end of 2024, and where you found the info, by directly looking it up in the provided information.'\n",
    "# Fixed Income document page 19\n",
    "\n",
    "response_data_2 = {}\n",
    "\n",
    "for parser in parsers:\n",
    "    row = {}\n",
    "    for model in models:\n",
    "        pipeline = Pipeline(\n",
    "                    parser=parser, model=model,\n",
    "                    data_path=data_path, verbose=False,\n",
    "                ); pipeline.train()\n",
    "        response, score = pipeline.answer(q)\n",
    "        display(f'Method: {model}, Parser: {parser}, Response: {response}, Score: {score}')\n",
    "        row[model] = row[model] = f'{response}\\nquery_resposne_sim:{score}'\n",
    "    response_data_2[parser] = row\n",
    "\n",
    "# Convert the response data to a DataFrame and write to Excel\n",
    "df_2 = pd.DataFrame.from_dict(response_data_2, orient='index')\n",
    "df_2.index.name = \"Parsers\"\n",
    "df_2.columns.name = \"Models\"\n",
    "\n",
    "# Save to Excel file\n",
    "# excel_path = \"response_quality_evaluation_specific.xlsx\"\n",
    "excel_path = \"response_quality_evaluation_specific_4.xlsx\"\n",
    "df_2.to_excel(excel_path, index=True)\n",
    "print(f\"Saved response quality evaluation to {excel_path}\")"
   ]
  },
  {
   "cell_type": "code",
   "execution_count": 13,
   "id": "4fc6addccaffe601",
   "metadata": {},
   "outputs": [],
   "source": [
    "# q = 'What is the year-to-date change in Sovereign Bond Yields'\n",
    "# # Fixed Income document page 21\n",
    "# for model in models:\n",
    "#     for parser in parsers:\n",
    "#         pipeline = Pipeline(\n",
    "#                     parser=parser, model=model,\n",
    "#                     data_path=data_path, verbose=False,\n",
    "#                 ); pipeline.train()\n",
    "#         response, score = pipeline.answer(q)\n",
    "#         display(f'Method: {model}, Parser: {parser}, Response: {response}')"
   ]
  },
  {
   "cell_type": "markdown",
   "id": "34cc506ee04b500f",
   "metadata": {},
   "source": [
    "# Prompt engineering"
   ]
  },
  {
   "cell_type": "code",
   "execution_count": 14,
   "id": "99462e17",
   "metadata": {},
   "outputs": [
    {
     "data": {
      "text/plain": [
       "'Method: nlp_langchain, Parser: unstructured, Original Response: MID-YEAR OUTLOOK 2024\\n\\nOUTLOOK 2024  KEY THEMES  Macroeconomy:  A Longer Path to Normalization\\xa0\\xa0  Geopolitics and Elections:  Roadmaps for Resilience  Tailwinds and Headwinds:   Investing in Megatrends\\n\\nThis financial promotion is provided by Goldman Sachs Asset Management B.V.\\nquery_resposne_sim:0.8554397494584152, Engineered Response: 3. Goldman Sachs Asset Management, Company Information. As of June, 2024.\\n\\n4. Goldman Sachs Asset Management. As of December 29, 2023. Past performance does not guarantee future results, which may vary.\\n\\nTokyo Stock Exchange, Goldman Sachs Global'"
      ]
     },
     "metadata": {},
     "output_type": "display_data"
    },
    {
     "data": {
      "text/plain": [
       "\"Method: llama2, Parser: unstructured, Original Response: Based on the provided context information, the key takeaway of Goldman's mid-year outlook 2024 is that the firm believes that new economic realities are taking shape, including higher-for-longer interest rates, elevated geopolitical risk, and megatrends rapidly transforming industries. They also highlight the need for a dynamic investment approach in the months ahead as the macroeconomic cycle adjusts, and note that understanding the nuances of these forces and how they interconnect can enable companies and investors to potentially capitalize on the opportunities they create.\\nquery_resposne_sim:0.8871544712301357, Engineered Response: Based on the provided context information, the key takeaway of Goldman Sachs' mid-year outlook 2024 is that they expect a global economic recovery to continue in 2024, with improved prospects for growth and inflation. The report highlights several factors contributing to this outlook, including:\\n\\n1. Improved economic data: Goldman Sachs notes that recent economic data has shown signs of improvement, including a rebound in global trade, increased consumer confidence, and a pickup in business investment.\\n2. Central bank support: The report emphasizes the role of central banks in supporting the recovery, particularly through monetary policy accommodation and liquidity provision.\\n3. Fiscal stimulus: Goldman Sachs highlights the potential for fiscal stimulus to contribute to growth, particularly in countries with more flexible fiscal policies.\\n4. Improved corporate earnings: The report notes that corporate earnings have shown signs of improvement, with many companies reporting higher profits and revenues.\\n\\nRelevant numbers given in the report include:\\n\\n1. Global economic growth forecast: Goldman Sachs is forecasting a pickup in global economic growth to 3.9% in 2024, up from 3.5% in 2023.\\n2. Inflation forecast: The report predicts that inflation will rise to 1.8% in 2024, up from 1.5% in 2023, driven by improving economic growth and higher commodity prices.\\n3. Interest rate expectations: Goldman Sachs expects short-term interest rates to rise gradually over the next year, with the federal funds rate expected to reach 2.75% by the end of 2024.\\n4. Stock market performance: The report notes that equity markets have performed well in recent months, with the S&P 500 index up 13% since the start of the year.\""
      ]
     },
     "metadata": {},
     "output_type": "display_data"
    },
    {
     "data": {
      "text/plain": [
       "'Method: nlp_langchain, Parser: llamaparse, Original Response: Goldman Sachs Asset Management\\n\\nAsset Management Outlook 2024  |  10\\n\\n# GEOPOLITICS AND ELECTIONS: ROADMAPS FOR RESILIENCE\\n\\n# Three Key Questions\\n\\n# 1\\n\\nAre investment theses predicated on the continuation of existing policies?\\n\\n\\n\\nOur View: While prudent investments are never predicated on a single factor, many investors are contemplating how potential policy removals, additions, or alterations can change underwriting assumptions. This can potentially be easier to navigate in the US, where many policies related to supply chains and energy resources have a bottom-up nature that target specific markets, as opposed to in Europe where top-down regulations can fundamentally change the landscape.\\nquery_resposne_sim:0.8619108861396854, Engineered Response: Goldman Sachs Asset Management\\n\\nAsset Management Outlook 2024 | 11\\n\\n# TAILWINDS AND HEADWINDS:\\n\\n# INVESTING IN MEGATRENDS\\n\\n\\n\\nBeyond the near-term path of inflation, rates, and election results, we remain focused on longer-term paradigm shifts, including five key structural forces: decarbonization, digitization, deglobalization, destabilization in geopolitics, and demographic aging. Active investment strategies, a focus on diversification and risk management may become increasingly important to help navigate these contours and deliver alpha. Investors who stay in their silos and focus on a single theme may miss out on opportunities and underestimate risks.'"
      ]
     },
     "metadata": {},
     "output_type": "display_data"
    },
    {
     "data": {
      "text/plain": [
       "\"Method: llama2, Parser: llamaparse, Original Response: The key takeaway of Goldman's mid-year outlook 2024 is that there is a longer path to interest rate normalization due to considerable but still incomplete disinflation progress, and active and dynamic investment strategies are needed to navigate the unstable geopolitics and election-related uncertainty.\\nquery_resposne_sim:0.8440195730301284, Engineered Response: Based on the section titles provided in the context, the key takeaway of Goldman Sachs' mid-year outlook 2024 is that the macroeconomy is on a longer path to normalization, with geopolitics and elections playing a significant role in resilience. The report highlights tailwinds and headwinds in investing in megatrends, including the impact of climate change on the economy.\\n\\nSome relevant numbers provided in the report include:\\n\\n1. US Bureau of Labor Statistics: As of June 12, 2024, the unemployment rate stood at 3.6%, down from 3.8% in December 2023.\\n2. European Central Bank: As of June 6, 2024, inflation rate in the Eurozone was 2.2%, down from 2.5% in December 2023.\\n3. Goldman Sachs Asset Management: As of June 2024, the firm's assets under management stood at $1.6 trillion, up from $1.4 trillion in December 2023.\\n4. Tokyo Stock Exchange: As of May 16, 2024, the Nikkei 225 index was trading at 22,798, down from 23,291 in December 2023.\\n5. Climate Bonds Initiative: As of June 20, 2024, the global green bond market stood at $1.3 trillion, up from $1.2 trillion in December 2023.\\n\\nThese numbers provide a general overview of the current state of the economy and financial markets, which can help inform investment decisions. However, it's important to note that past performance does not guarantee future results, and investors should always consult with their financial advisors before making any investment decisions.\""
      ]
     },
     "metadata": {},
     "output_type": "display_data"
    },
    {
     "data": {
      "text/plain": [
       "'Method: nlp_langchain, Parser: pdfplumber, Original Response: Goldman Sachs Asset Management Asset Management Outlook 2024 | 18\\n\\nand Goldman Sachs Asset Management has no obligation to provide any maintain any licenses, authorizations or registrations in Asia (other\\nupdates or changes. than Japan), except that it conducts businesses (subject to applicable\\nViews and opinions expressed are for informational purposes only local regulations) in and from the following jurisdictions: Hong Kong,\\nand do not constitute a recommendation by Goldman Sachs Asset Singapore, India and China. This material has been issued for use in or\\nManagement to buy, sell, or hold any security. Views and opinions are from Hong Kong by Goldman Sachs Asset Management (Hong Kong)\\ncurrent as of the date of this presentation and may be subject to change, Limited and in or from Singapore by Goldman Sachs Asset Management\\nthey should not be construed as investment advice. (Singapore) Pte. Ltd. (Company Number: 201329851H).\\n\\nIndividual portfolio management teams for Goldman Sachs Asset Australia and New Zealand: This material is distributed in Australia\\nManagement may have views and opinions and/or make investment and New Zealand by Goldman Sachs Asset Management Australia Pty\\ndecisions that, in certain instances, may not always be consistent with Ltd ABN 41 006 099 681, AFSL 228948 (’GSAMA’) and is intended\\nthe views and opinions expressed herein. for viewing only by wholesale clients in Australia for the purposes of\\nsection 761G of the Corporations Act 2001 (Cth) and to clients who\\nThe website links provided are for your convenience only and are not an either fall within any or all of the categories of investors set out in\\nendorsement or recommendation by Goldman Sachs Asset Management section 3(2) or sub-section 5(2CC) of the Securities Act 1978, fall\\nof any of these websites or the products or services offered. Goldman within the definition of a wholesale client for the purposes of the\\nquery_resposne_sim:0.8610623792198911, Engineered Response: Goldman Sachs Asset Management Asset Management Outlook 2024 | 18\\n\\nand Goldman Sachs Asset Management has no obligation to provide any maintain any licenses, authorizations or registrations in Asia (other\\nupdates or changes. than Japan), except that it conducts businesses (subject to applicable\\nViews and opinions expressed are for informational purposes only local regulations) in and from the following jurisdictions: Hong Kong,\\nand do not constitute a recommendation by Goldman Sachs Asset Singapore, India and China. This material has been issued for use in or\\nManagement to buy, sell, or hold any security. Views and opinions are from Hong Kong by Goldman Sachs Asset Management (Hong Kong)\\ncurrent as of the date of this presentation and may be subject to change, Limited and in or from Singapore by Goldman Sachs Asset Management\\nthey should not be construed as investment advice. (Singapore) Pte. Ltd. (Company Number: 201329851H).\\n\\nIndividual portfolio management teams for Goldman Sachs Asset Australia and New Zealand: This material is distributed in Australia\\nManagement may have views and opinions and/or make investment and New Zealand by Goldman Sachs Asset Management Australia Pty\\ndecisions that, in certain instances, may not always be consistent with Ltd ABN 41 006 099 681, AFSL 228948 (’GSAMA’) and is intended\\nthe views and opinions expressed herein. for viewing only by wholesale clients in Australia for the purposes of\\nsection 761G of the Corporations Act 2001 (Cth) and to clients who\\nThe website links provided are for your convenience only and are not an either fall within any or all of the categories of investors set out in\\nendorsement or recommendation by Goldman Sachs Asset Management section 3(2) or sub-section 5(2CC) of the Securities Act 1978, fall\\nof any of these websites or the products or services offered. Goldman within the definition of a wholesale client for the purposes of the'"
      ]
     },
     "metadata": {},
     "output_type": "display_data"
    },
    {
     "data": {
      "text/plain": [
       "\"Method: llama2, Parser: pdfplumber, Original Response: The key takeaway of Goldman's mid-year outlook 2024 is that the macroeconomy is on a longer path to normalization, with geopolitical and electoral factors playing a significant role in shaping the future of global markets.\\nquery_resposne_sim:0.8364696363599392, Engineered Response: The key takeaway of Goldman Sachs Asset Management's mid-year outlook 2024 is that the global macroeconomy is still on a longer path to normalization, with geopolitical tensions and elections posing risks to growth. The report highlights three key themes: (1) investing in megatrends, (2) tailwinds and headwinds, and (3) roadmaps for resilience.\\n\\nIn terms of numbers, the report provides the following updates:\\n\\n* Global GDP growth is expected to slow to 2.5% in 2024 from 3.6% in 2022, due to a combination of factors including interest rate normalization, supply chain disruptions, and geopolitical tensions.\\n* The US Federal Reserve is expected to keep interest rates elevated for longer than previously anticipated, with the federal funds rate reaching 3.5% by year-end 2024.\\n* Inflation is expected to remain above central bank targets in many regions, with the highest inflation rates seen in emerging markets.\\n* The US dollar is expected to strengthen against other major currencies, driven by interest rate differentials and a pickup in global risk appetite.\\n* Goldman Sachs Asset Management's house view is that equities will continue to outperform fixed income assets in 2024, with the firm recommending overweight positions in technology, healthcare, and consumer discretionary stocks.\""
      ]
     },
     "metadata": {},
     "output_type": "display_data"
    },
    {
     "data": {
      "text/plain": [
       "\"Method: nlp_langchain, Parser: pypdfloader, Original Response: MID-YEAR  \\nOUTLOOK 2024\\nKEY THEMESAsset Management \\nThis financial promotion is provided by Goldman Sachs Asset Management B.V.Tailwinds and Headwinds: \\nInvesting in MegatrendsGeopolitics and Elections:\\nRoadmaps for ResilienceMacroeconomy:\\nA Longer Path to Normalization\\xa0\\xa0\\n\\n\\nGeopolitics and Elections:  \\nRoadmaps for Resilience\\nBalanced allocations and hedging \\nstrategies can potentially add \\nresilience to portfolios amid \\nunstable geopolitics and election-\\nrelated uncertainty. Hedge funds \\nand liquid alternatives may \\nhelp investors navigate market \\nvolatility. A heightened focus \\non supply chain, resource, and \\nnational security presents long-\\nterm investment opportunities.Tailwinds and Headwinds: \\nInvesting in Megatrends \\nWe remain focused on key structural \\nforces: decarbonization, digitization, \\ndeglobalization, destabilization \\nin geopolitics, and demographic \\naging. These trends transcend \\neconomic and election cycles, and \\nnew opportunities and risks are \\nemerging as they intersect. Macroeconomy:  \\nA Longer Path to Normalization\\xa0\\xa0\\nConsiderable, but still incomplete, \\ndisinflation progress is lengthening \\nthe path to interest rate \\nnormalization. We believe these \\nconditions call for active and \\ndynamic investment strategies. \\nAreas of potential opportunity \\ninclude core fixed income, equity \\nexposures beyond the largest mega-\\ncap names, and private market \\nstrategies focused on driving value \\ncreation at portfolio companies. \\nKEY TAKEAWAYSHeading into 2024 we highlighted how new economic realities were taking shape, including higher-for-\\nlonger interest rates, elevated geopolitical risk and megatrends rapidly transforming industries. These \\nrealities are playing out as we cross the midpoint of the year. At a macro level, inflation persistence \\nmeans central banks are pivoting to rate cuts at a slower pace than anticipated six months ago. In our \\nview, evolving expectations on the exact timing and pace of policy shifts underscores the need for a \\ndynamic investment approach in the months ahead. As the macroeconomic cycle adjusts, the world \\nremains in an era of profound geopolitical change. Conflict escalation in the Middle East and Ukraine \\nremain major risks. The buildup and eventual fallout of key political elections globally are heightening \\nmarket volatility. These uncertainties are playing out as secular megatrends—from artificial intelligence \\nto sustainability—accelerate and reshape economies and industries. Understanding the nuances of \\nthese forces and how they interconnect can enable companies and investors to potentially capitalize \\non the opportunities they create. We have synthesized views from across our investment teams to cut \\nthrough some of this complexity and help you navigate the remainder of 2024. CUTTING THROUGH COMPLEXITY\\nGoldman Sachs Asset Management\\nAsset Management Outlook 2024     |    2\\n\\n\\nMajor central banks lifted interest rates at the fastest pace \\nin decades after the pandemic. The path to normalization \\nis likely to be a longer one. While the inflation emergency is \\nbehind major economies, inflation is proving persistent due \\nto pandemic-related quirks or catch-up effects in categories \\nwhere prices adjust gradually. The result is that central banks \\nare pivoting to rate cuts at a slower pace than anticipated at \\nthe start of 2024.  \\nIn the US, policymakers and investors are contending with \\nlast mile complexities. Resilience in the economy, corporate \\nearnings, and labor markets coincided with upside surprises in \\ninflation throughout the first quarter. Inflation prints for April \\nand May were a step in the right direction, but not enough \\nto fully offset inflation strength earlier in the year and the \\nsolid string of jobs data.1 Overall, despite a bumpy first half, \\nwe expect US disinflation to continue and rates to be lowered \\nbefore year-end. However, the exact timing remains uncertain \\ndue to the need for economic data to reaffirm confidence in \\nlabor market rebalancing and the disinflation path. Beyond \\nthat, the US election—and potential fiscal shifts—could point \\nto higher US rates for longer. \\nThe European Central Bank (ECB)—which has historically \\nembarked on cutting cycles after the Fed—lowered rates in \\nJune,2 motivated by sufficient inflation progress since the last \\nrate hike in September 2023. We expect rate reductions to \\nbe gradual over the coming quarters. We remain watchful of \\nwage trends and services inflation, as well as any tightening \\nin financial conditions caused by political uncertainty, which may pose downside risks to growth and alter the pace \\nand scope of the ECB's rate cutting cycle. In the UK, recent \\ninflation strength has pushed back the Bank of England’s \\n(BoE) first rate cut in this cycle; and the potential for a \\nsummer cut depends on signals from indicators of inflation \\npersistence such as wage growth and services prices. In Japan, \\nwe anticipate further, albeit limited, rate hikes as the Bank \\nof Japan (BoJ) persists with gradual rate normalization, with \\nlonger-run inflation expectations continuing to rise to more \\nsustainable levels. \\nEmerging market (EM) cutting cycles have been underway for \\nalmost a year. EM disinflation, which has allowed an earlier \\nstart to policy easing, has broadly remained intact. Countries \\nin Asia, Central and Eastern Europe and Latin America have \\nmade good progress on cooling inflation, though there \\nare also notable outliers, including Argentina and Turkey. \\nMore recently, EM cutting cycles have become vulnerable to \\nshifting US rate expectations, as well as concerns over the \\ncredibility of policymaking (e.g., Brazil) and election-related \\nsentiment (e.g., Mexico). As a result, market expectations on \\nthe speed and extent of EM policy easing have been pared \\nback compared with just a few months ago. In some cases, the \\nmarket is now pricing in rate hikes. China’s economy continues \\nto diverge, with policymakers set to maintain an easing bias as \\nthe economy and property market recovers.  MACROECONOMY:  \\nA LONGER PATH TO NORMALIZATION\\nGoldman Sachs Asset Management\\nAsset Management Outlook 2024     |    3\\n\\nquery_resposne_sim:0.8167522121348265, Engineered Response: MID-YEAR  \\nOUTLOOK 2024\\nKEY THEMESAsset Management \\nThis financial promotion is provided by Goldman Sachs Asset Management B.V.Tailwinds and Headwinds: \\nInvesting in MegatrendsGeopolitics and Elections:\\nRoadmaps for ResilienceMacroeconomy:\\nA Longer Path to Normalization\\xa0\\xa0\\n\\n\\nGeopolitics and Elections:  \\nRoadmaps for Resilience\\nBalanced allocations and hedging \\nstrategies can potentially add \\nresilience to portfolios amid \\nunstable geopolitics and election-\\nrelated uncertainty. Hedge funds \\nand liquid alternatives may \\nhelp investors navigate market \\nvolatility. A heightened focus \\non supply chain, resource, and \\nnational security presents long-\\nterm investment opportunities.Tailwinds and Headwinds: \\nInvesting in Megatrends \\nWe remain focused on key structural \\nforces: decarbonization, digitization, \\ndeglobalization, destabilization \\nin geopolitics, and demographic \\naging. These trends transcend \\neconomic and election cycles, and \\nnew opportunities and risks are \\nemerging as they intersect. Macroeconomy:  \\nA Longer Path to Normalization\\xa0\\xa0\\nConsiderable, but still incomplete, \\ndisinflation progress is lengthening \\nthe path to interest rate \\nnormalization. We believe these \\nconditions call for active and \\ndynamic investment strategies. \\nAreas of potential opportunity \\ninclude core fixed income, equity \\nexposures beyond the largest mega-\\ncap names, and private market \\nstrategies focused on driving value \\ncreation at portfolio companies. \\nKEY TAKEAWAYSHeading into 2024 we highlighted how new economic realities were taking shape, including higher-for-\\nlonger interest rates, elevated geopolitical risk and megatrends rapidly transforming industries. These \\nrealities are playing out as we cross the midpoint of the year. At a macro level, inflation persistence \\nmeans central banks are pivoting to rate cuts at a slower pace than anticipated six months ago. In our \\nview, evolving expectations on the exact timing and pace of policy shifts underscores the need for a \\ndynamic investment approach in the months ahead. As the macroeconomic cycle adjusts, the world \\nremains in an era of profound geopolitical change. Conflict escalation in the Middle East and Ukraine \\nremain major risks. The buildup and eventual fallout of key political elections globally are heightening \\nmarket volatility. These uncertainties are playing out as secular megatrends—from artificial intelligence \\nto sustainability—accelerate and reshape economies and industries. Understanding the nuances of \\nthese forces and how they interconnect can enable companies and investors to potentially capitalize \\non the opportunities they create. We have synthesized views from across our investment teams to cut \\nthrough some of this complexity and help you navigate the remainder of 2024. CUTTING THROUGH COMPLEXITY\\nGoldman Sachs Asset Management\\nAsset Management Outlook 2024     |    2\\n\\n\\nMajor central banks lifted interest rates at the fastest pace \\nin decades after the pandemic. The path to normalization \\nis likely to be a longer one. While the inflation emergency is \\nbehind major economies, inflation is proving persistent due \\nto pandemic-related quirks or catch-up effects in categories \\nwhere prices adjust gradually. The result is that central banks \\nare pivoting to rate cuts at a slower pace than anticipated at \\nthe start of 2024.  \\nIn the US, policymakers and investors are contending with \\nlast mile complexities. Resilience in the economy, corporate \\nearnings, and labor markets coincided with upside surprises in \\ninflation throughout the first quarter. Inflation prints for April \\nand May were a step in the right direction, but not enough \\nto fully offset inflation strength earlier in the year and the \\nsolid string of jobs data.1 Overall, despite a bumpy first half, \\nwe expect US disinflation to continue and rates to be lowered \\nbefore year-end. However, the exact timing remains uncertain \\ndue to the need for economic data to reaffirm confidence in \\nlabor market rebalancing and the disinflation path. Beyond \\nthat, the US election—and potential fiscal shifts—could point \\nto higher US rates for longer. \\nThe European Central Bank (ECB)—which has historically \\nembarked on cutting cycles after the Fed—lowered rates in \\nJune,2 motivated by sufficient inflation progress since the last \\nrate hike in September 2023. We expect rate reductions to \\nbe gradual over the coming quarters. We remain watchful of \\nwage trends and services inflation, as well as any tightening \\nin financial conditions caused by political uncertainty, which may pose downside risks to growth and alter the pace \\nand scope of the ECB's rate cutting cycle. In the UK, recent \\ninflation strength has pushed back the Bank of England’s \\n(BoE) first rate cut in this cycle; and the potential for a \\nsummer cut depends on signals from indicators of inflation \\npersistence such as wage growth and services prices. In Japan, \\nwe anticipate further, albeit limited, rate hikes as the Bank \\nof Japan (BoJ) persists with gradual rate normalization, with \\nlonger-run inflation expectations continuing to rise to more \\nsustainable levels. \\nEmerging market (EM) cutting cycles have been underway for \\nalmost a year. EM disinflation, which has allowed an earlier \\nstart to policy easing, has broadly remained intact. Countries \\nin Asia, Central and Eastern Europe and Latin America have \\nmade good progress on cooling inflation, though there \\nare also notable outliers, including Argentina and Turkey. \\nMore recently, EM cutting cycles have become vulnerable to \\nshifting US rate expectations, as well as concerns over the \\ncredibility of policymaking (e.g., Brazil) and election-related \\nsentiment (e.g., Mexico). As a result, market expectations on \\nthe speed and extent of EM policy easing have been pared \\nback compared with just a few months ago. In some cases, the \\nmarket is now pricing in rate hikes. China’s economy continues \\nto diverge, with policymakers set to maintain an easing bias as \\nthe economy and property market recovers.  MACROECONOMY:  \\nA LONGER PATH TO NORMALIZATION\\nGoldman Sachs Asset Management\\nAsset Management Outlook 2024     |    3\\n\""
      ]
     },
     "metadata": {},
     "output_type": "display_data"
    },
    {
     "data": {
      "text/plain": [
       "\"Method: llama2, Parser: pypdfloader, Original Response: The key takeaway of Goldman's mid-year outlook 2024 is that investing in megatrends, such as technology and sustainability, is a crucial aspect of resilience in today's uncertain geopolitical landscape. The report highlights the potential for these trends to drive long-term growth and notes that Goldman Sachs Asset Management is positioning its investment strategies to take advantage of these opportunities. Additionally, the report acknowledges that there are challenges ahead, including a potentially longer path to normalization in the macroeconomy, but emphasizes the importance of staying informed and adaptable in order to navigate these challenges successfully.\\nquery_resposne_sim:0.8438650122700699, Engineered Response: Based on the section titles provided in the context, the key takeaway of Goldman Sachs' mid-year outlook 2024 is that there are tailwinds and headwinds in different areas of the investment landscape. The report highlights megatrends such as technology and healthcare, which are expected to continue driving growth, but also notes geopolitical risks and potential disruptions in these sectors.\\n\\nIn terms of relevant numbers, the report provides several data points, including:\\n\\n1. US Bureau of Labor Statistics: As of June 12, 2024, the unemployment rate in the US is at 3.6%, which is near historic lows.\\n2. European Central Bank: As of June 6, 2024, inflation in the Eurozone is at 2.5%, slightly above the target range of 2%.\\n3. Goldman Sachs Asset Management: As of June 2024, the firm's assets under management are $1.3 trillion, up from $1.1 trillion in December 2023.\\n4. Tokyo Stock Exchange: As of May 16, 2024, the Nikkei 225 index is at 22,500, up 10% year-to-date.\\n5. Goldman Sachs Global Investment Research: As of May 29, 2024, the firm's analysts have a positive outlook on the European and Japanese equity markets, with expected returns of 7-10% and 8-11%, respectively, over the next 12 months.\\n6. Climate Bonds Initiative: As of June 20, 2024, the total value of climate bonds outstanding is $350 billion, up from $270 billion in December 2023.\\n\\nOverall, the report suggests that while there are some challenges and uncertainties in the investment landscape, there are also many opportunities for growth and returns, particularly in areas such as technology and healthcare.\""
      ]
     },
     "metadata": {},
     "output_type": "display_data"
    },
    {
     "name": "stdout",
     "output_type": "stream",
     "text": [
      "Saved prompt engineering comparison to prompt_engineering_comparison.xlsx\n"
     ]
    }
   ],
   "source": [
    "# New engineered prompt\n",
    "q_engineered = \"What is the key takeaway of Goldman's mid-year outlook 2024, based on the section titles from GS? Also, summarize relevant numbers they gave in the report.\"\n",
    "\n",
    "# Dictionary to store the engineered responses for comparison\n",
    "comparison_data = []\n",
    "\n",
    "for parser in parsers:\n",
    "    for model in models:\n",
    "        # Retrieve the original response and score from df\n",
    "        original_response = df.loc[parser, model] if parser in df.index and model in df.columns else \"N/A\"\n",
    "        \n",
    "        # Run the pipeline with the engineered prompt\n",
    "        pipeline = Pipeline(\n",
    "                    parser=parser, model=model,\n",
    "                    data_path=data_path, verbose=False,\n",
    "                ); pipeline.train()\n",
    "        engineered_response, engineered_score = pipeline.answer(q_engineered)\n",
    "        \n",
    "        # Display responses for reference\n",
    "        display(f'Method: {model}, Parser: {parser}, Original Response: {original_response}, Engineered Response: {engineered_response}')\n",
    "        \n",
    "        # Append the data for comparison\n",
    "        comparison_data.append({\n",
    "            \"Parser\": parser,\n",
    "            \"Model\": model,\n",
    "            \"Original Response\": original_response,\n",
    "            \"Engineered Response\": f\"{engineered_response}\\nquery_response_sim: {engineered_score}\"\n",
    "        })\n",
    "\n",
    "# Convert comparison data to a DataFrame and write to Excel\n",
    "df_comparison = pd.DataFrame(comparison_data)\n",
    "excel_path_comparison = \"prompt_engineering_comparison.xlsx\"\n",
    "df_comparison.to_excel(excel_path_comparison, index=False)\n",
    "print(f\"Saved prompt engineering comparison to {excel_path_comparison}\")"
   ]
  },
  {
   "cell_type": "code",
   "execution_count": 15,
   "id": "7fa72473a16e4382",
   "metadata": {},
   "outputs": [],
   "source": [
    "# q = \"What is the key takeaway of Goldman's mid-year outlook 2024, based on the section titles from GS? Also, summarize relavant numbers they gave in the report.\"\n",
    "# for model in models:\n",
    "#     for parser in parsers:\n",
    "#         pipeline = Pipeline(\n",
    "#                     parser=parser, model=model,\n",
    "#                     data_path=data_path, verbose=False,\n",
    "#                 ); pipeline.train()\n",
    "#         response, score = pipeline.answer(q)\n",
    "#         display(f'Method: {model}, Parser: {parser}, Response: {response}')"
   ]
  },
  {
   "cell_type": "code",
   "execution_count": null,
   "id": "a195e6c2",
   "metadata": {},
   "outputs": [],
   "source": []
  }
 ],
 "metadata": {
  "kernelspec": {
   "display_name": "llama_env",
   "language": "python",
   "name": "python3"
  },
  "language_info": {
   "codemirror_mode": {
    "name": "ipython",
    "version": 3
   },
   "file_extension": ".py",
   "mimetype": "text/x-python",
   "name": "python",
   "nbconvert_exporter": "python",
   "pygments_lexer": "ipython3",
   "version": "3.10.13"
  }
 },
 "nbformat": 4,
 "nbformat_minor": 5
}
