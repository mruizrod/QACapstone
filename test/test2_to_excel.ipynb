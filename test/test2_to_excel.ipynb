{
 "cells": [
  {
   "cell_type": "code",
   "execution_count": 1,
   "id": "initial_id",
   "metadata": {
    "collapsed": true
   },
   "outputs": [
    {
     "name": "stderr",
     "output_type": "stream",
     "text": [
      "/Users/tianyuyang/Desktop/CMU MSCF Courses/Mini 5/ML_Capstone/QACapstone/llama_env/lib/python3.10/site-packages/tqdm/auto.py:21: TqdmWarning: IProgress not found. Please update jupyter and ipywidgets. See https://ipywidgets.readthedocs.io/en/stable/user_install.html\n",
      "  from .autonotebook import tqdm as notebook_tqdm\n"
     ]
    }
   ],
   "source": [
    "import sys\n",
    "import os\n",
    "base_dir = os.path.abspath(\"..\")\n",
    "sys.path.append(base_dir) \n",
    "sys.path.append(os.path.join(base_dir, \"src\"))  \n",
    "data_path = os.path.join(base_dir, \"data\")\n",
    "import numpy as np\n",
    "import pandas as pd\n",
    "from sklearn.metrics.pairwise import cosine_similarity\n",
    "\n",
    "from src.pipeline import Pipeline\n",
    "import matplotlib.pyplot as plt\n",
    "import seaborn as sns\n",
    "import time"
   ]
  },
  {
   "cell_type": "markdown",
   "id": "abb97b35227cd02e",
   "metadata": {},
   "source": [
    "# Compare different parsers\n",
    "\n",
    "### General question"
   ]
  },
  {
   "cell_type": "code",
   "execution_count": 2,
   "id": "c97a4a8df697ac97",
   "metadata": {},
   "outputs": [],
   "source": [
    "models = [ \"nlp_langchain\",\"llama2\"]\n",
    "parsers = [\"unstructured\",\"llamaparse\", \"pdfplumber\", \"pypdfloader\"]"
   ]
  },
  {
   "cell_type": "code",
   "execution_count": 3,
   "id": "fb223742",
   "metadata": {},
   "outputs": [
    {
     "data": {
      "text/plain": [
       "'Method: nlp_langchain, Parser: unstructured, Response: MID-YEAR OUTLOOK 2024\\n\\nOUTLOOK 2024  KEY THEMES  Macroeconomy:  A Longer Path to Normalization\\xa0\\xa0  Geopolitics and Elections:  Roadmaps for Resilience  Tailwinds and Headwinds:   Investing in Megatrends\\n\\nThis financial promotion is provided by Goldman Sachs Asset Management B.V., Score: 0.8554397494584152'"
      ]
     },
     "metadata": {},
     "output_type": "display_data"
    },
    {
     "data": {
      "text/plain": [
       "\"Method: llama2, Parser: unstructured, Response: Based on the provided context, the key takeaway of Goldman Sachs' mid-year outlook for 2024 is that the economic realities are taking shape, including higher-for-longer interest rates, elevated geopolitical risk, and megatrends rapidly transforming industries. The report highlights the need for a dynamic investment approach in the months ahead as the macroeconomic cycle adjusts, and emphasizes the importance of understanding the nuances of these forces and how they interconnect to potentially capitalize on the opportunities they create., Score: 0.8826435921545632\""
      ]
     },
     "metadata": {},
     "output_type": "display_data"
    },
    {
     "data": {
      "text/plain": [
       "'Method: nlp_langchain, Parser: llamaparse, Response: Goldman Sachs Asset Management\\n\\nAsset Management Outlook 2024  |  10\\n\\n# GEOPOLITICS AND ELECTIONS: ROADMAPS FOR RESILIENCE\\n\\n# Three Key Questions\\n\\n# 1\\n\\nAre investment theses predicated on the continuation of existing policies?\\n\\n\\n\\nOur View: While prudent investments are never predicated on a single factor, many investors are contemplating how potential policy removals, additions, or alterations can change underwriting assumptions. This can potentially be easier to navigate in the US, where many policies related to supply chains and energy resources have a bottom-up nature that target specific markets, as opposed to in Europe where top-down regulations can fundamentally change the landscape., Score: 0.8619108861396854'"
      ]
     },
     "metadata": {},
     "output_type": "display_data"
    },
    {
     "data": {
      "text/plain": [
       "\"Method: llama2, Parser: llamaparse, Response: The key takeaway of Goldman's mid-year outlook 2024 is that the macroeconomy is on a longer path to normalization, with considerable but still incomplete disinflation progress lengthening the path to interest rate normalization. This condition calls for active and dynamic investment strategies, and balanced allocations and hedging strategies can potentially add resilience to portfolios amid unstable geopolitics and election-related uncertainty. Additionally, areas of potential opportunity include core fixed income, equity exposures beyond the largest mega-cap names, and private market strategies focused on driving value creation at portfolio companies., Score: 0.8405617294313964\""
      ]
     },
     "metadata": {},
     "output_type": "display_data"
    },
    {
     "data": {
      "text/plain": [
       "'Method: nlp_langchain, Parser: pdfplumber, Response: Goldman Sachs Asset Management Asset Management Outlook 2024 | 18\\n\\nand Goldman Sachs Asset Management has no obligation to provide any maintain any licenses, authorizations or registrations in Asia (other\\nupdates or changes. than Japan), except that it conducts businesses (subject to applicable\\nViews and opinions expressed are for informational purposes only local regulations) in and from the following jurisdictions: Hong Kong,\\nand do not constitute a recommendation by Goldman Sachs Asset Singapore, India and China. This material has been issued for use in or\\nManagement to buy, sell, or hold any security. Views and opinions are from Hong Kong by Goldman Sachs Asset Management (Hong Kong)\\ncurrent as of the date of this presentation and may be subject to change, Limited and in or from Singapore by Goldman Sachs Asset Management\\nthey should not be construed as investment advice. (Singapore) Pte. Ltd. (Company Number: 201329851H).\\n\\nIndividual portfolio management teams for Goldman Sachs Asset Australia and New Zealand: This material is distributed in Australia\\nManagement may have views and opinions and/or make investment and New Zealand by Goldman Sachs Asset Management Australia Pty\\ndecisions that, in certain instances, may not always be consistent with Ltd ABN 41 006 099 681, AFSL 228948 (’GSAMA’) and is intended\\nthe views and opinions expressed herein. for viewing only by wholesale clients in Australia for the purposes of\\nsection 761G of the Corporations Act 2001 (Cth) and to clients who\\nThe website links provided are for your convenience only and are not an either fall within any or all of the categories of investors set out in\\nendorsement or recommendation by Goldman Sachs Asset Management section 3(2) or sub-section 5(2CC) of the Securities Act 1978, fall\\nof any of these websites or the products or services offered. Goldman within the definition of a wholesale client for the purposes of the, Score: 0.8610623792198911'"
      ]
     },
     "metadata": {},
     "output_type": "display_data"
    },
    {
     "data": {
      "text/plain": [
       "\"Method: llama2, Parser: pdfplumber, Response: The key takeaway of Goldman Sachs' mid-year outlook 2024 is that the macroeconomy is on a longer path to normalization, with geopolitical and election-related risks continuing to pose challenges for investors. Despite these headwinds, there are still tailwinds from megatrends such as technology and demographic shifts that can provide opportunities for growth., Score: 0.8635306082063248\""
      ]
     },
     "metadata": {},
     "output_type": "display_data"
    },
    {
     "data": {
      "text/plain": [
       "\"Method: nlp_langchain, Parser: pypdfloader, Response: MID-YEAR  \\nOUTLOOK 2024\\nKEY THEMESAsset Management \\nThis financial promotion is provided by Goldman Sachs Asset Management B.V.Tailwinds and Headwinds: \\nInvesting in MegatrendsGeopolitics and Elections:\\nRoadmaps for ResilienceMacroeconomy:\\nA Longer Path to Normalization\\xa0\\xa0\\n\\n\\nGeopolitics and Elections:  \\nRoadmaps for Resilience\\nBalanced allocations and hedging \\nstrategies can potentially add \\nresilience to portfolios amid \\nunstable geopolitics and election-\\nrelated uncertainty. Hedge funds \\nand liquid alternatives may \\nhelp investors navigate market \\nvolatility. A heightened focus \\non supply chain, resource, and \\nnational security presents long-\\nterm investment opportunities.Tailwinds and Headwinds: \\nInvesting in Megatrends \\nWe remain focused on key structural \\nforces: decarbonization, digitization, \\ndeglobalization, destabilization \\nin geopolitics, and demographic \\naging. These trends transcend \\neconomic and election cycles, and \\nnew opportunities and risks are \\nemerging as they intersect. Macroeconomy:  \\nA Longer Path to Normalization\\xa0\\xa0\\nConsiderable, but still incomplete, \\ndisinflation progress is lengthening \\nthe path to interest rate \\nnormalization. We believe these \\nconditions call for active and \\ndynamic investment strategies. \\nAreas of potential opportunity \\ninclude core fixed income, equity \\nexposures beyond the largest mega-\\ncap names, and private market \\nstrategies focused on driving value \\ncreation at portfolio companies. \\nKEY TAKEAWAYSHeading into 2024 we highlighted how new economic realities were taking shape, including higher-for-\\nlonger interest rates, elevated geopolitical risk and megatrends rapidly transforming industries. These \\nrealities are playing out as we cross the midpoint of the year. At a macro level, inflation persistence \\nmeans central banks are pivoting to rate cuts at a slower pace than anticipated six months ago. In our \\nview, evolving expectations on the exact timing and pace of policy shifts underscores the need for a \\ndynamic investment approach in the months ahead. As the macroeconomic cycle adjusts, the world \\nremains in an era of profound geopolitical change. Conflict escalation in the Middle East and Ukraine \\nremain major risks. The buildup and eventual fallout of key political elections globally are heightening \\nmarket volatility. These uncertainties are playing out as secular megatrends—from artificial intelligence \\nto sustainability—accelerate and reshape economies and industries. Understanding the nuances of \\nthese forces and how they interconnect can enable companies and investors to potentially capitalize \\non the opportunities they create. We have synthesized views from across our investment teams to cut \\nthrough some of this complexity and help you navigate the remainder of 2024. CUTTING THROUGH COMPLEXITY\\nGoldman Sachs Asset Management\\nAsset Management Outlook 2024     |    2\\n\\n\\nMajor central banks lifted interest rates at the fastest pace \\nin decades after the pandemic. The path to normalization \\nis likely to be a longer one. While the inflation emergency is \\nbehind major economies, inflation is proving persistent due \\nto pandemic-related quirks or catch-up effects in categories \\nwhere prices adjust gradually. The result is that central banks \\nare pivoting to rate cuts at a slower pace than anticipated at \\nthe start of 2024.  \\nIn the US, policymakers and investors are contending with \\nlast mile complexities. Resilience in the economy, corporate \\nearnings, and labor markets coincided with upside surprises in \\ninflation throughout the first quarter. Inflation prints for April \\nand May were a step in the right direction, but not enough \\nto fully offset inflation strength earlier in the year and the \\nsolid string of jobs data.1 Overall, despite a bumpy first half, \\nwe expect US disinflation to continue and rates to be lowered \\nbefore year-end. However, the exact timing remains uncertain \\ndue to the need for economic data to reaffirm confidence in \\nlabor market rebalancing and the disinflation path. Beyond \\nthat, the US election—and potential fiscal shifts—could point \\nto higher US rates for longer. \\nThe European Central Bank (ECB)—which has historically \\nembarked on cutting cycles after the Fed—lowered rates in \\nJune,2 motivated by sufficient inflation progress since the last \\nrate hike in September 2023. We expect rate reductions to \\nbe gradual over the coming quarters. We remain watchful of \\nwage trends and services inflation, as well as any tightening \\nin financial conditions caused by political uncertainty, which may pose downside risks to growth and alter the pace \\nand scope of the ECB's rate cutting cycle. In the UK, recent \\ninflation strength has pushed back the Bank of England’s \\n(BoE) first rate cut in this cycle; and the potential for a \\nsummer cut depends on signals from indicators of inflation \\npersistence such as wage growth and services prices. In Japan, \\nwe anticipate further, albeit limited, rate hikes as the Bank \\nof Japan (BoJ) persists with gradual rate normalization, with \\nlonger-run inflation expectations continuing to rise to more \\nsustainable levels. \\nEmerging market (EM) cutting cycles have been underway for \\nalmost a year. EM disinflation, which has allowed an earlier \\nstart to policy easing, has broadly remained intact. Countries \\nin Asia, Central and Eastern Europe and Latin America have \\nmade good progress on cooling inflation, though there \\nare also notable outliers, including Argentina and Turkey. \\nMore recently, EM cutting cycles have become vulnerable to \\nshifting US rate expectations, as well as concerns over the \\ncredibility of policymaking (e.g., Brazil) and election-related \\nsentiment (e.g., Mexico). As a result, market expectations on \\nthe speed and extent of EM policy easing have been pared \\nback compared with just a few months ago. In some cases, the \\nmarket is now pricing in rate hikes. China’s economy continues \\nto diverge, with policymakers set to maintain an easing bias as \\nthe economy and property market recovers.  MACROECONOMY:  \\nA LONGER PATH TO NORMALIZATION\\nGoldman Sachs Asset Management\\nAsset Management Outlook 2024     |    3\\n, Score: 0.8167522121348265\""
      ]
     },
     "metadata": {},
     "output_type": "display_data"
    },
    {
     "data": {
      "text/plain": [
       "\"Method: llama2, Parser: pypdfloader, Response: The key takeaway of Goldman Sachs Asset Management's mid-year outlook 2024 is that they expect a longer path to normalization for the global economy, with tailwinds and headwinds in different regions. They highlight several megatrends, including geopolitics and elections, which will play a significant role in shaping investment decisions. Additionally, they provide insights into various asset classes, such as equities, fixed income, and currencies, and offer recommendations for investors to position their portfolios for resilience in the current environment., Score: 0.8487927838009824\""
      ]
     },
     "metadata": {},
     "output_type": "display_data"
    },
    {
     "ename": "ModuleNotFoundError",
     "evalue": "No module named 'openpyxl'",
     "output_type": "error",
     "traceback": [
      "\u001b[0;31m---------------------------------------------------------------------------\u001b[0m",
      "\u001b[0;31mModuleNotFoundError\u001b[0m                       Traceback (most recent call last)",
      "Cell \u001b[0;32mIn[3], line 25\u001b[0m\n\u001b[1;32m     23\u001b[0m \u001b[38;5;66;03m# Save to Excel file\u001b[39;00m\n\u001b[1;32m     24\u001b[0m excel_path \u001b[38;5;241m=\u001b[39m \u001b[38;5;124m\"\u001b[39m\u001b[38;5;124mresponse_quality_evaluation.xlsx\u001b[39m\u001b[38;5;124m\"\u001b[39m\n\u001b[0;32m---> 25\u001b[0m \u001b[43mdf\u001b[49m\u001b[38;5;241;43m.\u001b[39;49m\u001b[43mto_excel\u001b[49m\u001b[43m(\u001b[49m\u001b[43mexcel_path\u001b[49m\u001b[43m,\u001b[49m\u001b[43m \u001b[49m\u001b[43mindex\u001b[49m\u001b[38;5;241;43m=\u001b[39;49m\u001b[38;5;28;43;01mTrue\u001b[39;49;00m\u001b[43m)\u001b[49m\n\u001b[1;32m     26\u001b[0m \u001b[38;5;28mprint\u001b[39m(\u001b[38;5;124mf\u001b[39m\u001b[38;5;124m\"\u001b[39m\u001b[38;5;124mSaved response quality evaluation to \u001b[39m\u001b[38;5;132;01m{\u001b[39;00mexcel_path\u001b[38;5;132;01m}\u001b[39;00m\u001b[38;5;124m\"\u001b[39m)\n",
      "File \u001b[0;32m~/Desktop/CMU MSCF Courses/Mini 5/ML_Capstone/QACapstone/llama_env/lib/python3.10/site-packages/pandas/util/_decorators.py:333\u001b[0m, in \u001b[0;36mdeprecate_nonkeyword_arguments.<locals>.decorate.<locals>.wrapper\u001b[0;34m(*args, **kwargs)\u001b[0m\n\u001b[1;32m    327\u001b[0m \u001b[38;5;28;01mif\u001b[39;00m \u001b[38;5;28mlen\u001b[39m(args) \u001b[38;5;241m>\u001b[39m num_allow_args:\n\u001b[1;32m    328\u001b[0m     warnings\u001b[38;5;241m.\u001b[39mwarn(\n\u001b[1;32m    329\u001b[0m         msg\u001b[38;5;241m.\u001b[39mformat(arguments\u001b[38;5;241m=\u001b[39m_format_argument_list(allow_args)),\n\u001b[1;32m    330\u001b[0m         \u001b[38;5;167;01mFutureWarning\u001b[39;00m,\n\u001b[1;32m    331\u001b[0m         stacklevel\u001b[38;5;241m=\u001b[39mfind_stack_level(),\n\u001b[1;32m    332\u001b[0m     )\n\u001b[0;32m--> 333\u001b[0m \u001b[38;5;28;01mreturn\u001b[39;00m \u001b[43mfunc\u001b[49m\u001b[43m(\u001b[49m\u001b[38;5;241;43m*\u001b[39;49m\u001b[43margs\u001b[49m\u001b[43m,\u001b[49m\u001b[43m \u001b[49m\u001b[38;5;241;43m*\u001b[39;49m\u001b[38;5;241;43m*\u001b[39;49m\u001b[43mkwargs\u001b[49m\u001b[43m)\u001b[49m\n",
      "File \u001b[0;32m~/Desktop/CMU MSCF Courses/Mini 5/ML_Capstone/QACapstone/llama_env/lib/python3.10/site-packages/pandas/core/generic.py:2417\u001b[0m, in \u001b[0;36mNDFrame.to_excel\u001b[0;34m(self, excel_writer, sheet_name, na_rep, float_format, columns, header, index, index_label, startrow, startcol, engine, merge_cells, inf_rep, freeze_panes, storage_options, engine_kwargs)\u001b[0m\n\u001b[1;32m   2404\u001b[0m \u001b[38;5;28;01mfrom\u001b[39;00m \u001b[38;5;21;01mpandas\u001b[39;00m\u001b[38;5;21;01m.\u001b[39;00m\u001b[38;5;21;01mio\u001b[39;00m\u001b[38;5;21;01m.\u001b[39;00m\u001b[38;5;21;01mformats\u001b[39;00m\u001b[38;5;21;01m.\u001b[39;00m\u001b[38;5;21;01mexcel\u001b[39;00m \u001b[38;5;28;01mimport\u001b[39;00m ExcelFormatter\n\u001b[1;32m   2406\u001b[0m formatter \u001b[38;5;241m=\u001b[39m ExcelFormatter(\n\u001b[1;32m   2407\u001b[0m     df,\n\u001b[1;32m   2408\u001b[0m     na_rep\u001b[38;5;241m=\u001b[39mna_rep,\n\u001b[0;32m   (...)\u001b[0m\n\u001b[1;32m   2415\u001b[0m     inf_rep\u001b[38;5;241m=\u001b[39minf_rep,\n\u001b[1;32m   2416\u001b[0m )\n\u001b[0;32m-> 2417\u001b[0m \u001b[43mformatter\u001b[49m\u001b[38;5;241;43m.\u001b[39;49m\u001b[43mwrite\u001b[49m\u001b[43m(\u001b[49m\n\u001b[1;32m   2418\u001b[0m \u001b[43m    \u001b[49m\u001b[43mexcel_writer\u001b[49m\u001b[43m,\u001b[49m\n\u001b[1;32m   2419\u001b[0m \u001b[43m    \u001b[49m\u001b[43msheet_name\u001b[49m\u001b[38;5;241;43m=\u001b[39;49m\u001b[43msheet_name\u001b[49m\u001b[43m,\u001b[49m\n\u001b[1;32m   2420\u001b[0m \u001b[43m    \u001b[49m\u001b[43mstartrow\u001b[49m\u001b[38;5;241;43m=\u001b[39;49m\u001b[43mstartrow\u001b[49m\u001b[43m,\u001b[49m\n\u001b[1;32m   2421\u001b[0m \u001b[43m    \u001b[49m\u001b[43mstartcol\u001b[49m\u001b[38;5;241;43m=\u001b[39;49m\u001b[43mstartcol\u001b[49m\u001b[43m,\u001b[49m\n\u001b[1;32m   2422\u001b[0m \u001b[43m    \u001b[49m\u001b[43mfreeze_panes\u001b[49m\u001b[38;5;241;43m=\u001b[39;49m\u001b[43mfreeze_panes\u001b[49m\u001b[43m,\u001b[49m\n\u001b[1;32m   2423\u001b[0m \u001b[43m    \u001b[49m\u001b[43mengine\u001b[49m\u001b[38;5;241;43m=\u001b[39;49m\u001b[43mengine\u001b[49m\u001b[43m,\u001b[49m\n\u001b[1;32m   2424\u001b[0m \u001b[43m    \u001b[49m\u001b[43mstorage_options\u001b[49m\u001b[38;5;241;43m=\u001b[39;49m\u001b[43mstorage_options\u001b[49m\u001b[43m,\u001b[49m\n\u001b[1;32m   2425\u001b[0m \u001b[43m    \u001b[49m\u001b[43mengine_kwargs\u001b[49m\u001b[38;5;241;43m=\u001b[39;49m\u001b[43mengine_kwargs\u001b[49m\u001b[43m,\u001b[49m\n\u001b[1;32m   2426\u001b[0m \u001b[43m\u001b[49m\u001b[43m)\u001b[49m\n",
      "File \u001b[0;32m~/Desktop/CMU MSCF Courses/Mini 5/ML_Capstone/QACapstone/llama_env/lib/python3.10/site-packages/pandas/io/formats/excel.py:943\u001b[0m, in \u001b[0;36mExcelFormatter.write\u001b[0;34m(self, writer, sheet_name, startrow, startcol, freeze_panes, engine, storage_options, engine_kwargs)\u001b[0m\n\u001b[1;32m    941\u001b[0m     need_save \u001b[38;5;241m=\u001b[39m \u001b[38;5;28;01mFalse\u001b[39;00m\n\u001b[1;32m    942\u001b[0m \u001b[38;5;28;01melse\u001b[39;00m:\n\u001b[0;32m--> 943\u001b[0m     writer \u001b[38;5;241m=\u001b[39m \u001b[43mExcelWriter\u001b[49m\u001b[43m(\u001b[49m\n\u001b[1;32m    944\u001b[0m \u001b[43m        \u001b[49m\u001b[43mwriter\u001b[49m\u001b[43m,\u001b[49m\n\u001b[1;32m    945\u001b[0m \u001b[43m        \u001b[49m\u001b[43mengine\u001b[49m\u001b[38;5;241;43m=\u001b[39;49m\u001b[43mengine\u001b[49m\u001b[43m,\u001b[49m\n\u001b[1;32m    946\u001b[0m \u001b[43m        \u001b[49m\u001b[43mstorage_options\u001b[49m\u001b[38;5;241;43m=\u001b[39;49m\u001b[43mstorage_options\u001b[49m\u001b[43m,\u001b[49m\n\u001b[1;32m    947\u001b[0m \u001b[43m        \u001b[49m\u001b[43mengine_kwargs\u001b[49m\u001b[38;5;241;43m=\u001b[39;49m\u001b[43mengine_kwargs\u001b[49m\u001b[43m,\u001b[49m\n\u001b[1;32m    948\u001b[0m \u001b[43m    \u001b[49m\u001b[43m)\u001b[49m\n\u001b[1;32m    949\u001b[0m     need_save \u001b[38;5;241m=\u001b[39m \u001b[38;5;28;01mTrue\u001b[39;00m\n\u001b[1;32m    951\u001b[0m \u001b[38;5;28;01mtry\u001b[39;00m:\n",
      "File \u001b[0;32m~/Desktop/CMU MSCF Courses/Mini 5/ML_Capstone/QACapstone/llama_env/lib/python3.10/site-packages/pandas/io/excel/_openpyxl.py:57\u001b[0m, in \u001b[0;36mOpenpyxlWriter.__init__\u001b[0;34m(self, path, engine, date_format, datetime_format, mode, storage_options, if_sheet_exists, engine_kwargs, **kwargs)\u001b[0m\n\u001b[1;32m     44\u001b[0m \u001b[38;5;28;01mdef\u001b[39;00m \u001b[38;5;21m__init__\u001b[39m(\n\u001b[1;32m     45\u001b[0m     \u001b[38;5;28mself\u001b[39m,\n\u001b[1;32m     46\u001b[0m     path: FilePath \u001b[38;5;241m|\u001b[39m WriteExcelBuffer \u001b[38;5;241m|\u001b[39m ExcelWriter,\n\u001b[0;32m   (...)\u001b[0m\n\u001b[1;32m     55\u001b[0m ) \u001b[38;5;241m-\u001b[39m\u001b[38;5;241m>\u001b[39m \u001b[38;5;28;01mNone\u001b[39;00m:\n\u001b[1;32m     56\u001b[0m     \u001b[38;5;66;03m# Use the openpyxl module as the Excel writer.\u001b[39;00m\n\u001b[0;32m---> 57\u001b[0m     \u001b[38;5;28;01mfrom\u001b[39;00m \u001b[38;5;21;01mopenpyxl\u001b[39;00m\u001b[38;5;21;01m.\u001b[39;00m\u001b[38;5;21;01mworkbook\u001b[39;00m \u001b[38;5;28;01mimport\u001b[39;00m Workbook\n\u001b[1;32m     59\u001b[0m     engine_kwargs \u001b[38;5;241m=\u001b[39m combine_kwargs(engine_kwargs, kwargs)\n\u001b[1;32m     61\u001b[0m     \u001b[38;5;28msuper\u001b[39m()\u001b[38;5;241m.\u001b[39m\u001b[38;5;21m__init__\u001b[39m(\n\u001b[1;32m     62\u001b[0m         path,\n\u001b[1;32m     63\u001b[0m         mode\u001b[38;5;241m=\u001b[39mmode,\n\u001b[0;32m   (...)\u001b[0m\n\u001b[1;32m     66\u001b[0m         engine_kwargs\u001b[38;5;241m=\u001b[39mengine_kwargs,\n\u001b[1;32m     67\u001b[0m     )\n",
      "\u001b[0;31mModuleNotFoundError\u001b[0m: No module named 'openpyxl'"
     ]
    }
   ],
   "source": [
    "q = 'What is the key takeaway of Goldman’s mid-year outlook 2024'\n",
    "\n",
    "# Dictionary to store responses for each parser-model combination\n",
    "response_data = {}\n",
    "\n",
    "for parser in parsers:\n",
    "    row = {}\n",
    "    for model in models:\n",
    "        pipeline = Pipeline(\n",
    "                    parser=parser, model=model,\n",
    "                    data_path=data_path, verbose=False,\n",
    "                ); pipeline.train()\n",
    "        response, score = pipeline.answer(q)\n",
    "        display(f'Method: {model}, Parser: {parser}, Response: {response}, Score: {score}')\n",
    "        row[model] = f'{response}\\nquery_resposne_sim:{score}'\n",
    "    response_data[parser] = row\n",
    "\n",
    "# Convert the response data to a DataFrame and write to Excel\n",
    "df = pd.DataFrame.from_dict(response_data, orient='index')\n",
    "df.index.name = \"Parsers\"\n",
    "df.columns.name = \"Models\"\n",
    "\n",
    "# Save to Excel file\n",
    "excel_path = \"response_quality_evaluation_general.xlsx\"\n",
    "df.to_excel(excel_path, index=True)\n",
    "print(f\"Saved response quality evaluation to {excel_path}\")"
   ]
  },
  {
   "cell_type": "code",
   "execution_count": 4,
   "id": "8a0ae255",
   "metadata": {},
   "outputs": [
    {
     "name": "stdout",
     "output_type": "stream",
     "text": [
      "Saved response quality evaluation to response_quality_evaluation.xlsx\n"
     ]
    }
   ],
   "source": [
    "# # Save to Excel file\n",
    "# excel_path = \"response_quality_evaluation.xlsx\"\n",
    "# df.to_excel(excel_path, index=True)\n",
    "# print(f\"Saved response quality evaluation to {excel_path}\")"
   ]
  },
  {
   "cell_type": "code",
   "execution_count": 3,
   "id": "13a2b0302329e51a",
   "metadata": {},
   "outputs": [
    {
     "data": {
      "text/plain": [
       "'Method: nlp_langchain, Parser: unstructured, Response: MID-YEAR OUTLOOK 2024\\n\\nOUTLOOK 2024  KEY THEMES  Macroeconomy:  A Longer Path to Normalization\\xa0\\xa0  Geopolitics and Elections:  Roadmaps for Resilience  Tailwinds and Headwinds:   Investing in Megatrends\\n\\nThis financial promotion is provided by Goldman Sachs Asset Management B.V.'"
      ]
     },
     "metadata": {},
     "output_type": "display_data"
    },
    {
     "data": {
      "text/plain": [
       "'Method: nlp_langchain, Parser: llamaparse, Response: Goldman Sachs Asset Management\\n\\nAsset Management Outlook 2024  |  10\\n\\n# GEOPOLITICS AND ELECTIONS: ROADMAPS FOR RESILIENCE\\n\\n# Three Key Questions\\n\\n# 1\\n\\nAre investment theses predicated on the continuation of existing policies?\\n\\n\\n\\nOur View: While prudent investments are never predicated on a single factor, many investors are contemplating how potential policy removals, additions, or alterations can change underwriting assumptions. This can potentially be easier to navigate in the US, where many policies related to supply chains and energy resources have a bottom-up nature that target specific markets, as opposed to in Europe where top-down regulations can fundamentally change the landscape.'"
      ]
     },
     "metadata": {},
     "output_type": "display_data"
    },
    {
     "data": {
      "text/plain": [
       "'Method: nlp_langchain, Parser: pdfplumber, Response: Goldman Sachs Asset Management Asset Management Outlook 2024 | 18\\n\\nand Goldman Sachs Asset Management has no obligation to provide any maintain any licenses, authorizations or registrations in Asia (other\\nupdates or changes. than Japan), except that it conducts businesses (subject to applicable\\nViews and opinions expressed are for informational purposes only local regulations) in and from the following jurisdictions: Hong Kong,\\nand do not constitute a recommendation by Goldman Sachs Asset Singapore, India and China. This material has been issued for use in or\\nManagement to buy, sell, or hold any security. Views and opinions are from Hong Kong by Goldman Sachs Asset Management (Hong Kong)\\ncurrent as of the date of this presentation and may be subject to change, Limited and in or from Singapore by Goldman Sachs Asset Management\\nthey should not be construed as investment advice. (Singapore) Pte. Ltd. (Company Number: 201329851H).\\n\\nIndividual portfolio management teams for Goldman Sachs Asset Australia and New Zealand: This material is distributed in Australia\\nManagement may have views and opinions and/or make investment and New Zealand by Goldman Sachs Asset Management Australia Pty\\ndecisions that, in certain instances, may not always be consistent with Ltd ABN 41 006 099 681, AFSL 228948 (’GSAMA’) and is intended\\nthe views and opinions expressed herein. for viewing only by wholesale clients in Australia for the purposes of\\nsection 761G of the Corporations Act 2001 (Cth) and to clients who\\nThe website links provided are for your convenience only and are not an either fall within any or all of the categories of investors set out in\\nendorsement or recommendation by Goldman Sachs Asset Management section 3(2) or sub-section 5(2CC) of the Securities Act 1978, fall\\nof any of these websites or the products or services offered. Goldman within the definition of a wholesale client for the purposes of the'"
      ]
     },
     "metadata": {},
     "output_type": "display_data"
    },
    {
     "data": {
      "text/plain": [
       "\"Method: nlp_langchain, Parser: pypdfloader, Response: MID-YEAR  \\nOUTLOOK 2024\\nKEY THEMESAsset Management \\nThis financial promotion is provided by Goldman Sachs Asset Management B.V.Tailwinds and Headwinds: \\nInvesting in MegatrendsGeopolitics and Elections:\\nRoadmaps for ResilienceMacroeconomy:\\nA Longer Path to Normalization\\xa0\\xa0\\n\\n\\nGeopolitics and Elections:  \\nRoadmaps for Resilience\\nBalanced allocations and hedging \\nstrategies can potentially add \\nresilience to portfolios amid \\nunstable geopolitics and election-\\nrelated uncertainty. Hedge funds \\nand liquid alternatives may \\nhelp investors navigate market \\nvolatility. A heightened focus \\non supply chain, resource, and \\nnational security presents long-\\nterm investment opportunities.Tailwinds and Headwinds: \\nInvesting in Megatrends \\nWe remain focused on key structural \\nforces: decarbonization, digitization, \\ndeglobalization, destabilization \\nin geopolitics, and demographic \\naging. These trends transcend \\neconomic and election cycles, and \\nnew opportunities and risks are \\nemerging as they intersect. Macroeconomy:  \\nA Longer Path to Normalization\\xa0\\xa0\\nConsiderable, but still incomplete, \\ndisinflation progress is lengthening \\nthe path to interest rate \\nnormalization. We believe these \\nconditions call for active and \\ndynamic investment strategies. \\nAreas of potential opportunity \\ninclude core fixed income, equity \\nexposures beyond the largest mega-\\ncap names, and private market \\nstrategies focused on driving value \\ncreation at portfolio companies. \\nKEY TAKEAWAYSHeading into 2024 we highlighted how new economic realities were taking shape, including higher-for-\\nlonger interest rates, elevated geopolitical risk and megatrends rapidly transforming industries. These \\nrealities are playing out as we cross the midpoint of the year. At a macro level, inflation persistence \\nmeans central banks are pivoting to rate cuts at a slower pace than anticipated six months ago. In our \\nview, evolving expectations on the exact timing and pace of policy shifts underscores the need for a \\ndynamic investment approach in the months ahead. As the macroeconomic cycle adjusts, the world \\nremains in an era of profound geopolitical change. Conflict escalation in the Middle East and Ukraine \\nremain major risks. The buildup and eventual fallout of key political elections globally are heightening \\nmarket volatility. These uncertainties are playing out as secular megatrends—from artificial intelligence \\nto sustainability—accelerate and reshape economies and industries. Understanding the nuances of \\nthese forces and how they interconnect can enable companies and investors to potentially capitalize \\non the opportunities they create. We have synthesized views from across our investment teams to cut \\nthrough some of this complexity and help you navigate the remainder of 2024. CUTTING THROUGH COMPLEXITY\\nGoldman Sachs Asset Management\\nAsset Management Outlook 2024     |    2\\n\\n\\nMajor central banks lifted interest rates at the fastest pace \\nin decades after the pandemic. The path to normalization \\nis likely to be a longer one. While the inflation emergency is \\nbehind major economies, inflation is proving persistent due \\nto pandemic-related quirks or catch-up effects in categories \\nwhere prices adjust gradually. The result is that central banks \\nare pivoting to rate cuts at a slower pace than anticipated at \\nthe start of 2024.  \\nIn the US, policymakers and investors are contending with \\nlast mile complexities. Resilience in the economy, corporate \\nearnings, and labor markets coincided with upside surprises in \\ninflation throughout the first quarter. Inflation prints for April \\nand May were a step in the right direction, but not enough \\nto fully offset inflation strength earlier in the year and the \\nsolid string of jobs data.1 Overall, despite a bumpy first half, \\nwe expect US disinflation to continue and rates to be lowered \\nbefore year-end. However, the exact timing remains uncertain \\ndue to the need for economic data to reaffirm confidence in \\nlabor market rebalancing and the disinflation path. Beyond \\nthat, the US election—and potential fiscal shifts—could point \\nto higher US rates for longer. \\nThe European Central Bank (ECB)—which has historically \\nembarked on cutting cycles after the Fed—lowered rates in \\nJune,2 motivated by sufficient inflation progress since the last \\nrate hike in September 2023. We expect rate reductions to \\nbe gradual over the coming quarters. We remain watchful of \\nwage trends and services inflation, as well as any tightening \\nin financial conditions caused by political uncertainty, which may pose downside risks to growth and alter the pace \\nand scope of the ECB's rate cutting cycle. In the UK, recent \\ninflation strength has pushed back the Bank of England’s \\n(BoE) first rate cut in this cycle; and the potential for a \\nsummer cut depends on signals from indicators of inflation \\npersistence such as wage growth and services prices. In Japan, \\nwe anticipate further, albeit limited, rate hikes as the Bank \\nof Japan (BoJ) persists with gradual rate normalization, with \\nlonger-run inflation expectations continuing to rise to more \\nsustainable levels. \\nEmerging market (EM) cutting cycles have been underway for \\nalmost a year. EM disinflation, which has allowed an earlier \\nstart to policy easing, has broadly remained intact. Countries \\nin Asia, Central and Eastern Europe and Latin America have \\nmade good progress on cooling inflation, though there \\nare also notable outliers, including Argentina and Turkey. \\nMore recently, EM cutting cycles have become vulnerable to \\nshifting US rate expectations, as well as concerns over the \\ncredibility of policymaking (e.g., Brazil) and election-related \\nsentiment (e.g., Mexico). As a result, market expectations on \\nthe speed and extent of EM policy easing have been pared \\nback compared with just a few months ago. In some cases, the \\nmarket is now pricing in rate hikes. China’s economy continues \\nto diverge, with policymakers set to maintain an easing bias as \\nthe economy and property market recovers.  MACROECONOMY:  \\nA LONGER PATH TO NORMALIZATION\\nGoldman Sachs Asset Management\\nAsset Management Outlook 2024     |    3\\n\""
      ]
     },
     "metadata": {},
     "output_type": "display_data"
    },
    {
     "data": {
      "text/plain": [
       "\"Method: llama2, Parser: unstructured, Response: Based on the provided context, the key takeaway of Goldman Sachs Asset Management's mid-year outlook 2024 is that the economic realities are taking shape, including higher-for-longer interest rates, elevated geopolitical risk, and megatrends rapidly transforming industries. The document highlights the need for a dynamic investment approach in the months ahead as the macroeconomic cycle adjusts, and emphasizes the importance of understanding the nuances of these forces and how they interconnect to potentially capitalize on the opportunities they create.\""
      ]
     },
     "metadata": {},
     "output_type": "display_data"
    },
    {
     "data": {
      "text/plain": [
       "\"Method: llama2, Parser: llamaparse, Response: The key takeaway of Goldman's mid-year outlook 2024 is that there is a lengthening path to interest rate normalization due to considerable, but still incomplete, disinflation progress. This condition calls for active and dynamic investment strategies, such as balanced allocations and hedging strategies, to potentially add resilience to portfolios amid unstable geopolitics and election-related uncertainty. Additionally, Goldman remains focused on key structural forces such as decarbonization, digitization, deglobalization, destabilization in geopolitics, and demographic aging, which transcend economic and election cycles and offer opportunities for investment.\""
      ]
     },
     "metadata": {},
     "output_type": "display_data"
    },
    {
     "data": {
      "text/plain": [
       "\"Method: llama2, Parser: pdfplumber, Response: The key takeaway of Goldman's mid-year outlook 2024 is that the macroeconomy is on a longer path to normalization, with geopolitical and election factors also playing a significant role in shaping the investment landscape.\""
      ]
     },
     "metadata": {},
     "output_type": "display_data"
    },
    {
     "data": {
      "text/plain": [
       "\"Method: llama2, Parser: pypdfloader, Response: The key takeaway of Goldman's mid-year outlook 2024 is that the investment landscape is expected to be shaped by several tailwinds and headwinds. The report highlights the importance of investing in megatrends, such as technological innovation and demographic changes, while also considering the potential impact of geopolitical events and macroeconomic factors. Goldman emphasizes the need for resilience in investment strategies, particularly in light of the prolonged recovery from the COVID-19 pandemic and the ongoing challenges in the global economy. Overall, the mid-year outlook 2024 suggests that investors should be prepared to navigate a complex and dynamic investment landscape, with a focus on long-term growth and risk management.\""
      ]
     },
     "metadata": {},
     "output_type": "display_data"
    }
   ],
   "source": [
    "# q = 'What is the key takeaway of Goldman’s mid-year outlook 2024'\n",
    "\n",
    "# for model in models:\n",
    "#     for parser in parsers:\n",
    "#         pipeline = Pipeline(\n",
    "#                     parser=parser, model=model,\n",
    "#                     data_path=data_path, verbose=False,\n",
    "#                 ); pipeline.train()\n",
    "#         response, score = pipeline.answer(q)\n",
    "#         display(f'Method: {model}, Parser: {parser}, Response: {response}')"
   ]
  },
  {
   "cell_type": "markdown",
   "id": "15108a36a5a57cc4",
   "metadata": {},
   "source": [
    "### Specific question"
   ]
  },
  {
   "cell_type": "code",
   "execution_count": 5,
   "id": "9ad69c3a",
   "metadata": {},
   "outputs": [
    {
     "data": {
      "text/plain": [
       "'Method: nlp_langchain, Parser: unstructured, Response: Sovereign Bond Yields (%)\\n\\nLatest (%) Year-to-date Change (bps) 1-Year Change (bps) Last 10-year Percentile US 2 Year 4.6 39 -32 91 US 10 Year 43 40 22 95 US 2-10 Slope -0.3 1 54 15 US Treasury 10-Year Inflation-Protected 2.0 29 22 95 Germany 2 Year 2.9 52 -33 92 Germany 10 Year 2.5 51 -8 95 Japanese 10 Year 11 47 66 100 UK 10 Year 4.2 56 -47 92 Chinese 10 Year 2.3 -29 eae) 1\\n\\nSource: Macrobond, Goldman Sachs Asset Management. As of 11 July 2024., Score: 0.8556430892936366'"
      ]
     },
     "metadata": {},
     "output_type": "display_data"
    },
    {
     "data": {
      "text/plain": [
       "\"Method: llama2, Parser: unstructured, Response: Based on the provided context information, there are several potential market implications of rising sovereign debt levels:\\n\\n1. Increased Cost of Borrowing: As sovereign debt levels rise, so do interest rates on government bonds. This can lead to an increase in the cost of borrowing for governments and corporations, which may negatively impact economic growth.\\n2. Reduced Investor Confidence: Higher sovereign debt levels can lead to reduced investor confidence, as investors may become more risk-averse and less willing to invest in bonds with high levels of debt. This can result in lower bond prices and higher yields.\\n3. Pressure on Currencies: Rising sovereign debt levels can put pressure on currencies, particularly if the debt is denominated in a foreign currency. This can lead to currency devaluation and inflation, which can negatively impact economic growth.\\n4. Increased Risk of Debt Crisis: High levels of sovereign debt can increase the risk of a debt crisis, particularly if the government is unable to service its debt. This can result in a loss of investor confidence and a sharp decline in bond prices, leading to a debt crisis.\\n5. Reduced Fiscal Space: As sovereign debt levels rise, governments may find it more difficult to implement fiscal policies that rely on borrowing, such as tax cuts or increased spending. This can limit the government's ability to stimulate economic growth during times of recession or slowdown.\\n6. Impact on Bond Supply and Demand: Rising sovereign debt levels can impact bond supply and demand, leading to changes in bond prices and yields. This can have a ripple effect throughout the economy, as changes in bond yields can impact interest rates on other types of bonds and loans.\\n7. Increased Risk of Hyperinflation: High levels of sovereign debt can increase the risk of hyperinflation, particularly if the government is unable to service its debt and printing money becomes necessary to pay interest and principal. This can lead to a sharp decline in the value of the currency and a rise in prices.\\n\\nOverall, rising sovereign debt levels can have significant market implications, including increased costs of borrowing, reduced investor confidence, pressure on currencies, and increased risk of debt crisis, fiscal space reduction, bond supply and demand changes, and hyperinflation., Score: 0.7234347102845708\""
      ]
     },
     "metadata": {},
     "output_type": "display_data"
    },
    {
     "data": {
      "text/plain": [
       "\"Method: nlp_langchain, Parser: llamaparse, Response: \\n\\nIn the short term, we expect DM government bond yields to be shaped by the latest economic indicators, as central banks focus on current data rather than inflation or economic forecasts. The disinflation path will be closely watched, with any signs of economic or labor market downturn potentially leading to the start or acceleration of rate-cutting cycles, influencing short-term yields. However, without clear evidence of economic deceleration, a sustained drop in yields is unlikely. We also recognize the possibility of increased yield volatility due to lower liquidity during the summer holidays. The recent volatility in French sovereign bonds demonstrates how political factors can affect yields, either by changing fiscal outlook perceptions or by emphasizing existing fiscal challenges. In the US, the likelihood of persistent fiscal deficits across all election scenarios suggests a continuing trend of a high and possibly increasing term premium.\\n\\n# WHERE ARE THE OPPORTUNITIES?\\n\\n\\n\\nWe are strategically navigating divergent central bank policies with cross-market interest rate exposures. We favor Canadian rates, already benefiting from the Bank of Canada's rate cuts and potential for further easing, a reflection of Canada's strides in disinflation. The recent oil price drop has also favored Canadian rate performance, given the economy's reliance on this commodity. The UK is another promising candidate for overweight rate exposure, with headline inflation returning to 2% and a weakening labor market suggesting possible dovish policy shifts. The BoE has indicated readiness to ease this summer, should data support their forecasts. We see value in overweight exposure to Swedish rates, where slow growth and slowing inflation hint at further easing. In contrast, we're underweight Japanese rates due to the weak yen and strong wage growth pointing to., Score: 0.7712892238902764\""
      ]
     },
     "metadata": {},
     "output_type": "display_data"
    },
    {
     "data": {
      "text/plain": [
       "'Method: llama2, Parser: llamaparse, Response: The year-to-date change in sovereign bond yields cannot be determined solely based on the provided context information. The context provides information on interest rate changes in various countries, but it does not provide a comprehensive view of global sovereign bond yields. Therefore, I cannot answer the query with confidence without additional information., Score: 0.8963687861366287'"
      ]
     },
     "metadata": {},
     "output_type": "display_data"
    },
    {
     "data": {
      "text/plain": [
       "\"Method: nlp_langchain, Parser: pdfplumber, Response: short duration bonds are a timely and wise investment for those needing\\nliquidity. They offer a chance to secure attractive yields before the expected\\nexpansion of central bank rate cuts.\\nAgainst a backdrop of inverted yield curves and low credit spreads, short\\nSource: Goldman Sachs Asset Management, Bloomberg. Analysis is based on monthly data from\\nduration bonds present a lower risk and volatility alternative to long-term\\nMarch 1995 to April 10, 2024. Past performance does not guarantee future results which may\\nbonds, making them a suitable complement to core fixed income allocations. vary. Yield to Worst is the interest rate that makes the present value of a bond's cash flows equal\\nto the bond's price or initial investment, calculated by making worst-case scenario assumptions\\nThey also serve as a strategic complement to cash, especially as yields are\\n(excluding issuer default) on the bond by calculating the returns that would be received if\\n\\n(excluding issuer default) on the bond by calculating the returns that would be received if\\nprojected to decrease alongside central bank policy rates. Overall, short provisions, including prepayment, call, put, and sinking fund, are used by the issuer.\\nduration bonds are a valuable investment solution for those aiming to\\nmaintain liquidity and capital safety while also seeking additional income.\\nThe economic and market forecasts presented herein are for informational purposes as of the date of this document. There can be no assurance that the forecasts will be achieved. Please see additional\\ndisclosures at the end of this document.\\nFIXED INCOME OUTLOOK: SOUND FUNDAMENTALS, NARROW MARGINS Goldman Sachs Asset Management 17\\n\\nGREEN, SOCIAL AND SUSTAINABILITY BONDS\\nAn Expanding Opportunity Set\\nOUTLOOK WHERE ARE THE OPPORTUNITIES? (CONTINUED)\\nIn the first half of 2024, the green, social and sustainable (GSS) bond The green bond market is also aligning with the broader fixed income market,\\nmarket has grown significantly, with issuance totalling $496 billion— as seen in the growth of the industrial sectors weight from 2% to 12%. This\\nequivalent to 11% of the global investment-grade corporate bond market. shift broadens investment opportunities for those supporting global\\nGrowth is set to continue, with issuance potentially doubling to $1 trillion by sustainability goals. Proceeds from financials and utilities green bonds are\\nthe end of the year, despite a seasonal slowdown in the third quarter. The primarily directed towards two Green Bond Principles categories, aligning\\nmarket’s expansion is marked by increased diversity and depth, with the with three UN SDGs: SDG 7 (Affordable and Clean Energy), SDG 11, Score: 0.7720991598996665\""
      ]
     },
     "metadata": {},
     "output_type": "display_data"
    },
    {
     "data": {
      "text/plain": [
       "'Method: llama2, Parser: pdfplumber, Response: The year-to-date change in sovereign bond yields can be calculated by examining the monthly data from March 1995 to April 2024. According to the context information, the yield curve has inverted and credit spreads are low, indicating a potential expansion of central bank rate cuts. This could lead to lower long-term bond yields, which would result in a year-to-date decrease in sovereign bond yields. However, it is important to note that past performance does not guarantee future results, and the yields on short duration bonds may actually increase due to their attractive yields before the expected rate cuts., Score: 0.8960843654201993'"
      ]
     },
     "metadata": {},
     "output_type": "display_data"
    },
    {
     "data": {
      "text/plain": [
       "\"Method: nlp_langchain, Parser: pypdfloader, Response: Source: Goldman Sachs Global Investment Research. As of June 14, 2024.Global Central Banks Have Mostly Ended Their Hiking Cycles and Some Have Started to Cut Rates\\n-0.5%0.0%0.5%1.0%1.5%\\nNorway\\nUK\\nAustralia\\nEuro Area\\nSweden\\nUS\\nHong Kong\\nJapan\\nCanada\\nNew Zealand\\nSwitzerland0–3 Months 3–6 Months 6–12 Months TotalPolicy Rate Changes in the Last\\n3/6/12 Months (%)Developed Markets\\n0–3 Months 3–6 Months 6–12 Months Total\\n-6%-3%0%3%\\nIndonesia\\nThailand\\nPhilippines\\nTaiwan\\nIndia\\nMalaysia\\nSouth Korea\\nMainland China\\nVietnam\\nPakistan\\nMexico\\nColombia\\nPeru\\nBrazil\\nChile\\nTurkey\\nEgypt\\nRussia\\nRomania\\nSouth Africa\\nIsrael\\nGhana\\nPoland\\nCzech Republic\\nHungary\\nUkrainePolicy Rate Changes in the Last\\n3/6/12 Months (%)\\n+41.5%\\n+9.0% \\n-8.5%\\n-11. 5%Total:\\nTurkey: \\nEgypt: \\nRussia: \\nUkraine:Emerging Markets\\nGoldman Sachs Asset Management\\nAsset Management Outlook 2024     |    4\\n\\n\\nInvestment ConsiderationsMACROECONOMY: A LONGER PATH TO NORMALIZATION\\nStay Focused on Fixed Income  \\nIn an environment of steady growth, slowing inflation, and \\nbroadly robust corporate fundamentals, we see opportunities \\nto build well-diversified fixed income portfolios with the \\npotential to capture attractive levels of income. However, we \\nbelieve the environment remains one in which active security \\nselection is critical. We remain vigilant of downside surprises \\nin economic activity and headwinds to business investment \\ndue to election-related uncertainties, and tactical in adjusting \\nour positioning in response to market driven opportunities. \\nUncertainty underscores the defensive role of government \\nbonds and perceived safe-haven currencies like the US dollar. \\nElsewhere, we see value in attractive income provided by \\nspread sectors like corporate and securitized credit. \\nIn government bond markets, we believe adopting a dynamic \\nstrategy in managing duration is essential given divergent \\ntimelines, paces, and directions of central bank policies. In the \\nUS, we are positioned for a steepening of the forward Treasury \\nyield curve. This exposure may safeguard against downward \\ngrowth risks and allow investors to capitalize on the start to \\nFed rate cuts or growing term premium driven by a steady \\nsupply of US Treasuries. Our position on European rates is \\nbroadly neutral. While the ECB has shown an easing bias and \\npolitical uncertainties could dampen growth, we are also alert \\nto strength in services inflation. We favor UK rates as the BoE \\nis on course to ease policy, absent significant upside data \\nsurprises. Conversely, in Japan, we are mindful that continued \\nstrength in wages and a hawkish leaning BoJ increases the \\nlikelihood of further tightening. In the EM sovereign credit \\nspace, investors have potential opportunities to capture \\nattractive carry and identify bonds with potential for total \\nreturn due to possible rating upgrades to investment grade. \\nWhile we have reduced our overall exposure to EM local bonds, \\nwe are focused on markets like Chile, Czechia, and Hungary, \\nwhich appear poised for continued monetary easing, and \\ncontinue to monitor country-specific factors given unfolding \\ndivergence in central bank policy paths. \\nDespite the overall credit landscape appearing stable, \\ndispersion is evident across sectors and regions. For instance, \\nA-rated issuers with higher debt levels have seen a more \\nsignificant drop in interest coverage ratios compared to \\nBBB-rated issuers with lower leverage. Across credit, we \\nfavor issuers in sectors with the potential to demonstrate \\nresilience throughout the economic cycle. Bonds issued by banks are appealing, in our view, due to their spread premium, \\nalthough recent performance has reduced their valuation \\nappeal. Sectors adapting to decarbonization and digitization, \\nsuch as telecoms with broadband and 5G services, and \\ntech firms focusing on cybersecurity and data protection, \\nalso offer potential opportunities. We continue to believe \\nthe EM corporate bond market offers an attractive mix of \\nyield, diversification for existing corporate or EM exposures, \\nand resilience to macroeconomic challenges. Our analysis \\nsuggests EM corporate fundamentals remain healthy, with \\nnet leverage at near-decade lows. Credit rating trends are \\npositive, and default activity is projected to decrease in 2024, \\nreversing the trend of the past three years. Additionally, the \\ntechnical environment is favorable due to the limited new \\nsupply. We maintain a positive view on securitized credit, \\nincluding commercial mortgage-backed securities (CMBS) \\nand collateralized loan obligations (CLOs). We think there is \\npotential for further spread tightening in the latter half of \\nthe year, supported by strong fundamentals, especially for \\nsecurities at the top of the capital structure. Importantly, \\nrecent economic data remain supportive of a 'soft-landing' \\nscenario, which is favorable for sustaining cash flows from \\nunderlying loans. \\nBroaden Your Equity Horizons\\nIn public equity markets, inflationary pressures and higher \\ninterest rates have enabled the strongest business models \\nto demonstrate their margin resilience over recent quarters. \\nFirst quarter earnings seasons in the US were generally \\nbetter-than-expected based on our analysis.3 Most of the \\nearnings growth of the S&P 500 continues to be driven \\nby the “Magnificent 7”, though performance dispersion \\nwithin the group has widened. The second half of 2024 may \\npresent investors with opportunities to broaden their equity \\nhorizons beyond the largest names. We see a new layer of \\nAI beneficiaries emerging that are simultaneously backed \\nby fundamentals and complementary to the Magnificent 7, \\nincluding companies enhancing AI by harnessing the power \\nof data. Scrutiny of AI strategies, returns on investments, and \\nprofitability is likely to heighten as corporate AI spending \\ngrows. This underscores the need for careful security \\nselection and active management. \\nAfter a multi-year period of underperformance relative to \\nlarge caps, we believe US small caps are poised for a rebound. \\nGoldman Sachs Asset Management\\nAsset Management Outlook 2024     |    5\\n\\n\\nInvestment ConsiderationsMACROECONOMY: A LONGER PATH TO NORMALIZATION\\nOur view is based on the attractive absolute and relative \\nvaluations, the improving US macroeconomic outlook and the \\nprospect of US interest rate cuts before year-end. US policy \\neasing cycles have historically provided a tailwind to the asset \\nclass.4 With a higher share of floating debt and higher debt \\nburdens, smaller companies may see a more instantaneous \\nand stronger top-line impact from expected rate reductions in \\nthe second half of 2024. Small caps also offer diversification \\naway from concentration risk within the S&P 500.  \\nOutside the US, we believe Europe’s improving growth and \\ninflation mix, combined with better corporate earnings \\ndynamics and modest valuations, bodes well for European \\nequities. Rate reductions in Europe have materialized ahead \\nof the US, and that, combined with moderating wage growth \\nand inflation, should improve margins for companies, in our \\nview, including European small caps that have been vulnerable \\nto higher interest rates. In Japan, we expect strong equity \\nmarket performance to continue being driven by structural \\nchanges; notably a shift to an inflationary environment \\nafter decades of deflation. Continued corporate reforms are \\nresulting in Japanese companies being more proactive and \\npublic on their plans for capital efficiency.5  \\nEvolving Private Market Opportunities\\nPrivate market opportunities continue to evolve, with \\nmultiple avenues for investors to potentially enhance risk-\\nadjusted returns and add diversification to traditional \\ninvestment exposures. In private equity, higher capital \\ncosts have changed the calculus for dealmakers. We believe \\noperational value creation levers are poised to become the \\nmain determinants of success in this new regime. Prudence in \\ndeploying capital—for both new investments and supporting \\nexisting companies—should also become an even more \\ncritical factor to investment outcomes. With limited partners \\n(LPs) seeking liquidity from existing holdings, in some cases \\nas a prerequisite to new commitments, general partners (GPs) \\nmay increasingly turn to continuation vehicles and structured \\nsolutions to provide liquidity while value accrues. Secondaries \\ncontinue to present opportunities, as both LPs and GPs \\nseek deal and fund structures that offer both liquidity and \\nopportunities to extend hold times.  \\nPrivate credit continues to expand, and remains valued by \\nborrowers as a flexible, timely solution to finance capital \\nneeds. While yields on senior secured loans are still attractive compared with recent years, competitive pressure to deploy \\ncapital has driven spreads tighter in 2024. To compensate, \\nsome lenders are looking to refinance existing packages at \\nmore attractive terms to extend duration (i.e., sacrificing \\ncurrent yield for a higher multiple of invested capital). The \\nstructure of private credit deals may evolve, too. For instance, \\ncompanies may seek to push down interest costs further by \\nincluding equity kickers to compensate for a lower spread. We \\nbelieve those with scale and flexibility to lend throughout the \\ncapital stack, as well as a deep book of existing borrowers, \\nare best positioned. Semi-liquid vehicles represent a new \\nsource of competition, with pressure to deploy capital \\ninflows relatively quickly potentially contributing to spread \\ntightening. Overall, while we do not anticipate widespread \\ndistress, persistent elevated rates will likely test some fully \\nlevered companies and certain business models over the \\ncoming quarters. Underwriting, structuring discipline, robust \\nsourcing pipelines and experience should become a greater \\ndeterminant of ultimate outcomes, in our view.  \\nInfrastructure dealmaking has decelerated broadly in recent \\nquarters, with higher rates proving a continued headwind, \\nbut there are pockets of strength. Energy transition projects \\ncontinue to attract capital. Digital assets also remain popular, \\nwith investors seeing compelling opportunities to develop \\nplatforms as demand increases and regulatory frameworks \\nevolve. In real estate, diverging views on the timing and \\nmagnitude of US rate cuts is keeping some investors on the \\nsidelines. Lingering risks in the US—including upcoming \\nelections, regulatory uncertainty, and rising insurance costs—\\ncomplicate the outlook. Many investors remain focused \\non the highest quality assets, while distressed sales have \\nseen a small uptick as valuations have continued to fall. We \\nexpect demographics, technology, and the drive towards \\nsustainability to shape global real estate demand in the years \\nahead, with economic and capital market dislocations creating \\nnew opportunities over time. \\nGoldman Sachs Asset Management\\nAsset Management Outlook 2024     |    6\\n, Score: 0.7543610207031268\""
      ]
     },
     "metadata": {},
     "output_type": "display_data"
    },
    {
     "data": {
      "text/plain": [
       "'Method: llama2, Parser: pypdfloader, Response: Based on the provided context, the year-to-date change in sovereign bond yields cannot be directly referenced as it is not explicitly mentioned in the given passage. However, we can infer that the yield has likely increased or decreased based on the overall sentiment and trends discussed in the document.\\n\\nThe passage highlights the potential for central banks to cut interest rates, which could lead to lower sovereign bond yields. Additionally, the document mentions the possibility of increased yield volatility due to lower liquidity during the summer holidays. These factors suggest that sovereign bond yields may have decreased or remained stable compared to the previous year.\\n\\nHowever, without access to more detailed and up-to-date information on sovereign bond yields, it is difficult to provide a precise answer to the query., Score: 0.898649330523762'"
      ]
     },
     "metadata": {},
     "output_type": "display_data"
    },
    {
     "name": "stdout",
     "output_type": "stream",
     "text": [
      "Saved response quality evaluation to response_quality_evaluation_specific.xlsx\n"
     ]
    }
   ],
   "source": [
    "q = 'What is the year-to-date change in Sovereign Bond Yields'\n",
    "\n",
    "# Dictionary to store responses for each parser-model combination\n",
    "response_data_2 = {}\n",
    "\n",
    "for parser in parsers:\n",
    "    row = {}\n",
    "    for model in models:\n",
    "        pipeline = Pipeline(\n",
    "                    parser=parser, model=model,\n",
    "                    data_path=data_path, verbose=False,\n",
    "                ); pipeline.train()\n",
    "        response, score = pipeline.answer(q)\n",
    "        display(f'Method: {model}, Parser: {parser}, Response: {response}, Score: {score}')\n",
    "        row[model] = row[model] = f'{response}\\nquery_resposne_sim:{score}'\n",
    "    response_data_2[parser] = row\n",
    "\n",
    "# Convert the response data to a DataFrame and write to Excel\n",
    "df_2 = pd.DataFrame.from_dict(response_data, orient='index')\n",
    "df_2.index.name = \"Parsers\"\n",
    "df_2.columns.name = \"Models\"\n",
    "\n",
    "# Save to Excel file\n",
    "excel_path = \"response_quality_evaluation_specific.xlsx\"\n",
    "df_2.to_excel(excel_path, index=True)\n",
    "print(f\"Saved response quality evaluation to {excel_path}\")"
   ]
  },
  {
   "cell_type": "code",
   "execution_count": 4,
   "id": "4fc6addccaffe601",
   "metadata": {},
   "outputs": [
    {
     "data": {
      "text/plain": [
       "'Method: nlp_langchain, Parser: unstructured, Response: Sovereign Bond Yields (%)\\n\\nLatest (%) Year-to-date Change (bps) 1-Year Change (bps) Last 10-year Percentile US 2 Year 4.6 39 -32 91 US 10 Year 43 40 22 95 US 2-10 Slope -0.3 1 54 15 US Treasury 10-Year Inflation-Protected 2.0 29 22 95 Germany 2 Year 2.9 52 -33 92 Germany 10 Year 2.5 51 -8 95 Japanese 10 Year 11 47 66 100 UK 10 Year 4.2 56 -47 92 Chinese 10 Year 2.3 -29 eae) 1\\n\\nSource: Macrobond, Goldman Sachs Asset Management. As of 11 July 2024.'"
      ]
     },
     "metadata": {},
     "output_type": "display_data"
    },
    {
     "data": {
      "text/plain": [
       "\"Method: nlp_langchain, Parser: llamaparse, Response: \\n\\nIn the short term, we expect DM government bond yields to be shaped by the latest economic indicators, as central banks focus on current data rather than inflation or economic forecasts. The disinflation path will be closely watched, with any signs of economic or labor market downturn potentially leading to the start or acceleration of rate-cutting cycles, influencing short-term yields. However, without clear evidence of economic deceleration, a sustained drop in yields is unlikely. We also recognize the possibility of increased yield volatility due to lower liquidity during the summer holidays. The recent volatility in French sovereign bonds demonstrates how political factors can affect yields, either by changing fiscal outlook perceptions or by emphasizing existing fiscal challenges. In the US, the likelihood of persistent fiscal deficits across all election scenarios suggests a continuing trend of a high and possibly increasing term premium.\\n\\n# WHERE ARE THE OPPORTUNITIES?\\n\\n\\n\\nWe are strategically navigating divergent central bank policies with cross-market interest rate exposures. We favor Canadian rates, already benefiting from the Bank of Canada's rate cuts and potential for further easing, a reflection of Canada's strides in disinflation. The recent oil price drop has also favored Canadian rate performance, given the economy's reliance on this commodity. The UK is another promising candidate for overweight rate exposure, with headline inflation returning to 2% and a weakening labor market suggesting possible dovish policy shifts. The BoE has indicated readiness to ease this summer, should data support their forecasts. We see value in overweight exposure to Swedish rates, where slow growth and slowing inflation hint at further easing. In contrast, we're underweight Japanese rates due to the weak yen and strong wage growth pointing to.\""
      ]
     },
     "metadata": {},
     "output_type": "display_data"
    },
    {
     "data": {
      "text/plain": [
       "\"Method: nlp_langchain, Parser: pdfplumber, Response: short duration bonds are a timely and wise investment for those needing\\nliquidity. They offer a chance to secure attractive yields before the expected\\nexpansion of central bank rate cuts.\\nAgainst a backdrop of inverted yield curves and low credit spreads, short\\nSource: Goldman Sachs Asset Management, Bloomberg. Analysis is based on monthly data from\\nduration bonds present a lower risk and volatility alternative to long-term\\nMarch 1995 to April 10, 2024. Past performance does not guarantee future results which may\\nbonds, making them a suitable complement to core fixed income allocations. vary. Yield to Worst is the interest rate that makes the present value of a bond's cash flows equal\\nto the bond's price or initial investment, calculated by making worst-case scenario assumptions\\nThey also serve as a strategic complement to cash, especially as yields are\\n(excluding issuer default) on the bond by calculating the returns that would be received if\\n\\n(excluding issuer default) on the bond by calculating the returns that would be received if\\nprojected to decrease alongside central bank policy rates. Overall, short provisions, including prepayment, call, put, and sinking fund, are used by the issuer.\\nduration bonds are a valuable investment solution for those aiming to\\nmaintain liquidity and capital safety while also seeking additional income.\\nThe economic and market forecasts presented herein are for informational purposes as of the date of this document. There can be no assurance that the forecasts will be achieved. Please see additional\\ndisclosures at the end of this document.\\nFIXED INCOME OUTLOOK: SOUND FUNDAMENTALS, NARROW MARGINS Goldman Sachs Asset Management 17\\n\\nGREEN, SOCIAL AND SUSTAINABILITY BONDS\\nAn Expanding Opportunity Set\\nOUTLOOK WHERE ARE THE OPPORTUNITIES? (CONTINUED)\\nIn the first half of 2024, the green, social and sustainable (GSS) bond The green bond market is also aligning with the broader fixed income market,\\nmarket has grown significantly, with issuance totalling $496 billion— as seen in the growth of the industrial sectors weight from 2% to 12%. This\\nequivalent to 11% of the global investment-grade corporate bond market. shift broadens investment opportunities for those supporting global\\nGrowth is set to continue, with issuance potentially doubling to $1 trillion by sustainability goals. Proceeds from financials and utilities green bonds are\\nthe end of the year, despite a seasonal slowdown in the third quarter. The primarily directed towards two Green Bond Principles categories, aligning\\nmarket’s expansion is marked by increased diversity and depth, with the with three UN SDGs: SDG 7 (Affordable and Clean Energy), SDG 11\""
      ]
     },
     "metadata": {},
     "output_type": "display_data"
    },
    {
     "data": {
      "text/plain": [
       "\"Method: nlp_langchain, Parser: pypdfloader, Response: Source: Goldman Sachs Global Investment Research. As of June 14, 2024.Global Central Banks Have Mostly Ended Their Hiking Cycles and Some Have Started to Cut Rates\\n-0.5%0.0%0.5%1.0%1.5%\\nNorway\\nUK\\nAustralia\\nEuro Area\\nSweden\\nUS\\nHong Kong\\nJapan\\nCanada\\nNew Zealand\\nSwitzerland0–3 Months 3–6 Months 6–12 Months TotalPolicy Rate Changes in the Last\\n3/6/12 Months (%)Developed Markets\\n0–3 Months 3–6 Months 6–12 Months Total\\n-6%-3%0%3%\\nIndonesia\\nThailand\\nPhilippines\\nTaiwan\\nIndia\\nMalaysia\\nSouth Korea\\nMainland China\\nVietnam\\nPakistan\\nMexico\\nColombia\\nPeru\\nBrazil\\nChile\\nTurkey\\nEgypt\\nRussia\\nRomania\\nSouth Africa\\nIsrael\\nGhana\\nPoland\\nCzech Republic\\nHungary\\nUkrainePolicy Rate Changes in the Last\\n3/6/12 Months (%)\\n+41.5%\\n+9.0% \\n-8.5%\\n-11. 5%Total:\\nTurkey: \\nEgypt: \\nRussia: \\nUkraine:Emerging Markets\\nGoldman Sachs Asset Management\\nAsset Management Outlook 2024     |    4\\n\\n\\nInvestment ConsiderationsMACROECONOMY: A LONGER PATH TO NORMALIZATION\\nStay Focused on Fixed Income  \\nIn an environment of steady growth, slowing inflation, and \\nbroadly robust corporate fundamentals, we see opportunities \\nto build well-diversified fixed income portfolios with the \\npotential to capture attractive levels of income. However, we \\nbelieve the environment remains one in which active security \\nselection is critical. We remain vigilant of downside surprises \\nin economic activity and headwinds to business investment \\ndue to election-related uncertainties, and tactical in adjusting \\nour positioning in response to market driven opportunities. \\nUncertainty underscores the defensive role of government \\nbonds and perceived safe-haven currencies like the US dollar. \\nElsewhere, we see value in attractive income provided by \\nspread sectors like corporate and securitized credit. \\nIn government bond markets, we believe adopting a dynamic \\nstrategy in managing duration is essential given divergent \\ntimelines, paces, and directions of central bank policies. In the \\nUS, we are positioned for a steepening of the forward Treasury \\nyield curve. This exposure may safeguard against downward \\ngrowth risks and allow investors to capitalize on the start to \\nFed rate cuts or growing term premium driven by a steady \\nsupply of US Treasuries. Our position on European rates is \\nbroadly neutral. While the ECB has shown an easing bias and \\npolitical uncertainties could dampen growth, we are also alert \\nto strength in services inflation. We favor UK rates as the BoE \\nis on course to ease policy, absent significant upside data \\nsurprises. Conversely, in Japan, we are mindful that continued \\nstrength in wages and a hawkish leaning BoJ increases the \\nlikelihood of further tightening. In the EM sovereign credit \\nspace, investors have potential opportunities to capture \\nattractive carry and identify bonds with potential for total \\nreturn due to possible rating upgrades to investment grade. \\nWhile we have reduced our overall exposure to EM local bonds, \\nwe are focused on markets like Chile, Czechia, and Hungary, \\nwhich appear poised for continued monetary easing, and \\ncontinue to monitor country-specific factors given unfolding \\ndivergence in central bank policy paths. \\nDespite the overall credit landscape appearing stable, \\ndispersion is evident across sectors and regions. For instance, \\nA-rated issuers with higher debt levels have seen a more \\nsignificant drop in interest coverage ratios compared to \\nBBB-rated issuers with lower leverage. Across credit, we \\nfavor issuers in sectors with the potential to demonstrate \\nresilience throughout the economic cycle. Bonds issued by banks are appealing, in our view, due to their spread premium, \\nalthough recent performance has reduced their valuation \\nappeal. Sectors adapting to decarbonization and digitization, \\nsuch as telecoms with broadband and 5G services, and \\ntech firms focusing on cybersecurity and data protection, \\nalso offer potential opportunities. We continue to believe \\nthe EM corporate bond market offers an attractive mix of \\nyield, diversification for existing corporate or EM exposures, \\nand resilience to macroeconomic challenges. Our analysis \\nsuggests EM corporate fundamentals remain healthy, with \\nnet leverage at near-decade lows. Credit rating trends are \\npositive, and default activity is projected to decrease in 2024, \\nreversing the trend of the past three years. Additionally, the \\ntechnical environment is favorable due to the limited new \\nsupply. We maintain a positive view on securitized credit, \\nincluding commercial mortgage-backed securities (CMBS) \\nand collateralized loan obligations (CLOs). We think there is \\npotential for further spread tightening in the latter half of \\nthe year, supported by strong fundamentals, especially for \\nsecurities at the top of the capital structure. Importantly, \\nrecent economic data remain supportive of a 'soft-landing' \\nscenario, which is favorable for sustaining cash flows from \\nunderlying loans. \\nBroaden Your Equity Horizons\\nIn public equity markets, inflationary pressures and higher \\ninterest rates have enabled the strongest business models \\nto demonstrate their margin resilience over recent quarters. \\nFirst quarter earnings seasons in the US were generally \\nbetter-than-expected based on our analysis.3 Most of the \\nearnings growth of the S&P 500 continues to be driven \\nby the “Magnificent 7”, though performance dispersion \\nwithin the group has widened. The second half of 2024 may \\npresent investors with opportunities to broaden their equity \\nhorizons beyond the largest names. We see a new layer of \\nAI beneficiaries emerging that are simultaneously backed \\nby fundamentals and complementary to the Magnificent 7, \\nincluding companies enhancing AI by harnessing the power \\nof data. Scrutiny of AI strategies, returns on investments, and \\nprofitability is likely to heighten as corporate AI spending \\ngrows. This underscores the need for careful security \\nselection and active management. \\nAfter a multi-year period of underperformance relative to \\nlarge caps, we believe US small caps are poised for a rebound. \\nGoldman Sachs Asset Management\\nAsset Management Outlook 2024     |    5\\n\\n\\nInvestment ConsiderationsMACROECONOMY: A LONGER PATH TO NORMALIZATION\\nOur view is based on the attractive absolute and relative \\nvaluations, the improving US macroeconomic outlook and the \\nprospect of US interest rate cuts before year-end. US policy \\neasing cycles have historically provided a tailwind to the asset \\nclass.4 With a higher share of floating debt and higher debt \\nburdens, smaller companies may see a more instantaneous \\nand stronger top-line impact from expected rate reductions in \\nthe second half of 2024. Small caps also offer diversification \\naway from concentration risk within the S&P 500.  \\nOutside the US, we believe Europe’s improving growth and \\ninflation mix, combined with better corporate earnings \\ndynamics and modest valuations, bodes well for European \\nequities. Rate reductions in Europe have materialized ahead \\nof the US, and that, combined with moderating wage growth \\nand inflation, should improve margins for companies, in our \\nview, including European small caps that have been vulnerable \\nto higher interest rates. In Japan, we expect strong equity \\nmarket performance to continue being driven by structural \\nchanges; notably a shift to an inflationary environment \\nafter decades of deflation. Continued corporate reforms are \\nresulting in Japanese companies being more proactive and \\npublic on their plans for capital efficiency.5  \\nEvolving Private Market Opportunities\\nPrivate market opportunities continue to evolve, with \\nmultiple avenues for investors to potentially enhance risk-\\nadjusted returns and add diversification to traditional \\ninvestment exposures. In private equity, higher capital \\ncosts have changed the calculus for dealmakers. We believe \\noperational value creation levers are poised to become the \\nmain determinants of success in this new regime. Prudence in \\ndeploying capital—for both new investments and supporting \\nexisting companies—should also become an even more \\ncritical factor to investment outcomes. With limited partners \\n(LPs) seeking liquidity from existing holdings, in some cases \\nas a prerequisite to new commitments, general partners (GPs) \\nmay increasingly turn to continuation vehicles and structured \\nsolutions to provide liquidity while value accrues. Secondaries \\ncontinue to present opportunities, as both LPs and GPs \\nseek deal and fund structures that offer both liquidity and \\nopportunities to extend hold times.  \\nPrivate credit continues to expand, and remains valued by \\nborrowers as a flexible, timely solution to finance capital \\nneeds. While yields on senior secured loans are still attractive compared with recent years, competitive pressure to deploy \\ncapital has driven spreads tighter in 2024. To compensate, \\nsome lenders are looking to refinance existing packages at \\nmore attractive terms to extend duration (i.e., sacrificing \\ncurrent yield for a higher multiple of invested capital). The \\nstructure of private credit deals may evolve, too. For instance, \\ncompanies may seek to push down interest costs further by \\nincluding equity kickers to compensate for a lower spread. We \\nbelieve those with scale and flexibility to lend throughout the \\ncapital stack, as well as a deep book of existing borrowers, \\nare best positioned. Semi-liquid vehicles represent a new \\nsource of competition, with pressure to deploy capital \\ninflows relatively quickly potentially contributing to spread \\ntightening. Overall, while we do not anticipate widespread \\ndistress, persistent elevated rates will likely test some fully \\nlevered companies and certain business models over the \\ncoming quarters. Underwriting, structuring discipline, robust \\nsourcing pipelines and experience should become a greater \\ndeterminant of ultimate outcomes, in our view.  \\nInfrastructure dealmaking has decelerated broadly in recent \\nquarters, with higher rates proving a continued headwind, \\nbut there are pockets of strength. Energy transition projects \\ncontinue to attract capital. Digital assets also remain popular, \\nwith investors seeing compelling opportunities to develop \\nplatforms as demand increases and regulatory frameworks \\nevolve. In real estate, diverging views on the timing and \\nmagnitude of US rate cuts is keeping some investors on the \\nsidelines. Lingering risks in the US—including upcoming \\nelections, regulatory uncertainty, and rising insurance costs—\\ncomplicate the outlook. Many investors remain focused \\non the highest quality assets, while distressed sales have \\nseen a small uptick as valuations have continued to fall. We \\nexpect demographics, technology, and the drive towards \\nsustainability to shape global real estate demand in the years \\nahead, with economic and capital market dislocations creating \\nnew opportunities over time. \\nGoldman Sachs Asset Management\\nAsset Management Outlook 2024     |    6\\n\""
      ]
     },
     "metadata": {},
     "output_type": "display_data"
    },
    {
     "data": {
      "text/plain": [
       "\"Method: llama2, Parser: unstructured, Response: Based on the provided context information, there are several potential market implications of rising sovereign debt levels:\\n\\n1. Increased Cost of Capital: As sovereign debt levels rise, the cost of capital for governments and corporations can increase, leading to higher borrowing costs and potentially slower economic growth.\\n2. Reduced Fiscal Space: Higher sovereign debt levels can reduce a government's fiscal space, making it more difficult to implement fiscal policies that can stimulate economic growth during times of recession or slowdown.\\n3. Increased Risk of Debt Crises: Prolonged periods of high borrowing can lead to an increased risk of debt crises, such as a sovereign default or bankruptcy. This can have severe consequences for the economy and financial markets.\\n4. Impact on Bond Supply and Demand: Rising sovereign debt levels can impact the supply and demand for bonds, potentially leading to higher bond yields and reduced investor confidence in the government's ability to manage its finances.\\n5. Reduced Investment: Higher sovereign debt levels can reduce investment in other areas of the economy, such as businesses and infrastructure projects, as investors become more risk-averse and less willing to invest in projects with a higher risk of default.\\n6. Increased Inflation Risk: Excessive government borrowing can lead to an increase in the money supply, potentially causing inflation. This can have negative consequences for the economy and financial markets.\\n7. Reduced Credit Rating: If sovereign debt levels continue to rise without a clear plan to reduce them, it can lead to a reduction in the government's credit rating, making it more expensive for the government to borrow money in the future.\\n8. Impact on Currency Value: Higher sovereign debt levels can impact the value of a country's currency, potentially leading to a depreciation of the currency and increased inflation.\\n\\nIn conclusion, rising sovereign debt levels can have significant market implications, including increased costs of capital, reduced fiscal space, and an increased risk of debt crises. It is important for governments to manage their finances responsibly and reduce their reliance on borrowing to avoid these negative consequences.\""
      ]
     },
     "metadata": {},
     "output_type": "display_data"
    },
    {
     "data": {
      "text/plain": [
       "\"Method: llama2, Parser: llamaparse, Response: The year-to-date change in sovereign bond yields cannot be determined solely based on the provided context. The context provides information on the policy rate changes of various central banks, but it does not provide sufficient data to calculate the year-to-date change in sovereign bond yields. To determine the year-to-date change in sovereign bond yields, one would need to have access to historical yield data for each country's sovereign bonds, which is not provided in the context. Therefore, I cannot answer the query without additional information.\""
      ]
     },
     "metadata": {},
     "output_type": "display_data"
    },
    {
     "data": {
      "text/plain": [
       "'Method: llama2, Parser: pdfplumber, Response: The year-to-date change in sovereign bond yields can be calculated by analyzing the monthly data from March 1995 to April 2024. According to the context information provided, the yield curve has inverted and credit spreads have decreased, indicating a lower risk and volatility alternative to long-term bonds. This suggests that short duration bonds may have performed well in comparison to long-term bonds during this period.\\n\\nTo calculate the year-to-date change in sovereign bond yields, we can use the following formula:\\n\\nYear-to-Date Change = (Current Bond Yield - Initial Bond Yield) / Initial Bond Yield * 100\\n\\nWhere \"Initial Bond Yield\" is the yield of the bond at the beginning of the period, and \"Current Bond Yield\" is the yield of the bond at the end of the period.\\n\\nUsing the monthly data provided in the context information, we can calculate the year-to-date change in sovereign bond yields for each month from March 1995 to April 2024. The results are as follows:\\n\\n| Month | Initial Bond Yield | Current Bond Yield | Year-to-Date Change |\\n| --- | --- | --- | --- |\\n| Mar 95 | 7.5% | 6.2% | -15% |\\n| Apr 96 | 6.8% | 5.6% | -16% |\\n| May 97 | 6.3% | 4.7% | -15% |\\n| Jun 98 | 5.9% | 4.2% | -16% |\\n| Jul 99 | 5.5% | 3.8% | -17% |\\n| Aug 00 | 5.2% | 3.3% | -16% |\\n| Sep 01 | 4.9% | 2.8% | -17% |\\n| Oct 02 | 4.7% | 2.2% | -16% |\\n| Nov 03 | 4.5% | 1.7% | -17% |\\n| Dec 04 | 4.3% | 1.3% | -16% |\\n| Jan 05 | 4.2% | 0.8% | -16% |\\n| Feb 06 | 4.1% | -0.1% | -17% |\\n| Mar 07 | 3.9% | -0.4% | -17% |\\n| Apr 08 | 3.6% | -0.2% | -16% |\\n| May 09 | 3.4% | -0.1% | -17% |\\n| Jun 10 | 3.2% | -0.3% | -16% |\\n| Jul 11 | 3.0% | -0.5% | -17% |\\n| Aug 12 | 2.8% | -0.4% | -16% |\\n| Sep 13 | 2.6% | -0.3% | -17% |\\n| Oct 14 | 2.4% | -0.2% | -16% |\\n| Nov 15 | 2.2% | -0.1% | -17% |\\n| Dec 16 | 2.0% | -0.2% | -16% |\\n| Jan 17 | 1.8% | -0.3% | -17% |\\n| Feb 18 | 1.6% | -0.4% | -16% |\\n| Mar 19 | 1.4% | -0.5% | -17% |\\n| Apr 20 | 1.2% | -0.3% | -16% |\\n| May 21 | 1.0% | -0.2% | -17% |\\n\\nBased on the above data, we can see that the year-to-date change in sovereign bond yields has generally been negative over the past two decades, with an average decrease of around 17%. However, it\\'s important to note that this is a general trend and may not necessarily hold true for any particular bond or investment. It\\'s always best to consult with a financial advisor before making any investment decisions.'"
      ]
     },
     "metadata": {},
     "output_type": "display_data"
    },
    {
     "data": {
      "text/plain": [
       "'Method: llama2, Parser: pypdfloader, Response: Based on the provided context, the year-to-date change in sovereign bond yields cannot be directly referenced as it is not explicitly mentioned in the given passage. However, we can infer some information about sovereign bond yields from the context.\\n\\nThe passage mentions that central banks are focusing on current data rather than inflation or economic forecasts, which suggests that they may be paying closer attention to short-term economic indicators. Additionally, the passage notes that there is a possibility of increased yield volatility due to lower liquidity during the summer holidays.\\n\\nTaking these factors into account, it is possible that sovereign bond yields have experienced some fluctuations year-to-date, although the exact magnitude of these changes cannot be determined from the given passage. It is also worth noting that the passage does not provide any information about the overall direction or trend of sovereign bond yields, only mentioning the potential for fluctuations due to various factors.'"
      ]
     },
     "metadata": {},
     "output_type": "display_data"
    }
   ],
   "source": [
    "# q = 'What is the year-to-date change in Sovereign Bond Yields'\n",
    "# # Fixed Income document page 21\n",
    "# for model in models:\n",
    "#     for parser in parsers:\n",
    "#         pipeline = Pipeline(\n",
    "#                     parser=parser, model=model,\n",
    "#                     data_path=data_path, verbose=False,\n",
    "#                 ); pipeline.train()\n",
    "#         response, score = pipeline.answer(q)\n",
    "#         display(f'Method: {model}, Parser: {parser}, Response: {response}')"
   ]
  },
  {
   "cell_type": "markdown",
   "id": "34cc506ee04b500f",
   "metadata": {},
   "source": [
    "# Prompt engineering"
   ]
  },
  {
   "cell_type": "code",
   "execution_count": 6,
   "id": "99462e17",
   "metadata": {},
   "outputs": [
    {
     "data": {
      "text/plain": [
       "'Method: nlp_langchain, Parser: unstructured, Original Response: MID-YEAR OUTLOOK 2024\\n\\nOUTLOOK 2024  KEY THEMES  Macroeconomy:  A Longer Path to Normalization\\xa0\\xa0  Geopolitics and Elections:  Roadmaps for Resilience  Tailwinds and Headwinds:   Investing in Megatrends\\n\\nThis financial promotion is provided by Goldman Sachs Asset Management B.V., Engineered Response: 3. Goldman Sachs Asset Management, Company Information. As of June, 2024.\\n\\n4. Goldman Sachs Asset Management. As of December 29, 2023. Past performance does not guarantee future results, which may vary.\\n\\nTokyo Stock Exchange, Goldman Sachs Global'"
      ]
     },
     "metadata": {},
     "output_type": "display_data"
    },
    {
     "data": {
      "text/plain": [
       "\"Method: llama2, Parser: unstructured, Original Response: Based on the provided context, the key takeaway of Goldman Sachs' mid-year outlook for 2024 is that the economic realities are taking shape, including higher-for-longer interest rates, elevated geopolitical risk, and megatrends rapidly transforming industries. The report highlights the need for a dynamic investment approach in the months ahead as the macroeconomic cycle adjusts, and emphasizes the importance of understanding the nuances of these forces and how they interconnect to potentially capitalize on the opportunities they create., Engineered Response: Based on the provided context information, the key takeaway of Goldman Sachs' mid-year outlook 2024 is that the firm expects a global economic slowdown in the near term, with potential risks to growth and stability. The section titles from GS indicate that they have provided insights on various aspects of the economy, including inflation, interest rates, currencies, and commodities.\\n\\nRelevant numbers given in the report include:\\n\\n* Detection class probability of 0.5797362923622131 for the document as a whole, indicating a moderate level of confidence in the analysis.\\n* Coordinates for two sets of points, indicating the location of the data on a PixelSpace layout with a width of 2200 and a height of 1700.\\n* Last modified date of 2024-09-30T10:17:23, indicating that the report was updated recently.\\n* Filetype of application/pdf, indicating that the report is in PDF format.\\n* Languages listed as ['eng'], indicating that the report is written in English.\\n* Page number of 8 and 25, indicating the location of two key sections within the report.\\n* Filename of fi-outlook_3q24.pdf, indicating the specific name of the report.\\n\\nOverall, Goldman Sachs' mid-year outlook 2024 suggests that the global economy may face challenges in the near term, but also highlights potential opportunities for growth and investment.\""
      ]
     },
     "metadata": {},
     "output_type": "display_data"
    },
    {
     "data": {
      "text/plain": [
       "'Method: nlp_langchain, Parser: llamaparse, Original Response: Goldman Sachs Asset Management\\n\\nAsset Management Outlook 2024  |  10\\n\\n# GEOPOLITICS AND ELECTIONS: ROADMAPS FOR RESILIENCE\\n\\n# Three Key Questions\\n\\n# 1\\n\\nAre investment theses predicated on the continuation of existing policies?\\n\\n\\n\\nOur View: While prudent investments are never predicated on a single factor, many investors are contemplating how potential policy removals, additions, or alterations can change underwriting assumptions. This can potentially be easier to navigate in the US, where many policies related to supply chains and energy resources have a bottom-up nature that target specific markets, as opposed to in Europe where top-down regulations can fundamentally change the landscape., Engineered Response: Goldman Sachs Asset Management\\n\\nAsset Management Outlook 2024 | 11\\n\\n# TAILWINDS AND HEADWINDS:\\n\\n# INVESTING IN MEGATRENDS\\n\\n\\n\\nBeyond the near-term path of inflation, rates, and election results, we remain focused on longer-term paradigm shifts, including five key structural forces: decarbonization, digitization, deglobalization, destabilization in geopolitics, and demographic aging. Active investment strategies, a focus on diversification and risk management may become increasingly important to help navigate these contours and deliver alpha. Investors who stay in their silos and focus on a single theme may miss out on opportunities and underestimate risks.'"
      ]
     },
     "metadata": {},
     "output_type": "display_data"
    },
    {
     "data": {
      "text/plain": [
       "\"Method: llama2, Parser: llamaparse, Original Response: The key takeaway of Goldman's mid-year outlook 2024 is that the macroeconomy is on a longer path to normalization, with considerable but still incomplete disinflation progress lengthening the path to interest rate normalization. This condition calls for active and dynamic investment strategies, and balanced allocations and hedging strategies can potentially add resilience to portfolios amid unstable geopolitics and election-related uncertainty. Additionally, areas of potential opportunity include core fixed income, equity exposures beyond the largest mega-cap names, and private market strategies focused on driving value creation at portfolio companies., Engineered Response: Based on the context information provided, the key takeaway of Goldman Sachs' Mid-Year Outlook 2024 is that the macroeconomy is on a longer path to normalization, with geopolitics and elections playing a significant role in shaping the investment landscape. The report highlights several key themes, including:\\n\\n1. Macroeconomy: Goldman Sachs expects the global economy to continue growing, but at a slower pace than previously expected. They predict that the US Federal Reserve will keep interest rates low for an extended period, and that inflation will remain subdued.\\n2. Geopolitics and Elections: The report notes that geopolitical tensions and upcoming elections in various countries will continue to impact markets. Goldman Sachs expects these factors to create volatility and uncertainty, but also opportunities for investment in resilience.\\n3. Tailwinds and Headwinds: The report identifies several megatrends that are expected to drive investment performance, including the growth of digital technologies, the rise of emerging markets, and the increasing importance of sustainability.\\n\\nRelevant numbers provided in the report include:\\n\\n1. US Bureau of Labor Statistics: As of June 12, 2024, the unemployment rate in the US is 3.6%, down from 3.8% in December 2023.\\n2. European Central Bank: As of June 6, 2024, inflation in the Eurozone is at 1.7%, down from 2.1% in December 2023.\\n3. Goldman Sachs Asset Management: As of December 29, 2023, the firm's equity strategies were overweight in technology, healthcare, and consumer discretionary stocks, and underweight in financials and real estate.\\n4. Tokyo Stock Exchange: As of May 16, 2024, the Nikkei 225 index is at 23,584, up from 22,795 in December 2023.\\n5. Goldman Sachs Global Investment Research: As of May 29, 2024, the firm's global economic growth forecast for 2024 is 3.6%, down from 3.8% in December 2023.\\n6. Climate Bonds Initiative: As of June 20, 2024, the total value of green bonds issued globally is $175 billion, up from $129 billion in December 2023.\""
      ]
     },
     "metadata": {},
     "output_type": "display_data"
    },
    {
     "data": {
      "text/plain": [
       "'Method: nlp_langchain, Parser: pdfplumber, Original Response: Goldman Sachs Asset Management Asset Management Outlook 2024 | 18\\n\\nand Goldman Sachs Asset Management has no obligation to provide any maintain any licenses, authorizations or registrations in Asia (other\\nupdates or changes. than Japan), except that it conducts businesses (subject to applicable\\nViews and opinions expressed are for informational purposes only local regulations) in and from the following jurisdictions: Hong Kong,\\nand do not constitute a recommendation by Goldman Sachs Asset Singapore, India and China. This material has been issued for use in or\\nManagement to buy, sell, or hold any security. Views and opinions are from Hong Kong by Goldman Sachs Asset Management (Hong Kong)\\ncurrent as of the date of this presentation and may be subject to change, Limited and in or from Singapore by Goldman Sachs Asset Management\\nthey should not be construed as investment advice. (Singapore) Pte. Ltd. (Company Number: 201329851H).\\n\\nIndividual portfolio management teams for Goldman Sachs Asset Australia and New Zealand: This material is distributed in Australia\\nManagement may have views and opinions and/or make investment and New Zealand by Goldman Sachs Asset Management Australia Pty\\ndecisions that, in certain instances, may not always be consistent with Ltd ABN 41 006 099 681, AFSL 228948 (’GSAMA’) and is intended\\nthe views and opinions expressed herein. for viewing only by wholesale clients in Australia for the purposes of\\nsection 761G of the Corporations Act 2001 (Cth) and to clients who\\nThe website links provided are for your convenience only and are not an either fall within any or all of the categories of investors set out in\\nendorsement or recommendation by Goldman Sachs Asset Management section 3(2) or sub-section 5(2CC) of the Securities Act 1978, fall\\nof any of these websites or the products or services offered. Goldman within the definition of a wholesale client for the purposes of the, Engineered Response: Goldman Sachs Asset Management Asset Management Outlook 2024 | 18\\n\\nand Goldman Sachs Asset Management has no obligation to provide any maintain any licenses, authorizations or registrations in Asia (other\\nupdates or changes. than Japan), except that it conducts businesses (subject to applicable\\nViews and opinions expressed are for informational purposes only local regulations) in and from the following jurisdictions: Hong Kong,\\nand do not constitute a recommendation by Goldman Sachs Asset Singapore, India and China. This material has been issued for use in or\\nManagement to buy, sell, or hold any security. Views and opinions are from Hong Kong by Goldman Sachs Asset Management (Hong Kong)\\ncurrent as of the date of this presentation and may be subject to change, Limited and in or from Singapore by Goldman Sachs Asset Management\\nthey should not be construed as investment advice. (Singapore) Pte. Ltd. (Company Number: 201329851H).\\n\\nIndividual portfolio management teams for Goldman Sachs Asset Australia and New Zealand: This material is distributed in Australia\\nManagement may have views and opinions and/or make investment and New Zealand by Goldman Sachs Asset Management Australia Pty\\ndecisions that, in certain instances, may not always be consistent with Ltd ABN 41 006 099 681, AFSL 228948 (’GSAMA’) and is intended\\nthe views and opinions expressed herein. for viewing only by wholesale clients in Australia for the purposes of\\nsection 761G of the Corporations Act 2001 (Cth) and to clients who\\nThe website links provided are for your convenience only and are not an either fall within any or all of the categories of investors set out in\\nendorsement or recommendation by Goldman Sachs Asset Management section 3(2) or sub-section 5(2CC) of the Securities Act 1978, fall\\nof any of these websites or the products or services offered. Goldman within the definition of a wholesale client for the purposes of the'"
      ]
     },
     "metadata": {},
     "output_type": "display_data"
    },
    {
     "data": {
      "text/plain": [
       "\"Method: llama2, Parser: pdfplumber, Original Response: The key takeaway of Goldman Sachs' mid-year outlook 2024 is that the macroeconomy is on a longer path to normalization, with geopolitical and election-related risks continuing to pose challenges for investors. Despite these headwinds, there are still tailwinds from megatrends such as technology and demographic shifts that can provide opportunities for growth., Engineered Response: The key takeaway of Goldman Sachs' mid-year outlook 2024, based on the section titles provided, is that the macroeconomy is expected to take a longer path towards normalization, with geopolitical and election-related risks likely to remain a significant factor in the near term. The report highlights several key themes, including:\\n\\n1. A longer path to normalization: Goldman expects the global economy to take more time than previously anticipated to recover from the COVID-19 pandemic and other structural factors, leading to a prolonged period of slow growth.\\n2. Geopolitics and elections: The report notes that geopolitical risks and upcoming elections in various regions are likely to remain a significant factor in the near term, with potential implications for market sentiment and investor confidence.\\n3. Tailwinds and headwinds: Goldman highlights several megatrends that could provide tailwinds for investments, including the growth of e-commerce, digital transformation, and demographic changes. However, the report also notes potential headwinds, such as rising inflation and interest rates, which could impact asset prices.\\n\\nRelevant numbers mentioned in the report include:\\n\\n1. Global GDP growth for 2024: Goldman expects global GDP growth to slow to 3.5% in 2024, down from 4.6% in 2023.\\n2. Inflation rate for 2024: The report projects an inflation rate of 2.8% for 2024, up from 1.7% in 2023.\\n3. Interest rate expectations: Goldman anticipates that central banks will raise interest rates further in 2024 to combat inflation, with the fed funds rate expected to reach 2.5% by year-end.\\n\\nOverall, Goldman's mid-year outlook 2024 suggests a cautious and wait-and-see approach to investing, given the prolonged period of slow growth and geopolitical risks in the near term. However, the report also highlights several long-term megatrends that could provide opportunities for investors with a longer time horizon.\""
      ]
     },
     "metadata": {},
     "output_type": "display_data"
    },
    {
     "data": {
      "text/plain": [
       "\"Method: nlp_langchain, Parser: pypdfloader, Original Response: MID-YEAR  \\nOUTLOOK 2024\\nKEY THEMESAsset Management \\nThis financial promotion is provided by Goldman Sachs Asset Management B.V.Tailwinds and Headwinds: \\nInvesting in MegatrendsGeopolitics and Elections:\\nRoadmaps for ResilienceMacroeconomy:\\nA Longer Path to Normalization\\xa0\\xa0\\n\\n\\nGeopolitics and Elections:  \\nRoadmaps for Resilience\\nBalanced allocations and hedging \\nstrategies can potentially add \\nresilience to portfolios amid \\nunstable geopolitics and election-\\nrelated uncertainty. Hedge funds \\nand liquid alternatives may \\nhelp investors navigate market \\nvolatility. A heightened focus \\non supply chain, resource, and \\nnational security presents long-\\nterm investment opportunities.Tailwinds and Headwinds: \\nInvesting in Megatrends \\nWe remain focused on key structural \\nforces: decarbonization, digitization, \\ndeglobalization, destabilization \\nin geopolitics, and demographic \\naging. These trends transcend \\neconomic and election cycles, and \\nnew opportunities and risks are \\nemerging as they intersect. Macroeconomy:  \\nA Longer Path to Normalization\\xa0\\xa0\\nConsiderable, but still incomplete, \\ndisinflation progress is lengthening \\nthe path to interest rate \\nnormalization. We believe these \\nconditions call for active and \\ndynamic investment strategies. \\nAreas of potential opportunity \\ninclude core fixed income, equity \\nexposures beyond the largest mega-\\ncap names, and private market \\nstrategies focused on driving value \\ncreation at portfolio companies. \\nKEY TAKEAWAYSHeading into 2024 we highlighted how new economic realities were taking shape, including higher-for-\\nlonger interest rates, elevated geopolitical risk and megatrends rapidly transforming industries. These \\nrealities are playing out as we cross the midpoint of the year. At a macro level, inflation persistence \\nmeans central banks are pivoting to rate cuts at a slower pace than anticipated six months ago. In our \\nview, evolving expectations on the exact timing and pace of policy shifts underscores the need for a \\ndynamic investment approach in the months ahead. As the macroeconomic cycle adjusts, the world \\nremains in an era of profound geopolitical change. Conflict escalation in the Middle East and Ukraine \\nremain major risks. The buildup and eventual fallout of key political elections globally are heightening \\nmarket volatility. These uncertainties are playing out as secular megatrends—from artificial intelligence \\nto sustainability—accelerate and reshape economies and industries. Understanding the nuances of \\nthese forces and how they interconnect can enable companies and investors to potentially capitalize \\non the opportunities they create. We have synthesized views from across our investment teams to cut \\nthrough some of this complexity and help you navigate the remainder of 2024. CUTTING THROUGH COMPLEXITY\\nGoldman Sachs Asset Management\\nAsset Management Outlook 2024     |    2\\n\\n\\nMajor central banks lifted interest rates at the fastest pace \\nin decades after the pandemic. The path to normalization \\nis likely to be a longer one. While the inflation emergency is \\nbehind major economies, inflation is proving persistent due \\nto pandemic-related quirks or catch-up effects in categories \\nwhere prices adjust gradually. The result is that central banks \\nare pivoting to rate cuts at a slower pace than anticipated at \\nthe start of 2024.  \\nIn the US, policymakers and investors are contending with \\nlast mile complexities. Resilience in the economy, corporate \\nearnings, and labor markets coincided with upside surprises in \\ninflation throughout the first quarter. Inflation prints for April \\nand May were a step in the right direction, but not enough \\nto fully offset inflation strength earlier in the year and the \\nsolid string of jobs data.1 Overall, despite a bumpy first half, \\nwe expect US disinflation to continue and rates to be lowered \\nbefore year-end. However, the exact timing remains uncertain \\ndue to the need for economic data to reaffirm confidence in \\nlabor market rebalancing and the disinflation path. Beyond \\nthat, the US election—and potential fiscal shifts—could point \\nto higher US rates for longer. \\nThe European Central Bank (ECB)—which has historically \\nembarked on cutting cycles after the Fed—lowered rates in \\nJune,2 motivated by sufficient inflation progress since the last \\nrate hike in September 2023. We expect rate reductions to \\nbe gradual over the coming quarters. We remain watchful of \\nwage trends and services inflation, as well as any tightening \\nin financial conditions caused by political uncertainty, which may pose downside risks to growth and alter the pace \\nand scope of the ECB's rate cutting cycle. In the UK, recent \\ninflation strength has pushed back the Bank of England’s \\n(BoE) first rate cut in this cycle; and the potential for a \\nsummer cut depends on signals from indicators of inflation \\npersistence such as wage growth and services prices. In Japan, \\nwe anticipate further, albeit limited, rate hikes as the Bank \\nof Japan (BoJ) persists with gradual rate normalization, with \\nlonger-run inflation expectations continuing to rise to more \\nsustainable levels. \\nEmerging market (EM) cutting cycles have been underway for \\nalmost a year. EM disinflation, which has allowed an earlier \\nstart to policy easing, has broadly remained intact. Countries \\nin Asia, Central and Eastern Europe and Latin America have \\nmade good progress on cooling inflation, though there \\nare also notable outliers, including Argentina and Turkey. \\nMore recently, EM cutting cycles have become vulnerable to \\nshifting US rate expectations, as well as concerns over the \\ncredibility of policymaking (e.g., Brazil) and election-related \\nsentiment (e.g., Mexico). As a result, market expectations on \\nthe speed and extent of EM policy easing have been pared \\nback compared with just a few months ago. In some cases, the \\nmarket is now pricing in rate hikes. China’s economy continues \\nto diverge, with policymakers set to maintain an easing bias as \\nthe economy and property market recovers.  MACROECONOMY:  \\nA LONGER PATH TO NORMALIZATION\\nGoldman Sachs Asset Management\\nAsset Management Outlook 2024     |    3\\n, Engineered Response: MID-YEAR  \\nOUTLOOK 2024\\nKEY THEMESAsset Management \\nThis financial promotion is provided by Goldman Sachs Asset Management B.V.Tailwinds and Headwinds: \\nInvesting in MegatrendsGeopolitics and Elections:\\nRoadmaps for ResilienceMacroeconomy:\\nA Longer Path to Normalization\\xa0\\xa0\\n\\n\\nGeopolitics and Elections:  \\nRoadmaps for Resilience\\nBalanced allocations and hedging \\nstrategies can potentially add \\nresilience to portfolios amid \\nunstable geopolitics and election-\\nrelated uncertainty. Hedge funds \\nand liquid alternatives may \\nhelp investors navigate market \\nvolatility. A heightened focus \\non supply chain, resource, and \\nnational security presents long-\\nterm investment opportunities.Tailwinds and Headwinds: \\nInvesting in Megatrends \\nWe remain focused on key structural \\nforces: decarbonization, digitization, \\ndeglobalization, destabilization \\nin geopolitics, and demographic \\naging. These trends transcend \\neconomic and election cycles, and \\nnew opportunities and risks are \\nemerging as they intersect. Macroeconomy:  \\nA Longer Path to Normalization\\xa0\\xa0\\nConsiderable, but still incomplete, \\ndisinflation progress is lengthening \\nthe path to interest rate \\nnormalization. We believe these \\nconditions call for active and \\ndynamic investment strategies. \\nAreas of potential opportunity \\ninclude core fixed income, equity \\nexposures beyond the largest mega-\\ncap names, and private market \\nstrategies focused on driving value \\ncreation at portfolio companies. \\nKEY TAKEAWAYSHeading into 2024 we highlighted how new economic realities were taking shape, including higher-for-\\nlonger interest rates, elevated geopolitical risk and megatrends rapidly transforming industries. These \\nrealities are playing out as we cross the midpoint of the year. At a macro level, inflation persistence \\nmeans central banks are pivoting to rate cuts at a slower pace than anticipated six months ago. In our \\nview, evolving expectations on the exact timing and pace of policy shifts underscores the need for a \\ndynamic investment approach in the months ahead. As the macroeconomic cycle adjusts, the world \\nremains in an era of profound geopolitical change. Conflict escalation in the Middle East and Ukraine \\nremain major risks. The buildup and eventual fallout of key political elections globally are heightening \\nmarket volatility. These uncertainties are playing out as secular megatrends—from artificial intelligence \\nto sustainability—accelerate and reshape economies and industries. Understanding the nuances of \\nthese forces and how they interconnect can enable companies and investors to potentially capitalize \\non the opportunities they create. We have synthesized views from across our investment teams to cut \\nthrough some of this complexity and help you navigate the remainder of 2024. CUTTING THROUGH COMPLEXITY\\nGoldman Sachs Asset Management\\nAsset Management Outlook 2024     |    2\\n\\n\\nMajor central banks lifted interest rates at the fastest pace \\nin decades after the pandemic. The path to normalization \\nis likely to be a longer one. While the inflation emergency is \\nbehind major economies, inflation is proving persistent due \\nto pandemic-related quirks or catch-up effects in categories \\nwhere prices adjust gradually. The result is that central banks \\nare pivoting to rate cuts at a slower pace than anticipated at \\nthe start of 2024.  \\nIn the US, policymakers and investors are contending with \\nlast mile complexities. Resilience in the economy, corporate \\nearnings, and labor markets coincided with upside surprises in \\ninflation throughout the first quarter. Inflation prints for April \\nand May were a step in the right direction, but not enough \\nto fully offset inflation strength earlier in the year and the \\nsolid string of jobs data.1 Overall, despite a bumpy first half, \\nwe expect US disinflation to continue and rates to be lowered \\nbefore year-end. However, the exact timing remains uncertain \\ndue to the need for economic data to reaffirm confidence in \\nlabor market rebalancing and the disinflation path. Beyond \\nthat, the US election—and potential fiscal shifts—could point \\nto higher US rates for longer. \\nThe European Central Bank (ECB)—which has historically \\nembarked on cutting cycles after the Fed—lowered rates in \\nJune,2 motivated by sufficient inflation progress since the last \\nrate hike in September 2023. We expect rate reductions to \\nbe gradual over the coming quarters. We remain watchful of \\nwage trends and services inflation, as well as any tightening \\nin financial conditions caused by political uncertainty, which may pose downside risks to growth and alter the pace \\nand scope of the ECB's rate cutting cycle. In the UK, recent \\ninflation strength has pushed back the Bank of England’s \\n(BoE) first rate cut in this cycle; and the potential for a \\nsummer cut depends on signals from indicators of inflation \\npersistence such as wage growth and services prices. In Japan, \\nwe anticipate further, albeit limited, rate hikes as the Bank \\nof Japan (BoJ) persists with gradual rate normalization, with \\nlonger-run inflation expectations continuing to rise to more \\nsustainable levels. \\nEmerging market (EM) cutting cycles have been underway for \\nalmost a year. EM disinflation, which has allowed an earlier \\nstart to policy easing, has broadly remained intact. Countries \\nin Asia, Central and Eastern Europe and Latin America have \\nmade good progress on cooling inflation, though there \\nare also notable outliers, including Argentina and Turkey. \\nMore recently, EM cutting cycles have become vulnerable to \\nshifting US rate expectations, as well as concerns over the \\ncredibility of policymaking (e.g., Brazil) and election-related \\nsentiment (e.g., Mexico). As a result, market expectations on \\nthe speed and extent of EM policy easing have been pared \\nback compared with just a few months ago. In some cases, the \\nmarket is now pricing in rate hikes. China’s economy continues \\nto diverge, with policymakers set to maintain an easing bias as \\nthe economy and property market recovers.  MACROECONOMY:  \\nA LONGER PATH TO NORMALIZATION\\nGoldman Sachs Asset Management\\nAsset Management Outlook 2024     |    3\\n\""
      ]
     },
     "metadata": {},
     "output_type": "display_data"
    },
    {
     "data": {
      "text/plain": [
       "\"Method: llama2, Parser: pypdfloader, Original Response: The key takeaway of Goldman Sachs Asset Management's mid-year outlook 2024 is that they expect a longer path to normalization for the global economy, with tailwinds and headwinds in different regions. They highlight several megatrends, including geopolitics and elections, which will play a significant role in shaping investment decisions. Additionally, they provide insights into various asset classes, such as equities, fixed income, and currencies, and offer recommendations for investors to position their portfolios for resilience in the current environment., Engineered Response: The key takeaway of Goldman Sachs' mid-year outlook 2024 is that investing in megatrends, such as technology and renewable energy, will be crucial for long-term growth. The report highlights several tailwinds, including the increasing demand for sustainable investments and the growing importance of ESG (Environmental, Social, and Governance) factors in investment decisions.\\n\\nIn terms of relevant numbers provided in the report, Goldman Sachs notes that:\\n\\n1. The US Bureau of Labor Statistics reported an unemployment rate of 3.6% as of June 12, 2024, which is near historic lows.\\n2. The European Central Bank expects inflation to remain below the target rate of 2% in the medium term.\\n3. Goldman Sachs Asset Management reported that their company information as of June 2024 shows that they have $1.6 trillion in assets under management.\\n4. The report highlights several key macroeconomic trends, including a longer path to normalization for the global economy and a potential slowdown in China's economic growth.\\n5. Goldman Sachs Global Investment Research notes that the Tokyo Stock Exchange has reached a record high, while the firm's own estimates suggest that the MSCI All Country World Index (ACWI) is likely to reach 2,000 by the end of 2024.\\n6. The Climate Bonds Initiative reports that global climate bonds issuance reached a record high in 2023, with over $100 billion in issuance.\\n\\nOverall, Goldman's mid-year outlook 2024 suggests that investors should consider investing in areas that are likely to benefit from long-term megatrends, such as technology and sustainable growth.\""
      ]
     },
     "metadata": {},
     "output_type": "display_data"
    },
    {
     "name": "stdout",
     "output_type": "stream",
     "text": [
      "Saved prompt engineering comparison to prompt_engineering_comparison.xlsx\n"
     ]
    }
   ],
   "source": [
    "# New engineered prompt\n",
    "q_engineered = \"What is the key takeaway of Goldman's mid-year outlook 2024, based on the section titles from GS? Also, summarize relevant numbers they gave in the report.\"\n",
    "\n",
    "# Dictionary to store the engineered responses for comparison\n",
    "comparison_data = []\n",
    "\n",
    "for parser in parsers:\n",
    "    for model in models:\n",
    "        # Retrieve the original response and score from df\n",
    "        original_response = df.loc[parser, model] if parser in df.index and model in df.columns else \"N/A\"\n",
    "        \n",
    "        # Run the pipeline with the engineered prompt\n",
    "        pipeline = Pipeline(\n",
    "                    parser=parser, model=model,\n",
    "                    data_path=data_path, verbose=False,\n",
    "                ); pipeline.train()\n",
    "        engineered_response, engineered_score = pipeline.answer(q_engineered)\n",
    "        \n",
    "        # Display responses for reference\n",
    "        display(f'Method: {model}, Parser: {parser}, Original Response: {original_response}, Engineered Response: {engineered_response}')\n",
    "        \n",
    "        # Append the data for comparison\n",
    "        comparison_data.append({\n",
    "            \"Parser\": parser,\n",
    "            \"Model\": model,\n",
    "            \"Original Response\": original_response,\n",
    "            \"Engineered Response\": f\"{engineered_response}\\nquery_response_sim: {engineered_score}\"\n",
    "        })\n",
    "\n",
    "# Convert comparison data to a DataFrame and write to Excel\n",
    "df_comparison = pd.DataFrame(comparison_data)\n",
    "excel_path_comparison = \"prompt_engineering_comparison.xlsx\"\n",
    "df_comparison.to_excel(excel_path_comparison, index=False)\n",
    "print(f\"Saved prompt engineering comparison to {excel_path_comparison}\")"
   ]
  },
  {
   "cell_type": "code",
   "execution_count": 6,
   "id": "7fa72473a16e4382",
   "metadata": {},
   "outputs": [
    {
     "data": {
      "text/plain": [
       "'Method: nlp_langchain, Parser: unstructured, Response: Source: Goldman Sachs Global Investment Research. As of June 14, 2024.\\n\\nGoldman Sachs Asset Management\\n\\nAsset Management Outlook 2024 | 4'"
      ]
     },
     "metadata": {},
     "output_type": "display_data"
    },
    {
     "data": {
      "text/plain": [
       "'Method: nlp_langchain, Parser: llamaparse, Response: Goldman Sachs Asset Management\\n\\nAsset Management Outlook 2024 | 11\\n\\n# TAILWINDS AND HEADWINDS:\\n\\n# INVESTING IN MEGATRENDS\\n\\n\\n\\nBeyond the near-term path of inflation, rates, and election results, we remain focused on longer-term paradigm shifts, including five key structural forces: decarbonization, digitization, deglobalization, destabilization in geopolitics, and demographic aging. Active investment strategies, a focus on diversification and risk management may become increasingly important to help navigate these contours and deliver alpha. Investors who stay in their silos and focus on a single theme may miss out on opportunities and underestimate risks.'"
      ]
     },
     "metadata": {},
     "output_type": "display_data"
    },
    {
     "data": {
      "text/plain": [
       "'Method: nlp_langchain, Parser: pdfplumber, Response: Goldman Sachs Asset Management Asset Management Outlook 2024 | 18\\n\\nand Goldman Sachs Asset Management has no obligation to provide any maintain any licenses, authorizations or registrations in Asia (other\\nupdates or changes. than Japan), except that it conducts businesses (subject to applicable\\nViews and opinions expressed are for informational purposes only local regulations) in and from the following jurisdictions: Hong Kong,\\nand do not constitute a recommendation by Goldman Sachs Asset Singapore, India and China. This material has been issued for use in or\\nManagement to buy, sell, or hold any security. Views and opinions are from Hong Kong by Goldman Sachs Asset Management (Hong Kong)\\ncurrent as of the date of this presentation and may be subject to change, Limited and in or from Singapore by Goldman Sachs Asset Management\\nthey should not be construed as investment advice. (Singapore) Pte. Ltd. (Company Number: 201329851H).\\n\\nIndividual portfolio management teams for Goldman Sachs Asset Australia and New Zealand: This material is distributed in Australia\\nManagement may have views and opinions and/or make investment and New Zealand by Goldman Sachs Asset Management Australia Pty\\ndecisions that, in certain instances, may not always be consistent with Ltd ABN 41 006 099 681, AFSL 228948 (’GSAMA’) and is intended\\nthe views and opinions expressed herein. for viewing only by wholesale clients in Australia for the purposes of\\nsection 761G of the Corporations Act 2001 (Cth) and to clients who\\nThe website links provided are for your convenience only and are not an either fall within any or all of the categories of investors set out in\\nendorsement or recommendation by Goldman Sachs Asset Management section 3(2) or sub-section 5(2CC) of the Securities Act 1978, fall\\nof any of these websites or the products or services offered. Goldman within the definition of a wholesale client for the purposes of the'"
      ]
     },
     "metadata": {},
     "output_type": "display_data"
    },
    {
     "data": {
      "text/plain": [
       "\"Method: nlp_langchain, Parser: pypdfloader, Response: MID-YEAR  \\nOUTLOOK 2024\\nKEY THEMESAsset Management \\nThis financial promotion is provided by Goldman Sachs Asset Management B.V.Tailwinds and Headwinds: \\nInvesting in MegatrendsGeopolitics and Elections:\\nRoadmaps for ResilienceMacroeconomy:\\nA Longer Path to Normalization\\xa0\\xa0\\n\\n\\nGeopolitics and Elections:  \\nRoadmaps for Resilience\\nBalanced allocations and hedging \\nstrategies can potentially add \\nresilience to portfolios amid \\nunstable geopolitics and election-\\nrelated uncertainty. Hedge funds \\nand liquid alternatives may \\nhelp investors navigate market \\nvolatility. A heightened focus \\non supply chain, resource, and \\nnational security presents long-\\nterm investment opportunities.Tailwinds and Headwinds: \\nInvesting in Megatrends \\nWe remain focused on key structural \\nforces: decarbonization, digitization, \\ndeglobalization, destabilization \\nin geopolitics, and demographic \\naging. These trends transcend \\neconomic and election cycles, and \\nnew opportunities and risks are \\nemerging as they intersect. Macroeconomy:  \\nA Longer Path to Normalization\\xa0\\xa0\\nConsiderable, but still incomplete, \\ndisinflation progress is lengthening \\nthe path to interest rate \\nnormalization. We believe these \\nconditions call for active and \\ndynamic investment strategies. \\nAreas of potential opportunity \\ninclude core fixed income, equity \\nexposures beyond the largest mega-\\ncap names, and private market \\nstrategies focused on driving value \\ncreation at portfolio companies. \\nKEY TAKEAWAYSHeading into 2024 we highlighted how new economic realities were taking shape, including higher-for-\\nlonger interest rates, elevated geopolitical risk and megatrends rapidly transforming industries. These \\nrealities are playing out as we cross the midpoint of the year. At a macro level, inflation persistence \\nmeans central banks are pivoting to rate cuts at a slower pace than anticipated six months ago. In our \\nview, evolving expectations on the exact timing and pace of policy shifts underscores the need for a \\ndynamic investment approach in the months ahead. As the macroeconomic cycle adjusts, the world \\nremains in an era of profound geopolitical change. Conflict escalation in the Middle East and Ukraine \\nremain major risks. The buildup and eventual fallout of key political elections globally are heightening \\nmarket volatility. These uncertainties are playing out as secular megatrends—from artificial intelligence \\nto sustainability—accelerate and reshape economies and industries. Understanding the nuances of \\nthese forces and how they interconnect can enable companies and investors to potentially capitalize \\non the opportunities they create. We have synthesized views from across our investment teams to cut \\nthrough some of this complexity and help you navigate the remainder of 2024. CUTTING THROUGH COMPLEXITY\\nGoldman Sachs Asset Management\\nAsset Management Outlook 2024     |    2\\n\\n\\nMajor central banks lifted interest rates at the fastest pace \\nin decades after the pandemic. The path to normalization \\nis likely to be a longer one. While the inflation emergency is \\nbehind major economies, inflation is proving persistent due \\nto pandemic-related quirks or catch-up effects in categories \\nwhere prices adjust gradually. The result is that central banks \\nare pivoting to rate cuts at a slower pace than anticipated at \\nthe start of 2024.  \\nIn the US, policymakers and investors are contending with \\nlast mile complexities. Resilience in the economy, corporate \\nearnings, and labor markets coincided with upside surprises in \\ninflation throughout the first quarter. Inflation prints for April \\nand May were a step in the right direction, but not enough \\nto fully offset inflation strength earlier in the year and the \\nsolid string of jobs data.1 Overall, despite a bumpy first half, \\nwe expect US disinflation to continue and rates to be lowered \\nbefore year-end. However, the exact timing remains uncertain \\ndue to the need for economic data to reaffirm confidence in \\nlabor market rebalancing and the disinflation path. Beyond \\nthat, the US election—and potential fiscal shifts—could point \\nto higher US rates for longer. \\nThe European Central Bank (ECB)—which has historically \\nembarked on cutting cycles after the Fed—lowered rates in \\nJune,2 motivated by sufficient inflation progress since the last \\nrate hike in September 2023. We expect rate reductions to \\nbe gradual over the coming quarters. We remain watchful of \\nwage trends and services inflation, as well as any tightening \\nin financial conditions caused by political uncertainty, which may pose downside risks to growth and alter the pace \\nand scope of the ECB's rate cutting cycle. In the UK, recent \\ninflation strength has pushed back the Bank of England’s \\n(BoE) first rate cut in this cycle; and the potential for a \\nsummer cut depends on signals from indicators of inflation \\npersistence such as wage growth and services prices. In Japan, \\nwe anticipate further, albeit limited, rate hikes as the Bank \\nof Japan (BoJ) persists with gradual rate normalization, with \\nlonger-run inflation expectations continuing to rise to more \\nsustainable levels. \\nEmerging market (EM) cutting cycles have been underway for \\nalmost a year. EM disinflation, which has allowed an earlier \\nstart to policy easing, has broadly remained intact. Countries \\nin Asia, Central and Eastern Europe and Latin America have \\nmade good progress on cooling inflation, though there \\nare also notable outliers, including Argentina and Turkey. \\nMore recently, EM cutting cycles have become vulnerable to \\nshifting US rate expectations, as well as concerns over the \\ncredibility of policymaking (e.g., Brazil) and election-related \\nsentiment (e.g., Mexico). As a result, market expectations on \\nthe speed and extent of EM policy easing have been pared \\nback compared with just a few months ago. In some cases, the \\nmarket is now pricing in rate hikes. China’s economy continues \\nto diverge, with policymakers set to maintain an easing bias as \\nthe economy and property market recovers.  MACROECONOMY:  \\nA LONGER PATH TO NORMALIZATION\\nGoldman Sachs Asset Management\\nAsset Management Outlook 2024     |    3\\n\""
      ]
     },
     "metadata": {},
     "output_type": "display_data"
    },
    {
     "data": {
      "text/plain": [
       "\"Method: llama2, Parser: unstructured, Response: Based on the provided context information, the key takeaway of Goldman Sachs' mid-year outlook 2024 is that they have a positive outlook for the global economy, with growth expected to continue at a moderate pace. The section titles from GS indicate that they are optimistic about the performance of major equity markets and believe that interest rates will remain low. They also highlight the potential risks associated with inflation and geopolitical tensions.\\n\\nRelevant numbers given in the report include:\\n\\n* Detection class probability: 0.9238061904907227 (indicating a high degree of confidence in the classification)\\n* Coordinates: {'points': ... (providing location information for the points mentioned in the report)}\\n* Last modified date: 2024-09-30T10:17:23 (showing the date when the report was last updated)\\n* Filetype: application/pdf (indicating the file format of the report)\\n* Languages: ['eng'] (specifying the language used in the report)\\n* Page number: ... (providing the page number where the relevant information can be found)\\n* File directory: c:\\\\Users\\\\maryj\\\\Documents\\\\Mini5CMU\\\\llamaparser-example\\\\data/pdf (showing the location of the report file)\\n* Filename: am-mid-year-outlook-2024.pdf (providing the name of the report)\\n* Other relevant information: The report is produced and distributed by the Global Investment Research Division of Goldman Sachs, and it highlights the key risks and opportunities in the global economy.\""
      ]
     },
     "metadata": {},
     "output_type": "display_data"
    },
    {
     "data": {
      "text/plain": [
       "\"Method: llama2, Parser: llamaparse, Response: Based on the section titles provided in the context, the key takeaway of Goldman Sachs' mid-year outlook 2024 is that the macroeconomy is on a longer path to normalization, with geopolitical and election-related risks continuing to be major factors. The report highlights several tailwinds and headwinds in various markets, including megatrends such as climate change and technological innovation.\\n\\nSome relevant numbers provided in the report include:\\n\\n* Unemployment rates in the US and Europe are improving but remain above pre-pandemic levels (Source 1)\\n* Global GDP growth is expected to slow down in 2024 due to a combination of factors, including higher inflation, slower productivity growth, and geopolitical tensions (Source 2)\\n* The European Central Bank has maintained its accommodative stance, with interest rates at historical lows (Source 3)\\n* Goldman Sachs Asset Management's own investment performance has been positive, with several of their strategies outperforming benchmarks over various time periods (Sources 4-7)\\n* The Tokyo Stock Exchange has seen significant growth in recent months, driven by factors such as economic recovery and investor optimism (Source 8)\\n* Climate bond issuance has been increasing globally, with total issuance reaching $10 billion in the first quarter of 2024 alone (Source 9)\\n\\nOverall, the report suggests that while there are some positive developments in various markets, the macroeconomic landscape remains challenging and complex, with geopolitical risks and slowing growth being major concerns.\""
      ]
     },
     "metadata": {},
     "output_type": "display_data"
    },
    {
     "data": {
      "text/plain": [
       "\"Method: llama2, Parser: pdfplumber, Response: The key takeaway of Goldman Sachs' mid-year outlook 2024, based on the section titles provided, is that the macroeconomy is expected to take a longer path to normalization, with geopolitical and election-related risks providing a roadmap for resilience. The report highlights several tailwinds and headwinds in various sectors, including investing in megatrends.\\n\\nRelevant numbers mentioned in the report include:\\n\\n* A longer path to normalization: Goldman expects it to take until 2024 for the global economy to return to its pre-Covid trend line. (p. 1)\\n* Roadmaps for resilience: The report highlights the importance of geopolitics and elections in shaping investment outcomes, particularly in the near term. (pp. 2-3)\\n* Tailwinds and headwinds: Goldman identifies several sectors and themes with potential tailwinds, including technology, healthcare, and sustainability, while also highlighting potential headwinds, such as inflation, interest rates, and political uncertainty. (pp. 4-7)\\n* Investing in megatrends: The report emphasizes the importance of investing in long-term trends, such as climate change, demographic shifts, and technological innovation, which are expected to drive growth and returns in the coming years. (p. 8)\""
      ]
     },
     "metadata": {},
     "output_type": "display_data"
    },
    {
     "data": {
      "text/plain": [
       "\"Method: llama2, Parser: pypdfloader, Response: Based on the section titles provided in the context, the key takeaway of Goldman Sachs' mid-year outlook 2024 is that the investment landscape is complex and multifaceted, with various tailwinds and headwinds. The report highlights several themes, including:\\n\\n1. Asset Management: Goldman Sachs emphasizes the importance of investing in megatrends, such as climate change and digitalization, and provides roadmaps for resilience in the face of geopolitical and election-related risks.\\n2. Macroeconomy: The report suggests that the global economy is on a longer path to normalization, with inflation remaining a key concern.\\n3. Tables and Charts: The report includes several tables and charts that provide relevant numbers, such as:\\n* US Bureau of Labor Statistics: As of June 12, 2024, the unemployment rate in the US is at 3.6%, down from 3.8% in December 2023.\\n* European Central Bank: As of June 6, 2024, the eurozone's inflation rate is at 2.1%, up from 1.7% in December 2023.\\n* Goldman Sachs Asset Management: As of June 2024, the company's assets under management are at $1.5 trillion, up from $1.3 trillion in December 2023.\\n\\nOverall, the report suggests that investors should be cautious and adaptable in the face of changing economic conditions, while also taking advantage of opportunities in areas such as climate change and digitalization.\""
      ]
     },
     "metadata": {},
     "output_type": "display_data"
    }
   ],
   "source": [
    "# q = \"What is the key takeaway of Goldman's mid-year outlook 2024, based on the section titles from GS? Also, summarize relavant numbers they gave in the report.\"\n",
    "# for model in models:\n",
    "#     for parser in parsers:\n",
    "#         pipeline = Pipeline(\n",
    "#                     parser=parser, model=model,\n",
    "#                     data_path=data_path, verbose=False,\n",
    "#                 ); pipeline.train()\n",
    "#         response, score = pipeline.answer(q)\n",
    "#         display(f'Method: {model}, Parser: {parser}, Response: {response}')"
   ]
  },
  {
   "cell_type": "code",
   "execution_count": null,
   "id": "a195e6c2",
   "metadata": {},
   "outputs": [],
   "source": []
  }
 ],
 "metadata": {
  "kernelspec": {
   "display_name": "llama_env",
   "language": "python",
   "name": "python3"
  },
  "language_info": {
   "codemirror_mode": {
    "name": "ipython",
    "version": 3
   },
   "file_extension": ".py",
   "mimetype": "text/x-python",
   "name": "python",
   "nbconvert_exporter": "python",
   "pygments_lexer": "ipython3",
   "version": "3.10.13"
  }
 },
 "nbformat": 4,
 "nbformat_minor": 5
}
